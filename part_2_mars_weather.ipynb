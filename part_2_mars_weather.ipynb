{
 "cells": [
  {
   "attachments": {},
   "cell_type": "markdown",
   "metadata": {},
   "source": [
    "# Module 11 Challenge\n",
    "## Deliverable 2: Scrape and Analyze Mars Weather Data"
   ]
  },
  {
   "cell_type": "code",
   "execution_count": 67,
   "metadata": {},
   "outputs": [],
   "source": [
    "# Import relevant libraries\n",
    "from splinter import Browser\n",
    "from bs4 import BeautifulSoup\n",
    "import matplotlib.pyplot as plt\n",
    "import pandas as pd\n",
    "import plotly.express as px"
   ]
  },
  {
   "cell_type": "code",
   "execution_count": 68,
   "metadata": {},
   "outputs": [],
   "source": [
    "browser = Browser('chrome')"
   ]
  },
  {
   "attachments": {},
   "cell_type": "markdown",
   "metadata": {},
   "source": [
    "### Step 1: Visit the Website\n",
    "\n",
    "Use automated browsing to visit the [Mars Temperature Data Site](https://static.bc-edx.com/data/web/mars_facts/temperature.html). Inspect the page to identify which elements to scrape.\n",
    "\n",
    "   > **Hint** To identify which elements to scrape, you might want to inspect the page by using Chrome DevTools to discover whether the table contains usable classes.\n"
   ]
  },
  {
   "cell_type": "code",
   "execution_count": 69,
   "metadata": {},
   "outputs": [],
   "source": [
    "# Visit the website\n",
    "# https://static.bc-edx.com/data/web/mars_facts/temperature.html\n",
    "url = \"https://static.bc-edx.com/data/web/mars_facts/temperature.html\"\n",
    "browser.visit(url)"
   ]
  },
  {
   "attachments": {},
   "cell_type": "markdown",
   "metadata": {},
   "source": [
    "### Step 2: Scrape the Table\n",
    "\n",
    "Create a Beautiful Soup object and use it to scrape the data in the HTML table.\n",
    "\n",
    "Note that this can also be achieved by using the Pandas `read_html` function. However, use Beautiful Soup here to continue sharpening your web scraping skills."
   ]
  },
  {
   "cell_type": "code",
   "execution_count": 70,
   "metadata": {},
   "outputs": [],
   "source": [
    "# Create a Beautiful Soup Object\n",
    "html = browser.html\n",
    "soup = BeautifulSoup(html, 'html.parser')"
   ]
  },
  {
   "cell_type": "code",
   "execution_count": 71,
   "metadata": {},
   "outputs": [
    {
     "data": {
      "text/plain": [
       "[<tr class=\"data-row\">\n",
       " <td>2</td>\n",
       " <td>2012-08-16</td>\n",
       " <td>10</td>\n",
       " <td>155</td>\n",
       " <td>6</td>\n",
       " <td>-75.0</td>\n",
       " <td>739.0</td>\n",
       " </tr>,\n",
       " <tr class=\"data-row\">\n",
       " <td>13</td>\n",
       " <td>2012-08-17</td>\n",
       " <td>11</td>\n",
       " <td>156</td>\n",
       " <td>6</td>\n",
       " <td>-76.0</td>\n",
       " <td>740.0</td>\n",
       " </tr>,\n",
       " <tr class=\"data-row\">\n",
       " <td>24</td>\n",
       " <td>2012-08-18</td>\n",
       " <td>12</td>\n",
       " <td>156</td>\n",
       " <td>6</td>\n",
       " <td>-76.0</td>\n",
       " <td>741.0</td>\n",
       " </tr>,\n",
       " <tr class=\"data-row\">\n",
       " <td>35</td>\n",
       " <td>2012-08-19</td>\n",
       " <td>13</td>\n",
       " <td>157</td>\n",
       " <td>6</td>\n",
       " <td>-74.0</td>\n",
       " <td>732.0</td>\n",
       " </tr>,\n",
       " <tr class=\"data-row\">\n",
       " <td>46</td>\n",
       " <td>2012-08-20</td>\n",
       " <td>14</td>\n",
       " <td>157</td>\n",
       " <td>6</td>\n",
       " <td>-74.0</td>\n",
       " <td>740.0</td>\n",
       " </tr>,\n",
       " <tr class=\"data-row\">\n",
       " <td>57</td>\n",
       " <td>2012-08-21</td>\n",
       " <td>15</td>\n",
       " <td>158</td>\n",
       " <td>6</td>\n",
       " <td>-78.0</td>\n",
       " <td>740.0</td>\n",
       " </tr>,\n",
       " <tr class=\"data-row\">\n",
       " <td>68</td>\n",
       " <td>2012-08-22</td>\n",
       " <td>16</td>\n",
       " <td>158</td>\n",
       " <td>6</td>\n",
       " <td>-77.0</td>\n",
       " <td>740.0</td>\n",
       " </tr>,\n",
       " <tr class=\"data-row\">\n",
       " <td>79</td>\n",
       " <td>2012-08-23</td>\n",
       " <td>17</td>\n",
       " <td>159</td>\n",
       " <td>6</td>\n",
       " <td>-76.0</td>\n",
       " <td>742.0</td>\n",
       " </tr>,\n",
       " <tr class=\"data-row\">\n",
       " <td>112</td>\n",
       " <td>2012-08-27</td>\n",
       " <td>21</td>\n",
       " <td>161</td>\n",
       " <td>6</td>\n",
       " <td>-74.0</td>\n",
       " <td>741.0</td>\n",
       " </tr>,\n",
       " <tr class=\"data-row\">\n",
       " <td>114</td>\n",
       " <td>2012-08-28</td>\n",
       " <td>22</td>\n",
       " <td>162</td>\n",
       " <td>6</td>\n",
       " <td>-74.0</td>\n",
       " <td>742.0</td>\n",
       " </tr>,\n",
       " <tr class=\"data-row\">\n",
       " <td>123</td>\n",
       " <td>2012-08-29</td>\n",
       " <td>23</td>\n",
       " <td>162</td>\n",
       " <td>6</td>\n",
       " <td>-75.0</td>\n",
       " <td>741.0</td>\n",
       " </tr>,\n",
       " <tr class=\"data-row\">\n",
       " <td>134</td>\n",
       " <td>2012-08-30</td>\n",
       " <td>24</td>\n",
       " <td>163</td>\n",
       " <td>6</td>\n",
       " <td>-75.0</td>\n",
       " <td>742.0</td>\n",
       " </tr>,\n",
       " <tr class=\"data-row\">\n",
       " <td>145</td>\n",
       " <td>2012-08-31</td>\n",
       " <td>25</td>\n",
       " <td>163</td>\n",
       " <td>6</td>\n",
       " <td>-75.0</td>\n",
       " <td>743.0</td>\n",
       " </tr>,\n",
       " <tr class=\"data-row\">\n",
       " <td>156</td>\n",
       " <td>2012-09-01</td>\n",
       " <td>26</td>\n",
       " <td>164</td>\n",
       " <td>6</td>\n",
       " <td>-76.0</td>\n",
       " <td>745.0</td>\n",
       " </tr>,\n",
       " <tr class=\"data-row\">\n",
       " <td>163</td>\n",
       " <td>2012-09-02</td>\n",
       " <td>27</td>\n",
       " <td>164</td>\n",
       " <td>6</td>\n",
       " <td>-75.0</td>\n",
       " <td>743.0</td>\n",
       " </tr>,\n",
       " <tr class=\"data-row\">\n",
       " <td>170</td>\n",
       " <td>2012-09-03</td>\n",
       " <td>28</td>\n",
       " <td>165</td>\n",
       " <td>6</td>\n",
       " <td>-75.0</td>\n",
       " <td>745.0</td>\n",
       " </tr>,\n",
       " <tr class=\"data-row\">\n",
       " <td>171</td>\n",
       " <td>2012-09-04</td>\n",
       " <td>29</td>\n",
       " <td>166</td>\n",
       " <td>6</td>\n",
       " <td>-75.0</td>\n",
       " <td>747.0</td>\n",
       " </tr>,\n",
       " <tr class=\"data-row\">\n",
       " <td>172</td>\n",
       " <td>2012-09-05</td>\n",
       " <td>30</td>\n",
       " <td>166</td>\n",
       " <td>6</td>\n",
       " <td>-74.0</td>\n",
       " <td>747.0</td>\n",
       " </tr>,\n",
       " <tr class=\"data-row\">\n",
       " <td>173</td>\n",
       " <td>2012-09-06</td>\n",
       " <td>31</td>\n",
       " <td>167</td>\n",
       " <td>6</td>\n",
       " <td>-74.0</td>\n",
       " <td>745.0</td>\n",
       " </tr>,\n",
       " <tr class=\"data-row\">\n",
       " <td>175</td>\n",
       " <td>2012-09-08</td>\n",
       " <td>33</td>\n",
       " <td>168</td>\n",
       " <td>6</td>\n",
       " <td>-73.0</td>\n",
       " <td>748.0</td>\n",
       " </tr>,\n",
       " <tr class=\"data-row\">\n",
       " <td>176</td>\n",
       " <td>2012-09-10</td>\n",
       " <td>34</td>\n",
       " <td>168</td>\n",
       " <td>6</td>\n",
       " <td>-73.0</td>\n",
       " <td>748.0</td>\n",
       " </tr>,\n",
       " <tr class=\"data-row\">\n",
       " <td>177</td>\n",
       " <td>2012-09-11</td>\n",
       " <td>35</td>\n",
       " <td>169</td>\n",
       " <td>6</td>\n",
       " <td>-73.0</td>\n",
       " <td>749.0</td>\n",
       " </tr>,\n",
       " <tr class=\"data-row\">\n",
       " <td>178</td>\n",
       " <td>2012-09-12</td>\n",
       " <td>36</td>\n",
       " <td>169</td>\n",
       " <td>6</td>\n",
       " <td>-73.0</td>\n",
       " <td>750.0</td>\n",
       " </tr>,\n",
       " <tr class=\"data-row\">\n",
       " <td>179</td>\n",
       " <td>2012-09-13</td>\n",
       " <td>37</td>\n",
       " <td>170</td>\n",
       " <td>6</td>\n",
       " <td>-73.0</td>\n",
       " <td>750.0</td>\n",
       " </tr>,\n",
       " <tr class=\"data-row\">\n",
       " <td>180</td>\n",
       " <td>2012-09-14</td>\n",
       " <td>38</td>\n",
       " <td>171</td>\n",
       " <td>6</td>\n",
       " <td>-73.0</td>\n",
       " <td>750.0</td>\n",
       " </tr>,\n",
       " <tr class=\"data-row\">\n",
       " <td>181</td>\n",
       " <td>2012-09-15</td>\n",
       " <td>39</td>\n",
       " <td>171</td>\n",
       " <td>6</td>\n",
       " <td>-75.0</td>\n",
       " <td>751.0</td>\n",
       " </tr>,\n",
       " <tr class=\"data-row\">\n",
       " <td>182</td>\n",
       " <td>2012-09-16</td>\n",
       " <td>40</td>\n",
       " <td>172</td>\n",
       " <td>6</td>\n",
       " <td>-75.0</td>\n",
       " <td>753.0</td>\n",
       " </tr>,\n",
       " <tr class=\"data-row\">\n",
       " <td>183</td>\n",
       " <td>2012-09-17</td>\n",
       " <td>41</td>\n",
       " <td>172</td>\n",
       " <td>6</td>\n",
       " <td>-75.0</td>\n",
       " <td>753.0</td>\n",
       " </tr>,\n",
       " <tr class=\"data-row\">\n",
       " <td>184</td>\n",
       " <td>2012-09-18</td>\n",
       " <td>42</td>\n",
       " <td>173</td>\n",
       " <td>6</td>\n",
       " <td>-75.0</td>\n",
       " <td>754.0</td>\n",
       " </tr>,\n",
       " <tr class=\"data-row\">\n",
       " <td>185</td>\n",
       " <td>2012-09-19</td>\n",
       " <td>43</td>\n",
       " <td>173</td>\n",
       " <td>6</td>\n",
       " <td>-74.0</td>\n",
       " <td>756.0</td>\n",
       " </tr>,\n",
       " <tr class=\"data-row\">\n",
       " <td>186</td>\n",
       " <td>2012-09-20</td>\n",
       " <td>44</td>\n",
       " <td>174</td>\n",
       " <td>6</td>\n",
       " <td>-75.0</td>\n",
       " <td>757.0</td>\n",
       " </tr>,\n",
       " <tr class=\"data-row\">\n",
       " <td>187</td>\n",
       " <td>2012-09-21</td>\n",
       " <td>45</td>\n",
       " <td>175</td>\n",
       " <td>6</td>\n",
       " <td>-74.0</td>\n",
       " <td>758.0</td>\n",
       " </tr>,\n",
       " <tr class=\"data-row\">\n",
       " <td>188</td>\n",
       " <td>2012-09-22</td>\n",
       " <td>46</td>\n",
       " <td>175</td>\n",
       " <td>6</td>\n",
       " <td>-74.0</td>\n",
       " <td>758.0</td>\n",
       " </tr>,\n",
       " <tr class=\"data-row\">\n",
       " <td>189</td>\n",
       " <td>2012-09-23</td>\n",
       " <td>47</td>\n",
       " <td>176</td>\n",
       " <td>6</td>\n",
       " <td>-75.0</td>\n",
       " <td>758.0</td>\n",
       " </tr>,\n",
       " <tr class=\"data-row\">\n",
       " <td>190</td>\n",
       " <td>2012-09-24</td>\n",
       " <td>48</td>\n",
       " <td>176</td>\n",
       " <td>6</td>\n",
       " <td>-75.0</td>\n",
       " <td>759.0</td>\n",
       " </tr>,\n",
       " <tr class=\"data-row\">\n",
       " <td>191</td>\n",
       " <td>2012-09-25</td>\n",
       " <td>49</td>\n",
       " <td>177</td>\n",
       " <td>6</td>\n",
       " <td>-74.0</td>\n",
       " <td>761.0</td>\n",
       " </tr>,\n",
       " <tr class=\"data-row\">\n",
       " <td>192</td>\n",
       " <td>2012-09-26</td>\n",
       " <td>50</td>\n",
       " <td>177</td>\n",
       " <td>6</td>\n",
       " <td>-72.0</td>\n",
       " <td>761.0</td>\n",
       " </tr>,\n",
       " <tr class=\"data-row\">\n",
       " <td>193</td>\n",
       " <td>2012-09-27</td>\n",
       " <td>51</td>\n",
       " <td>178</td>\n",
       " <td>6</td>\n",
       " <td>-76.0</td>\n",
       " <td>762.0</td>\n",
       " </tr>,\n",
       " <tr class=\"data-row\">\n",
       " <td>194</td>\n",
       " <td>2012-09-28</td>\n",
       " <td>52</td>\n",
       " <td>179</td>\n",
       " <td>6</td>\n",
       " <td>-74.0</td>\n",
       " <td>762.0</td>\n",
       " </tr>,\n",
       " <tr class=\"data-row\">\n",
       " <td>195</td>\n",
       " <td>2012-09-29</td>\n",
       " <td>53</td>\n",
       " <td>179</td>\n",
       " <td>6</td>\n",
       " <td>-71.0</td>\n",
       " <td>764.0</td>\n",
       " </tr>,\n",
       " <tr class=\"data-row\">\n",
       " <td>196</td>\n",
       " <td>2012-09-30</td>\n",
       " <td>54</td>\n",
       " <td>180</td>\n",
       " <td>7</td>\n",
       " <td>-72.0</td>\n",
       " <td>766.0</td>\n",
       " </tr>,\n",
       " <tr class=\"data-row\">\n",
       " <td>197</td>\n",
       " <td>2012-10-01</td>\n",
       " <td>55</td>\n",
       " <td>180</td>\n",
       " <td>7</td>\n",
       " <td>-74.0</td>\n",
       " <td>766.0</td>\n",
       " </tr>,\n",
       " <tr class=\"data-row\">\n",
       " <td>198</td>\n",
       " <td>2012-10-02</td>\n",
       " <td>56</td>\n",
       " <td>181</td>\n",
       " <td>7</td>\n",
       " <td>-73.0</td>\n",
       " <td>768.0</td>\n",
       " </tr>,\n",
       " <tr class=\"data-row\">\n",
       " <td>199</td>\n",
       " <td>2012-10-03</td>\n",
       " <td>57</td>\n",
       " <td>181</td>\n",
       " <td>7</td>\n",
       " <td>-73.0</td>\n",
       " <td>769.0</td>\n",
       " </tr>,\n",
       " <tr class=\"data-row\">\n",
       " <td>200</td>\n",
       " <td>2012-10-04</td>\n",
       " <td>58</td>\n",
       " <td>182</td>\n",
       " <td>7</td>\n",
       " <td>-74.0</td>\n",
       " <td>769.0</td>\n",
       " </tr>,\n",
       " <tr class=\"data-row\">\n",
       " <td>201</td>\n",
       " <td>2012-10-05</td>\n",
       " <td>59</td>\n",
       " <td>183</td>\n",
       " <td>7</td>\n",
       " <td>-76.0</td>\n",
       " <td>771.0</td>\n",
       " </tr>,\n",
       " <tr class=\"data-row\">\n",
       " <td>202</td>\n",
       " <td>2012-10-06</td>\n",
       " <td>60</td>\n",
       " <td>183</td>\n",
       " <td>7</td>\n",
       " <td>-75.0</td>\n",
       " <td>772.0</td>\n",
       " </tr>,\n",
       " <tr class=\"data-row\">\n",
       " <td>203</td>\n",
       " <td>2012-10-07</td>\n",
       " <td>61</td>\n",
       " <td>184</td>\n",
       " <td>7</td>\n",
       " <td>-72.0</td>\n",
       " <td>772.0</td>\n",
       " </tr>,\n",
       " <tr class=\"data-row\">\n",
       " <td>204</td>\n",
       " <td>2012-10-08</td>\n",
       " <td>62</td>\n",
       " <td>184</td>\n",
       " <td>7</td>\n",
       " <td>-72.0</td>\n",
       " <td>774.0</td>\n",
       " </tr>,\n",
       " <tr class=\"data-row\">\n",
       " <td>205</td>\n",
       " <td>2012-10-09</td>\n",
       " <td>63</td>\n",
       " <td>185</td>\n",
       " <td>7</td>\n",
       " <td>-73.0</td>\n",
       " <td>775.0</td>\n",
       " </tr>,\n",
       " <tr class=\"data-row\">\n",
       " <td>206</td>\n",
       " <td>2012-10-10</td>\n",
       " <td>64</td>\n",
       " <td>186</td>\n",
       " <td>7</td>\n",
       " <td>-74.0</td>\n",
       " <td>776.0</td>\n",
       " </tr>,\n",
       " <tr class=\"data-row\">\n",
       " <td>207</td>\n",
       " <td>2012-10-11</td>\n",
       " <td>65</td>\n",
       " <td>186</td>\n",
       " <td>7</td>\n",
       " <td>-72.0</td>\n",
       " <td>777.0</td>\n",
       " </tr>,\n",
       " <tr class=\"data-row\">\n",
       " <td>208</td>\n",
       " <td>2012-10-12</td>\n",
       " <td>66</td>\n",
       " <td>187</td>\n",
       " <td>7</td>\n",
       " <td>-73.0</td>\n",
       " <td>778.0</td>\n",
       " </tr>,\n",
       " <tr class=\"data-row\">\n",
       " <td>209</td>\n",
       " <td>2012-10-13</td>\n",
       " <td>67</td>\n",
       " <td>187</td>\n",
       " <td>7</td>\n",
       " <td>-73.0</td>\n",
       " <td>780.0</td>\n",
       " </tr>,\n",
       " <tr class=\"data-row\">\n",
       " <td>210</td>\n",
       " <td>2012-10-14</td>\n",
       " <td>68</td>\n",
       " <td>188</td>\n",
       " <td>7</td>\n",
       " <td>-71.0</td>\n",
       " <td>781.0</td>\n",
       " </tr>,\n",
       " <tr class=\"data-row\">\n",
       " <td>211</td>\n",
       " <td>2012-10-15</td>\n",
       " <td>69</td>\n",
       " <td>189</td>\n",
       " <td>7</td>\n",
       " <td>-73.0</td>\n",
       " <td>778.0</td>\n",
       " </tr>,\n",
       " <tr class=\"data-row\">\n",
       " <td>212</td>\n",
       " <td>2012-10-17</td>\n",
       " <td>70</td>\n",
       " <td>189</td>\n",
       " <td>7</td>\n",
       " <td>-72.0</td>\n",
       " <td>783.0</td>\n",
       " </tr>,\n",
       " <tr class=\"data-row\">\n",
       " <td>213</td>\n",
       " <td>2012-10-18</td>\n",
       " <td>71</td>\n",
       " <td>190</td>\n",
       " <td>7</td>\n",
       " <td>-71.0</td>\n",
       " <td>784.0</td>\n",
       " </tr>,\n",
       " <tr class=\"data-row\">\n",
       " <td>214</td>\n",
       " <td>2012-10-19</td>\n",
       " <td>72</td>\n",
       " <td>190</td>\n",
       " <td>7</td>\n",
       " <td>-73.0</td>\n",
       " <td>785.0</td>\n",
       " </tr>,\n",
       " <tr class=\"data-row\">\n",
       " <td>215</td>\n",
       " <td>2012-10-20</td>\n",
       " <td>73</td>\n",
       " <td>191</td>\n",
       " <td>7</td>\n",
       " <td>-70.0</td>\n",
       " <td>788.0</td>\n",
       " </tr>,\n",
       " <tr class=\"data-row\">\n",
       " <td>216</td>\n",
       " <td>2012-10-21</td>\n",
       " <td>74</td>\n",
       " <td>192</td>\n",
       " <td>7</td>\n",
       " <td>-72.0</td>\n",
       " <td>790.0</td>\n",
       " </tr>,\n",
       " <tr class=\"data-row\">\n",
       " <td>217</td>\n",
       " <td>2012-10-22</td>\n",
       " <td>75</td>\n",
       " <td>192</td>\n",
       " <td>7</td>\n",
       " <td>-73.0</td>\n",
       " <td>791.0</td>\n",
       " </tr>,\n",
       " <tr class=\"data-row\">\n",
       " <td>218</td>\n",
       " <td>2012-10-23</td>\n",
       " <td>76</td>\n",
       " <td>193</td>\n",
       " <td>7</td>\n",
       " <td>-73.0</td>\n",
       " <td>792.0</td>\n",
       " </tr>,\n",
       " <tr class=\"data-row\">\n",
       " <td>219</td>\n",
       " <td>2012-10-24</td>\n",
       " <td>77</td>\n",
       " <td>193</td>\n",
       " <td>7</td>\n",
       " <td>-71.0</td>\n",
       " <td>792.0</td>\n",
       " </tr>,\n",
       " <tr class=\"data-row\">\n",
       " <td>220</td>\n",
       " <td>2012-10-25</td>\n",
       " <td>78</td>\n",
       " <td>194</td>\n",
       " <td>7</td>\n",
       " <td>-71.0</td>\n",
       " <td>793.0</td>\n",
       " </tr>,\n",
       " <tr class=\"data-row\">\n",
       " <td>221</td>\n",
       " <td>2012-10-26</td>\n",
       " <td>79</td>\n",
       " <td>195</td>\n",
       " <td>7</td>\n",
       " <td>-73.0</td>\n",
       " <td>795.0</td>\n",
       " </tr>,\n",
       " <tr class=\"data-row\">\n",
       " <td>222</td>\n",
       " <td>2012-10-27</td>\n",
       " <td>80</td>\n",
       " <td>195</td>\n",
       " <td>7</td>\n",
       " <td>-70.0</td>\n",
       " <td>796.0</td>\n",
       " </tr>,\n",
       " <tr class=\"data-row\">\n",
       " <td>223</td>\n",
       " <td>2012-10-28</td>\n",
       " <td>81</td>\n",
       " <td>196</td>\n",
       " <td>7</td>\n",
       " <td>-72.0</td>\n",
       " <td>798.0</td>\n",
       " </tr>,\n",
       " <tr class=\"data-row\">\n",
       " <td>224</td>\n",
       " <td>2012-10-29</td>\n",
       " <td>82</td>\n",
       " <td>196</td>\n",
       " <td>7</td>\n",
       " <td>-72.0</td>\n",
       " <td>799.0</td>\n",
       " </tr>,\n",
       " <tr class=\"data-row\">\n",
       " <td>225</td>\n",
       " <td>2012-10-30</td>\n",
       " <td>83</td>\n",
       " <td>197</td>\n",
       " <td>7</td>\n",
       " <td>-72.0</td>\n",
       " <td>801.0</td>\n",
       " </tr>,\n",
       " <tr class=\"data-row\">\n",
       " <td>226</td>\n",
       " <td>2012-10-31</td>\n",
       " <td>84</td>\n",
       " <td>198</td>\n",
       " <td>7</td>\n",
       " <td>-70.0</td>\n",
       " <td>801.0</td>\n",
       " </tr>,\n",
       " <tr class=\"data-row\">\n",
       " <td>227</td>\n",
       " <td>2012-11-01</td>\n",
       " <td>85</td>\n",
       " <td>198</td>\n",
       " <td>7</td>\n",
       " <td>-71.0</td>\n",
       " <td>805.0</td>\n",
       " </tr>,\n",
       " <tr class=\"data-row\">\n",
       " <td>228</td>\n",
       " <td>2012-11-02</td>\n",
       " <td>86</td>\n",
       " <td>199</td>\n",
       " <td>7</td>\n",
       " <td>-71.0</td>\n",
       " <td>808.0</td>\n",
       " </tr>,\n",
       " <tr class=\"data-row\">\n",
       " <td>229</td>\n",
       " <td>2012-11-03</td>\n",
       " <td>87</td>\n",
       " <td>199</td>\n",
       " <td>7</td>\n",
       " <td>-70.0</td>\n",
       " <td>808.0</td>\n",
       " </tr>,\n",
       " <tr class=\"data-row\">\n",
       " <td>230</td>\n",
       " <td>2012-11-04</td>\n",
       " <td>88</td>\n",
       " <td>200</td>\n",
       " <td>7</td>\n",
       " <td>-70.0</td>\n",
       " <td>811.0</td>\n",
       " </tr>,\n",
       " <tr class=\"data-row\">\n",
       " <td>231</td>\n",
       " <td>2012-11-05</td>\n",
       " <td>89</td>\n",
       " <td>201</td>\n",
       " <td>7</td>\n",
       " <td>-73.0</td>\n",
       " <td>813.0</td>\n",
       " </tr>,\n",
       " <tr class=\"data-row\">\n",
       " <td>233</td>\n",
       " <td>2012-11-06</td>\n",
       " <td>90</td>\n",
       " <td>201</td>\n",
       " <td>7</td>\n",
       " <td>-71.0</td>\n",
       " <td>813.0</td>\n",
       " </tr>,\n",
       " <tr class=\"data-row\">\n",
       " <td>234</td>\n",
       " <td>2012-11-07</td>\n",
       " <td>91</td>\n",
       " <td>202</td>\n",
       " <td>7</td>\n",
       " <td>-74.0</td>\n",
       " <td>817.0</td>\n",
       " </tr>,\n",
       " <tr class=\"data-row\">\n",
       " <td>235</td>\n",
       " <td>2012-11-08</td>\n",
       " <td>92</td>\n",
       " <td>202</td>\n",
       " <td>7</td>\n",
       " <td>-74.0</td>\n",
       " <td>820.0</td>\n",
       " </tr>,\n",
       " <tr class=\"data-row\">\n",
       " <td>236</td>\n",
       " <td>2012-11-09</td>\n",
       " <td>93</td>\n",
       " <td>203</td>\n",
       " <td>7</td>\n",
       " <td>-72.0</td>\n",
       " <td>819.0</td>\n",
       " </tr>,\n",
       " <tr class=\"data-row\">\n",
       " <td>237</td>\n",
       " <td>2012-11-10</td>\n",
       " <td>94</td>\n",
       " <td>204</td>\n",
       " <td>7</td>\n",
       " <td>-70.0</td>\n",
       " <td>822.0</td>\n",
       " </tr>,\n",
       " <tr class=\"data-row\">\n",
       " <td>238</td>\n",
       " <td>2012-11-11</td>\n",
       " <td>95</td>\n",
       " <td>204</td>\n",
       " <td>7</td>\n",
       " <td>-68.0</td>\n",
       " <td>822.0</td>\n",
       " </tr>,\n",
       " <tr class=\"data-row\">\n",
       " <td>239</td>\n",
       " <td>2012-11-12</td>\n",
       " <td>96</td>\n",
       " <td>205</td>\n",
       " <td>7</td>\n",
       " <td>-71.0</td>\n",
       " <td>826.0</td>\n",
       " </tr>,\n",
       " <tr class=\"data-row\">\n",
       " <td>240</td>\n",
       " <td>2012-11-13</td>\n",
       " <td>97</td>\n",
       " <td>206</td>\n",
       " <td>7</td>\n",
       " <td>-68.0</td>\n",
       " <td>828.0</td>\n",
       " </tr>,\n",
       " <tr class=\"data-row\">\n",
       " <td>241</td>\n",
       " <td>2012-11-14</td>\n",
       " <td>98</td>\n",
       " <td>206</td>\n",
       " <td>7</td>\n",
       " <td>-68.0</td>\n",
       " <td>828.0</td>\n",
       " </tr>,\n",
       " <tr class=\"data-row\">\n",
       " <td>242</td>\n",
       " <td>2012-11-15</td>\n",
       " <td>99</td>\n",
       " <td>207</td>\n",
       " <td>7</td>\n",
       " <td>-68.0</td>\n",
       " <td>829.0</td>\n",
       " </tr>,\n",
       " <tr class=\"data-row\">\n",
       " <td>3</td>\n",
       " <td>2012-11-16</td>\n",
       " <td>100</td>\n",
       " <td>207</td>\n",
       " <td>7</td>\n",
       " <td>-66.0</td>\n",
       " <td>829.0</td>\n",
       " </tr>,\n",
       " <tr class=\"data-row\">\n",
       " <td>4</td>\n",
       " <td>2012-11-17</td>\n",
       " <td>101</td>\n",
       " <td>208</td>\n",
       " <td>7</td>\n",
       " <td>-65.0</td>\n",
       " <td>830.0</td>\n",
       " </tr>,\n",
       " <tr class=\"data-row\">\n",
       " <td>5</td>\n",
       " <td>2012-11-18</td>\n",
       " <td>102</td>\n",
       " <td>209</td>\n",
       " <td>7</td>\n",
       " <td>-67.0</td>\n",
       " <td>833.0</td>\n",
       " </tr>,\n",
       " <tr class=\"data-row\">\n",
       " <td>6</td>\n",
       " <td>2012-11-19</td>\n",
       " <td>103</td>\n",
       " <td>209</td>\n",
       " <td>7</td>\n",
       " <td>-66.0</td>\n",
       " <td>836.0</td>\n",
       " </tr>,\n",
       " <tr class=\"data-row\">\n",
       " <td>7</td>\n",
       " <td>2012-11-20</td>\n",
       " <td>104</td>\n",
       " <td>210</td>\n",
       " <td>8</td>\n",
       " <td>-67.0</td>\n",
       " <td>838.0</td>\n",
       " </tr>,\n",
       " <tr class=\"data-row\">\n",
       " <td>8</td>\n",
       " <td>2012-11-21</td>\n",
       " <td>105</td>\n",
       " <td>211</td>\n",
       " <td>8</td>\n",
       " <td>-66.0</td>\n",
       " <td>839.0</td>\n",
       " </tr>,\n",
       " <tr class=\"data-row\">\n",
       " <td>9</td>\n",
       " <td>2012-11-23</td>\n",
       " <td>106</td>\n",
       " <td>211</td>\n",
       " <td>8</td>\n",
       " <td>-66.0</td>\n",
       " <td>841.0</td>\n",
       " </tr>,\n",
       " <tr class=\"data-row\">\n",
       " <td>10</td>\n",
       " <td>2012-11-24</td>\n",
       " <td>107</td>\n",
       " <td>212</td>\n",
       " <td>8</td>\n",
       " <td>-66.0</td>\n",
       " <td>844.0</td>\n",
       " </tr>,\n",
       " <tr class=\"data-row\">\n",
       " <td>11</td>\n",
       " <td>2012-11-25</td>\n",
       " <td>108</td>\n",
       " <td>212</td>\n",
       " <td>8</td>\n",
       " <td>-65.0</td>\n",
       " <td>845.0</td>\n",
       " </tr>,\n",
       " <tr class=\"data-row\">\n",
       " <td>12</td>\n",
       " <td>2012-11-26</td>\n",
       " <td>109</td>\n",
       " <td>213</td>\n",
       " <td>8</td>\n",
       " <td>-64.0</td>\n",
       " <td>844.0</td>\n",
       " </tr>,\n",
       " <tr class=\"data-row\">\n",
       " <td>14</td>\n",
       " <td>2012-11-27</td>\n",
       " <td>110</td>\n",
       " <td>214</td>\n",
       " <td>8</td>\n",
       " <td>-65.0</td>\n",
       " <td>848.0</td>\n",
       " </tr>,\n",
       " <tr class=\"data-row\">\n",
       " <td>15</td>\n",
       " <td>2012-11-28</td>\n",
       " <td>111</td>\n",
       " <td>214</td>\n",
       " <td>8</td>\n",
       " <td>-66.0</td>\n",
       " <td>849.0</td>\n",
       " </tr>,\n",
       " <tr class=\"data-row\">\n",
       " <td>16</td>\n",
       " <td>2012-11-29</td>\n",
       " <td>112</td>\n",
       " <td>215</td>\n",
       " <td>8</td>\n",
       " <td>-65.0</td>\n",
       " <td>852.0</td>\n",
       " </tr>,\n",
       " <tr class=\"data-row\">\n",
       " <td>17</td>\n",
       " <td>2012-11-30</td>\n",
       " <td>113</td>\n",
       " <td>216</td>\n",
       " <td>8</td>\n",
       " <td>-66.0</td>\n",
       " <td>857.0</td>\n",
       " </tr>,\n",
       " <tr class=\"data-row\">\n",
       " <td>18</td>\n",
       " <td>2012-12-01</td>\n",
       " <td>114</td>\n",
       " <td>216</td>\n",
       " <td>8</td>\n",
       " <td>-69.0</td>\n",
       " <td>857.0</td>\n",
       " </tr>,\n",
       " <tr class=\"data-row\">\n",
       " <td>19</td>\n",
       " <td>2012-12-02</td>\n",
       " <td>115</td>\n",
       " <td>217</td>\n",
       " <td>8</td>\n",
       " <td>-66.0</td>\n",
       " <td>857.0</td>\n",
       " </tr>,\n",
       " <tr class=\"data-row\">\n",
       " <td>20</td>\n",
       " <td>2012-12-03</td>\n",
       " <td>116</td>\n",
       " <td>217</td>\n",
       " <td>8</td>\n",
       " <td>-67.0</td>\n",
       " <td>859.0</td>\n",
       " </tr>,\n",
       " <tr class=\"data-row\">\n",
       " <td>21</td>\n",
       " <td>2012-12-04</td>\n",
       " <td>117</td>\n",
       " <td>218</td>\n",
       " <td>8</td>\n",
       " <td>-66.0</td>\n",
       " <td>861.0</td>\n",
       " </tr>,\n",
       " <tr class=\"data-row\">\n",
       " <td>22</td>\n",
       " <td>2012-12-05</td>\n",
       " <td>118</td>\n",
       " <td>219</td>\n",
       " <td>8</td>\n",
       " <td>-65.0</td>\n",
       " <td>864.0</td>\n",
       " </tr>,\n",
       " <tr class=\"data-row\">\n",
       " <td>23</td>\n",
       " <td>2012-12-06</td>\n",
       " <td>119</td>\n",
       " <td>219</td>\n",
       " <td>8</td>\n",
       " <td>-66.0</td>\n",
       " <td>866.0</td>\n",
       " </tr>,\n",
       " <tr class=\"data-row\">\n",
       " <td>25</td>\n",
       " <td>2012-12-07</td>\n",
       " <td>120</td>\n",
       " <td>220</td>\n",
       " <td>8</td>\n",
       " <td>-67.0</td>\n",
       " <td>867.0</td>\n",
       " </tr>,\n",
       " <tr class=\"data-row\">\n",
       " <td>26</td>\n",
       " <td>2012-12-08</td>\n",
       " <td>121</td>\n",
       " <td>221</td>\n",
       " <td>8</td>\n",
       " <td>-66.0</td>\n",
       " <td>869.0</td>\n",
       " </tr>,\n",
       " <tr class=\"data-row\">\n",
       " <td>27</td>\n",
       " <td>2012-12-09</td>\n",
       " <td>122</td>\n",
       " <td>221</td>\n",
       " <td>8</td>\n",
       " <td>-65.0</td>\n",
       " <td>869.0</td>\n",
       " </tr>,\n",
       " <tr class=\"data-row\">\n",
       " <td>28</td>\n",
       " <td>2012-12-10</td>\n",
       " <td>123</td>\n",
       " <td>222</td>\n",
       " <td>8</td>\n",
       " <td>-66.0</td>\n",
       " <td>875.0</td>\n",
       " </tr>,\n",
       " <tr class=\"data-row\">\n",
       " <td>29</td>\n",
       " <td>2012-12-11</td>\n",
       " <td>124</td>\n",
       " <td>223</td>\n",
       " <td>8</td>\n",
       " <td>-66.0</td>\n",
       " <td>876.0</td>\n",
       " </tr>,\n",
       " <tr class=\"data-row\">\n",
       " <td>30</td>\n",
       " <td>2012-12-12</td>\n",
       " <td>125</td>\n",
       " <td>223</td>\n",
       " <td>8</td>\n",
       " <td>-68.0</td>\n",
       " <td>880.0</td>\n",
       " </tr>,\n",
       " <tr class=\"data-row\">\n",
       " <td>31</td>\n",
       " <td>2012-12-13</td>\n",
       " <td>126</td>\n",
       " <td>224</td>\n",
       " <td>8</td>\n",
       " <td>-66.0</td>\n",
       " <td>880.0</td>\n",
       " </tr>,\n",
       " <tr class=\"data-row\">\n",
       " <td>32</td>\n",
       " <td>2012-12-14</td>\n",
       " <td>127</td>\n",
       " <td>224</td>\n",
       " <td>8</td>\n",
       " <td>-67.0</td>\n",
       " <td>884.0</td>\n",
       " </tr>,\n",
       " <tr class=\"data-row\">\n",
       " <td>33</td>\n",
       " <td>2012-12-15</td>\n",
       " <td>128</td>\n",
       " <td>225</td>\n",
       " <td>8</td>\n",
       " <td>-67.0</td>\n",
       " <td>883.0</td>\n",
       " </tr>,\n",
       " <tr class=\"data-row\">\n",
       " <td>34</td>\n",
       " <td>2012-12-16</td>\n",
       " <td>129</td>\n",
       " <td>226</td>\n",
       " <td>8</td>\n",
       " <td>-65.0</td>\n",
       " <td>886.0</td>\n",
       " </tr>,\n",
       " <tr class=\"data-row\">\n",
       " <td>36</td>\n",
       " <td>2012-12-17</td>\n",
       " <td>130</td>\n",
       " <td>226</td>\n",
       " <td>8</td>\n",
       " <td>-65.0</td>\n",
       " <td>888.0</td>\n",
       " </tr>,\n",
       " <tr class=\"data-row\">\n",
       " <td>37</td>\n",
       " <td>2012-12-18</td>\n",
       " <td>131</td>\n",
       " <td>227</td>\n",
       " <td>8</td>\n",
       " <td>-65.0</td>\n",
       " <td>889.0</td>\n",
       " </tr>,\n",
       " <tr class=\"data-row\">\n",
       " <td>38</td>\n",
       " <td>2012-12-19</td>\n",
       " <td>132</td>\n",
       " <td>228</td>\n",
       " <td>8</td>\n",
       " <td>-65.0</td>\n",
       " <td>890.0</td>\n",
       " </tr>,\n",
       " <tr class=\"data-row\">\n",
       " <td>39</td>\n",
       " <td>2012-12-20</td>\n",
       " <td>133</td>\n",
       " <td>228</td>\n",
       " <td>8</td>\n",
       " <td>-65.0</td>\n",
       " <td>891.0</td>\n",
       " </tr>,\n",
       " <tr class=\"data-row\">\n",
       " <td>40</td>\n",
       " <td>2012-12-21</td>\n",
       " <td>134</td>\n",
       " <td>229</td>\n",
       " <td>8</td>\n",
       " <td>-67.0</td>\n",
       " <td>893.0</td>\n",
       " </tr>,\n",
       " <tr class=\"data-row\">\n",
       " <td>41</td>\n",
       " <td>2012-12-22</td>\n",
       " <td>135</td>\n",
       " <td>230</td>\n",
       " <td>8</td>\n",
       " <td>-65.0</td>\n",
       " <td>894.0</td>\n",
       " </tr>,\n",
       " <tr class=\"data-row\">\n",
       " <td>42</td>\n",
       " <td>2012-12-23</td>\n",
       " <td>136</td>\n",
       " <td>230</td>\n",
       " <td>8</td>\n",
       " <td>-65.0</td>\n",
       " <td>897.0</td>\n",
       " </tr>,\n",
       " <tr class=\"data-row\">\n",
       " <td>43</td>\n",
       " <td>2012-12-24</td>\n",
       " <td>137</td>\n",
       " <td>231</td>\n",
       " <td>8</td>\n",
       " <td>-64.0</td>\n",
       " <td>896.0</td>\n",
       " </tr>,\n",
       " <tr class=\"data-row\">\n",
       " <td>44</td>\n",
       " <td>2012-12-25</td>\n",
       " <td>138</td>\n",
       " <td>232</td>\n",
       " <td>8</td>\n",
       " <td>-65.0</td>\n",
       " <td>899.0</td>\n",
       " </tr>,\n",
       " <tr class=\"data-row\">\n",
       " <td>45</td>\n",
       " <td>2012-12-26</td>\n",
       " <td>139</td>\n",
       " <td>232</td>\n",
       " <td>8</td>\n",
       " <td>-66.0</td>\n",
       " <td>899.0</td>\n",
       " </tr>,\n",
       " <tr class=\"data-row\">\n",
       " <td>47</td>\n",
       " <td>2012-12-27</td>\n",
       " <td>140</td>\n",
       " <td>233</td>\n",
       " <td>8</td>\n",
       " <td>-66.0</td>\n",
       " <td>903.0</td>\n",
       " </tr>,\n",
       " <tr class=\"data-row\">\n",
       " <td>48</td>\n",
       " <td>2012-12-28</td>\n",
       " <td>141</td>\n",
       " <td>233</td>\n",
       " <td>8</td>\n",
       " <td>-64.0</td>\n",
       " <td>904.0</td>\n",
       " </tr>,\n",
       " <tr class=\"data-row\">\n",
       " <td>49</td>\n",
       " <td>2012-12-29</td>\n",
       " <td>142</td>\n",
       " <td>234</td>\n",
       " <td>8</td>\n",
       " <td>-65.0</td>\n",
       " <td>906.0</td>\n",
       " </tr>,\n",
       " <tr class=\"data-row\">\n",
       " <td>50</td>\n",
       " <td>2012-12-31</td>\n",
       " <td>143</td>\n",
       " <td>235</td>\n",
       " <td>8</td>\n",
       " <td>-63.0</td>\n",
       " <td>908.0</td>\n",
       " </tr>,\n",
       " <tr class=\"data-row\">\n",
       " <td>51</td>\n",
       " <td>2013-01-01</td>\n",
       " <td>144</td>\n",
       " <td>235</td>\n",
       " <td>8</td>\n",
       " <td>-64.0</td>\n",
       " <td>907.0</td>\n",
       " </tr>,\n",
       " <tr class=\"data-row\">\n",
       " <td>52</td>\n",
       " <td>2013-01-02</td>\n",
       " <td>145</td>\n",
       " <td>236</td>\n",
       " <td>8</td>\n",
       " <td>-64.0</td>\n",
       " <td>909.0</td>\n",
       " </tr>,\n",
       " <tr class=\"data-row\">\n",
       " <td>53</td>\n",
       " <td>2013-01-03</td>\n",
       " <td>146</td>\n",
       " <td>237</td>\n",
       " <td>8</td>\n",
       " <td>-65.0</td>\n",
       " <td>908.0</td>\n",
       " </tr>,\n",
       " <tr class=\"data-row\">\n",
       " <td>54</td>\n",
       " <td>2013-01-04</td>\n",
       " <td>147</td>\n",
       " <td>237</td>\n",
       " <td>8</td>\n",
       " <td>-65.0</td>\n",
       " <td>914.0</td>\n",
       " </tr>,\n",
       " <tr class=\"data-row\">\n",
       " <td>55</td>\n",
       " <td>2013-01-05</td>\n",
       " <td>148</td>\n",
       " <td>238</td>\n",
       " <td>8</td>\n",
       " <td>-65.0</td>\n",
       " <td>912.0</td>\n",
       " </tr>,\n",
       " <tr class=\"data-row\">\n",
       " <td>56</td>\n",
       " <td>2013-01-06</td>\n",
       " <td>149</td>\n",
       " <td>239</td>\n",
       " <td>8</td>\n",
       " <td>-65.0</td>\n",
       " <td>914.0</td>\n",
       " </tr>,\n",
       " <tr class=\"data-row\">\n",
       " <td>58</td>\n",
       " <td>2013-01-07</td>\n",
       " <td>150</td>\n",
       " <td>239</td>\n",
       " <td>8</td>\n",
       " <td>-64.0</td>\n",
       " <td>913.0</td>\n",
       " </tr>,\n",
       " <tr class=\"data-row\">\n",
       " <td>59</td>\n",
       " <td>2013-01-08</td>\n",
       " <td>151</td>\n",
       " <td>240</td>\n",
       " <td>9</td>\n",
       " <td>-65.0</td>\n",
       " <td>915.0</td>\n",
       " </tr>,\n",
       " <tr class=\"data-row\">\n",
       " <td>60</td>\n",
       " <td>2013-01-09</td>\n",
       " <td>152</td>\n",
       " <td>241</td>\n",
       " <td>9</td>\n",
       " <td>-63.0</td>\n",
       " <td>914.0</td>\n",
       " </tr>,\n",
       " <tr class=\"data-row\">\n",
       " <td>61</td>\n",
       " <td>2013-01-10</td>\n",
       " <td>153</td>\n",
       " <td>241</td>\n",
       " <td>9</td>\n",
       " <td>-65.0</td>\n",
       " <td>915.0</td>\n",
       " </tr>,\n",
       " <tr class=\"data-row\">\n",
       " <td>62</td>\n",
       " <td>2013-01-11</td>\n",
       " <td>154</td>\n",
       " <td>242</td>\n",
       " <td>9</td>\n",
       " <td>-65.0</td>\n",
       " <td>917.0</td>\n",
       " </tr>,\n",
       " <tr class=\"data-row\">\n",
       " <td>63</td>\n",
       " <td>2013-01-12</td>\n",
       " <td>155</td>\n",
       " <td>243</td>\n",
       " <td>9</td>\n",
       " <td>-64.0</td>\n",
       " <td>917.0</td>\n",
       " </tr>,\n",
       " <tr class=\"data-row\">\n",
       " <td>64</td>\n",
       " <td>2013-01-13</td>\n",
       " <td>156</td>\n",
       " <td>243</td>\n",
       " <td>9</td>\n",
       " <td>-65.0</td>\n",
       " <td>922.0</td>\n",
       " </tr>,\n",
       " <tr class=\"data-row\">\n",
       " <td>65</td>\n",
       " <td>2013-01-14</td>\n",
       " <td>157</td>\n",
       " <td>244</td>\n",
       " <td>9</td>\n",
       " <td>-64.0</td>\n",
       " <td>920.0</td>\n",
       " </tr>,\n",
       " <tr class=\"data-row\">\n",
       " <td>66</td>\n",
       " <td>2013-01-15</td>\n",
       " <td>158</td>\n",
       " <td>245</td>\n",
       " <td>9</td>\n",
       " <td>-66.0</td>\n",
       " <td>922.0</td>\n",
       " </tr>,\n",
       " <tr class=\"data-row\">\n",
       " <td>67</td>\n",
       " <td>2013-01-16</td>\n",
       " <td>159</td>\n",
       " <td>245</td>\n",
       " <td>9</td>\n",
       " <td>-65.0</td>\n",
       " <td>918.0</td>\n",
       " </tr>,\n",
       " <tr class=\"data-row\">\n",
       " <td>69</td>\n",
       " <td>2013-01-17</td>\n",
       " <td>160</td>\n",
       " <td>246</td>\n",
       " <td>9</td>\n",
       " <td>-67.0</td>\n",
       " <td>919.0</td>\n",
       " </tr>,\n",
       " <tr class=\"data-row\">\n",
       " <td>70</td>\n",
       " <td>2013-01-18</td>\n",
       " <td>161</td>\n",
       " <td>246</td>\n",
       " <td>9</td>\n",
       " <td>-65.0</td>\n",
       " <td>919.0</td>\n",
       " </tr>,\n",
       " <tr class=\"data-row\">\n",
       " <td>71</td>\n",
       " <td>2013-01-19</td>\n",
       " <td>162</td>\n",
       " <td>247</td>\n",
       " <td>9</td>\n",
       " <td>-65.0</td>\n",
       " <td>919.0</td>\n",
       " </tr>,\n",
       " <tr class=\"data-row\">\n",
       " <td>72</td>\n",
       " <td>2013-01-20</td>\n",
       " <td>163</td>\n",
       " <td>248</td>\n",
       " <td>9</td>\n",
       " <td>-65.0</td>\n",
       " <td>919.0</td>\n",
       " </tr>,\n",
       " <tr class=\"data-row\">\n",
       " <td>73</td>\n",
       " <td>2013-01-21</td>\n",
       " <td>164</td>\n",
       " <td>248</td>\n",
       " <td>9</td>\n",
       " <td>-64.0</td>\n",
       " <td>919.0</td>\n",
       " </tr>,\n",
       " <tr class=\"data-row\">\n",
       " <td>74</td>\n",
       " <td>2013-01-22</td>\n",
       " <td>165</td>\n",
       " <td>249</td>\n",
       " <td>9</td>\n",
       " <td>-65.0</td>\n",
       " <td>922.0</td>\n",
       " </tr>,\n",
       " <tr class=\"data-row\">\n",
       " <td>75</td>\n",
       " <td>2013-01-23</td>\n",
       " <td>166</td>\n",
       " <td>250</td>\n",
       " <td>9</td>\n",
       " <td>-65.0</td>\n",
       " <td>922.0</td>\n",
       " </tr>,\n",
       " <tr class=\"data-row\">\n",
       " <td>76</td>\n",
       " <td>2013-01-24</td>\n",
       " <td>167</td>\n",
       " <td>250</td>\n",
       " <td>9</td>\n",
       " <td>-65.0</td>\n",
       " <td>920.0</td>\n",
       " </tr>,\n",
       " <tr class=\"data-row\">\n",
       " <td>77</td>\n",
       " <td>2013-01-25</td>\n",
       " <td>168</td>\n",
       " <td>251</td>\n",
       " <td>9</td>\n",
       " <td>-66.0</td>\n",
       " <td>923.0</td>\n",
       " </tr>,\n",
       " <tr class=\"data-row\">\n",
       " <td>78</td>\n",
       " <td>2013-01-26</td>\n",
       " <td>169</td>\n",
       " <td>252</td>\n",
       " <td>9</td>\n",
       " <td>-66.0</td>\n",
       " <td>922.0</td>\n",
       " </tr>,\n",
       " <tr class=\"data-row\">\n",
       " <td>80</td>\n",
       " <td>2013-01-27</td>\n",
       " <td>170</td>\n",
       " <td>252</td>\n",
       " <td>9</td>\n",
       " <td>-66.0</td>\n",
       " <td>925.0</td>\n",
       " </tr>,\n",
       " <tr class=\"data-row\">\n",
       " <td>81</td>\n",
       " <td>2013-01-28</td>\n",
       " <td>171</td>\n",
       " <td>253</td>\n",
       " <td>9</td>\n",
       " <td>-67.0</td>\n",
       " <td>925.0</td>\n",
       " </tr>,\n",
       " <tr class=\"data-row\">\n",
       " <td>82</td>\n",
       " <td>2013-01-29</td>\n",
       " <td>172</td>\n",
       " <td>254</td>\n",
       " <td>9</td>\n",
       " <td>-67.0</td>\n",
       " <td>923.0</td>\n",
       " </tr>,\n",
       " <tr class=\"data-row\">\n",
       " <td>83</td>\n",
       " <td>2013-01-30</td>\n",
       " <td>173</td>\n",
       " <td>254</td>\n",
       " <td>9</td>\n",
       " <td>-67.0</td>\n",
       " <td>920.0</td>\n",
       " </tr>,\n",
       " <tr class=\"data-row\">\n",
       " <td>84</td>\n",
       " <td>2013-01-31</td>\n",
       " <td>174</td>\n",
       " <td>255</td>\n",
       " <td>9</td>\n",
       " <td>-67.0</td>\n",
       " <td>921.0</td>\n",
       " </tr>,\n",
       " <tr class=\"data-row\">\n",
       " <td>85</td>\n",
       " <td>2013-02-01</td>\n",
       " <td>175</td>\n",
       " <td>256</td>\n",
       " <td>9</td>\n",
       " <td>-68.0</td>\n",
       " <td>921.0</td>\n",
       " </tr>,\n",
       " <tr class=\"data-row\">\n",
       " <td>86</td>\n",
       " <td>2013-02-02</td>\n",
       " <td>176</td>\n",
       " <td>256</td>\n",
       " <td>9</td>\n",
       " <td>-67.0</td>\n",
       " <td>920.0</td>\n",
       " </tr>,\n",
       " <tr class=\"data-row\">\n",
       " <td>87</td>\n",
       " <td>2013-02-03</td>\n",
       " <td>177</td>\n",
       " <td>257</td>\n",
       " <td>9</td>\n",
       " <td>-66.0</td>\n",
       " <td>921.0</td>\n",
       " </tr>,\n",
       " <tr class=\"data-row\">\n",
       " <td>88</td>\n",
       " <td>2013-02-04</td>\n",
       " <td>178</td>\n",
       " <td>258</td>\n",
       " <td>9</td>\n",
       " <td>-66.0</td>\n",
       " <td>920.0</td>\n",
       " </tr>,\n",
       " <tr class=\"data-row\">\n",
       " <td>89</td>\n",
       " <td>2013-02-06</td>\n",
       " <td>179</td>\n",
       " <td>258</td>\n",
       " <td>9</td>\n",
       " <td>-66.0</td>\n",
       " <td>920.0</td>\n",
       " </tr>,\n",
       " <tr class=\"data-row\">\n",
       " <td>91</td>\n",
       " <td>2013-02-07</td>\n",
       " <td>180</td>\n",
       " <td>259</td>\n",
       " <td>9</td>\n",
       " <td>-67.0</td>\n",
       " <td>919.0</td>\n",
       " </tr>,\n",
       " <tr class=\"data-row\">\n",
       " <td>92</td>\n",
       " <td>2013-02-08</td>\n",
       " <td>181</td>\n",
       " <td>260</td>\n",
       " <td>9</td>\n",
       " <td>-67.0</td>\n",
       " <td>918.0</td>\n",
       " </tr>,\n",
       " <tr class=\"data-row\">\n",
       " <td>93</td>\n",
       " <td>2013-02-09</td>\n",
       " <td>182</td>\n",
       " <td>260</td>\n",
       " <td>9</td>\n",
       " <td>-67.0</td>\n",
       " <td>921.0</td>\n",
       " </tr>,\n",
       " <tr class=\"data-row\">\n",
       " <td>94</td>\n",
       " <td>2013-02-10</td>\n",
       " <td>183</td>\n",
       " <td>261</td>\n",
       " <td>9</td>\n",
       " <td>-67.0</td>\n",
       " <td>921.0</td>\n",
       " </tr>,\n",
       " <tr class=\"data-row\">\n",
       " <td>95</td>\n",
       " <td>2013-02-11</td>\n",
       " <td>184</td>\n",
       " <td>261</td>\n",
       " <td>9</td>\n",
       " <td>-67.0</td>\n",
       " <td>923.0</td>\n",
       " </tr>,\n",
       " <tr class=\"data-row\">\n",
       " <td>96</td>\n",
       " <td>2013-02-12</td>\n",
       " <td>185</td>\n",
       " <td>262</td>\n",
       " <td>9</td>\n",
       " <td>-67.0</td>\n",
       " <td>923.0</td>\n",
       " </tr>,\n",
       " <tr class=\"data-row\">\n",
       " <td>97</td>\n",
       " <td>2013-02-13</td>\n",
       " <td>186</td>\n",
       " <td>263</td>\n",
       " <td>9</td>\n",
       " <td>-66.0</td>\n",
       " <td>922.0</td>\n",
       " </tr>,\n",
       " <tr class=\"data-row\">\n",
       " <td>98</td>\n",
       " <td>2013-02-14</td>\n",
       " <td>187</td>\n",
       " <td>263</td>\n",
       " <td>9</td>\n",
       " <td>-67.0</td>\n",
       " <td>921.0</td>\n",
       " </tr>,\n",
       " <tr class=\"data-row\">\n",
       " <td>99</td>\n",
       " <td>2013-02-15</td>\n",
       " <td>188</td>\n",
       " <td>264</td>\n",
       " <td>9</td>\n",
       " <td>-68.0</td>\n",
       " <td>920.0</td>\n",
       " </tr>,\n",
       " <tr class=\"data-row\">\n",
       " <td>100</td>\n",
       " <td>2013-02-16</td>\n",
       " <td>189</td>\n",
       " <td>265</td>\n",
       " <td>9</td>\n",
       " <td>-68.0</td>\n",
       " <td>920.0</td>\n",
       " </tr>,\n",
       " <tr class=\"data-row\">\n",
       " <td>102</td>\n",
       " <td>2013-02-17</td>\n",
       " <td>190</td>\n",
       " <td>265</td>\n",
       " <td>9</td>\n",
       " <td>-66.0</td>\n",
       " <td>917.0</td>\n",
       " </tr>,\n",
       " <tr class=\"data-row\">\n",
       " <td>103</td>\n",
       " <td>2013-02-18</td>\n",
       " <td>191</td>\n",
       " <td>266</td>\n",
       " <td>9</td>\n",
       " <td>-67.0</td>\n",
       " <td>921.0</td>\n",
       " </tr>,\n",
       " <tr class=\"data-row\">\n",
       " <td>106</td>\n",
       " <td>2013-02-23</td>\n",
       " <td>196</td>\n",
       " <td>269</td>\n",
       " <td>9</td>\n",
       " <td>-66.0</td>\n",
       " <td>916.0</td>\n",
       " </tr>,\n",
       " <tr class=\"data-row\">\n",
       " <td>107</td>\n",
       " <td>2013-02-24</td>\n",
       " <td>197</td>\n",
       " <td>270</td>\n",
       " <td>10</td>\n",
       " <td>-68.0</td>\n",
       " <td>915.0</td>\n",
       " </tr>,\n",
       " <tr class=\"data-row\">\n",
       " <td>108</td>\n",
       " <td>2013-02-25</td>\n",
       " <td>198</td>\n",
       " <td>271</td>\n",
       " <td>10</td>\n",
       " <td>-67.0</td>\n",
       " <td>914.0</td>\n",
       " </tr>,\n",
       " <tr class=\"data-row\">\n",
       " <td>109</td>\n",
       " <td>2013-02-26</td>\n",
       " <td>199</td>\n",
       " <td>271</td>\n",
       " <td>10</td>\n",
       " <td>-66.0</td>\n",
       " <td>917.0</td>\n",
       " </tr>,\n",
       " <tr class=\"data-row\">\n",
       " <td>116</td>\n",
       " <td>2013-03-23</td>\n",
       " <td>223</td>\n",
       " <td>287</td>\n",
       " <td>10</td>\n",
       " <td>-71.0</td>\n",
       " <td>895.0</td>\n",
       " </tr>,\n",
       " <tr class=\"data-row\">\n",
       " <td>117</td>\n",
       " <td>2013-03-24</td>\n",
       " <td>224</td>\n",
       " <td>287</td>\n",
       " <td>10</td>\n",
       " <td>-69.0</td>\n",
       " <td>894.0</td>\n",
       " </tr>,\n",
       " <tr class=\"data-row\">\n",
       " <td>118</td>\n",
       " <td>2013-03-25</td>\n",
       " <td>225</td>\n",
       " <td>288</td>\n",
       " <td>10</td>\n",
       " <td>-71.0</td>\n",
       " <td>894.0</td>\n",
       " </tr>,\n",
       " <tr class=\"data-row\">\n",
       " <td>119</td>\n",
       " <td>2013-03-26</td>\n",
       " <td>226</td>\n",
       " <td>288</td>\n",
       " <td>10</td>\n",
       " <td>-70.0</td>\n",
       " <td>894.0</td>\n",
       " </tr>,\n",
       " <tr class=\"data-row\">\n",
       " <td>120</td>\n",
       " <td>2013-03-27</td>\n",
       " <td>227</td>\n",
       " <td>289</td>\n",
       " <td>10</td>\n",
       " <td>-70.0</td>\n",
       " <td>892.0</td>\n",
       " </tr>,\n",
       " <tr class=\"data-row\">\n",
       " <td>121</td>\n",
       " <td>2013-03-28</td>\n",
       " <td>228</td>\n",
       " <td>290</td>\n",
       " <td>10</td>\n",
       " <td>-71.0</td>\n",
       " <td>894.0</td>\n",
       " </tr>,\n",
       " <tr class=\"data-row\">\n",
       " <td>122</td>\n",
       " <td>2013-03-29</td>\n",
       " <td>229</td>\n",
       " <td>290</td>\n",
       " <td>10</td>\n",
       " <td>-69.0</td>\n",
       " <td>894.0</td>\n",
       " </tr>,\n",
       " <tr class=\"data-row\">\n",
       " <td>124</td>\n",
       " <td>2013-03-30</td>\n",
       " <td>230</td>\n",
       " <td>291</td>\n",
       " <td>10</td>\n",
       " <td>-69.0</td>\n",
       " <td>888.0</td>\n",
       " </tr>,\n",
       " <tr class=\"data-row\">\n",
       " <td>125</td>\n",
       " <td>2013-03-31</td>\n",
       " <td>231</td>\n",
       " <td>292</td>\n",
       " <td>10</td>\n",
       " <td>-71.0</td>\n",
       " <td>890.0</td>\n",
       " </tr>,\n",
       " <tr class=\"data-row\">\n",
       " <td>126</td>\n",
       " <td>2013-04-01</td>\n",
       " <td>232</td>\n",
       " <td>292</td>\n",
       " <td>10</td>\n",
       " <td>-69.0</td>\n",
       " <td>888.0</td>\n",
       " </tr>,\n",
       " <tr class=\"data-row\">\n",
       " <td>127</td>\n",
       " <td>2013-04-02</td>\n",
       " <td>233</td>\n",
       " <td>293</td>\n",
       " <td>10</td>\n",
       " <td>-69.0</td>\n",
       " <td>889.0</td>\n",
       " </tr>,\n",
       " <tr class=\"data-row\">\n",
       " <td>128</td>\n",
       " <td>2013-04-03</td>\n",
       " <td>234</td>\n",
       " <td>293</td>\n",
       " <td>10</td>\n",
       " <td>-69.0</td>\n",
       " <td>890.0</td>\n",
       " </tr>,\n",
       " <tr class=\"data-row\">\n",
       " <td>129</td>\n",
       " <td>2013-04-04</td>\n",
       " <td>235</td>\n",
       " <td>294</td>\n",
       " <td>10</td>\n",
       " <td>-70.0</td>\n",
       " <td>886.0</td>\n",
       " </tr>,\n",
       " <tr class=\"data-row\">\n",
       " <td>130</td>\n",
       " <td>2013-04-05</td>\n",
       " <td>236</td>\n",
       " <td>295</td>\n",
       " <td>10</td>\n",
       " <td>-72.0</td>\n",
       " <td>886.0</td>\n",
       " </tr>,\n",
       " <tr class=\"data-row\">\n",
       " <td>131</td>\n",
       " <td>2013-04-06</td>\n",
       " <td>237</td>\n",
       " <td>295</td>\n",
       " <td>10</td>\n",
       " <td>-71.0</td>\n",
       " <td>883.0</td>\n",
       " </tr>,\n",
       " <tr class=\"data-row\">\n",
       " <td>132</td>\n",
       " <td>2013-04-07</td>\n",
       " <td>238</td>\n",
       " <td>296</td>\n",
       " <td>10</td>\n",
       " <td>-70.0</td>\n",
       " <td>885.0</td>\n",
       " </tr>,\n",
       " <tr class=\"data-row\">\n",
       " <td>133</td>\n",
       " <td>2013-04-08</td>\n",
       " <td>239</td>\n",
       " <td>297</td>\n",
       " <td>10</td>\n",
       " <td>-73.0</td>\n",
       " <td>885.0</td>\n",
       " </tr>,\n",
       " <tr class=\"data-row\">\n",
       " <td>135</td>\n",
       " <td>2013-04-09</td>\n",
       " <td>240</td>\n",
       " <td>297</td>\n",
       " <td>10</td>\n",
       " <td>-70.0</td>\n",
       " <td>884.0</td>\n",
       " </tr>,\n",
       " <tr class=\"data-row\">\n",
       " <td>136</td>\n",
       " <td>2013-04-10</td>\n",
       " <td>241</td>\n",
       " <td>298</td>\n",
       " <td>10</td>\n",
       " <td>-72.0</td>\n",
       " <td>884.0</td>\n",
       " </tr>,\n",
       " <tr class=\"data-row\">\n",
       " <td>137</td>\n",
       " <td>2013-04-11</td>\n",
       " <td>242</td>\n",
       " <td>298</td>\n",
       " <td>10</td>\n",
       " <td>-70.0</td>\n",
       " <td>881.0</td>\n",
       " </tr>,\n",
       " <tr class=\"data-row\">\n",
       " <td>138</td>\n",
       " <td>2013-04-12</td>\n",
       " <td>243</td>\n",
       " <td>299</td>\n",
       " <td>10</td>\n",
       " <td>-71.0</td>\n",
       " <td>884.0</td>\n",
       " </tr>,\n",
       " <tr class=\"data-row\">\n",
       " <td>139</td>\n",
       " <td>2013-04-13</td>\n",
       " <td>244</td>\n",
       " <td>300</td>\n",
       " <td>11</td>\n",
       " <td>-69.0</td>\n",
       " <td>878.0</td>\n",
       " </tr>,\n",
       " <tr class=\"data-row\">\n",
       " <td>140</td>\n",
       " <td>2013-04-14</td>\n",
       " <td>245</td>\n",
       " <td>300</td>\n",
       " <td>11</td>\n",
       " <td>-70.0</td>\n",
       " <td>879.0</td>\n",
       " </tr>,\n",
       " <tr class=\"data-row\">\n",
       " <td>141</td>\n",
       " <td>2013-04-15</td>\n",
       " <td>246</td>\n",
       " <td>301</td>\n",
       " <td>11</td>\n",
       " <td>-73.0</td>\n",
       " <td>878.0</td>\n",
       " </tr>,\n",
       " <tr class=\"data-row\">\n",
       " <td>142</td>\n",
       " <td>2013-04-16</td>\n",
       " <td>247</td>\n",
       " <td>301</td>\n",
       " <td>11</td>\n",
       " <td>-71.0</td>\n",
       " <td>873.0</td>\n",
       " </tr>,\n",
       " <tr class=\"data-row\">\n",
       " <td>143</td>\n",
       " <td>2013-04-17</td>\n",
       " <td>248</td>\n",
       " <td>302</td>\n",
       " <td>11</td>\n",
       " <td>-70.0</td>\n",
       " <td>877.0</td>\n",
       " </tr>,\n",
       " <tr class=\"data-row\">\n",
       " <td>144</td>\n",
       " <td>2013-04-18</td>\n",
       " <td>249</td>\n",
       " <td>303</td>\n",
       " <td>11</td>\n",
       " <td>-69.0</td>\n",
       " <td>873.0</td>\n",
       " </tr>,\n",
       " <tr class=\"data-row\">\n",
       " <td>146</td>\n",
       " <td>2013-04-19</td>\n",
       " <td>250</td>\n",
       " <td>303</td>\n",
       " <td>11</td>\n",
       " <td>-70.0</td>\n",
       " <td>877.0</td>\n",
       " </tr>,\n",
       " <tr class=\"data-row\">\n",
       " <td>147</td>\n",
       " <td>2013-04-20</td>\n",
       " <td>251</td>\n",
       " <td>304</td>\n",
       " <td>11</td>\n",
       " <td>-71.0</td>\n",
       " <td>876.0</td>\n",
       " </tr>,\n",
       " <tr class=\"data-row\">\n",
       " <td>148</td>\n",
       " <td>2013-04-22</td>\n",
       " <td>252</td>\n",
       " <td>304</td>\n",
       " <td>11</td>\n",
       " <td>-71.0</td>\n",
       " <td>874.0</td>\n",
       " </tr>,\n",
       " <tr class=\"data-row\">\n",
       " <td>149</td>\n",
       " <td>2013-04-23</td>\n",
       " <td>253</td>\n",
       " <td>305</td>\n",
       " <td>11</td>\n",
       " <td>-71.0</td>\n",
       " <td>877.0</td>\n",
       " </tr>,\n",
       " <tr class=\"data-row\">\n",
       " <td>150</td>\n",
       " <td>2013-04-24</td>\n",
       " <td>254</td>\n",
       " <td>306</td>\n",
       " <td>11</td>\n",
       " <td>-70.0</td>\n",
       " <td>871.0</td>\n",
       " </tr>,\n",
       " <tr class=\"data-row\">\n",
       " <td>151</td>\n",
       " <td>2013-04-25</td>\n",
       " <td>255</td>\n",
       " <td>306</td>\n",
       " <td>11</td>\n",
       " <td>-69.0</td>\n",
       " <td>877.0</td>\n",
       " </tr>,\n",
       " <tr class=\"data-row\">\n",
       " <td>152</td>\n",
       " <td>2013-04-26</td>\n",
       " <td>256</td>\n",
       " <td>307</td>\n",
       " <td>11</td>\n",
       " <td>-70.0</td>\n",
       " <td>871.0</td>\n",
       " </tr>,\n",
       " <tr class=\"data-row\">\n",
       " <td>153</td>\n",
       " <td>2013-04-27</td>\n",
       " <td>257</td>\n",
       " <td>308</td>\n",
       " <td>11</td>\n",
       " <td>-70.0</td>\n",
       " <td>871.0</td>\n",
       " </tr>,\n",
       " <tr class=\"data-row\">\n",
       " <td>154</td>\n",
       " <td>2013-04-28</td>\n",
       " <td>258</td>\n",
       " <td>308</td>\n",
       " <td>11</td>\n",
       " <td>-71.0</td>\n",
       " <td>869.0</td>\n",
       " </tr>,\n",
       " <tr class=\"data-row\">\n",
       " <td>155</td>\n",
       " <td>2013-04-29</td>\n",
       " <td>259</td>\n",
       " <td>309</td>\n",
       " <td>11</td>\n",
       " <td>-72.0</td>\n",
       " <td>871.0</td>\n",
       " </tr>,\n",
       " <tr class=\"data-row\">\n",
       " <td>157</td>\n",
       " <td>2013-04-30</td>\n",
       " <td>260</td>\n",
       " <td>309</td>\n",
       " <td>11</td>\n",
       " <td>-70.0</td>\n",
       " <td>875.0</td>\n",
       " </tr>,\n",
       " <tr class=\"data-row\">\n",
       " <td>158</td>\n",
       " <td>2013-05-01</td>\n",
       " <td>261</td>\n",
       " <td>310</td>\n",
       " <td>11</td>\n",
       " <td>-70.0</td>\n",
       " <td>868.0</td>\n",
       " </tr>,\n",
       " <tr class=\"data-row\">\n",
       " <td>161</td>\n",
       " <td>2013-05-08</td>\n",
       " <td>268</td>\n",
       " <td>314</td>\n",
       " <td>11</td>\n",
       " <td>-70.0</td>\n",
       " <td>864.0</td>\n",
       " </tr>,\n",
       " <tr class=\"data-row\">\n",
       " <td>162</td>\n",
       " <td>2013-05-09</td>\n",
       " <td>269</td>\n",
       " <td>315</td>\n",
       " <td>11</td>\n",
       " <td>-72.0</td>\n",
       " <td>866.0</td>\n",
       " </tr>,\n",
       " <tr class=\"data-row\">\n",
       " <td>164</td>\n",
       " <td>2013-05-10</td>\n",
       " <td>270</td>\n",
       " <td>315</td>\n",
       " <td>11</td>\n",
       " <td>-67.0</td>\n",
       " <td>863.0</td>\n",
       " </tr>,\n",
       " <tr class=\"data-row\">\n",
       " <td>165</td>\n",
       " <td>2013-05-11</td>\n",
       " <td>271</td>\n",
       " <td>316</td>\n",
       " <td>11</td>\n",
       " <td>-69.0</td>\n",
       " <td>864.0</td>\n",
       " </tr>,\n",
       " <tr class=\"data-row\">\n",
       " <td>166</td>\n",
       " <td>2013-05-12</td>\n",
       " <td>272</td>\n",
       " <td>316</td>\n",
       " <td>11</td>\n",
       " <td>-71.0</td>\n",
       " <td>864.0</td>\n",
       " </tr>,\n",
       " <tr class=\"data-row\">\n",
       " <td>167</td>\n",
       " <td>2013-05-13</td>\n",
       " <td>273</td>\n",
       " <td>317</td>\n",
       " <td>11</td>\n",
       " <td>-70.0</td>\n",
       " <td>861.0</td>\n",
       " </tr>,\n",
       " <tr class=\"data-row\">\n",
       " <td>168</td>\n",
       " <td>2013-05-14</td>\n",
       " <td>274</td>\n",
       " <td>318</td>\n",
       " <td>11</td>\n",
       " <td>-70.0</td>\n",
       " <td>861.0</td>\n",
       " </tr>,\n",
       " <tr class=\"data-row\">\n",
       " <td>169</td>\n",
       " <td>2013-05-15</td>\n",
       " <td>275</td>\n",
       " <td>318</td>\n",
       " <td>11</td>\n",
       " <td>-67.0</td>\n",
       " <td>860.0</td>\n",
       " </tr>,\n",
       " <tr class=\"data-row\">\n",
       " <td>244</td>\n",
       " <td>2013-05-16</td>\n",
       " <td>276</td>\n",
       " <td>319</td>\n",
       " <td>11</td>\n",
       " <td>-69.0</td>\n",
       " <td>858.0</td>\n",
       " </tr>,\n",
       " <tr class=\"data-row\">\n",
       " <td>245</td>\n",
       " <td>2013-05-17</td>\n",
       " <td>277</td>\n",
       " <td>319</td>\n",
       " <td>11</td>\n",
       " <td>-69.0</td>\n",
       " <td>857.0</td>\n",
       " </tr>,\n",
       " <tr class=\"data-row\">\n",
       " <td>246</td>\n",
       " <td>2013-05-18</td>\n",
       " <td>278</td>\n",
       " <td>320</td>\n",
       " <td>11</td>\n",
       " <td>-67.0</td>\n",
       " <td>855.0</td>\n",
       " </tr>,\n",
       " <tr class=\"data-row\">\n",
       " <td>247</td>\n",
       " <td>2013-05-19</td>\n",
       " <td>279</td>\n",
       " <td>321</td>\n",
       " <td>11</td>\n",
       " <td>-68.0</td>\n",
       " <td>856.0</td>\n",
       " </tr>,\n",
       " <tr class=\"data-row\">\n",
       " <td>248</td>\n",
       " <td>2013-05-20</td>\n",
       " <td>280</td>\n",
       " <td>321</td>\n",
       " <td>11</td>\n",
       " <td>-69.0</td>\n",
       " <td>856.0</td>\n",
       " </tr>,\n",
       " <tr class=\"data-row\">\n",
       " <td>249</td>\n",
       " <td>2013-05-21</td>\n",
       " <td>281</td>\n",
       " <td>322</td>\n",
       " <td>11</td>\n",
       " <td>-68.0</td>\n",
       " <td>855.0</td>\n",
       " </tr>,\n",
       " <tr class=\"data-row\">\n",
       " <td>250</td>\n",
       " <td>2013-05-22</td>\n",
       " <td>282</td>\n",
       " <td>322</td>\n",
       " <td>11</td>\n",
       " <td>-72.0</td>\n",
       " <td>856.0</td>\n",
       " </tr>,\n",
       " <tr class=\"data-row\">\n",
       " <td>251</td>\n",
       " <td>2013-05-23</td>\n",
       " <td>283</td>\n",
       " <td>323</td>\n",
       " <td>11</td>\n",
       " <td>-68.0</td>\n",
       " <td>854.0</td>\n",
       " </tr>,\n",
       " <tr class=\"data-row\">\n",
       " <td>252</td>\n",
       " <td>2013-05-24</td>\n",
       " <td>284</td>\n",
       " <td>323</td>\n",
       " <td>11</td>\n",
       " <td>-71.0</td>\n",
       " <td>854.0</td>\n",
       " </tr>,\n",
       " <tr class=\"data-row\">\n",
       " <td>253</td>\n",
       " <td>2013-05-25</td>\n",
       " <td>285</td>\n",
       " <td>324</td>\n",
       " <td>11</td>\n",
       " <td>-70.0</td>\n",
       " <td>852.0</td>\n",
       " </tr>,\n",
       " <tr class=\"data-row\">\n",
       " <td>254</td>\n",
       " <td>2013-05-26</td>\n",
       " <td>286</td>\n",
       " <td>325</td>\n",
       " <td>11</td>\n",
       " <td>-71.0</td>\n",
       " <td>854.0</td>\n",
       " </tr>,\n",
       " <tr class=\"data-row\">\n",
       " <td>255</td>\n",
       " <td>2013-05-27</td>\n",
       " <td>287</td>\n",
       " <td>325</td>\n",
       " <td>11</td>\n",
       " <td>-72.0</td>\n",
       " <td>856.0</td>\n",
       " </tr>,\n",
       " <tr class=\"data-row\">\n",
       " <td>256</td>\n",
       " <td>2013-05-29</td>\n",
       " <td>288</td>\n",
       " <td>326</td>\n",
       " <td>11</td>\n",
       " <td>-69.0</td>\n",
       " <td>854.0</td>\n",
       " </tr>,\n",
       " <tr class=\"data-row\">\n",
       " <td>257</td>\n",
       " <td>2013-05-30</td>\n",
       " <td>289</td>\n",
       " <td>326</td>\n",
       " <td>11</td>\n",
       " <td>-71.0</td>\n",
       " <td>854.0</td>\n",
       " </tr>,\n",
       " <tr class=\"data-row\">\n",
       " <td>258</td>\n",
       " <td>2013-05-31</td>\n",
       " <td>290</td>\n",
       " <td>327</td>\n",
       " <td>11</td>\n",
       " <td>-71.0</td>\n",
       " <td>853.0</td>\n",
       " </tr>,\n",
       " <tr class=\"data-row\">\n",
       " <td>259</td>\n",
       " <td>2013-06-01</td>\n",
       " <td>291</td>\n",
       " <td>327</td>\n",
       " <td>11</td>\n",
       " <td>-70.0</td>\n",
       " <td>853.0</td>\n",
       " </tr>,\n",
       " <tr class=\"data-row\">\n",
       " <td>260</td>\n",
       " <td>2013-06-02</td>\n",
       " <td>292</td>\n",
       " <td>328</td>\n",
       " <td>11</td>\n",
       " <td>-71.0</td>\n",
       " <td>853.0</td>\n",
       " </tr>,\n",
       " <tr class=\"data-row\">\n",
       " <td>261</td>\n",
       " <td>2013-06-03</td>\n",
       " <td>293</td>\n",
       " <td>329</td>\n",
       " <td>11</td>\n",
       " <td>-72.0</td>\n",
       " <td>850.0</td>\n",
       " </tr>,\n",
       " <tr class=\"data-row\">\n",
       " <td>262</td>\n",
       " <td>2013-06-04</td>\n",
       " <td>294</td>\n",
       " <td>329</td>\n",
       " <td>11</td>\n",
       " <td>-72.0</td>\n",
       " <td>852.0</td>\n",
       " </tr>,\n",
       " <tr class=\"data-row\">\n",
       " <td>263</td>\n",
       " <td>2013-06-05</td>\n",
       " <td>295</td>\n",
       " <td>330</td>\n",
       " <td>12</td>\n",
       " <td>-71.0</td>\n",
       " <td>853.0</td>\n",
       " </tr>,\n",
       " <tr class=\"data-row\">\n",
       " <td>264</td>\n",
       " <td>2013-06-06</td>\n",
       " <td>296</td>\n",
       " <td>330</td>\n",
       " <td>12</td>\n",
       " <td>-71.0</td>\n",
       " <td>850.0</td>\n",
       " </tr>,\n",
       " <tr class=\"data-row\">\n",
       " <td>265</td>\n",
       " <td>2013-06-07</td>\n",
       " <td>297</td>\n",
       " <td>331</td>\n",
       " <td>12</td>\n",
       " <td>-72.0</td>\n",
       " <td>849.0</td>\n",
       " </tr>,\n",
       " <tr class=\"data-row\">\n",
       " <td>266</td>\n",
       " <td>2013-06-08</td>\n",
       " <td>298</td>\n",
       " <td>331</td>\n",
       " <td>12</td>\n",
       " <td>-72.0</td>\n",
       " <td>850.0</td>\n",
       " </tr>,\n",
       " <tr class=\"data-row\">\n",
       " <td>267</td>\n",
       " <td>2013-06-09</td>\n",
       " <td>299</td>\n",
       " <td>332</td>\n",
       " <td>12</td>\n",
       " <td>-71.0</td>\n",
       " <td>849.0</td>\n",
       " </tr>,\n",
       " <tr class=\"data-row\">\n",
       " <td>286</td>\n",
       " <td>2013-06-10</td>\n",
       " <td>300</td>\n",
       " <td>333</td>\n",
       " <td>12</td>\n",
       " <td>-72.0</td>\n",
       " <td>852.0</td>\n",
       " </tr>,\n",
       " <tr class=\"data-row\">\n",
       " <td>276</td>\n",
       " <td>2013-06-11</td>\n",
       " <td>301</td>\n",
       " <td>333</td>\n",
       " <td>12</td>\n",
       " <td>-73.0</td>\n",
       " <td>852.0</td>\n",
       " </tr>,\n",
       " <tr class=\"data-row\">\n",
       " <td>287</td>\n",
       " <td>2013-06-12</td>\n",
       " <td>302</td>\n",
       " <td>334</td>\n",
       " <td>12</td>\n",
       " <td>-71.0</td>\n",
       " <td>850.0</td>\n",
       " </tr>,\n",
       " <tr class=\"data-row\">\n",
       " <td>283</td>\n",
       " <td>2013-06-13</td>\n",
       " <td>303</td>\n",
       " <td>334</td>\n",
       " <td>12</td>\n",
       " <td>-71.0</td>\n",
       " <td>849.0</td>\n",
       " </tr>,\n",
       " <tr class=\"data-row\">\n",
       " <td>281</td>\n",
       " <td>2013-06-14</td>\n",
       " <td>304</td>\n",
       " <td>335</td>\n",
       " <td>12</td>\n",
       " <td>-70.0</td>\n",
       " <td>848.0</td>\n",
       " </tr>,\n",
       " <tr class=\"data-row\">\n",
       " <td>275</td>\n",
       " <td>2013-06-15</td>\n",
       " <td>305</td>\n",
       " <td>335</td>\n",
       " <td>12</td>\n",
       " <td>-71.0</td>\n",
       " <td>847.0</td>\n",
       " </tr>,\n",
       " <tr class=\"data-row\">\n",
       " <td>280</td>\n",
       " <td>2013-06-16</td>\n",
       " <td>306</td>\n",
       " <td>336</td>\n",
       " <td>12</td>\n",
       " <td>-71.0</td>\n",
       " <td>848.0</td>\n",
       " </tr>,\n",
       " <tr class=\"data-row\">\n",
       " <td>279</td>\n",
       " <td>2013-06-17</td>\n",
       " <td>307</td>\n",
       " <td>336</td>\n",
       " <td>12</td>\n",
       " <td>-72.0</td>\n",
       " <td>851.0</td>\n",
       " </tr>,\n",
       " <tr class=\"data-row\">\n",
       " <td>282</td>\n",
       " <td>2013-06-18</td>\n",
       " <td>308</td>\n",
       " <td>337</td>\n",
       " <td>12</td>\n",
       " <td>-73.0</td>\n",
       " <td>850.0</td>\n",
       " </tr>,\n",
       " <tr class=\"data-row\">\n",
       " <td>284</td>\n",
       " <td>2013-06-19</td>\n",
       " <td>309</td>\n",
       " <td>338</td>\n",
       " <td>12</td>\n",
       " <td>-72.0</td>\n",
       " <td>848.0</td>\n",
       " </tr>,\n",
       " <tr class=\"data-row\">\n",
       " <td>278</td>\n",
       " <td>2013-06-20</td>\n",
       " <td>310</td>\n",
       " <td>338</td>\n",
       " <td>12</td>\n",
       " <td>-71.0</td>\n",
       " <td>849.0</td>\n",
       " </tr>,\n",
       " <tr class=\"data-row\">\n",
       " <td>277</td>\n",
       " <td>2013-06-21</td>\n",
       " <td>311</td>\n",
       " <td>339</td>\n",
       " <td>12</td>\n",
       " <td>-74.0</td>\n",
       " <td>846.0</td>\n",
       " </tr>,\n",
       " <tr class=\"data-row\">\n",
       " <td>285</td>\n",
       " <td>2013-06-22</td>\n",
       " <td>312</td>\n",
       " <td>339</td>\n",
       " <td>12</td>\n",
       " <td>-71.0</td>\n",
       " <td>845.0</td>\n",
       " </tr>,\n",
       " <tr class=\"data-row\">\n",
       " <td>274</td>\n",
       " <td>2013-06-23</td>\n",
       " <td>313</td>\n",
       " <td>340</td>\n",
       " <td>12</td>\n",
       " <td>-77.0</td>\n",
       " <td>849.0</td>\n",
       " </tr>,\n",
       " <tr class=\"data-row\">\n",
       " <td>272</td>\n",
       " <td>2013-06-24</td>\n",
       " <td>314</td>\n",
       " <td>340</td>\n",
       " <td>12</td>\n",
       " <td>-73.0</td>\n",
       " <td>848.0</td>\n",
       " </tr>,\n",
       " <tr class=\"data-row\">\n",
       " <td>273</td>\n",
       " <td>2013-06-25</td>\n",
       " <td>315</td>\n",
       " <td>341</td>\n",
       " <td>12</td>\n",
       " <td>-74.0</td>\n",
       " <td>850.0</td>\n",
       " </tr>,\n",
       " <tr class=\"data-row\">\n",
       " <td>288</td>\n",
       " <td>2013-06-26</td>\n",
       " <td>316</td>\n",
       " <td>341</td>\n",
       " <td>12</td>\n",
       " <td>-74.0</td>\n",
       " <td>851.0</td>\n",
       " </tr>,\n",
       " <tr class=\"data-row\">\n",
       " <td>268</td>\n",
       " <td>2013-06-27</td>\n",
       " <td>317</td>\n",
       " <td>342</td>\n",
       " <td>12</td>\n",
       " <td>-72.0</td>\n",
       " <td>849.0</td>\n",
       " </tr>,\n",
       " <tr class=\"data-row\">\n",
       " <td>270</td>\n",
       " <td>2013-06-28</td>\n",
       " <td>318</td>\n",
       " <td>342</td>\n",
       " <td>12</td>\n",
       " <td>-74.0</td>\n",
       " <td>849.0</td>\n",
       " </tr>,\n",
       " <tr class=\"data-row\">\n",
       " <td>271</td>\n",
       " <td>2013-06-29</td>\n",
       " <td>319</td>\n",
       " <td>343</td>\n",
       " <td>12</td>\n",
       " <td>-73.0</td>\n",
       " <td>847.0</td>\n",
       " </tr>,\n",
       " <tr class=\"data-row\">\n",
       " <td>269</td>\n",
       " <td>2013-06-30</td>\n",
       " <td>320</td>\n",
       " <td>344</td>\n",
       " <td>12</td>\n",
       " <td>-74.0</td>\n",
       " <td>846.0</td>\n",
       " </tr>,\n",
       " <tr class=\"data-row\">\n",
       " <td>289</td>\n",
       " <td>2013-07-01</td>\n",
       " <td>321</td>\n",
       " <td>344</td>\n",
       " <td>12</td>\n",
       " <td>-75.0</td>\n",
       " <td>847.0</td>\n",
       " </tr>,\n",
       " <tr class=\"data-row\">\n",
       " <td>291</td>\n",
       " <td>2013-07-02</td>\n",
       " <td>322</td>\n",
       " <td>345</td>\n",
       " <td>12</td>\n",
       " <td>-74.0</td>\n",
       " <td>849.0</td>\n",
       " </tr>,\n",
       " <tr class=\"data-row\">\n",
       " <td>290</td>\n",
       " <td>2013-07-03</td>\n",
       " <td>323</td>\n",
       " <td>345</td>\n",
       " <td>12</td>\n",
       " <td>-74.0</td>\n",
       " <td>847.0</td>\n",
       " </tr>,\n",
       " <tr class=\"data-row\">\n",
       " <td>292</td>\n",
       " <td>2013-07-04</td>\n",
       " <td>324</td>\n",
       " <td>346</td>\n",
       " <td>12</td>\n",
       " <td>-75.0</td>\n",
       " <td>850.0</td>\n",
       " </tr>,\n",
       " <tr class=\"data-row\">\n",
       " <td>294</td>\n",
       " <td>2013-07-06</td>\n",
       " <td>325</td>\n",
       " <td>346</td>\n",
       " <td>12</td>\n",
       " <td>-74.0</td>\n",
       " <td>847.0</td>\n",
       " </tr>,\n",
       " <tr class=\"data-row\">\n",
       " <td>295</td>\n",
       " <td>2013-07-07</td>\n",
       " <td>326</td>\n",
       " <td>347</td>\n",
       " <td>12</td>\n",
       " <td>-72.0</td>\n",
       " <td>848.0</td>\n",
       " </tr>,\n",
       " <tr class=\"data-row\">\n",
       " <td>296</td>\n",
       " <td>2013-07-08</td>\n",
       " <td>327</td>\n",
       " <td>347</td>\n",
       " <td>12</td>\n",
       " <td>-74.0</td>\n",
       " <td>848.0</td>\n",
       " </tr>,\n",
       " <tr class=\"data-row\">\n",
       " <td>293</td>\n",
       " <td>2013-07-09</td>\n",
       " <td>328</td>\n",
       " <td>348</td>\n",
       " <td>12</td>\n",
       " <td>-75.0</td>\n",
       " <td>847.0</td>\n",
       " </tr>,\n",
       " <tr class=\"data-row\">\n",
       " <td>298</td>\n",
       " <td>2013-07-10</td>\n",
       " <td>329</td>\n",
       " <td>348</td>\n",
       " <td>12</td>\n",
       " <td>-74.0</td>\n",
       " <td>847.0</td>\n",
       " </tr>,\n",
       " <tr class=\"data-row\">\n",
       " <td>297</td>\n",
       " <td>2013-07-11</td>\n",
       " <td>330</td>\n",
       " <td>349</td>\n",
       " <td>12</td>\n",
       " <td>-75.0</td>\n",
       " <td>848.0</td>\n",
       " </tr>,\n",
       " <tr class=\"data-row\">\n",
       " <td>303</td>\n",
       " <td>2013-07-12</td>\n",
       " <td>331</td>\n",
       " <td>349</td>\n",
       " <td>12</td>\n",
       " <td>-74.0</td>\n",
       " <td>848.0</td>\n",
       " </tr>,\n",
       " <tr class=\"data-row\">\n",
       " <td>300</td>\n",
       " <td>2013-07-13</td>\n",
       " <td>332</td>\n",
       " <td>350</td>\n",
       " <td>12</td>\n",
       " <td>-76.0</td>\n",
       " <td>849.0</td>\n",
       " </tr>,\n",
       " <tr class=\"data-row\">\n",
       " <td>299</td>\n",
       " <td>2013-07-14</td>\n",
       " <td>333</td>\n",
       " <td>350</td>\n",
       " <td>12</td>\n",
       " <td>-75.0</td>\n",
       " <td>849.0</td>\n",
       " </tr>,\n",
       " <tr class=\"data-row\">\n",
       " <td>301</td>\n",
       " <td>2013-07-15</td>\n",
       " <td>334</td>\n",
       " <td>351</td>\n",
       " <td>12</td>\n",
       " <td>-74.0</td>\n",
       " <td>852.0</td>\n",
       " </tr>,\n",
       " <tr class=\"data-row\">\n",
       " <td>302</td>\n",
       " <td>2013-07-16</td>\n",
       " <td>335</td>\n",
       " <td>352</td>\n",
       " <td>12</td>\n",
       " <td>-76.0</td>\n",
       " <td>852.0</td>\n",
       " </tr>,\n",
       " <tr class=\"data-row\">\n",
       " <td>305</td>\n",
       " <td>2013-07-17</td>\n",
       " <td>336</td>\n",
       " <td>352</td>\n",
       " <td>12</td>\n",
       " <td>-76.0</td>\n",
       " <td>852.0</td>\n",
       " </tr>,\n",
       " <tr class=\"data-row\">\n",
       " <td>304</td>\n",
       " <td>2013-07-18</td>\n",
       " <td>337</td>\n",
       " <td>353</td>\n",
       " <td>12</td>\n",
       " <td>-75.0</td>\n",
       " <td>853.0</td>\n",
       " </tr>,\n",
       " <tr class=\"data-row\">\n",
       " <td>306</td>\n",
       " <td>2013-07-19</td>\n",
       " <td>338</td>\n",
       " <td>353</td>\n",
       " <td>12</td>\n",
       " <td>-78.0</td>\n",
       " <td>848.0</td>\n",
       " </tr>,\n",
       " <tr class=\"data-row\">\n",
       " <td>308</td>\n",
       " <td>2013-07-20</td>\n",
       " <td>339</td>\n",
       " <td>354</td>\n",
       " <td>12</td>\n",
       " <td>-76.0</td>\n",
       " <td>849.0</td>\n",
       " </tr>,\n",
       " <tr class=\"data-row\">\n",
       " <td>307</td>\n",
       " <td>2013-07-21</td>\n",
       " <td>340</td>\n",
       " <td>354</td>\n",
       " <td>12</td>\n",
       " <td>-76.0</td>\n",
       " <td>851.0</td>\n",
       " </tr>,\n",
       " <tr class=\"data-row\">\n",
       " <td>310</td>\n",
       " <td>2013-07-22</td>\n",
       " <td>341</td>\n",
       " <td>355</td>\n",
       " <td>12</td>\n",
       " <td>-77.0</td>\n",
       " <td>852.0</td>\n",
       " </tr>,\n",
       " <tr class=\"data-row\">\n",
       " <td>309</td>\n",
       " <td>2013-07-23</td>\n",
       " <td>342</td>\n",
       " <td>355</td>\n",
       " <td>12</td>\n",
       " <td>-76.0</td>\n",
       " <td>851.0</td>\n",
       " </tr>,\n",
       " <tr class=\"data-row\">\n",
       " <td>311</td>\n",
       " <td>2013-07-24</td>\n",
       " <td>343</td>\n",
       " <td>356</td>\n",
       " <td>12</td>\n",
       " <td>-77.0</td>\n",
       " <td>850.0</td>\n",
       " </tr>,\n",
       " <tr class=\"data-row\">\n",
       " <td>317</td>\n",
       " <td>2013-07-25</td>\n",
       " <td>344</td>\n",
       " <td>356</td>\n",
       " <td>12</td>\n",
       " <td>-77.0</td>\n",
       " <td>851.0</td>\n",
       " </tr>,\n",
       " <tr class=\"data-row\">\n",
       " <td>312</td>\n",
       " <td>2013-07-26</td>\n",
       " <td>345</td>\n",
       " <td>357</td>\n",
       " <td>12</td>\n",
       " <td>-77.0</td>\n",
       " <td>853.0</td>\n",
       " </tr>,\n",
       " <tr class=\"data-row\">\n",
       " <td>314</td>\n",
       " <td>2013-07-27</td>\n",
       " <td>346</td>\n",
       " <td>357</td>\n",
       " <td>12</td>\n",
       " <td>-76.0</td>\n",
       " <td>853.0</td>\n",
       " </tr>,\n",
       " <tr class=\"data-row\">\n",
       " <td>313</td>\n",
       " <td>2013-07-28</td>\n",
       " <td>347</td>\n",
       " <td>358</td>\n",
       " <td>12</td>\n",
       " <td>-77.0</td>\n",
       " <td>851.0</td>\n",
       " </tr>,\n",
       " <tr class=\"data-row\">\n",
       " <td>315</td>\n",
       " <td>2013-07-29</td>\n",
       " <td>348</td>\n",
       " <td>358</td>\n",
       " <td>12</td>\n",
       " <td>-74.0</td>\n",
       " <td>850.0</td>\n",
       " </tr>,\n",
       " <tr class=\"data-row\">\n",
       " <td>316</td>\n",
       " <td>2013-07-30</td>\n",
       " <td>349</td>\n",
       " <td>359</td>\n",
       " <td>12</td>\n",
       " <td>-75.0</td>\n",
       " <td>852.0</td>\n",
       " </tr>,\n",
       " <tr class=\"data-row\">\n",
       " <td>318</td>\n",
       " <td>2013-07-31</td>\n",
       " <td>350</td>\n",
       " <td>359</td>\n",
       " <td>12</td>\n",
       " <td>-76.0</td>\n",
       " <td>853.0</td>\n",
       " </tr>,\n",
       " <tr class=\"data-row\">\n",
       " <td>320</td>\n",
       " <td>2013-08-01</td>\n",
       " <td>351</td>\n",
       " <td>0</td>\n",
       " <td>1</td>\n",
       " <td>-75.0</td>\n",
       " <td>853.0</td>\n",
       " </tr>,\n",
       " <tr class=\"data-row\">\n",
       " <td>319</td>\n",
       " <td>2013-08-02</td>\n",
       " <td>352</td>\n",
       " <td>0</td>\n",
       " <td>1</td>\n",
       " <td>-77.0</td>\n",
       " <td>854.0</td>\n",
       " </tr>,\n",
       " <tr class=\"data-row\">\n",
       " <td>323</td>\n",
       " <td>2013-08-03</td>\n",
       " <td>353</td>\n",
       " <td>1</td>\n",
       " <td>1</td>\n",
       " <td>-75.0</td>\n",
       " <td>855.0</td>\n",
       " </tr>,\n",
       " <tr class=\"data-row\">\n",
       " <td>322</td>\n",
       " <td>2013-08-04</td>\n",
       " <td>354</td>\n",
       " <td>1</td>\n",
       " <td>1</td>\n",
       " <td>-75.0</td>\n",
       " <td>857.0</td>\n",
       " </tr>,\n",
       " <tr class=\"data-row\">\n",
       " <td>321</td>\n",
       " <td>2013-08-05</td>\n",
       " <td>355</td>\n",
       " <td>2</td>\n",
       " <td>1</td>\n",
       " <td>-75.0</td>\n",
       " <td>857.0</td>\n",
       " </tr>,\n",
       " <tr class=\"data-row\">\n",
       " <td>324</td>\n",
       " <td>2013-08-06</td>\n",
       " <td>356</td>\n",
       " <td>2</td>\n",
       " <td>1</td>\n",
       " <td>-77.0</td>\n",
       " <td>856.0</td>\n",
       " </tr>,\n",
       " <tr class=\"data-row\">\n",
       " <td>325</td>\n",
       " <td>2013-08-07</td>\n",
       " <td>357</td>\n",
       " <td>3</td>\n",
       " <td>1</td>\n",
       " <td>-76.0</td>\n",
       " <td>857.0</td>\n",
       " </tr>,\n",
       " <tr class=\"data-row\">\n",
       " <td>326</td>\n",
       " <td>2013-08-17</td>\n",
       " <td>366</td>\n",
       " <td>7</td>\n",
       " <td>1</td>\n",
       " <td>-76.0</td>\n",
       " <td>861.0</td>\n",
       " </tr>,\n",
       " <tr class=\"data-row\">\n",
       " <td>328</td>\n",
       " <td>2013-08-18</td>\n",
       " <td>367</td>\n",
       " <td>8</td>\n",
       " <td>1</td>\n",
       " <td>-76.0</td>\n",
       " <td>862.0</td>\n",
       " </tr>,\n",
       " <tr class=\"data-row\">\n",
       " <td>330</td>\n",
       " <td>2013-08-19</td>\n",
       " <td>368</td>\n",
       " <td>8</td>\n",
       " <td>1</td>\n",
       " <td>-77.0</td>\n",
       " <td>863.0</td>\n",
       " </tr>,\n",
       " <tr class=\"data-row\">\n",
       " <td>331</td>\n",
       " <td>2013-08-20</td>\n",
       " <td>369</td>\n",
       " <td>9</td>\n",
       " <td>1</td>\n",
       " <td>-75.0</td>\n",
       " <td>865.0</td>\n",
       " </tr>,\n",
       " <tr class=\"data-row\">\n",
       " <td>332</td>\n",
       " <td>2013-08-21</td>\n",
       " <td>370</td>\n",
       " <td>9</td>\n",
       " <td>1</td>\n",
       " <td>-79.0</td>\n",
       " <td>865.0</td>\n",
       " </tr>,\n",
       " <tr class=\"data-row\">\n",
       " <td>333</td>\n",
       " <td>2013-08-22</td>\n",
       " <td>371</td>\n",
       " <td>10</td>\n",
       " <td>1</td>\n",
       " <td>-77.0</td>\n",
       " <td>865.0</td>\n",
       " </tr>,\n",
       " <tr class=\"data-row\">\n",
       " <td>334</td>\n",
       " <td>2013-08-23</td>\n",
       " <td>372</td>\n",
       " <td>10</td>\n",
       " <td>1</td>\n",
       " <td>-76.0</td>\n",
       " <td>866.0</td>\n",
       " </tr>,\n",
       " <tr class=\"data-row\">\n",
       " <td>335</td>\n",
       " <td>2013-08-24</td>\n",
       " <td>373</td>\n",
       " <td>11</td>\n",
       " <td>1</td>\n",
       " <td>-79.0</td>\n",
       " <td>866.0</td>\n",
       " </tr>,\n",
       " <tr class=\"data-row\">\n",
       " <td>337</td>\n",
       " <td>2013-08-25</td>\n",
       " <td>374</td>\n",
       " <td>11</td>\n",
       " <td>1</td>\n",
       " <td>-79.0</td>\n",
       " <td>866.0</td>\n",
       " </tr>,\n",
       " <tr class=\"data-row\">\n",
       " <td>336</td>\n",
       " <td>2013-08-26</td>\n",
       " <td>375</td>\n",
       " <td>12</td>\n",
       " <td>1</td>\n",
       " <td>-77.0</td>\n",
       " <td>867.0</td>\n",
       " </tr>,\n",
       " <tr class=\"data-row\">\n",
       " <td>340</td>\n",
       " <td>2013-08-27</td>\n",
       " <td>376</td>\n",
       " <td>12</td>\n",
       " <td>1</td>\n",
       " <td>-78.0</td>\n",
       " <td>870.0</td>\n",
       " </tr>,\n",
       " <tr class=\"data-row\">\n",
       " <td>338</td>\n",
       " <td>2013-08-28</td>\n",
       " <td>377</td>\n",
       " <td>13</td>\n",
       " <td>1</td>\n",
       " <td>-78.0</td>\n",
       " <td>870.0</td>\n",
       " </tr>,\n",
       " <tr class=\"data-row\">\n",
       " <td>339</td>\n",
       " <td>2013-08-29</td>\n",
       " <td>378</td>\n",
       " <td>13</td>\n",
       " <td>1</td>\n",
       " <td>-78.0</td>\n",
       " <td>869.0</td>\n",
       " </tr>,\n",
       " <tr class=\"data-row\">\n",
       " <td>341</td>\n",
       " <td>2013-08-30</td>\n",
       " <td>379</td>\n",
       " <td>14</td>\n",
       " <td>1</td>\n",
       " <td>-79.0</td>\n",
       " <td>870.0</td>\n",
       " </tr>,\n",
       " <tr class=\"data-row\">\n",
       " <td>343</td>\n",
       " <td>2013-08-31</td>\n",
       " <td>380</td>\n",
       " <td>14</td>\n",
       " <td>1</td>\n",
       " <td>-79.0</td>\n",
       " <td>870.0</td>\n",
       " </tr>,\n",
       " <tr class=\"data-row\">\n",
       " <td>345</td>\n",
       " <td>2013-09-01</td>\n",
       " <td>381</td>\n",
       " <td>15</td>\n",
       " <td>1</td>\n",
       " <td>-79.0</td>\n",
       " <td>871.0</td>\n",
       " </tr>,\n",
       " <tr class=\"data-row\">\n",
       " <td>344</td>\n",
       " <td>2013-09-02</td>\n",
       " <td>382</td>\n",
       " <td>15</td>\n",
       " <td>1</td>\n",
       " <td>-76.0</td>\n",
       " <td>872.0</td>\n",
       " </tr>,\n",
       " <tr class=\"data-row\">\n",
       " <td>342</td>\n",
       " <td>2013-09-03</td>\n",
       " <td>383</td>\n",
       " <td>16</td>\n",
       " <td>1</td>\n",
       " <td>-77.0</td>\n",
       " <td>874.0</td>\n",
       " </tr>,\n",
       " <tr class=\"data-row\">\n",
       " <td>346</td>\n",
       " <td>2013-09-04</td>\n",
       " <td>384</td>\n",
       " <td>16</td>\n",
       " <td>1</td>\n",
       " <td>-77.0</td>\n",
       " <td>875.0</td>\n",
       " </tr>,\n",
       " <tr class=\"data-row\">\n",
       " <td>351</td>\n",
       " <td>2013-09-05</td>\n",
       " <td>385</td>\n",
       " <td>17</td>\n",
       " <td>1</td>\n",
       " <td>-78.0</td>\n",
       " <td>874.0</td>\n",
       " </tr>,\n",
       " <tr class=\"data-row\">\n",
       " <td>347</td>\n",
       " <td>2013-09-06</td>\n",
       " <td>386</td>\n",
       " <td>17</td>\n",
       " <td>1</td>\n",
       " <td>-77.0</td>\n",
       " <td>873.0</td>\n",
       " </tr>,\n",
       " <tr class=\"data-row\">\n",
       " <td>349</td>\n",
       " <td>2013-09-07</td>\n",
       " <td>387</td>\n",
       " <td>18</td>\n",
       " <td>1</td>\n",
       " <td>-78.0</td>\n",
       " <td>874.0</td>\n",
       " </tr>,\n",
       " <tr class=\"data-row\">\n",
       " <td>350</td>\n",
       " <td>2013-09-08</td>\n",
       " <td>388</td>\n",
       " <td>18</td>\n",
       " <td>1</td>\n",
       " <td>-79.0</td>\n",
       " <td>875.0</td>\n",
       " </tr>,\n",
       " <tr class=\"data-row\">\n",
       " <td>348</td>\n",
       " <td>2013-09-09</td>\n",
       " <td>389</td>\n",
       " <td>19</td>\n",
       " <td>1</td>\n",
       " <td>-79.0</td>\n",
       " <td>875.0</td>\n",
       " </tr>,\n",
       " <tr class=\"data-row\">\n",
       " <td>352</td>\n",
       " <td>2013-09-10</td>\n",
       " <td>390</td>\n",
       " <td>19</td>\n",
       " <td>1</td>\n",
       " <td>-78.0</td>\n",
       " <td>875.0</td>\n",
       " </tr>,\n",
       " <tr class=\"data-row\">\n",
       " <td>353</td>\n",
       " <td>2013-09-11</td>\n",
       " <td>391</td>\n",
       " <td>20</td>\n",
       " <td>1</td>\n",
       " <td>-78.0</td>\n",
       " <td>875.0</td>\n",
       " </tr>,\n",
       " <tr class=\"data-row\">\n",
       " <td>354</td>\n",
       " <td>2013-09-12</td>\n",
       " <td>392</td>\n",
       " <td>20</td>\n",
       " <td>1</td>\n",
       " <td>-77.0</td>\n",
       " <td>876.0</td>\n",
       " </tr>,\n",
       " <tr class=\"data-row\">\n",
       " <td>355</td>\n",
       " <td>2013-09-13</td>\n",
       " <td>393</td>\n",
       " <td>21</td>\n",
       " <td>1</td>\n",
       " <td>-76.0</td>\n",
       " <td>877.0</td>\n",
       " </tr>,\n",
       " <tr class=\"data-row\">\n",
       " <td>356</td>\n",
       " <td>2013-09-14</td>\n",
       " <td>394</td>\n",
       " <td>21</td>\n",
       " <td>1</td>\n",
       " <td>-79.0</td>\n",
       " <td>878.0</td>\n",
       " </tr>,\n",
       " <tr class=\"data-row\">\n",
       " <td>357</td>\n",
       " <td>2013-09-15</td>\n",
       " <td>395</td>\n",
       " <td>22</td>\n",
       " <td>1</td>\n",
       " <td>-77.0</td>\n",
       " <td>878.0</td>\n",
       " </tr>,\n",
       " <tr class=\"data-row\">\n",
       " <td>358</td>\n",
       " <td>2013-09-16</td>\n",
       " <td>396</td>\n",
       " <td>22</td>\n",
       " <td>1</td>\n",
       " <td>-78.0</td>\n",
       " <td>879.0</td>\n",
       " </tr>,\n",
       " <tr class=\"data-row\">\n",
       " <td>359</td>\n",
       " <td>2013-09-18</td>\n",
       " <td>397</td>\n",
       " <td>23</td>\n",
       " <td>1</td>\n",
       " <td>-75.0</td>\n",
       " <td>880.0</td>\n",
       " </tr>,\n",
       " <tr class=\"data-row\">\n",
       " <td>360</td>\n",
       " <td>2013-09-19</td>\n",
       " <td>398</td>\n",
       " <td>23</td>\n",
       " <td>1</td>\n",
       " <td>-79.0</td>\n",
       " <td>880.0</td>\n",
       " </tr>,\n",
       " <tr class=\"data-row\">\n",
       " <td>361</td>\n",
       " <td>2013-09-20</td>\n",
       " <td>399</td>\n",
       " <td>24</td>\n",
       " <td>1</td>\n",
       " <td>-79.0</td>\n",
       " <td>881.0</td>\n",
       " </tr>,\n",
       " <tr class=\"data-row\">\n",
       " <td>363</td>\n",
       " <td>2013-09-21</td>\n",
       " <td>400</td>\n",
       " <td>24</td>\n",
       " <td>1</td>\n",
       " <td>-79.0</td>\n",
       " <td>881.0</td>\n",
       " </tr>,\n",
       " <tr class=\"data-row\">\n",
       " <td>362</td>\n",
       " <td>2013-09-22</td>\n",
       " <td>401</td>\n",
       " <td>25</td>\n",
       " <td>1</td>\n",
       " <td>-79.0</td>\n",
       " <td>882.0</td>\n",
       " </tr>,\n",
       " <tr class=\"data-row\">\n",
       " <td>365</td>\n",
       " <td>2013-09-23</td>\n",
       " <td>402</td>\n",
       " <td>25</td>\n",
       " <td>1</td>\n",
       " <td>-78.0</td>\n",
       " <td>883.0</td>\n",
       " </tr>,\n",
       " <tr class=\"data-row\">\n",
       " <td>364</td>\n",
       " <td>2013-09-24</td>\n",
       " <td>403</td>\n",
       " <td>25</td>\n",
       " <td>1</td>\n",
       " <td>-80.0</td>\n",
       " <td>883.0</td>\n",
       " </tr>,\n",
       " <tr class=\"data-row\">\n",
       " <td>367</td>\n",
       " <td>2013-09-25</td>\n",
       " <td>404</td>\n",
       " <td>26</td>\n",
       " <td>1</td>\n",
       " <td>-78.0</td>\n",
       " <td>884.0</td>\n",
       " </tr>,\n",
       " <tr class=\"data-row\">\n",
       " <td>366</td>\n",
       " <td>2013-09-26</td>\n",
       " <td>405</td>\n",
       " <td>26</td>\n",
       " <td>1</td>\n",
       " <td>-82.0</td>\n",
       " <td>885.0</td>\n",
       " </tr>,\n",
       " <tr class=\"data-row\">\n",
       " <td>374</td>\n",
       " <td>2013-09-27</td>\n",
       " <td>406</td>\n",
       " <td>27</td>\n",
       " <td>1</td>\n",
       " <td>-81.0</td>\n",
       " <td>886.0</td>\n",
       " </tr>,\n",
       " <tr class=\"data-row\">\n",
       " <td>370</td>\n",
       " <td>2013-09-28</td>\n",
       " <td>407</td>\n",
       " <td>27</td>\n",
       " <td>1</td>\n",
       " <td>-81.0</td>\n",
       " <td>887.0</td>\n",
       " </tr>,\n",
       " <tr class=\"data-row\">\n",
       " <td>369</td>\n",
       " <td>2013-09-29</td>\n",
       " <td>408</td>\n",
       " <td>28</td>\n",
       " <td>1</td>\n",
       " <td>-80.0</td>\n",
       " <td>887.0</td>\n",
       " </tr>,\n",
       " <tr class=\"data-row\">\n",
       " <td>368</td>\n",
       " <td>2013-09-30</td>\n",
       " <td>409</td>\n",
       " <td>28</td>\n",
       " <td>1</td>\n",
       " <td>-81.0</td>\n",
       " <td>887.0</td>\n",
       " </tr>,\n",
       " <tr class=\"data-row\">\n",
       " <td>373</td>\n",
       " <td>2013-10-01</td>\n",
       " <td>410</td>\n",
       " <td>29</td>\n",
       " <td>1</td>\n",
       " <td>-81.0</td>\n",
       " <td>888.0</td>\n",
       " </tr>,\n",
       " <tr class=\"data-row\">\n",
       " <td>372</td>\n",
       " <td>2013-10-02</td>\n",
       " <td>411</td>\n",
       " <td>29</td>\n",
       " <td>1</td>\n",
       " <td>-82.0</td>\n",
       " <td>887.0</td>\n",
       " </tr>,\n",
       " <tr class=\"data-row\">\n",
       " <td>371</td>\n",
       " <td>2013-10-03</td>\n",
       " <td>412</td>\n",
       " <td>30</td>\n",
       " <td>2</td>\n",
       " <td>-80.0</td>\n",
       " <td>888.0</td>\n",
       " </tr>,\n",
       " <tr class=\"data-row\">\n",
       " <td>376</td>\n",
       " <td>2013-10-04</td>\n",
       " <td>413</td>\n",
       " <td>30</td>\n",
       " <td>2</td>\n",
       " <td>-82.0</td>\n",
       " <td>888.0</td>\n",
       " </tr>,\n",
       " <tr class=\"data-row\">\n",
       " <td>375</td>\n",
       " <td>2013-10-05</td>\n",
       " <td>414</td>\n",
       " <td>31</td>\n",
       " <td>2</td>\n",
       " <td>-79.0</td>\n",
       " <td>889.0</td>\n",
       " </tr>,\n",
       " <tr class=\"data-row\">\n",
       " <td>377</td>\n",
       " <td>2013-10-06</td>\n",
       " <td>415</td>\n",
       " <td>31</td>\n",
       " <td>2</td>\n",
       " <td>-82.0</td>\n",
       " <td>890.0</td>\n",
       " </tr>,\n",
       " <tr class=\"data-row\">\n",
       " <td>378</td>\n",
       " <td>2013-10-07</td>\n",
       " <td>416</td>\n",
       " <td>32</td>\n",
       " <td>2</td>\n",
       " <td>-79.0</td>\n",
       " <td>889.0</td>\n",
       " </tr>,\n",
       " <tr class=\"data-row\">\n",
       " <td>379</td>\n",
       " <td>2013-10-08</td>\n",
       " <td>417</td>\n",
       " <td>32</td>\n",
       " <td>2</td>\n",
       " <td>-82.0</td>\n",
       " <td>890.0</td>\n",
       " </tr>,\n",
       " <tr class=\"data-row\">\n",
       " <td>380</td>\n",
       " <td>2013-10-09</td>\n",
       " <td>418</td>\n",
       " <td>33</td>\n",
       " <td>2</td>\n",
       " <td>-79.0</td>\n",
       " <td>891.0</td>\n",
       " </tr>,\n",
       " <tr class=\"data-row\">\n",
       " <td>381</td>\n",
       " <td>2013-10-10</td>\n",
       " <td>419</td>\n",
       " <td>33</td>\n",
       " <td>2</td>\n",
       " <td>-82.0</td>\n",
       " <td>891.0</td>\n",
       " </tr>,\n",
       " <tr class=\"data-row\">\n",
       " <td>385</td>\n",
       " <td>2013-10-11</td>\n",
       " <td>420</td>\n",
       " <td>33</td>\n",
       " <td>2</td>\n",
       " <td>-80.0</td>\n",
       " <td>892.0</td>\n",
       " </tr>,\n",
       " <tr class=\"data-row\">\n",
       " <td>382</td>\n",
       " <td>2013-10-12</td>\n",
       " <td>421</td>\n",
       " <td>34</td>\n",
       " <td>2</td>\n",
       " <td>-81.0</td>\n",
       " <td>890.0</td>\n",
       " </tr>,\n",
       " <tr class=\"data-row\">\n",
       " <td>384</td>\n",
       " <td>2013-10-13</td>\n",
       " <td>422</td>\n",
       " <td>34</td>\n",
       " <td>2</td>\n",
       " <td>-82.0</td>\n",
       " <td>891.0</td>\n",
       " </tr>,\n",
       " <tr class=\"data-row\">\n",
       " <td>383</td>\n",
       " <td>2013-10-14</td>\n",
       " <td>423</td>\n",
       " <td>35</td>\n",
       " <td>2</td>\n",
       " <td>-81.0</td>\n",
       " <td>892.0</td>\n",
       " </tr>,\n",
       " <tr class=\"data-row\">\n",
       " <td>386</td>\n",
       " <td>2013-10-15</td>\n",
       " <td>424</td>\n",
       " <td>35</td>\n",
       " <td>2</td>\n",
       " <td>-81.0</td>\n",
       " <td>893.0</td>\n",
       " </tr>,\n",
       " <tr class=\"data-row\">\n",
       " <td>393</td>\n",
       " <td>2013-10-16</td>\n",
       " <td>425</td>\n",
       " <td>36</td>\n",
       " <td>2</td>\n",
       " <td>-81.0</td>\n",
       " <td>893.0</td>\n",
       " </tr>,\n",
       " <tr class=\"data-row\">\n",
       " <td>388</td>\n",
       " <td>2013-10-17</td>\n",
       " <td>426</td>\n",
       " <td>36</td>\n",
       " <td>2</td>\n",
       " <td>-79.0</td>\n",
       " <td>893.0</td>\n",
       " </tr>,\n",
       " <tr class=\"data-row\">\n",
       " <td>392</td>\n",
       " <td>2013-10-18</td>\n",
       " <td>427</td>\n",
       " <td>37</td>\n",
       " <td>2</td>\n",
       " <td>-81.0</td>\n",
       " <td>893.0</td>\n",
       " </tr>,\n",
       " <tr class=\"data-row\">\n",
       " <td>391</td>\n",
       " <td>2013-10-19</td>\n",
       " <td>428</td>\n",
       " <td>37</td>\n",
       " <td>2</td>\n",
       " <td>-81.0</td>\n",
       " <td>894.0</td>\n",
       " </tr>,\n",
       " <tr class=\"data-row\">\n",
       " <td>387</td>\n",
       " <td>2013-10-20</td>\n",
       " <td>429</td>\n",
       " <td>38</td>\n",
       " <td>2</td>\n",
       " <td>-82.0</td>\n",
       " <td>895.0</td>\n",
       " </tr>,\n",
       " <tr class=\"data-row\">\n",
       " <td>390</td>\n",
       " <td>2013-10-21</td>\n",
       " <td>430</td>\n",
       " <td>38</td>\n",
       " <td>2</td>\n",
       " <td>-82.0</td>\n",
       " <td>896.0</td>\n",
       " </tr>,\n",
       " <tr class=\"data-row\">\n",
       " <td>389</td>\n",
       " <td>2013-10-22</td>\n",
       " <td>431</td>\n",
       " <td>39</td>\n",
       " <td>2</td>\n",
       " <td>-83.0</td>\n",
       " <td>895.0</td>\n",
       " </tr>,\n",
       " <tr class=\"data-row\">\n",
       " <td>395</td>\n",
       " <td>2013-10-23</td>\n",
       " <td>432</td>\n",
       " <td>39</td>\n",
       " <td>2</td>\n",
       " <td>-80.0</td>\n",
       " <td>896.0</td>\n",
       " </tr>,\n",
       " <tr class=\"data-row\">\n",
       " <td>394</td>\n",
       " <td>2013-10-24</td>\n",
       " <td>433</td>\n",
       " <td>40</td>\n",
       " <td>2</td>\n",
       " <td>-81.0</td>\n",
       " <td>895.0</td>\n",
       " </tr>,\n",
       " <tr class=\"data-row\">\n",
       " <td>397</td>\n",
       " <td>2013-10-26</td>\n",
       " <td>434</td>\n",
       " <td>40</td>\n",
       " <td>2</td>\n",
       " <td>-80.0</td>\n",
       " <td>896.0</td>\n",
       " </tr>,\n",
       " <tr class=\"data-row\">\n",
       " <td>396</td>\n",
       " <td>2013-10-27</td>\n",
       " <td>435</td>\n",
       " <td>40</td>\n",
       " <td>2</td>\n",
       " <td>-81.0</td>\n",
       " <td>896.0</td>\n",
       " </tr>,\n",
       " <tr class=\"data-row\">\n",
       " <td>398</td>\n",
       " <td>2013-10-28</td>\n",
       " <td>436</td>\n",
       " <td>41</td>\n",
       " <td>2</td>\n",
       " <td>-81.0</td>\n",
       " <td>897.0</td>\n",
       " </tr>,\n",
       " <tr class=\"data-row\">\n",
       " <td>399</td>\n",
       " <td>2013-10-29</td>\n",
       " <td>437</td>\n",
       " <td>41</td>\n",
       " <td>2</td>\n",
       " <td>-82.0</td>\n",
       " <td>898.0</td>\n",
       " </tr>,\n",
       " <tr class=\"data-row\">\n",
       " <td>400</td>\n",
       " <td>2013-10-30</td>\n",
       " <td>438</td>\n",
       " <td>42</td>\n",
       " <td>2</td>\n",
       " <td>-79.0</td>\n",
       " <td>899.0</td>\n",
       " </tr>,\n",
       " <tr class=\"data-row\">\n",
       " <td>401</td>\n",
       " <td>2013-10-31</td>\n",
       " <td>439</td>\n",
       " <td>42</td>\n",
       " <td>2</td>\n",
       " <td>-80.0</td>\n",
       " <td>899.0</td>\n",
       " </tr>,\n",
       " <tr class=\"data-row\">\n",
       " <td>404</td>\n",
       " <td>2013-11-01</td>\n",
       " <td>440</td>\n",
       " <td>43</td>\n",
       " <td>2</td>\n",
       " <td>-80.0</td>\n",
       " <td>899.0</td>\n",
       " </tr>,\n",
       " <tr class=\"data-row\">\n",
       " <td>402</td>\n",
       " <td>2013-11-02</td>\n",
       " <td>441</td>\n",
       " <td>43</td>\n",
       " <td>2</td>\n",
       " <td>-81.0</td>\n",
       " <td>900.0</td>\n",
       " </tr>,\n",
       " <tr class=\"data-row\">\n",
       " <td>405</td>\n",
       " <td>2013-11-03</td>\n",
       " <td>442</td>\n",
       " <td>44</td>\n",
       " <td>2</td>\n",
       " <td>-80.0</td>\n",
       " <td>900.0</td>\n",
       " </tr>,\n",
       " <tr class=\"data-row\">\n",
       " <td>403</td>\n",
       " <td>2013-11-04</td>\n",
       " <td>443</td>\n",
       " <td>44</td>\n",
       " <td>2</td>\n",
       " <td>-81.0</td>\n",
       " <td>901.0</td>\n",
       " </tr>,\n",
       " <tr class=\"data-row\">\n",
       " <td>407</td>\n",
       " <td>2013-11-16</td>\n",
       " <td>455</td>\n",
       " <td>50</td>\n",
       " <td>2</td>\n",
       " <td>-84.0</td>\n",
       " <td>905.0</td>\n",
       " </tr>,\n",
       " <tr class=\"data-row\">\n",
       " <td>406</td>\n",
       " <td>2013-11-17</td>\n",
       " <td>456</td>\n",
       " <td>50</td>\n",
       " <td>2</td>\n",
       " <td>-83.0</td>\n",
       " <td>905.0</td>\n",
       " </tr>,\n",
       " <tr class=\"data-row\">\n",
       " <td>409</td>\n",
       " <td>2013-11-24</td>\n",
       " <td>463</td>\n",
       " <td>53</td>\n",
       " <td>2</td>\n",
       " <td>-86.0</td>\n",
       " <td>906.0</td>\n",
       " </tr>,\n",
       " <tr class=\"data-row\">\n",
       " <td>410</td>\n",
       " <td>2013-11-25</td>\n",
       " <td>464</td>\n",
       " <td>54</td>\n",
       " <td>2</td>\n",
       " <td>-84.0</td>\n",
       " <td>906.0</td>\n",
       " </tr>,\n",
       " <tr class=\"data-row\">\n",
       " <td>412</td>\n",
       " <td>2013-11-26</td>\n",
       " <td>465</td>\n",
       " <td>54</td>\n",
       " <td>2</td>\n",
       " <td>-85.0</td>\n",
       " <td>906.0</td>\n",
       " </tr>,\n",
       " <tr class=\"data-row\">\n",
       " <td>415</td>\n",
       " <td>2013-11-27</td>\n",
       " <td>466</td>\n",
       " <td>55</td>\n",
       " <td>2</td>\n",
       " <td>-85.0</td>\n",
       " <td>907.0</td>\n",
       " </tr>,\n",
       " <tr class=\"data-row\">\n",
       " <td>411</td>\n",
       " <td>2013-11-28</td>\n",
       " <td>467</td>\n",
       " <td>55</td>\n",
       " <td>2</td>\n",
       " <td>-84.0</td>\n",
       " <td>907.0</td>\n",
       " </tr>,\n",
       " <tr class=\"data-row\">\n",
       " <td>414</td>\n",
       " <td>2013-11-29</td>\n",
       " <td>468</td>\n",
       " <td>55</td>\n",
       " <td>2</td>\n",
       " <td>-85.0</td>\n",
       " <td>907.0</td>\n",
       " </tr>,\n",
       " <tr class=\"data-row\">\n",
       " <td>413</td>\n",
       " <td>2013-11-30</td>\n",
       " <td>469</td>\n",
       " <td>56</td>\n",
       " <td>2</td>\n",
       " <td>-85.0</td>\n",
       " <td>908.0</td>\n",
       " </tr>,\n",
       " <tr class=\"data-row\">\n",
       " <td>475</td>\n",
       " <td>2013-12-02</td>\n",
       " <td>470</td>\n",
       " <td>56</td>\n",
       " <td>2</td>\n",
       " <td>-85.0</td>\n",
       " <td>907.0</td>\n",
       " </tr>,\n",
       " <tr class=\"data-row\">\n",
       " <td>479</td>\n",
       " <td>2013-12-03</td>\n",
       " <td>471</td>\n",
       " <td>57</td>\n",
       " <td>2</td>\n",
       " <td>-84.0</td>\n",
       " <td>906.0</td>\n",
       " </tr>,\n",
       " <tr class=\"data-row\">\n",
       " <td>416</td>\n",
       " <td>2013-12-04</td>\n",
       " <td>472</td>\n",
       " <td>57</td>\n",
       " <td>2</td>\n",
       " <td>-84.0</td>\n",
       " <td>907.0</td>\n",
       " </tr>,\n",
       " <tr class=\"data-row\">\n",
       " <td>417</td>\n",
       " <td>2013-12-05</td>\n",
       " <td>473</td>\n",
       " <td>58</td>\n",
       " <td>2</td>\n",
       " <td>-86.0</td>\n",
       " <td>907.0</td>\n",
       " </tr>,\n",
       " <tr class=\"data-row\">\n",
       " <td>420</td>\n",
       " <td>2013-12-06</td>\n",
       " <td>474</td>\n",
       " <td>58</td>\n",
       " <td>2</td>\n",
       " <td>-84.0</td>\n",
       " <td>906.0</td>\n",
       " </tr>,\n",
       " <tr class=\"data-row\">\n",
       " <td>419</td>\n",
       " <td>2013-12-07</td>\n",
       " <td>475</td>\n",
       " <td>59</td>\n",
       " <td>2</td>\n",
       " <td>-85.0</td>\n",
       " <td>906.0</td>\n",
       " </tr>,\n",
       " <tr class=\"data-row\">\n",
       " <td>418</td>\n",
       " <td>2013-12-08</td>\n",
       " <td>476</td>\n",
       " <td>59</td>\n",
       " <td>2</td>\n",
       " <td>-85.0</td>\n",
       " <td>906.0</td>\n",
       " </tr>,\n",
       " <tr class=\"data-row\">\n",
       " <td>421</td>\n",
       " <td>2013-12-09</td>\n",
       " <td>477</td>\n",
       " <td>60</td>\n",
       " <td>3</td>\n",
       " <td>-85.0</td>\n",
       " <td>907.0</td>\n",
       " </tr>,\n",
       " <tr class=\"data-row\">\n",
       " <td>422</td>\n",
       " <td>2013-12-18</td>\n",
       " <td>486</td>\n",
       " <td>64</td>\n",
       " <td>3</td>\n",
       " <td>-84.0</td>\n",
       " <td>904.0</td>\n",
       " </tr>,\n",
       " <tr class=\"data-row\">\n",
       " <td>473</td>\n",
       " <td>2013-12-19</td>\n",
       " <td>487</td>\n",
       " <td>64</td>\n",
       " <td>3</td>\n",
       " <td>-85.0</td>\n",
       " <td>904.0</td>\n",
       " </tr>,\n",
       " <tr class=\"data-row\">\n",
       " <td>480</td>\n",
       " <td>2013-12-20</td>\n",
       " <td>488</td>\n",
       " <td>64</td>\n",
       " <td>3</td>\n",
       " <td>-87.0</td>\n",
       " <td>903.0</td>\n",
       " </tr>,\n",
       " <tr class=\"data-row\">\n",
       " <td>423</td>\n",
       " <td>2013-12-21</td>\n",
       " <td>489</td>\n",
       " <td>65</td>\n",
       " <td>3</td>\n",
       " <td>-85.0</td>\n",
       " <td>904.0</td>\n",
       " </tr>,\n",
       " <tr class=\"data-row\">\n",
       " <td>434</td>\n",
       " <td>2013-12-22</td>\n",
       " <td>490</td>\n",
       " <td>65</td>\n",
       " <td>3</td>\n",
       " <td>-87.0</td>\n",
       " <td>903.0</td>\n",
       " </tr>,\n",
       " <tr class=\"data-row\">\n",
       " <td>433</td>\n",
       " <td>2013-12-23</td>\n",
       " <td>491</td>\n",
       " <td>66</td>\n",
       " <td>3</td>\n",
       " <td>-86.0</td>\n",
       " <td>903.0</td>\n",
       " </tr>,\n",
       " <tr class=\"data-row\">\n",
       " <td>427</td>\n",
       " <td>2013-12-24</td>\n",
       " <td>492</td>\n",
       " <td>66</td>\n",
       " <td>3</td>\n",
       " <td>-86.0</td>\n",
       " <td>903.0</td>\n",
       " </tr>,\n",
       " <tr class=\"data-row\">\n",
       " <td>426</td>\n",
       " <td>2013-12-25</td>\n",
       " <td>493</td>\n",
       " <td>67</td>\n",
       " <td>3</td>\n",
       " <td>-84.0</td>\n",
       " <td>902.0</td>\n",
       " </tr>,\n",
       " <tr class=\"data-row\">\n",
       " <td>429</td>\n",
       " <td>2013-12-26</td>\n",
       " <td>494</td>\n",
       " <td>67</td>\n",
       " <td>3</td>\n",
       " <td>-85.0</td>\n",
       " <td>902.0</td>\n",
       " </tr>,\n",
       " <tr class=\"data-row\">\n",
       " <td>431</td>\n",
       " <td>2013-12-27</td>\n",
       " <td>495</td>\n",
       " <td>68</td>\n",
       " <td>3</td>\n",
       " <td>-86.0</td>\n",
       " <td>900.0</td>\n",
       " </tr>,\n",
       " <tr class=\"data-row\">\n",
       " <td>428</td>\n",
       " <td>2013-12-28</td>\n",
       " <td>496</td>\n",
       " <td>68</td>\n",
       " <td>3</td>\n",
       " <td>-85.0</td>\n",
       " <td>901.0</td>\n",
       " </tr>,\n",
       " <tr class=\"data-row\">\n",
       " <td>425</td>\n",
       " <td>2013-12-29</td>\n",
       " <td>497</td>\n",
       " <td>69</td>\n",
       " <td>3</td>\n",
       " <td>-86.0</td>\n",
       " <td>901.0</td>\n",
       " </tr>,\n",
       " <tr class=\"data-row\">\n",
       " <td>424</td>\n",
       " <td>2013-12-30</td>\n",
       " <td>498</td>\n",
       " <td>69</td>\n",
       " <td>3</td>\n",
       " <td>-86.0</td>\n",
       " <td>901.0</td>\n",
       " </tr>,\n",
       " <tr class=\"data-row\">\n",
       " <td>432</td>\n",
       " <td>2013-12-31</td>\n",
       " <td>499</td>\n",
       " <td>69</td>\n",
       " <td>3</td>\n",
       " <td>-84.0</td>\n",
       " <td>899.0</td>\n",
       " </tr>,\n",
       " <tr class=\"data-row\">\n",
       " <td>430</td>\n",
       " <td>2014-01-01</td>\n",
       " <td>500</td>\n",
       " <td>70</td>\n",
       " <td>3</td>\n",
       " <td>-85.0</td>\n",
       " <td>897.0</td>\n",
       " </tr>,\n",
       " <tr class=\"data-row\">\n",
       " <td>435</td>\n",
       " <td>2014-01-02</td>\n",
       " <td>501</td>\n",
       " <td>70</td>\n",
       " <td>3</td>\n",
       " <td>-86.0</td>\n",
       " <td>898.0</td>\n",
       " </tr>,\n",
       " <tr class=\"data-row\">\n",
       " <td>437</td>\n",
       " <td>2014-01-03</td>\n",
       " <td>502</td>\n",
       " <td>71</td>\n",
       " <td>3</td>\n",
       " <td>-87.0</td>\n",
       " <td>898.0</td>\n",
       " </tr>,\n",
       " <tr class=\"data-row\">\n",
       " <td>483</td>\n",
       " <td>2014-01-04</td>\n",
       " <td>503</td>\n",
       " <td>71</td>\n",
       " <td>3</td>\n",
       " <td>-86.0</td>\n",
       " <td>897.0</td>\n",
       " </tr>,\n",
       " <tr class=\"data-row\">\n",
       " <td>436</td>\n",
       " <td>2014-01-05</td>\n",
       " <td>504</td>\n",
       " <td>72</td>\n",
       " <td>3</td>\n",
       " <td>-85.0</td>\n",
       " <td>895.0</td>\n",
       " </tr>,\n",
       " <tr class=\"data-row\">\n",
       " <td>438</td>\n",
       " <td>2014-01-06</td>\n",
       " <td>505</td>\n",
       " <td>72</td>\n",
       " <td>3</td>\n",
       " <td>-85.0</td>\n",
       " <td>895.0</td>\n",
       " </tr>,\n",
       " <tr class=\"data-row\">\n",
       " <td>439</td>\n",
       " <td>2014-01-08</td>\n",
       " <td>506</td>\n",
       " <td>73</td>\n",
       " <td>3</td>\n",
       " <td>-86.0</td>\n",
       " <td>894.0</td>\n",
       " </tr>,\n",
       " <tr class=\"data-row\">\n",
       " <td>440</td>\n",
       " <td>2014-01-09</td>\n",
       " <td>507</td>\n",
       " <td>73</td>\n",
       " <td>3</td>\n",
       " <td>-85.0</td>\n",
       " <td>894.0</td>\n",
       " </tr>,\n",
       " <tr class=\"data-row\">\n",
       " <td>442</td>\n",
       " <td>2014-01-10</td>\n",
       " <td>508</td>\n",
       " <td>73</td>\n",
       " <td>3</td>\n",
       " <td>-83.0</td>\n",
       " <td>893.0</td>\n",
       " </tr>,\n",
       " <tr class=\"data-row\">\n",
       " <td>443</td>\n",
       " <td>2014-01-11</td>\n",
       " <td>509</td>\n",
       " <td>74</td>\n",
       " <td>3</td>\n",
       " <td>-86.0</td>\n",
       " <td>895.0</td>\n",
       " </tr>,\n",
       " <tr class=\"data-row\">\n",
       " <td>441</td>\n",
       " <td>2014-01-12</td>\n",
       " <td>510</td>\n",
       " <td>74</td>\n",
       " <td>3</td>\n",
       " <td>-85.0</td>\n",
       " <td>892.0</td>\n",
       " </tr>,\n",
       " <tr class=\"data-row\">\n",
       " <td>446</td>\n",
       " <td>2014-01-13</td>\n",
       " <td>511</td>\n",
       " <td>75</td>\n",
       " <td>3</td>\n",
       " <td>-85.0</td>\n",
       " <td>892.0</td>\n",
       " </tr>,\n",
       " <tr class=\"data-row\">\n",
       " <td>444</td>\n",
       " <td>2014-01-14</td>\n",
       " <td>512</td>\n",
       " <td>75</td>\n",
       " <td>3</td>\n",
       " <td>-86.0</td>\n",
       " <td>890.0</td>\n",
       " </tr>,\n",
       " <tr class=\"data-row\">\n",
       " <td>445</td>\n",
       " <td>2014-01-15</td>\n",
       " <td>513</td>\n",
       " <td>76</td>\n",
       " <td>3</td>\n",
       " <td>-86.0</td>\n",
       " <td>889.0</td>\n",
       " </tr>,\n",
       " <tr class=\"data-row\">\n",
       " <td>447</td>\n",
       " <td>2014-01-16</td>\n",
       " <td>514</td>\n",
       " <td>76</td>\n",
       " <td>3</td>\n",
       " <td>-86.0</td>\n",
       " <td>888.0</td>\n",
       " </tr>,\n",
       " <tr class=\"data-row\">\n",
       " <td>450</td>\n",
       " <td>2014-01-17</td>\n",
       " <td>515</td>\n",
       " <td>77</td>\n",
       " <td>3</td>\n",
       " <td>-86.0</td>\n",
       " <td>888.0</td>\n",
       " </tr>,\n",
       " <tr class=\"data-row\">\n",
       " <td>449</td>\n",
       " <td>2014-01-18</td>\n",
       " <td>516</td>\n",
       " <td>77</td>\n",
       " <td>3</td>\n",
       " <td>-86.0</td>\n",
       " <td>888.0</td>\n",
       " </tr>,\n",
       " <tr class=\"data-row\">\n",
       " <td>448</td>\n",
       " <td>2014-01-19</td>\n",
       " <td>517</td>\n",
       " <td>77</td>\n",
       " <td>3</td>\n",
       " <td>-86.0</td>\n",
       " <td>885.0</td>\n",
       " </tr>,\n",
       " <tr class=\"data-row\">\n",
       " <td>451</td>\n",
       " <td>2014-01-20</td>\n",
       " <td>518</td>\n",
       " <td>78</td>\n",
       " <td>3</td>\n",
       " <td>-85.0</td>\n",
       " <td>885.0</td>\n",
       " </tr>,\n",
       " <tr class=\"data-row\">\n",
       " <td>452</td>\n",
       " <td>2014-01-21</td>\n",
       " <td>519</td>\n",
       " <td>78</td>\n",
       " <td>3</td>\n",
       " <td>-86.0</td>\n",
       " <td>884.0</td>\n",
       " </tr>,\n",
       " <tr class=\"data-row\">\n",
       " <td>453</td>\n",
       " <td>2014-01-22</td>\n",
       " <td>520</td>\n",
       " <td>79</td>\n",
       " <td>3</td>\n",
       " <td>-86.0</td>\n",
       " <td>884.0</td>\n",
       " </tr>,\n",
       " <tr class=\"data-row\">\n",
       " <td>454</td>\n",
       " <td>2014-01-23</td>\n",
       " <td>521</td>\n",
       " <td>79</td>\n",
       " <td>3</td>\n",
       " <td>-87.0</td>\n",
       " <td>882.0</td>\n",
       " </tr>,\n",
       " <tr class=\"data-row\">\n",
       " <td>455</td>\n",
       " <td>2014-01-24</td>\n",
       " <td>522</td>\n",
       " <td>80</td>\n",
       " <td>3</td>\n",
       " <td>-85.0</td>\n",
       " <td>881.0</td>\n",
       " </tr>,\n",
       " <tr class=\"data-row\">\n",
       " <td>458</td>\n",
       " <td>2014-01-25</td>\n",
       " <td>523</td>\n",
       " <td>80</td>\n",
       " <td>3</td>\n",
       " <td>-85.0</td>\n",
       " <td>881.0</td>\n",
       " </tr>,\n",
       " <tr class=\"data-row\">\n",
       " <td>457</td>\n",
       " <td>2014-01-26</td>\n",
       " <td>524</td>\n",
       " <td>81</td>\n",
       " <td>3</td>\n",
       " <td>-85.0</td>\n",
       " <td>880.0</td>\n",
       " </tr>,\n",
       " <tr class=\"data-row\">\n",
       " <td>456</td>\n",
       " <td>2014-01-27</td>\n",
       " <td>525</td>\n",
       " <td>81</td>\n",
       " <td>3</td>\n",
       " <td>-87.0</td>\n",
       " <td>878.0</td>\n",
       " </tr>,\n",
       " <tr class=\"data-row\">\n",
       " <td>459</td>\n",
       " <td>2014-01-28</td>\n",
       " <td>526</td>\n",
       " <td>82</td>\n",
       " <td>3</td>\n",
       " <td>-87.0</td>\n",
       " <td>878.0</td>\n",
       " </tr>,\n",
       " <tr class=\"data-row\">\n",
       " <td>460</td>\n",
       " <td>2014-01-29</td>\n",
       " <td>527</td>\n",
       " <td>82</td>\n",
       " <td>3</td>\n",
       " <td>-86.0</td>\n",
       " <td>877.0</td>\n",
       " </tr>,\n",
       " <tr class=\"data-row\">\n",
       " <td>461</td>\n",
       " <td>2014-01-30</td>\n",
       " <td>528</td>\n",
       " <td>82</td>\n",
       " <td>3</td>\n",
       " <td>-86.0</td>\n",
       " <td>876.0</td>\n",
       " </tr>,\n",
       " <tr class=\"data-row\">\n",
       " <td>462</td>\n",
       " <td>2014-01-31</td>\n",
       " <td>529</td>\n",
       " <td>83</td>\n",
       " <td>3</td>\n",
       " <td>-87.0</td>\n",
       " <td>875.0</td>\n",
       " </tr>,\n",
       " <tr class=\"data-row\">\n",
       " <td>463</td>\n",
       " <td>2014-02-01</td>\n",
       " <td>530</td>\n",
       " <td>83</td>\n",
       " <td>3</td>\n",
       " <td>-87.0</td>\n",
       " <td>873.0</td>\n",
       " </tr>,\n",
       " <tr class=\"data-row\">\n",
       " <td>465</td>\n",
       " <td>2014-02-02</td>\n",
       " <td>531</td>\n",
       " <td>84</td>\n",
       " <td>3</td>\n",
       " <td>-87.0</td>\n",
       " <td>872.0</td>\n",
       " </tr>,\n",
       " <tr class=\"data-row\">\n",
       " <td>464</td>\n",
       " <td>2014-02-03</td>\n",
       " <td>532</td>\n",
       " <td>84</td>\n",
       " <td>3</td>\n",
       " <td>-88.0</td>\n",
       " <td>872.0</td>\n",
       " </tr>,\n",
       " <tr class=\"data-row\">\n",
       " <td>466</td>\n",
       " <td>2014-02-04</td>\n",
       " <td>533</td>\n",
       " <td>85</td>\n",
       " <td>3</td>\n",
       " <td>-87.0</td>\n",
       " <td>871.0</td>\n",
       " </tr>,\n",
       " <tr class=\"data-row\">\n",
       " <td>467</td>\n",
       " <td>2014-02-05</td>\n",
       " <td>534</td>\n",
       " <td>85</td>\n",
       " <td>3</td>\n",
       " <td>-86.0</td>\n",
       " <td>869.0</td>\n",
       " </tr>,\n",
       " <tr class=\"data-row\">\n",
       " <td>468</td>\n",
       " <td>2014-02-06</td>\n",
       " <td>535</td>\n",
       " <td>86</td>\n",
       " <td>3</td>\n",
       " <td>-88.0</td>\n",
       " <td>868.0</td>\n",
       " </tr>,\n",
       " <tr class=\"data-row\">\n",
       " <td>470</td>\n",
       " <td>2014-02-07</td>\n",
       " <td>536</td>\n",
       " <td>86</td>\n",
       " <td>3</td>\n",
       " <td>-83.0</td>\n",
       " <td>867.0</td>\n",
       " </tr>,\n",
       " <tr class=\"data-row\">\n",
       " <td>469</td>\n",
       " <td>2014-02-08</td>\n",
       " <td>537</td>\n",
       " <td>86</td>\n",
       " <td>3</td>\n",
       " <td>-83.0</td>\n",
       " <td>865.0</td>\n",
       " </tr>,\n",
       " <tr class=\"data-row\">\n",
       " <td>472</td>\n",
       " <td>2014-02-09</td>\n",
       " <td>538</td>\n",
       " <td>87</td>\n",
       " <td>3</td>\n",
       " <td>-85.0</td>\n",
       " <td>865.0</td>\n",
       " </tr>,\n",
       " <tr class=\"data-row\">\n",
       " <td>476</td>\n",
       " <td>2014-02-10</td>\n",
       " <td>539</td>\n",
       " <td>87</td>\n",
       " <td>3</td>\n",
       " <td>-85.0</td>\n",
       " <td>864.0</td>\n",
       " </tr>,\n",
       " <tr class=\"data-row\">\n",
       " <td>481</td>\n",
       " <td>2014-02-11</td>\n",
       " <td>540</td>\n",
       " <td>88</td>\n",
       " <td>3</td>\n",
       " <td>-84.0</td>\n",
       " <td>862.0</td>\n",
       " </tr>,\n",
       " <tr class=\"data-row\">\n",
       " <td>482</td>\n",
       " <td>2014-02-12</td>\n",
       " <td>541</td>\n",
       " <td>88</td>\n",
       " <td>3</td>\n",
       " <td>-84.0</td>\n",
       " <td>861.0</td>\n",
       " </tr>,\n",
       " <tr class=\"data-row\">\n",
       " <td>477</td>\n",
       " <td>2014-02-13</td>\n",
       " <td>542</td>\n",
       " <td>89</td>\n",
       " <td>3</td>\n",
       " <td>-85.0</td>\n",
       " <td>859.0</td>\n",
       " </tr>,\n",
       " <tr class=\"data-row\">\n",
       " <td>486</td>\n",
       " <td>2014-02-15</td>\n",
       " <td>543</td>\n",
       " <td>89</td>\n",
       " <td>3</td>\n",
       " <td>-84.0</td>\n",
       " <td>858.0</td>\n",
       " </tr>,\n",
       " <tr class=\"data-row\">\n",
       " <td>487</td>\n",
       " <td>2014-02-16</td>\n",
       " <td>544</td>\n",
       " <td>90</td>\n",
       " <td>4</td>\n",
       " <td>-86.0</td>\n",
       " <td>857.0</td>\n",
       " </tr>,\n",
       " <tr class=\"data-row\">\n",
       " <td>490</td>\n",
       " <td>2014-02-17</td>\n",
       " <td>545</td>\n",
       " <td>90</td>\n",
       " <td>4</td>\n",
       " <td>-85.0</td>\n",
       " <td>856.0</td>\n",
       " </tr>,\n",
       " <tr class=\"data-row\">\n",
       " <td>489</td>\n",
       " <td>2014-02-18</td>\n",
       " <td>546</td>\n",
       " <td>91</td>\n",
       " <td>4</td>\n",
       " <td>-85.0</td>\n",
       " <td>855.0</td>\n",
       " </tr>,\n",
       " <tr class=\"data-row\">\n",
       " <td>488</td>\n",
       " <td>2014-02-19</td>\n",
       " <td>547</td>\n",
       " <td>91</td>\n",
       " <td>4</td>\n",
       " <td>-85.0</td>\n",
       " <td>853.0</td>\n",
       " </tr>,\n",
       " <tr class=\"data-row\">\n",
       " <td>491</td>\n",
       " <td>2014-02-20</td>\n",
       " <td>548</td>\n",
       " <td>91</td>\n",
       " <td>4</td>\n",
       " <td>-86.0</td>\n",
       " <td>852.0</td>\n",
       " </tr>,\n",
       " <tr class=\"data-row\">\n",
       " <td>492</td>\n",
       " <td>2014-02-21</td>\n",
       " <td>549</td>\n",
       " <td>92</td>\n",
       " <td>4</td>\n",
       " <td>-87.0</td>\n",
       " <td>851.0</td>\n",
       " </tr>,\n",
       " <tr class=\"data-row\">\n",
       " <td>494</td>\n",
       " <td>2014-02-22</td>\n",
       " <td>550</td>\n",
       " <td>92</td>\n",
       " <td>4</td>\n",
       " <td>-85.0</td>\n",
       " <td>850.0</td>\n",
       " </tr>,\n",
       " <tr class=\"data-row\">\n",
       " <td>495</td>\n",
       " <td>2014-02-23</td>\n",
       " <td>551</td>\n",
       " <td>93</td>\n",
       " <td>4</td>\n",
       " <td>-85.0</td>\n",
       " <td>848.0</td>\n",
       " </tr>,\n",
       " <tr class=\"data-row\">\n",
       " <td>493</td>\n",
       " <td>2014-02-24</td>\n",
       " <td>552</td>\n",
       " <td>93</td>\n",
       " <td>4</td>\n",
       " <td>-86.0</td>\n",
       " <td>847.0</td>\n",
       " </tr>,\n",
       " <tr class=\"data-row\">\n",
       " <td>496</td>\n",
       " <td>2014-02-25</td>\n",
       " <td>553</td>\n",
       " <td>94</td>\n",
       " <td>4</td>\n",
       " <td>-84.0</td>\n",
       " <td>845.0</td>\n",
       " </tr>,\n",
       " <tr class=\"data-row\">\n",
       " <td>497</td>\n",
       " <td>2014-02-26</td>\n",
       " <td>554</td>\n",
       " <td>94</td>\n",
       " <td>4</td>\n",
       " <td>-84.0</td>\n",
       " <td>843.0</td>\n",
       " </tr>,\n",
       " <tr class=\"data-row\">\n",
       " <td>499</td>\n",
       " <td>2014-02-27</td>\n",
       " <td>555</td>\n",
       " <td>95</td>\n",
       " <td>4</td>\n",
       " <td>-85.0</td>\n",
       " <td>843.0</td>\n",
       " </tr>,\n",
       " <tr class=\"data-row\">\n",
       " <td>501</td>\n",
       " <td>2014-02-28</td>\n",
       " <td>556</td>\n",
       " <td>95</td>\n",
       " <td>4</td>\n",
       " <td>-85.0</td>\n",
       " <td>842.0</td>\n",
       " </tr>,\n",
       " <tr class=\"data-row\">\n",
       " <td>498</td>\n",
       " <td>2014-03-01</td>\n",
       " <td>557</td>\n",
       " <td>96</td>\n",
       " <td>4</td>\n",
       " <td>-85.0</td>\n",
       " <td>840.0</td>\n",
       " </tr>,\n",
       " <tr class=\"data-row\">\n",
       " <td>500</td>\n",
       " <td>2014-03-02</td>\n",
       " <td>558</td>\n",
       " <td>96</td>\n",
       " <td>4</td>\n",
       " <td>-85.0</td>\n",
       " <td>839.0</td>\n",
       " </tr>,\n",
       " <tr class=\"data-row\">\n",
       " <td>502</td>\n",
       " <td>2014-03-03</td>\n",
       " <td>559</td>\n",
       " <td>96</td>\n",
       " <td>4</td>\n",
       " <td>-85.0</td>\n",
       " <td>838.0</td>\n",
       " </tr>,\n",
       " <tr class=\"data-row\">\n",
       " <td>503</td>\n",
       " <td>2014-03-04</td>\n",
       " <td>560</td>\n",
       " <td>97</td>\n",
       " <td>4</td>\n",
       " <td>-86.0</td>\n",
       " <td>836.0</td>\n",
       " </tr>,\n",
       " <tr class=\"data-row\">\n",
       " <td>504</td>\n",
       " <td>2014-03-05</td>\n",
       " <td>561</td>\n",
       " <td>97</td>\n",
       " <td>4</td>\n",
       " <td>-85.0</td>\n",
       " <td>835.0</td>\n",
       " </tr>,\n",
       " <tr class=\"data-row\">\n",
       " <td>506</td>\n",
       " <td>2014-03-06</td>\n",
       " <td>562</td>\n",
       " <td>98</td>\n",
       " <td>4</td>\n",
       " <td>-85.0</td>\n",
       " <td>834.0</td>\n",
       " </tr>,\n",
       " <tr class=\"data-row\">\n",
       " <td>505</td>\n",
       " <td>2014-03-07</td>\n",
       " <td>563</td>\n",
       " <td>98</td>\n",
       " <td>4</td>\n",
       " <td>-87.0</td>\n",
       " <td>833.0</td>\n",
       " </tr>,\n",
       " <tr class=\"data-row\">\n",
       " <td>509</td>\n",
       " <td>2014-03-08</td>\n",
       " <td>564</td>\n",
       " <td>99</td>\n",
       " <td>4</td>\n",
       " <td>-86.0</td>\n",
       " <td>831.0</td>\n",
       " </tr>,\n",
       " <tr class=\"data-row\">\n",
       " <td>508</td>\n",
       " <td>2014-03-09</td>\n",
       " <td>565</td>\n",
       " <td>99</td>\n",
       " <td>4</td>\n",
       " <td>-85.0</td>\n",
       " <td>830.0</td>\n",
       " </tr>,\n",
       " <tr class=\"data-row\">\n",
       " <td>507</td>\n",
       " <td>2014-03-10</td>\n",
       " <td>566</td>\n",
       " <td>100</td>\n",
       " <td>4</td>\n",
       " <td>-86.0</td>\n",
       " <td>829.0</td>\n",
       " </tr>,\n",
       " <tr class=\"data-row\">\n",
       " <td>510</td>\n",
       " <td>2014-03-11</td>\n",
       " <td>567</td>\n",
       " <td>100</td>\n",
       " <td>4</td>\n",
       " <td>-86.0</td>\n",
       " <td>827.0</td>\n",
       " </tr>,\n",
       " <tr class=\"data-row\">\n",
       " <td>511</td>\n",
       " <td>2014-03-12</td>\n",
       " <td>568</td>\n",
       " <td>101</td>\n",
       " <td>4</td>\n",
       " <td>-86.0</td>\n",
       " <td>825.0</td>\n",
       " </tr>,\n",
       " <tr class=\"data-row\">\n",
       " <td>512</td>\n",
       " <td>2014-03-13</td>\n",
       " <td>569</td>\n",
       " <td>101</td>\n",
       " <td>4</td>\n",
       " <td>-85.0</td>\n",
       " <td>825.0</td>\n",
       " </tr>,\n",
       " <tr class=\"data-row\">\n",
       " <td>513</td>\n",
       " <td>2014-03-14</td>\n",
       " <td>570</td>\n",
       " <td>102</td>\n",
       " <td>4</td>\n",
       " <td>-84.0</td>\n",
       " <td>823.0</td>\n",
       " </tr>,\n",
       " <tr class=\"data-row\">\n",
       " <td>515</td>\n",
       " <td>2014-03-15</td>\n",
       " <td>571</td>\n",
       " <td>102</td>\n",
       " <td>4</td>\n",
       " <td>-84.0</td>\n",
       " <td>821.0</td>\n",
       " </tr>,\n",
       " <tr class=\"data-row\">\n",
       " <td>514</td>\n",
       " <td>2014-03-16</td>\n",
       " <td>572</td>\n",
       " <td>102</td>\n",
       " <td>4</td>\n",
       " <td>-85.0</td>\n",
       " <td>820.0</td>\n",
       " </tr>,\n",
       " <tr class=\"data-row\">\n",
       " <td>516</td>\n",
       " <td>2014-03-17</td>\n",
       " <td>573</td>\n",
       " <td>103</td>\n",
       " <td>4</td>\n",
       " <td>-84.0</td>\n",
       " <td>819.0</td>\n",
       " </tr>,\n",
       " <tr class=\"data-row\">\n",
       " <td>517</td>\n",
       " <td>2014-03-18</td>\n",
       " <td>574</td>\n",
       " <td>103</td>\n",
       " <td>4</td>\n",
       " <td>-85.0</td>\n",
       " <td>817.0</td>\n",
       " </tr>,\n",
       " <tr class=\"data-row\">\n",
       " <td>518</td>\n",
       " <td>2014-03-19</td>\n",
       " <td>575</td>\n",
       " <td>104</td>\n",
       " <td>4</td>\n",
       " <td>-82.0</td>\n",
       " <td>816.0</td>\n",
       " </tr>,\n",
       " <tr class=\"data-row\">\n",
       " <td>520</td>\n",
       " <td>2014-03-20</td>\n",
       " <td>576</td>\n",
       " <td>104</td>\n",
       " <td>4</td>\n",
       " <td>-84.0</td>\n",
       " <td>815.0</td>\n",
       " </tr>,\n",
       " <tr class=\"data-row\">\n",
       " <td>519</td>\n",
       " <td>2014-03-21</td>\n",
       " <td>577</td>\n",
       " <td>105</td>\n",
       " <td>4</td>\n",
       " <td>-84.0</td>\n",
       " <td>813.0</td>\n",
       " </tr>,\n",
       " <tr class=\"data-row\">\n",
       " <td>521</td>\n",
       " <td>2014-03-22</td>\n",
       " <td>578</td>\n",
       " <td>105</td>\n",
       " <td>4</td>\n",
       " <td>-83.0</td>\n",
       " <td>812.0</td>\n",
       " </tr>,\n",
       " <tr class=\"data-row\">\n",
       " <td>522</td>\n",
       " <td>2014-03-24</td>\n",
       " <td>579</td>\n",
       " <td>106</td>\n",
       " <td>4</td>\n",
       " <td>-82.0</td>\n",
       " <td>811.0</td>\n",
       " </tr>,\n",
       " <tr class=\"data-row\">\n",
       " <td>523</td>\n",
       " <td>2014-03-25</td>\n",
       " <td>580</td>\n",
       " <td>106</td>\n",
       " <td>4</td>\n",
       " <td>-83.0</td>\n",
       " <td>810.0</td>\n",
       " </tr>,\n",
       " <tr class=\"data-row\">\n",
       " <td>524</td>\n",
       " <td>2014-03-26</td>\n",
       " <td>581</td>\n",
       " <td>107</td>\n",
       " <td>4</td>\n",
       " <td>-84.0</td>\n",
       " <td>808.0</td>\n",
       " </tr>,\n",
       " <tr class=\"data-row\">\n",
       " <td>525</td>\n",
       " <td>2014-03-27</td>\n",
       " <td>582</td>\n",
       " <td>107</td>\n",
       " <td>4</td>\n",
       " <td>-84.0</td>\n",
       " <td>807.0</td>\n",
       " </tr>,\n",
       " <tr class=\"data-row\">\n",
       " <td>526</td>\n",
       " <td>2014-03-28</td>\n",
       " <td>583</td>\n",
       " <td>108</td>\n",
       " <td>4</td>\n",
       " <td>-82.0</td>\n",
       " <td>806.0</td>\n",
       " </tr>,\n",
       " <tr class=\"data-row\">\n",
       " <td>528</td>\n",
       " <td>2014-03-29</td>\n",
       " <td>584</td>\n",
       " <td>108</td>\n",
       " <td>4</td>\n",
       " <td>-82.0</td>\n",
       " <td>804.0</td>\n",
       " </tr>,\n",
       " <tr class=\"data-row\">\n",
       " <td>527</td>\n",
       " <td>2014-03-30</td>\n",
       " <td>585</td>\n",
       " <td>109</td>\n",
       " <td>4</td>\n",
       " <td>-83.0</td>\n",
       " <td>802.0</td>\n",
       " </tr>,\n",
       " <tr class=\"data-row\">\n",
       " <td>529</td>\n",
       " <td>2014-03-31</td>\n",
       " <td>586</td>\n",
       " <td>109</td>\n",
       " <td>4</td>\n",
       " <td>-82.0</td>\n",
       " <td>802.0</td>\n",
       " </tr>,\n",
       " <tr class=\"data-row\">\n",
       " <td>530</td>\n",
       " <td>2014-04-01</td>\n",
       " <td>587</td>\n",
       " <td>109</td>\n",
       " <td>4</td>\n",
       " <td>-85.0</td>\n",
       " <td>801.0</td>\n",
       " </tr>,\n",
       " <tr class=\"data-row\">\n",
       " <td>532</td>\n",
       " <td>2014-04-02</td>\n",
       " <td>588</td>\n",
       " <td>110</td>\n",
       " <td>4</td>\n",
       " <td>-84.0</td>\n",
       " <td>799.0</td>\n",
       " </tr>,\n",
       " <tr class=\"data-row\">\n",
       " <td>531</td>\n",
       " <td>2014-04-03</td>\n",
       " <td>589</td>\n",
       " <td>110</td>\n",
       " <td>4</td>\n",
       " <td>-85.0</td>\n",
       " <td>798.0</td>\n",
       " </tr>,\n",
       " <tr class=\"data-row\">\n",
       " <td>535</td>\n",
       " <td>2014-04-04</td>\n",
       " <td>590</td>\n",
       " <td>111</td>\n",
       " <td>4</td>\n",
       " <td>-82.0</td>\n",
       " <td>797.0</td>\n",
       " </tr>,\n",
       " <tr class=\"data-row\">\n",
       " <td>533</td>\n",
       " <td>2014-04-05</td>\n",
       " <td>591</td>\n",
       " <td>111</td>\n",
       " <td>4</td>\n",
       " <td>-82.0</td>\n",
       " <td>795.0</td>\n",
       " </tr>,\n",
       " <tr class=\"data-row\">\n",
       " <td>534</td>\n",
       " <td>2014-04-06</td>\n",
       " <td>592</td>\n",
       " <td>112</td>\n",
       " <td>4</td>\n",
       " <td>-83.0</td>\n",
       " <td>795.0</td>\n",
       " </tr>,\n",
       " <tr class=\"data-row\">\n",
       " <td>536</td>\n",
       " <td>2014-04-07</td>\n",
       " <td>593</td>\n",
       " <td>112</td>\n",
       " <td>4</td>\n",
       " <td>-83.0</td>\n",
       " <td>795.0</td>\n",
       " </tr>,\n",
       " <tr class=\"data-row\">\n",
       " <td>537</td>\n",
       " <td>2014-04-08</td>\n",
       " <td>594</td>\n",
       " <td>113</td>\n",
       " <td>4</td>\n",
       " <td>-83.0</td>\n",
       " <td>793.0</td>\n",
       " </tr>,\n",
       " <tr class=\"data-row\">\n",
       " <td>538</td>\n",
       " <td>2014-04-09</td>\n",
       " <td>595</td>\n",
       " <td>113</td>\n",
       " <td>4</td>\n",
       " <td>-83.0</td>\n",
       " <td>792.0</td>\n",
       " </tr>,\n",
       " <tr class=\"data-row\">\n",
       " <td>539</td>\n",
       " <td>2014-04-10</td>\n",
       " <td>596</td>\n",
       " <td>114</td>\n",
       " <td>4</td>\n",
       " <td>-82.0</td>\n",
       " <td>791.0</td>\n",
       " </tr>,\n",
       " <tr class=\"data-row\">\n",
       " <td>540</td>\n",
       " <td>2014-04-11</td>\n",
       " <td>597</td>\n",
       " <td>114</td>\n",
       " <td>4</td>\n",
       " <td>-84.0</td>\n",
       " <td>790.0</td>\n",
       " </tr>,\n",
       " <tr class=\"data-row\">\n",
       " <td>542</td>\n",
       " <td>2014-04-12</td>\n",
       " <td>598</td>\n",
       " <td>115</td>\n",
       " <td>4</td>\n",
       " <td>-84.0</td>\n",
       " <td>787.0</td>\n",
       " </tr>,\n",
       " <tr class=\"data-row\">\n",
       " <td>543</td>\n",
       " <td>2014-04-13</td>\n",
       " <td>599</td>\n",
       " <td>115</td>\n",
       " <td>4</td>\n",
       " <td>-84.0</td>\n",
       " <td>788.0</td>\n",
       " </tr>,\n",
       " <tr class=\"data-row\">\n",
       " <td>541</td>\n",
       " <td>2014-04-14</td>\n",
       " <td>600</td>\n",
       " <td>116</td>\n",
       " <td>4</td>\n",
       " <td>-81.0</td>\n",
       " <td>787.0</td>\n",
       " </tr>,\n",
       " <tr class=\"data-row\">\n",
       " <td>544</td>\n",
       " <td>2014-04-15</td>\n",
       " <td>601</td>\n",
       " <td>116</td>\n",
       " <td>4</td>\n",
       " <td>-82.0</td>\n",
       " <td>785.0</td>\n",
       " </tr>,\n",
       " <tr class=\"data-row\">\n",
       " <td>545</td>\n",
       " <td>2014-04-16</td>\n",
       " <td>602</td>\n",
       " <td>117</td>\n",
       " <td>4</td>\n",
       " <td>-82.0</td>\n",
       " <td>784.0</td>\n",
       " </tr>,\n",
       " <tr class=\"data-row\">\n",
       " <td>548</td>\n",
       " <td>2014-04-17</td>\n",
       " <td>603</td>\n",
       " <td>117</td>\n",
       " <td>4</td>\n",
       " <td>-83.0</td>\n",
       " <td>783.0</td>\n",
       " </tr>,\n",
       " <tr class=\"data-row\">\n",
       " <td>546</td>\n",
       " <td>2014-04-18</td>\n",
       " <td>604</td>\n",
       " <td>118</td>\n",
       " <td>4</td>\n",
       " <td>-84.0</td>\n",
       " <td>782.0</td>\n",
       " </tr>,\n",
       " <tr class=\"data-row\">\n",
       " <td>547</td>\n",
       " <td>2014-04-19</td>\n",
       " <td>605</td>\n",
       " <td>118</td>\n",
       " <td>4</td>\n",
       " <td>-83.0</td>\n",
       " <td>781.0</td>\n",
       " </tr>,\n",
       " <tr class=\"data-row\">\n",
       " <td>549</td>\n",
       " <td>2014-04-20</td>\n",
       " <td>606</td>\n",
       " <td>118</td>\n",
       " <td>4</td>\n",
       " <td>-84.0</td>\n",
       " <td>780.0</td>\n",
       " </tr>,\n",
       " <tr class=\"data-row\">\n",
       " <td>550</td>\n",
       " <td>2014-04-21</td>\n",
       " <td>607</td>\n",
       " <td>119</td>\n",
       " <td>4</td>\n",
       " <td>-83.0</td>\n",
       " <td>779.0</td>\n",
       " </tr>,\n",
       " <tr class=\"data-row\">\n",
       " <td>551</td>\n",
       " <td>2014-04-22</td>\n",
       " <td>608</td>\n",
       " <td>119</td>\n",
       " <td>4</td>\n",
       " <td>-85.0</td>\n",
       " <td>777.0</td>\n",
       " </tr>,\n",
       " <tr class=\"data-row\">\n",
       " <td>552</td>\n",
       " <td>2014-04-23</td>\n",
       " <td>609</td>\n",
       " <td>120</td>\n",
       " <td>5</td>\n",
       " <td>-84.0</td>\n",
       " <td>777.0</td>\n",
       " </tr>,\n",
       " <tr class=\"data-row\">\n",
       " <td>554</td>\n",
       " <td>2014-04-24</td>\n",
       " <td>610</td>\n",
       " <td>120</td>\n",
       " <td>5</td>\n",
       " <td>-85.0</td>\n",
       " <td>776.0</td>\n",
       " </tr>,\n",
       " <tr class=\"data-row\">\n",
       " <td>555</td>\n",
       " <td>2014-04-25</td>\n",
       " <td>611</td>\n",
       " <td>121</td>\n",
       " <td>5</td>\n",
       " <td>-84.0</td>\n",
       " <td>775.0</td>\n",
       " </tr>,\n",
       " <tr class=\"data-row\">\n",
       " <td>553</td>\n",
       " <td>2014-04-26</td>\n",
       " <td>612</td>\n",
       " <td>121</td>\n",
       " <td>5</td>\n",
       " <td>-85.0</td>\n",
       " <td>774.0</td>\n",
       " </tr>,\n",
       " <tr class=\"data-row\">\n",
       " <td>556</td>\n",
       " <td>2014-04-27</td>\n",
       " <td>613</td>\n",
       " <td>122</td>\n",
       " <td>5</td>\n",
       " <td>-84.0</td>\n",
       " <td>773.0</td>\n",
       " </tr>,\n",
       " <tr class=\"data-row\">\n",
       " <td>557</td>\n",
       " <td>2014-04-28</td>\n",
       " <td>614</td>\n",
       " <td>122</td>\n",
       " <td>5</td>\n",
       " <td>-82.0</td>\n",
       " <td>772.0</td>\n",
       " </tr>,\n",
       " <tr class=\"data-row\">\n",
       " <td>558</td>\n",
       " <td>2014-04-29</td>\n",
       " <td>615</td>\n",
       " <td>123</td>\n",
       " <td>5</td>\n",
       " <td>-83.0</td>\n",
       " <td>771.0</td>\n",
       " </tr>,\n",
       " <tr class=\"data-row\">\n",
       " <td>559</td>\n",
       " <td>2014-05-01</td>\n",
       " <td>616</td>\n",
       " <td>123</td>\n",
       " <td>5</td>\n",
       " <td>-82.0</td>\n",
       " <td>769.0</td>\n",
       " </tr>,\n",
       " <tr class=\"data-row\">\n",
       " <td>561</td>\n",
       " <td>2014-05-02</td>\n",
       " <td>617</td>\n",
       " <td>124</td>\n",
       " <td>5</td>\n",
       " <td>-84.0</td>\n",
       " <td>769.0</td>\n",
       " </tr>,\n",
       " <tr class=\"data-row\">\n",
       " <td>562</td>\n",
       " <td>2014-05-03</td>\n",
       " <td>618</td>\n",
       " <td>124</td>\n",
       " <td>5</td>\n",
       " <td>-83.0</td>\n",
       " <td>769.0</td>\n",
       " </tr>,\n",
       " <tr class=\"data-row\">\n",
       " <td>560</td>\n",
       " <td>2014-05-04</td>\n",
       " <td>619</td>\n",
       " <td>125</td>\n",
       " <td>5</td>\n",
       " <td>-82.0</td>\n",
       " <td>766.0</td>\n",
       " </tr>,\n",
       " <tr class=\"data-row\">\n",
       " <td>563</td>\n",
       " <td>2014-05-05</td>\n",
       " <td>620</td>\n",
       " <td>125</td>\n",
       " <td>5</td>\n",
       " <td>-83.0</td>\n",
       " <td>765.0</td>\n",
       " </tr>,\n",
       " <tr class=\"data-row\">\n",
       " <td>564</td>\n",
       " <td>2014-05-06</td>\n",
       " <td>621</td>\n",
       " <td>126</td>\n",
       " <td>5</td>\n",
       " <td>-82.0</td>\n",
       " <td>765.0</td>\n",
       " </tr>,\n",
       " <tr class=\"data-row\">\n",
       " <td>565</td>\n",
       " <td>2014-05-07</td>\n",
       " <td>622</td>\n",
       " <td>126</td>\n",
       " <td>5</td>\n",
       " <td>-84.0</td>\n",
       " <td>763.0</td>\n",
       " </tr>,\n",
       " <tr class=\"data-row\">\n",
       " <td>566</td>\n",
       " <td>2014-05-08</td>\n",
       " <td>623</td>\n",
       " <td>127</td>\n",
       " <td>5</td>\n",
       " <td>-83.0</td>\n",
       " <td>763.0</td>\n",
       " </tr>,\n",
       " <tr class=\"data-row\">\n",
       " <td>568</td>\n",
       " <td>2014-05-09</td>\n",
       " <td>624</td>\n",
       " <td>127</td>\n",
       " <td>5</td>\n",
       " <td>-82.0</td>\n",
       " <td>762.0</td>\n",
       " </tr>,\n",
       " <tr class=\"data-row\">\n",
       " <td>569</td>\n",
       " <td>2014-05-10</td>\n",
       " <td>625</td>\n",
       " <td>128</td>\n",
       " <td>5</td>\n",
       " <td>-81.0</td>\n",
       " <td>761.0</td>\n",
       " </tr>,\n",
       " <tr class=\"data-row\">\n",
       " <td>567</td>\n",
       " <td>2014-05-11</td>\n",
       " <td>626</td>\n",
       " <td>128</td>\n",
       " <td>5</td>\n",
       " <td>-82.0</td>\n",
       " <td>760.0</td>\n",
       " </tr>,\n",
       " <tr class=\"data-row\">\n",
       " <td>570</td>\n",
       " <td>2014-05-12</td>\n",
       " <td>627</td>\n",
       " <td>129</td>\n",
       " <td>5</td>\n",
       " <td>-82.0</td>\n",
       " <td>759.0</td>\n",
       " </tr>,\n",
       " <tr class=\"data-row\">\n",
       " <td>571</td>\n",
       " <td>2014-05-13</td>\n",
       " <td>628</td>\n",
       " <td>129</td>\n",
       " <td>5</td>\n",
       " <td>-81.0</td>\n",
       " <td>759.0</td>\n",
       " </tr>,\n",
       " <tr class=\"data-row\">\n",
       " <td>572</td>\n",
       " <td>2014-05-14</td>\n",
       " <td>629</td>\n",
       " <td>130</td>\n",
       " <td>5</td>\n",
       " <td>-84.0</td>\n",
       " <td>759.0</td>\n",
       " </tr>,\n",
       " <tr class=\"data-row\">\n",
       " <td>573</td>\n",
       " <td>2014-05-15</td>\n",
       " <td>630</td>\n",
       " <td>130</td>\n",
       " <td>5</td>\n",
       " <td>-82.0</td>\n",
       " <td>757.0</td>\n",
       " </tr>,\n",
       " <tr class=\"data-row\">\n",
       " <td>576</td>\n",
       " <td>2014-05-16</td>\n",
       " <td>631</td>\n",
       " <td>131</td>\n",
       " <td>5</td>\n",
       " <td>-81.0</td>\n",
       " <td>756.0</td>\n",
       " </tr>,\n",
       " <tr class=\"data-row\">\n",
       " <td>575</td>\n",
       " <td>2014-05-17</td>\n",
       " <td>632</td>\n",
       " <td>131</td>\n",
       " <td>5</td>\n",
       " <td>-79.0</td>\n",
       " <td>755.0</td>\n",
       " </tr>,\n",
       " <tr class=\"data-row\">\n",
       " <td>574</td>\n",
       " <td>2014-05-18</td>\n",
       " <td>633</td>\n",
       " <td>132</td>\n",
       " <td>5</td>\n",
       " <td>-81.0</td>\n",
       " <td>754.0</td>\n",
       " </tr>,\n",
       " <tr class=\"data-row\">\n",
       " <td>577</td>\n",
       " <td>2014-05-19</td>\n",
       " <td>634</td>\n",
       " <td>132</td>\n",
       " <td>5</td>\n",
       " <td>-82.0</td>\n",
       " <td>753.0</td>\n",
       " </tr>,\n",
       " <tr class=\"data-row\">\n",
       " <td>578</td>\n",
       " <td>2014-05-20</td>\n",
       " <td>635</td>\n",
       " <td>133</td>\n",
       " <td>5</td>\n",
       " <td>-82.0</td>\n",
       " <td>754.0</td>\n",
       " </tr>,\n",
       " <tr class=\"data-row\">\n",
       " <td>582</td>\n",
       " <td>2014-05-21</td>\n",
       " <td>636</td>\n",
       " <td>133</td>\n",
       " <td>5</td>\n",
       " <td>-81.0</td>\n",
       " <td>752.0</td>\n",
       " </tr>,\n",
       " <tr class=\"data-row\">\n",
       " <td>580</td>\n",
       " <td>2014-05-22</td>\n",
       " <td>637</td>\n",
       " <td>134</td>\n",
       " <td>5</td>\n",
       " <td>-80.0</td>\n",
       " <td>752.0</td>\n",
       " </tr>,\n",
       " <tr class=\"data-row\">\n",
       " <td>579</td>\n",
       " <td>2014-05-23</td>\n",
       " <td>638</td>\n",
       " <td>134</td>\n",
       " <td>5</td>\n",
       " <td>-80.0</td>\n",
       " <td>751.0</td>\n",
       " </tr>,\n",
       " <tr class=\"data-row\">\n",
       " <td>581</td>\n",
       " <td>2014-05-24</td>\n",
       " <td>639</td>\n",
       " <td>135</td>\n",
       " <td>5</td>\n",
       " <td>-80.0</td>\n",
       " <td>750.0</td>\n",
       " </tr>,\n",
       " <tr class=\"data-row\">\n",
       " <td>583</td>\n",
       " <td>2014-05-25</td>\n",
       " <td>640</td>\n",
       " <td>135</td>\n",
       " <td>5</td>\n",
       " <td>-81.0</td>\n",
       " <td>750.0</td>\n",
       " </tr>,\n",
       " <tr class=\"data-row\">\n",
       " <td>584</td>\n",
       " <td>2014-05-26</td>\n",
       " <td>641</td>\n",
       " <td>136</td>\n",
       " <td>5</td>\n",
       " <td>-81.0</td>\n",
       " <td>749.0</td>\n",
       " </tr>,\n",
       " <tr class=\"data-row\">\n",
       " <td>585</td>\n",
       " <td>2014-05-27</td>\n",
       " <td>642</td>\n",
       " <td>136</td>\n",
       " <td>5</td>\n",
       " <td>-80.0</td>\n",
       " <td>749.0</td>\n",
       " </tr>,\n",
       " <tr class=\"data-row\">\n",
       " <td>586</td>\n",
       " <td>2014-05-28</td>\n",
       " <td>643</td>\n",
       " <td>137</td>\n",
       " <td>5</td>\n",
       " <td>-80.0</td>\n",
       " <td>748.0</td>\n",
       " </tr>,\n",
       " <tr class=\"data-row\">\n",
       " <td>588</td>\n",
       " <td>2014-05-29</td>\n",
       " <td>644</td>\n",
       " <td>137</td>\n",
       " <td>5</td>\n",
       " <td>-80.0</td>\n",
       " <td>748.0</td>\n",
       " </tr>,\n",
       " <tr class=\"data-row\">\n",
       " <td>589</td>\n",
       " <td>2014-05-30</td>\n",
       " <td>645</td>\n",
       " <td>138</td>\n",
       " <td>5</td>\n",
       " <td>-81.0</td>\n",
       " <td>746.0</td>\n",
       " </tr>,\n",
       " <tr class=\"data-row\">\n",
       " <td>587</td>\n",
       " <td>2014-05-31</td>\n",
       " <td>646</td>\n",
       " <td>138</td>\n",
       " <td>5</td>\n",
       " <td>-81.0</td>\n",
       " <td>746.0</td>\n",
       " </tr>,\n",
       " <tr class=\"data-row\">\n",
       " <td>590</td>\n",
       " <td>2014-06-01</td>\n",
       " <td>647</td>\n",
       " <td>139</td>\n",
       " <td>5</td>\n",
       " <td>-79.0</td>\n",
       " <td>746.0</td>\n",
       " </tr>,\n",
       " <tr class=\"data-row\">\n",
       " <td>591</td>\n",
       " <td>2014-06-02</td>\n",
       " <td>648</td>\n",
       " <td>139</td>\n",
       " <td>5</td>\n",
       " <td>-80.0</td>\n",
       " <td>746.0</td>\n",
       " </tr>,\n",
       " <tr class=\"data-row\">\n",
       " <td>592</td>\n",
       " <td>2014-06-03</td>\n",
       " <td>649</td>\n",
       " <td>140</td>\n",
       " <td>5</td>\n",
       " <td>-79.0</td>\n",
       " <td>745.0</td>\n",
       " </tr>,\n",
       " <tr class=\"data-row\">\n",
       " <td>593</td>\n",
       " <td>2014-06-04</td>\n",
       " <td>650</td>\n",
       " <td>140</td>\n",
       " <td>5</td>\n",
       " <td>-80.0</td>\n",
       " <td>743.0</td>\n",
       " </tr>,\n",
       " <tr class=\"data-row\">\n",
       " <td>595</td>\n",
       " <td>2014-06-05</td>\n",
       " <td>651</td>\n",
       " <td>141</td>\n",
       " <td>5</td>\n",
       " <td>-80.0</td>\n",
       " <td>743.0</td>\n",
       " </tr>,\n",
       " <tr class=\"data-row\">\n",
       " <td>594</td>\n",
       " <td>2014-06-07</td>\n",
       " <td>652</td>\n",
       " <td>141</td>\n",
       " <td>5</td>\n",
       " <td>-79.0</td>\n",
       " <td>745.0</td>\n",
       " </tr>,\n",
       " <tr class=\"data-row\">\n",
       " <td>596</td>\n",
       " <td>2014-06-08</td>\n",
       " <td>653</td>\n",
       " <td>142</td>\n",
       " <td>5</td>\n",
       " <td>-80.0</td>\n",
       " <td>744.0</td>\n",
       " </tr>,\n",
       " <tr class=\"data-row\">\n",
       " <td>597</td>\n",
       " <td>2014-06-09</td>\n",
       " <td>654</td>\n",
       " <td>142</td>\n",
       " <td>5</td>\n",
       " <td>-79.0</td>\n",
       " <td>742.0</td>\n",
       " </tr>,\n",
       " <tr class=\"data-row\">\n",
       " <td>598</td>\n",
       " <td>2014-06-10</td>\n",
       " <td>655</td>\n",
       " <td>143</td>\n",
       " <td>5</td>\n",
       " <td>-77.0</td>\n",
       " <td>741.0</td>\n",
       " </tr>,\n",
       " <tr class=\"data-row\">\n",
       " <td>599</td>\n",
       " <td>2014-06-11</td>\n",
       " <td>656</td>\n",
       " <td>143</td>\n",
       " <td>5</td>\n",
       " <td>-80.0</td>\n",
       " <td>740.0</td>\n",
       " </tr>,\n",
       " <tr class=\"data-row\">\n",
       " <td>600</td>\n",
       " <td>2014-06-12</td>\n",
       " <td>657</td>\n",
       " <td>144</td>\n",
       " <td>5</td>\n",
       " <td>-79.0</td>\n",
       " <td>739.0</td>\n",
       " </tr>,\n",
       " <tr class=\"data-row\">\n",
       " <td>602</td>\n",
       " <td>2014-06-13</td>\n",
       " <td>658</td>\n",
       " <td>144</td>\n",
       " <td>5</td>\n",
       " <td>-79.0</td>\n",
       " <td>739.0</td>\n",
       " </tr>,\n",
       " <tr class=\"data-row\">\n",
       " <td>603</td>\n",
       " <td>2014-06-14</td>\n",
       " <td>659</td>\n",
       " <td>145</td>\n",
       " <td>5</td>\n",
       " <td>-77.0</td>\n",
       " <td>738.0</td>\n",
       " </tr>,\n",
       " <tr class=\"data-row\">\n",
       " <td>601</td>\n",
       " <td>2014-06-15</td>\n",
       " <td>660</td>\n",
       " <td>145</td>\n",
       " <td>5</td>\n",
       " <td>-78.0</td>\n",
       " <td>735.0</td>\n",
       " </tr>,\n",
       " <tr class=\"data-row\">\n",
       " <td>604</td>\n",
       " <td>2014-06-16</td>\n",
       " <td>661</td>\n",
       " <td>146</td>\n",
       " <td>5</td>\n",
       " <td>-76.0</td>\n",
       " <td>735.0</td>\n",
       " </tr>,\n",
       " <tr class=\"data-row\">\n",
       " <td>605</td>\n",
       " <td>2014-06-17</td>\n",
       " <td>662</td>\n",
       " <td>146</td>\n",
       " <td>5</td>\n",
       " <td>-77.0</td>\n",
       " <td>735.0</td>\n",
       " </tr>,\n",
       " <tr class=\"data-row\">\n",
       " <td>609</td>\n",
       " <td>2014-06-18</td>\n",
       " <td>663</td>\n",
       " <td>147</td>\n",
       " <td>5</td>\n",
       " <td>-77.0</td>\n",
       " <td>734.0</td>\n",
       " </tr>,\n",
       " <tr class=\"data-row\">\n",
       " <td>607</td>\n",
       " <td>2014-06-19</td>\n",
       " <td>664</td>\n",
       " <td>147</td>\n",
       " <td>5</td>\n",
       " <td>-78.0</td>\n",
       " <td>732.0</td>\n",
       " </tr>,\n",
       " <tr class=\"data-row\">\n",
       " <td>610</td>\n",
       " <td>2014-06-20</td>\n",
       " <td>665</td>\n",
       " <td>148</td>\n",
       " <td>5</td>\n",
       " <td>-78.0</td>\n",
       " <td>735.0</td>\n",
       " </tr>,\n",
       " <tr class=\"data-row\">\n",
       " <td>608</td>\n",
       " <td>2014-06-21</td>\n",
       " <td>666</td>\n",
       " <td>148</td>\n",
       " <td>5</td>\n",
       " <td>-77.0</td>\n",
       " <td>736.0</td>\n",
       " </tr>,\n",
       " <tr class=\"data-row\">\n",
       " <td>606</td>\n",
       " <td>2014-06-22</td>\n",
       " <td>667</td>\n",
       " <td>149</td>\n",
       " <td>5</td>\n",
       " <td>-76.0</td>\n",
       " <td>736.0</td>\n",
       " </tr>,\n",
       " <tr class=\"data-row\">\n",
       " <td>611</td>\n",
       " <td>2014-06-23</td>\n",
       " <td>668</td>\n",
       " <td>150</td>\n",
       " <td>6</td>\n",
       " <td>-75.0</td>\n",
       " <td>734.0</td>\n",
       " </tr>,\n",
       " <tr class=\"data-row\">\n",
       " <td>613</td>\n",
       " <td>2014-06-24</td>\n",
       " <td>669</td>\n",
       " <td>150</td>\n",
       " <td>6</td>\n",
       " <td>-84.0</td>\n",
       " <td>735.0</td>\n",
       " </tr>,\n",
       " <tr class=\"data-row\">\n",
       " <td>612</td>\n",
       " <td>2014-06-25</td>\n",
       " <td>670</td>\n",
       " <td>151</td>\n",
       " <td>6</td>\n",
       " <td>-79.0</td>\n",
       " <td>737.0</td>\n",
       " </tr>,\n",
       " <tr class=\"data-row\">\n",
       " <td>614</td>\n",
       " <td>2014-06-26</td>\n",
       " <td>671</td>\n",
       " <td>151</td>\n",
       " <td>6</td>\n",
       " <td>-79.0</td>\n",
       " <td>740.0</td>\n",
       " </tr>,\n",
       " <tr class=\"data-row\">\n",
       " <td>615</td>\n",
       " <td>2014-06-27</td>\n",
       " <td>672</td>\n",
       " <td>152</td>\n",
       " <td>6</td>\n",
       " <td>-78.0</td>\n",
       " <td>739.0</td>\n",
       " </tr>,\n",
       " <tr class=\"data-row\">\n",
       " <td>616</td>\n",
       " <td>2014-06-28</td>\n",
       " <td>673</td>\n",
       " <td>152</td>\n",
       " <td>6</td>\n",
       " <td>-78.0</td>\n",
       " <td>738.0</td>\n",
       " </tr>,\n",
       " <tr class=\"data-row\">\n",
       " <td>617</td>\n",
       " <td>2014-06-29</td>\n",
       " <td>674</td>\n",
       " <td>153</td>\n",
       " <td>6</td>\n",
       " <td>-80.0</td>\n",
       " <td>739.0</td>\n",
       " </tr>,\n",
       " <tr class=\"data-row\">\n",
       " <td>618</td>\n",
       " <td>2014-06-30</td>\n",
       " <td>675</td>\n",
       " <td>153</td>\n",
       " <td>6</td>\n",
       " <td>-80.0</td>\n",
       " <td>740.0</td>\n",
       " </tr>,\n",
       " <tr class=\"data-row\">\n",
       " <td>619</td>\n",
       " <td>2014-07-01</td>\n",
       " <td>676</td>\n",
       " <td>154</td>\n",
       " <td>6</td>\n",
       " <td>-80.0</td>\n",
       " <td>738.0</td>\n",
       " </tr>,\n",
       " <tr class=\"data-row\">\n",
       " <td>622</td>\n",
       " <td>2014-07-02</td>\n",
       " <td>677</td>\n",
       " <td>154</td>\n",
       " <td>6</td>\n",
       " <td>-78.0</td>\n",
       " <td>737.0</td>\n",
       " </tr>,\n",
       " <tr class=\"data-row\">\n",
       " <td>621</td>\n",
       " <td>2014-07-03</td>\n",
       " <td>678</td>\n",
       " <td>155</td>\n",
       " <td>6</td>\n",
       " <td>-77.0</td>\n",
       " <td>739.0</td>\n",
       " </tr>,\n",
       " <tr class=\"data-row\">\n",
       " <td>624</td>\n",
       " <td>2014-07-04</td>\n",
       " <td>679</td>\n",
       " <td>155</td>\n",
       " <td>6</td>\n",
       " <td>-77.0</td>\n",
       " <td>738.0</td>\n",
       " </tr>,\n",
       " <tr class=\"data-row\">\n",
       " <td>620</td>\n",
       " <td>2014-07-05</td>\n",
       " <td>680</td>\n",
       " <td>156</td>\n",
       " <td>6</td>\n",
       " <td>-76.0</td>\n",
       " <td>740.0</td>\n",
       " </tr>,\n",
       " <tr class=\"data-row\">\n",
       " <td>623</td>\n",
       " <td>2014-07-06</td>\n",
       " <td>681</td>\n",
       " <td>156</td>\n",
       " <td>6</td>\n",
       " <td>-79.0</td>\n",
       " <td>738.0</td>\n",
       " </tr>,\n",
       " <tr class=\"data-row\">\n",
       " <td>625</td>\n",
       " <td>2014-07-07</td>\n",
       " <td>682</td>\n",
       " <td>157</td>\n",
       " <td>6</td>\n",
       " <td>-77.0</td>\n",
       " <td>739.0</td>\n",
       " </tr>,\n",
       " <tr class=\"data-row\">\n",
       " <td>626</td>\n",
       " <td>2014-07-08</td>\n",
       " <td>683</td>\n",
       " <td>158</td>\n",
       " <td>6</td>\n",
       " <td>-79.0</td>\n",
       " <td>741.0</td>\n",
       " </tr>,\n",
       " <tr class=\"data-row\">\n",
       " <td>627</td>\n",
       " <td>2014-07-09</td>\n",
       " <td>684</td>\n",
       " <td>158</td>\n",
       " <td>6</td>\n",
       " <td>-75.0</td>\n",
       " <td>741.0</td>\n",
       " </tr>,\n",
       " <tr class=\"data-row\">\n",
       " <td>628</td>\n",
       " <td>2014-07-10</td>\n",
       " <td>685</td>\n",
       " <td>159</td>\n",
       " <td>6</td>\n",
       " <td>-77.0</td>\n",
       " <td>740.0</td>\n",
       " </tr>,\n",
       " <tr class=\"data-row\">\n",
       " <td>629</td>\n",
       " <td>2014-07-11</td>\n",
       " <td>686</td>\n",
       " <td>159</td>\n",
       " <td>6</td>\n",
       " <td>-76.0</td>\n",
       " <td>738.0</td>\n",
       " </tr>,\n",
       " <tr class=\"data-row\">\n",
       " <td>630</td>\n",
       " <td>2014-07-12</td>\n",
       " <td>687</td>\n",
       " <td>160</td>\n",
       " <td>6</td>\n",
       " <td>-77.0</td>\n",
       " <td>739.0</td>\n",
       " </tr>,\n",
       " <tr class=\"data-row\">\n",
       " <td>631</td>\n",
       " <td>2014-07-14</td>\n",
       " <td>688</td>\n",
       " <td>160</td>\n",
       " <td>6</td>\n",
       " <td>-77.0</td>\n",
       " <td>741.0</td>\n",
       " </tr>,\n",
       " <tr class=\"data-row\">\n",
       " <td>632</td>\n",
       " <td>2014-07-15</td>\n",
       " <td>689</td>\n",
       " <td>161</td>\n",
       " <td>6</td>\n",
       " <td>-76.0</td>\n",
       " <td>742.0</td>\n",
       " </tr>,\n",
       " <tr class=\"data-row\">\n",
       " <td>633</td>\n",
       " <td>2014-07-16</td>\n",
       " <td>690</td>\n",
       " <td>161</td>\n",
       " <td>6</td>\n",
       " <td>-77.0</td>\n",
       " <td>741.0</td>\n",
       " </tr>,\n",
       " <tr class=\"data-row\">\n",
       " <td>634</td>\n",
       " <td>2014-07-17</td>\n",
       " <td>691</td>\n",
       " <td>162</td>\n",
       " <td>6</td>\n",
       " <td>-76.0</td>\n",
       " <td>741.0</td>\n",
       " </tr>,\n",
       " <tr class=\"data-row\">\n",
       " <td>637</td>\n",
       " <td>2014-07-18</td>\n",
       " <td>692</td>\n",
       " <td>162</td>\n",
       " <td>6</td>\n",
       " <td>-76.0</td>\n",
       " <td>742.0</td>\n",
       " </tr>,\n",
       " <tr class=\"data-row\">\n",
       " <td>636</td>\n",
       " <td>2014-07-19</td>\n",
       " <td>693</td>\n",
       " <td>163</td>\n",
       " <td>6</td>\n",
       " <td>-76.0</td>\n",
       " <td>741.0</td>\n",
       " </tr>,\n",
       " <tr class=\"data-row\">\n",
       " <td>635</td>\n",
       " <td>2014-07-20</td>\n",
       " <td>694</td>\n",
       " <td>164</td>\n",
       " <td>6</td>\n",
       " <td>-75.0</td>\n",
       " <td>740.0</td>\n",
       " </tr>,\n",
       " <tr class=\"data-row\">\n",
       " <td>638</td>\n",
       " <td>2014-07-21</td>\n",
       " <td>695</td>\n",
       " <td>164</td>\n",
       " <td>6</td>\n",
       " <td>-76.0</td>\n",
       " <td>741.0</td>\n",
       " </tr>,\n",
       " <tr class=\"data-row\">\n",
       " <td>639</td>\n",
       " <td>2014-07-22</td>\n",
       " <td>696</td>\n",
       " <td>165</td>\n",
       " <td>6</td>\n",
       " <td>-75.0</td>\n",
       " <td>743.0</td>\n",
       " </tr>,\n",
       " <tr class=\"data-row\">\n",
       " <td>640</td>\n",
       " <td>2014-07-23</td>\n",
       " <td>697</td>\n",
       " <td>165</td>\n",
       " <td>6</td>\n",
       " <td>-74.0</td>\n",
       " <td>743.0</td>\n",
       " </tr>,\n",
       " <tr class=\"data-row\">\n",
       " <td>641</td>\n",
       " <td>2014-07-24</td>\n",
       " <td>698</td>\n",
       " <td>166</td>\n",
       " <td>6</td>\n",
       " <td>-77.0</td>\n",
       " <td>743.0</td>\n",
       " </tr>,\n",
       " <tr class=\"data-row\">\n",
       " <td>642</td>\n",
       " <td>2014-07-25</td>\n",
       " <td>699</td>\n",
       " <td>166</td>\n",
       " <td>6</td>\n",
       " <td>-76.0</td>\n",
       " <td>744.0</td>\n",
       " </tr>,\n",
       " <tr class=\"data-row\">\n",
       " <td>643</td>\n",
       " <td>2014-07-26</td>\n",
       " <td>700</td>\n",
       " <td>167</td>\n",
       " <td>6</td>\n",
       " <td>-75.0</td>\n",
       " <td>745.0</td>\n",
       " </tr>,\n",
       " <tr class=\"data-row\">\n",
       " <td>644</td>\n",
       " <td>2014-07-27</td>\n",
       " <td>701</td>\n",
       " <td>167</td>\n",
       " <td>6</td>\n",
       " <td>-77.0</td>\n",
       " <td>745.0</td>\n",
       " </tr>,\n",
       " <tr class=\"data-row\">\n",
       " <td>645</td>\n",
       " <td>2014-07-28</td>\n",
       " <td>702</td>\n",
       " <td>168</td>\n",
       " <td>6</td>\n",
       " <td>-76.0</td>\n",
       " <td>745.0</td>\n",
       " </tr>,\n",
       " <tr class=\"data-row\">\n",
       " <td>646</td>\n",
       " <td>2014-07-29</td>\n",
       " <td>703</td>\n",
       " <td>169</td>\n",
       " <td>6</td>\n",
       " <td>-75.0</td>\n",
       " <td>747.0</td>\n",
       " </tr>,\n",
       " <tr class=\"data-row\">\n",
       " <td>647</td>\n",
       " <td>2014-07-30</td>\n",
       " <td>704</td>\n",
       " <td>169</td>\n",
       " <td>6</td>\n",
       " <td>-75.0</td>\n",
       " <td>747.0</td>\n",
       " </tr>,\n",
       " <tr class=\"data-row\">\n",
       " <td>648</td>\n",
       " <td>2014-07-31</td>\n",
       " <td>705</td>\n",
       " <td>170</td>\n",
       " <td>6</td>\n",
       " <td>-76.0</td>\n",
       " <td>746.0</td>\n",
       " </tr>,\n",
       " <tr class=\"data-row\">\n",
       " <td>650</td>\n",
       " <td>2014-08-01</td>\n",
       " <td>706</td>\n",
       " <td>170</td>\n",
       " <td>6</td>\n",
       " <td>-76.0</td>\n",
       " <td>748.0</td>\n",
       " </tr>,\n",
       " <tr class=\"data-row\">\n",
       " <td>651</td>\n",
       " <td>2014-08-02</td>\n",
       " <td>707</td>\n",
       " <td>171</td>\n",
       " <td>6</td>\n",
       " <td>-76.0</td>\n",
       " <td>749.0</td>\n",
       " </tr>,\n",
       " <tr class=\"data-row\">\n",
       " <td>649</td>\n",
       " <td>2014-08-03</td>\n",
       " <td>708</td>\n",
       " <td>171</td>\n",
       " <td>6</td>\n",
       " <td>-76.0</td>\n",
       " <td>749.0</td>\n",
       " </tr>,\n",
       " <tr class=\"data-row\">\n",
       " <td>652</td>\n",
       " <td>2014-08-04</td>\n",
       " <td>709</td>\n",
       " <td>172</td>\n",
       " <td>6</td>\n",
       " <td>-73.0</td>\n",
       " <td>750.0</td>\n",
       " </tr>,\n",
       " <tr class=\"data-row\">\n",
       " <td>653</td>\n",
       " <td>2014-08-05</td>\n",
       " <td>710</td>\n",
       " <td>172</td>\n",
       " <td>6</td>\n",
       " <td>-77.0</td>\n",
       " <td>751.0</td>\n",
       " </tr>,\n",
       " <tr class=\"data-row\">\n",
       " <td>654</td>\n",
       " <td>2014-08-06</td>\n",
       " <td>711</td>\n",
       " <td>173</td>\n",
       " <td>6</td>\n",
       " <td>-75.0</td>\n",
       " <td>751.0</td>\n",
       " </tr>,\n",
       " <tr class=\"data-row\">\n",
       " <td>658</td>\n",
       " <td>2014-08-07</td>\n",
       " <td>712</td>\n",
       " <td>174</td>\n",
       " <td>6</td>\n",
       " <td>-77.0</td>\n",
       " <td>752.0</td>\n",
       " </tr>,\n",
       " <tr class=\"data-row\">\n",
       " <td>656</td>\n",
       " <td>2014-08-08</td>\n",
       " <td>713</td>\n",
       " <td>174</td>\n",
       " <td>6</td>\n",
       " <td>-76.0</td>\n",
       " <td>754.0</td>\n",
       " </tr>,\n",
       " <tr class=\"data-row\">\n",
       " <td>655</td>\n",
       " <td>2014-08-09</td>\n",
       " <td>714</td>\n",
       " <td>175</td>\n",
       " <td>6</td>\n",
       " <td>-76.0</td>\n",
       " <td>754.0</td>\n",
       " </tr>,\n",
       " <tr class=\"data-row\">\n",
       " <td>657</td>\n",
       " <td>2014-08-10</td>\n",
       " <td>715</td>\n",
       " <td>175</td>\n",
       " <td>6</td>\n",
       " <td>-73.0</td>\n",
       " <td>755.0</td>\n",
       " </tr>,\n",
       " <tr class=\"data-row\">\n",
       " <td>659</td>\n",
       " <td>2014-08-11</td>\n",
       " <td>716</td>\n",
       " <td>176</td>\n",
       " <td>6</td>\n",
       " <td>-75.0</td>\n",
       " <td>755.0</td>\n",
       " </tr>,\n",
       " <tr class=\"data-row\">\n",
       " <td>661</td>\n",
       " <td>2014-08-12</td>\n",
       " <td>717</td>\n",
       " <td>176</td>\n",
       " <td>6</td>\n",
       " <td>-76.0</td>\n",
       " <td>756.0</td>\n",
       " </tr>,\n",
       " <tr class=\"data-row\">\n",
       " <td>660</td>\n",
       " <td>2014-08-13</td>\n",
       " <td>718</td>\n",
       " <td>177</td>\n",
       " <td>6</td>\n",
       " <td>-77.0</td>\n",
       " <td>757.0</td>\n",
       " </tr>,\n",
       " <tr class=\"data-row\">\n",
       " <td>662</td>\n",
       " <td>2014-08-14</td>\n",
       " <td>719</td>\n",
       " <td>178</td>\n",
       " <td>6</td>\n",
       " <td>-77.0</td>\n",
       " <td>758.0</td>\n",
       " </tr>,\n",
       " <tr class=\"data-row\">\n",
       " <td>663</td>\n",
       " <td>2014-08-15</td>\n",
       " <td>720</td>\n",
       " <td>178</td>\n",
       " <td>6</td>\n",
       " <td>-74.0</td>\n",
       " <td>760.0</td>\n",
       " </tr>,\n",
       " <tr class=\"data-row\">\n",
       " <td>664</td>\n",
       " <td>2014-08-16</td>\n",
       " <td>721</td>\n",
       " <td>179</td>\n",
       " <td>6</td>\n",
       " <td>-73.0</td>\n",
       " <td>761.0</td>\n",
       " </tr>,\n",
       " <tr class=\"data-row\">\n",
       " <td>665</td>\n",
       " <td>2014-08-17</td>\n",
       " <td>722</td>\n",
       " <td>179</td>\n",
       " <td>6</td>\n",
       " <td>-74.0</td>\n",
       " <td>760.0</td>\n",
       " </tr>,\n",
       " <tr class=\"data-row\">\n",
       " <td>666</td>\n",
       " <td>2014-08-18</td>\n",
       " <td>723</td>\n",
       " <td>180</td>\n",
       " <td>7</td>\n",
       " <td>-73.0</td>\n",
       " <td>761.0</td>\n",
       " </tr>,\n",
       " <tr class=\"data-row\">\n",
       " <td>667</td>\n",
       " <td>2014-08-19</td>\n",
       " <td>724</td>\n",
       " <td>181</td>\n",
       " <td>7</td>\n",
       " <td>-74.0</td>\n",
       " <td>763.0</td>\n",
       " </tr>,\n",
       " <tr class=\"data-row\">\n",
       " <td>669</td>\n",
       " <td>2014-08-21</td>\n",
       " <td>725</td>\n",
       " <td>181</td>\n",
       " <td>7</td>\n",
       " <td>-73.0</td>\n",
       " <td>764.0</td>\n",
       " </tr>,\n",
       " <tr class=\"data-row\">\n",
       " <td>668</td>\n",
       " <td>2014-08-22</td>\n",
       " <td>726</td>\n",
       " <td>182</td>\n",
       " <td>7</td>\n",
       " <td>-75.0</td>\n",
       " <td>766.0</td>\n",
       " </tr>,\n",
       " <tr class=\"data-row\">\n",
       " <td>671</td>\n",
       " <td>2014-08-23</td>\n",
       " <td>727</td>\n",
       " <td>182</td>\n",
       " <td>7</td>\n",
       " <td>-76.0</td>\n",
       " <td>766.0</td>\n",
       " </tr>,\n",
       " <tr class=\"data-row\">\n",
       " <td>670</td>\n",
       " <td>2014-08-24</td>\n",
       " <td>728</td>\n",
       " <td>183</td>\n",
       " <td>7</td>\n",
       " <td>-74.0</td>\n",
       " <td>766.0</td>\n",
       " </tr>,\n",
       " <tr class=\"data-row\">\n",
       " <td>672</td>\n",
       " <td>2014-08-25</td>\n",
       " <td>729</td>\n",
       " <td>183</td>\n",
       " <td>7</td>\n",
       " <td>-75.0</td>\n",
       " <td>768.0</td>\n",
       " </tr>,\n",
       " <tr class=\"data-row\">\n",
       " <td>676</td>\n",
       " <td>2014-08-26</td>\n",
       " <td>730</td>\n",
       " <td>184</td>\n",
       " <td>7</td>\n",
       " <td>-76.0</td>\n",
       " <td>770.0</td>\n",
       " </tr>,\n",
       " <tr class=\"data-row\">\n",
       " <td>673</td>\n",
       " <td>2014-08-27</td>\n",
       " <td>731</td>\n",
       " <td>185</td>\n",
       " <td>7</td>\n",
       " <td>-75.0</td>\n",
       " <td>771.0</td>\n",
       " </tr>,\n",
       " <tr class=\"data-row\">\n",
       " <td>677</td>\n",
       " <td>2014-08-28</td>\n",
       " <td>732</td>\n",
       " <td>185</td>\n",
       " <td>7</td>\n",
       " <td>-75.0</td>\n",
       " <td>773.0</td>\n",
       " </tr>,\n",
       " <tr class=\"data-row\">\n",
       " <td>674</td>\n",
       " <td>2014-08-29</td>\n",
       " <td>733</td>\n",
       " <td>186</td>\n",
       " <td>7</td>\n",
       " <td>-74.0</td>\n",
       " <td>773.0</td>\n",
       " </tr>,\n",
       " <tr class=\"data-row\">\n",
       " <td>675</td>\n",
       " <td>2014-08-30</td>\n",
       " <td>734</td>\n",
       " <td>186</td>\n",
       " <td>7</td>\n",
       " <td>-73.0</td>\n",
       " <td>776.0</td>\n",
       " </tr>,\n",
       " <tr class=\"data-row\">\n",
       " <td>678</td>\n",
       " <td>2014-08-31</td>\n",
       " <td>735</td>\n",
       " <td>187</td>\n",
       " <td>7</td>\n",
       " <td>-73.0</td>\n",
       " <td>776.0</td>\n",
       " </tr>,\n",
       " <tr class=\"data-row\">\n",
       " <td>679</td>\n",
       " <td>2014-09-01</td>\n",
       " <td>736</td>\n",
       " <td>188</td>\n",
       " <td>7</td>\n",
       " <td>-76.0</td>\n",
       " <td>776.0</td>\n",
       " </tr>,\n",
       " <tr class=\"data-row\">\n",
       " <td>680</td>\n",
       " <td>2014-09-02</td>\n",
       " <td>737</td>\n",
       " <td>188</td>\n",
       " <td>7</td>\n",
       " <td>-74.0</td>\n",
       " <td>777.0</td>\n",
       " </tr>,\n",
       " <tr class=\"data-row\">\n",
       " <td>681</td>\n",
       " <td>2014-09-03</td>\n",
       " <td>738</td>\n",
       " <td>189</td>\n",
       " <td>7</td>\n",
       " <td>-75.0</td>\n",
       " <td>778.0</td>\n",
       " </tr>,\n",
       " <tr class=\"data-row\">\n",
       " <td>682</td>\n",
       " <td>2014-09-04</td>\n",
       " <td>739</td>\n",
       " <td>189</td>\n",
       " <td>7</td>\n",
       " <td>-77.0</td>\n",
       " <td>779.0</td>\n",
       " </tr>,\n",
       " <tr class=\"data-row\">\n",
       " <td>685</td>\n",
       " <td>2014-09-05</td>\n",
       " <td>740</td>\n",
       " <td>190</td>\n",
       " <td>7</td>\n",
       " <td>-76.0</td>\n",
       " <td>782.0</td>\n",
       " </tr>,\n",
       " <tr class=\"data-row\">\n",
       " <td>683</td>\n",
       " <td>2014-09-06</td>\n",
       " <td>741</td>\n",
       " <td>191</td>\n",
       " <td>7</td>\n",
       " <td>-70.0</td>\n",
       " <td>784.0</td>\n",
       " </tr>,\n",
       " <tr class=\"data-row\">\n",
       " <td>684</td>\n",
       " <td>2014-09-07</td>\n",
       " <td>742</td>\n",
       " <td>191</td>\n",
       " <td>7</td>\n",
       " <td>-72.0</td>\n",
       " <td>784.0</td>\n",
       " </tr>,\n",
       " <tr class=\"data-row\">\n",
       " <td>686</td>\n",
       " <td>2014-09-08</td>\n",
       " <td>743</td>\n",
       " <td>192</td>\n",
       " <td>7</td>\n",
       " <td>-72.0</td>\n",
       " <td>786.0</td>\n",
       " </tr>,\n",
       " <tr class=\"data-row\">\n",
       " <td>687</td>\n",
       " <td>2014-09-09</td>\n",
       " <td>744</td>\n",
       " <td>192</td>\n",
       " <td>7</td>\n",
       " <td>-75.0</td>\n",
       " <td>786.0</td>\n",
       " </tr>,\n",
       " <tr class=\"data-row\">\n",
       " <td>689</td>\n",
       " <td>2014-09-10</td>\n",
       " <td>745</td>\n",
       " <td>193</td>\n",
       " <td>7</td>\n",
       " <td>-74.0</td>\n",
       " <td>787.0</td>\n",
       " </tr>,\n",
       " <tr class=\"data-row\">\n",
       " <td>688</td>\n",
       " <td>2014-09-11</td>\n",
       " <td>746</td>\n",
       " <td>194</td>\n",
       " <td>7</td>\n",
       " <td>-76.0</td>\n",
       " <td>788.0</td>\n",
       " </tr>,\n",
       " <tr class=\"data-row\">\n",
       " <td>691</td>\n",
       " <td>2014-09-12</td>\n",
       " <td>747</td>\n",
       " <td>194</td>\n",
       " <td>7</td>\n",
       " <td>-73.0</td>\n",
       " <td>789.0</td>\n",
       " </tr>,\n",
       " <tr class=\"data-row\">\n",
       " <td>690</td>\n",
       " <td>2014-09-13</td>\n",
       " <td>748</td>\n",
       " <td>195</td>\n",
       " <td>7</td>\n",
       " <td>-71.0</td>\n",
       " <td>791.0</td>\n",
       " </tr>,\n",
       " <tr class=\"data-row\">\n",
       " <td>692</td>\n",
       " <td>2014-09-14</td>\n",
       " <td>749</td>\n",
       " <td>195</td>\n",
       " <td>7</td>\n",
       " <td>-73.0</td>\n",
       " <td>794.0</td>\n",
       " </tr>,\n",
       " <tr class=\"data-row\">\n",
       " <td>693</td>\n",
       " <td>2014-09-15</td>\n",
       " <td>750</td>\n",
       " <td>196</td>\n",
       " <td>7</td>\n",
       " <td>-72.0</td>\n",
       " <td>796.0</td>\n",
       " </tr>,\n",
       " <tr class=\"data-row\">\n",
       " <td>695</td>\n",
       " <td>2014-09-16</td>\n",
       " <td>751</td>\n",
       " <td>197</td>\n",
       " <td>7</td>\n",
       " <td>-72.0</td>\n",
       " <td>797.0</td>\n",
       " </tr>,\n",
       " <tr class=\"data-row\">\n",
       " <td>694</td>\n",
       " <td>2014-09-17</td>\n",
       " <td>752</td>\n",
       " <td>197</td>\n",
       " <td>7</td>\n",
       " <td>-71.0</td>\n",
       " <td>798.0</td>\n",
       " </tr>,\n",
       " <tr class=\"data-row\">\n",
       " <td>698</td>\n",
       " <td>2014-09-18</td>\n",
       " <td>753</td>\n",
       " <td>198</td>\n",
       " <td>7</td>\n",
       " <td>-73.0</td>\n",
       " <td>800.0</td>\n",
       " </tr>,\n",
       " <tr class=\"data-row\">\n",
       " <td>696</td>\n",
       " <td>2014-09-19</td>\n",
       " <td>754</td>\n",
       " <td>198</td>\n",
       " <td>7</td>\n",
       " <td>-73.0</td>\n",
       " <td>802.0</td>\n",
       " </tr>,\n",
       " <tr class=\"data-row\">\n",
       " <td>697</td>\n",
       " <td>2014-09-20</td>\n",
       " <td>755</td>\n",
       " <td>199</td>\n",
       " <td>7</td>\n",
       " <td>-74.0</td>\n",
       " <td>806.0</td>\n",
       " </tr>,\n",
       " <tr class=\"data-row\">\n",
       " <td>699</td>\n",
       " <td>2014-09-21</td>\n",
       " <td>756</td>\n",
       " <td>200</td>\n",
       " <td>7</td>\n",
       " <td>-73.0</td>\n",
       " <td>806.0</td>\n",
       " </tr>,\n",
       " <tr class=\"data-row\">\n",
       " <td>700</td>\n",
       " <td>2014-09-22</td>\n",
       " <td>757</td>\n",
       " <td>200</td>\n",
       " <td>7</td>\n",
       " <td>-73.0</td>\n",
       " <td>807.0</td>\n",
       " </tr>,\n",
       " <tr class=\"data-row\">\n",
       " <td>701</td>\n",
       " <td>2014-09-23</td>\n",
       " <td>758</td>\n",
       " <td>201</td>\n",
       " <td>7</td>\n",
       " <td>-71.0</td>\n",
       " <td>810.0</td>\n",
       " </tr>,\n",
       " <tr class=\"data-row\">\n",
       " <td>702</td>\n",
       " <td>2014-09-24</td>\n",
       " <td>759</td>\n",
       " <td>201</td>\n",
       " <td>7</td>\n",
       " <td>-77.0</td>\n",
       " <td>809.0</td>\n",
       " </tr>,\n",
       " <tr class=\"data-row\">\n",
       " <td>704</td>\n",
       " <td>2014-09-25</td>\n",
       " <td>760</td>\n",
       " <td>202</td>\n",
       " <td>7</td>\n",
       " <td>-70.0</td>\n",
       " <td>810.0</td>\n",
       " </tr>,\n",
       " <tr class=\"data-row\">\n",
       " <td>705</td>\n",
       " <td>2014-09-27</td>\n",
       " <td>761</td>\n",
       " <td>203</td>\n",
       " <td>7</td>\n",
       " <td>-72.0</td>\n",
       " <td>814.0</td>\n",
       " </tr>,\n",
       " <tr class=\"data-row\">\n",
       " <td>703</td>\n",
       " <td>2014-09-28</td>\n",
       " <td>762</td>\n",
       " <td>203</td>\n",
       " <td>7</td>\n",
       " <td>-75.0</td>\n",
       " <td>814.0</td>\n",
       " </tr>,\n",
       " <tr class=\"data-row\">\n",
       " <td>706</td>\n",
       " <td>2014-09-29</td>\n",
       " <td>763</td>\n",
       " <td>204</td>\n",
       " <td>7</td>\n",
       " <td>-78.0</td>\n",
       " <td>817.0</td>\n",
       " </tr>,\n",
       " <tr class=\"data-row\">\n",
       " <td>707</td>\n",
       " <td>2014-09-30</td>\n",
       " <td>764</td>\n",
       " <td>205</td>\n",
       " <td>7</td>\n",
       " <td>-73.0</td>\n",
       " <td>821.0</td>\n",
       " </tr>,\n",
       " <tr class=\"data-row\">\n",
       " <td>708</td>\n",
       " <td>2014-10-01</td>\n",
       " <td>765</td>\n",
       " <td>205</td>\n",
       " <td>7</td>\n",
       " <td>-73.0</td>\n",
       " <td>820.0</td>\n",
       " </tr>,\n",
       " <tr class=\"data-row\">\n",
       " <td>709</td>\n",
       " <td>2014-10-02</td>\n",
       " <td>766</td>\n",
       " <td>206</td>\n",
       " <td>7</td>\n",
       " <td>-70.0</td>\n",
       " <td>824.0</td>\n",
       " </tr>,\n",
       " <tr class=\"data-row\">\n",
       " <td>710</td>\n",
       " <td>2014-10-03</td>\n",
       " <td>767</td>\n",
       " <td>206</td>\n",
       " <td>7</td>\n",
       " <td>-71.0</td>\n",
       " <td>824.0</td>\n",
       " </tr>,\n",
       " <tr class=\"data-row\">\n",
       " <td>712</td>\n",
       " <td>2014-10-04</td>\n",
       " <td>768</td>\n",
       " <td>207</td>\n",
       " <td>7</td>\n",
       " <td>-73.0</td>\n",
       " <td>826.0</td>\n",
       " </tr>,\n",
       " <tr class=\"data-row\">\n",
       " <td>711</td>\n",
       " <td>2014-10-05</td>\n",
       " <td>769</td>\n",
       " <td>208</td>\n",
       " <td>7</td>\n",
       " <td>-73.0</td>\n",
       " <td>829.0</td>\n",
       " </tr>,\n",
       " <tr class=\"data-row\">\n",
       " <td>713</td>\n",
       " <td>2014-10-06</td>\n",
       " <td>770</td>\n",
       " <td>208</td>\n",
       " <td>7</td>\n",
       " <td>-70.0</td>\n",
       " <td>829.0</td>\n",
       " </tr>,\n",
       " <tr class=\"data-row\">\n",
       " <td>714</td>\n",
       " <td>2014-10-07</td>\n",
       " <td>771</td>\n",
       " <td>209</td>\n",
       " <td>7</td>\n",
       " <td>-71.0</td>\n",
       " <td>836.0</td>\n",
       " </tr>,\n",
       " <tr class=\"data-row\">\n",
       " <td>715</td>\n",
       " <td>2014-10-08</td>\n",
       " <td>772</td>\n",
       " <td>210</td>\n",
       " <td>8</td>\n",
       " <td>-71.0</td>\n",
       " <td>835.0</td>\n",
       " </tr>,\n",
       " <tr class=\"data-row\">\n",
       " <td>716</td>\n",
       " <td>2014-10-09</td>\n",
       " <td>773</td>\n",
       " <td>210</td>\n",
       " <td>8</td>\n",
       " <td>-70.0</td>\n",
       " <td>838.0</td>\n",
       " </tr>,\n",
       " <tr class=\"data-row\">\n",
       " <td>719</td>\n",
       " <td>2014-10-10</td>\n",
       " <td>774</td>\n",
       " <td>211</td>\n",
       " <td>8</td>\n",
       " <td>-73.0</td>\n",
       " <td>838.0</td>\n",
       " </tr>,\n",
       " <tr class=\"data-row\">\n",
       " <td>717</td>\n",
       " <td>2014-10-11</td>\n",
       " <td>775</td>\n",
       " <td>211</td>\n",
       " <td>8</td>\n",
       " <td>-71.0</td>\n",
       " <td>838.0</td>\n",
       " </tr>,\n",
       " <tr class=\"data-row\">\n",
       " <td>718</td>\n",
       " <td>2014-10-12</td>\n",
       " <td>776</td>\n",
       " <td>212</td>\n",
       " <td>8</td>\n",
       " <td>-72.0</td>\n",
       " <td>841.0</td>\n",
       " </tr>,\n",
       " <tr class=\"data-row\">\n",
       " <td>720</td>\n",
       " <td>2014-10-13</td>\n",
       " <td>777</td>\n",
       " <td>213</td>\n",
       " <td>8</td>\n",
       " <td>-72.0</td>\n",
       " <td>841.0</td>\n",
       " </tr>,\n",
       " <tr class=\"data-row\">\n",
       " <td>721</td>\n",
       " <td>2014-10-14</td>\n",
       " <td>778</td>\n",
       " <td>213</td>\n",
       " <td>8</td>\n",
       " <td>-70.0</td>\n",
       " <td>846.0</td>\n",
       " </tr>,\n",
       " <tr class=\"data-row\">\n",
       " <td>722</td>\n",
       " <td>2014-10-15</td>\n",
       " <td>779</td>\n",
       " <td>214</td>\n",
       " <td>8</td>\n",
       " <td>-71.0</td>\n",
       " <td>845.0</td>\n",
       " </tr>,\n",
       " <tr class=\"data-row\">\n",
       " <td>723</td>\n",
       " <td>2014-10-16</td>\n",
       " <td>780</td>\n",
       " <td>215</td>\n",
       " <td>8</td>\n",
       " <td>-72.0</td>\n",
       " <td>852.0</td>\n",
       " </tr>,\n",
       " <tr class=\"data-row\">\n",
       " <td>725</td>\n",
       " <td>2014-10-17</td>\n",
       " <td>781</td>\n",
       " <td>215</td>\n",
       " <td>8</td>\n",
       " <td>-74.0</td>\n",
       " <td>849.0</td>\n",
       " </tr>,\n",
       " <tr class=\"data-row\">\n",
       " <td>724</td>\n",
       " <td>2014-10-18</td>\n",
       " <td>782</td>\n",
       " <td>216</td>\n",
       " <td>8</td>\n",
       " <td>-71.0</td>\n",
       " <td>854.0</td>\n",
       " </tr>,\n",
       " <tr class=\"data-row\">\n",
       " <td>727</td>\n",
       " <td>2014-10-19</td>\n",
       " <td>783</td>\n",
       " <td>216</td>\n",
       " <td>8</td>\n",
       " <td>-69.0</td>\n",
       " <td>853.0</td>\n",
       " </tr>,\n",
       " <tr class=\"data-row\">\n",
       " <td>726</td>\n",
       " <td>2014-10-20</td>\n",
       " <td>784</td>\n",
       " <td>217</td>\n",
       " <td>8</td>\n",
       " <td>-69.0</td>\n",
       " <td>857.0</td>\n",
       " </tr>,\n",
       " <tr class=\"data-row\">\n",
       " <td>728</td>\n",
       " <td>2014-10-21</td>\n",
       " <td>785</td>\n",
       " <td>218</td>\n",
       " <td>8</td>\n",
       " <td>-74.0</td>\n",
       " <td>858.0</td>\n",
       " </tr>,\n",
       " <tr class=\"data-row\">\n",
       " <td>729</td>\n",
       " <td>2014-10-22</td>\n",
       " <td>786</td>\n",
       " <td>218</td>\n",
       " <td>8</td>\n",
       " <td>-74.0</td>\n",
       " <td>861.0</td>\n",
       " </tr>,\n",
       " <tr class=\"data-row\">\n",
       " <td>732</td>\n",
       " <td>2014-10-23</td>\n",
       " <td>787</td>\n",
       " <td>219</td>\n",
       " <td>8</td>\n",
       " <td>-73.0</td>\n",
       " <td>860.0</td>\n",
       " </tr>,\n",
       " <tr class=\"data-row\">\n",
       " <td>731</td>\n",
       " <td>2014-10-24</td>\n",
       " <td>788</td>\n",
       " <td>220</td>\n",
       " <td>8</td>\n",
       " <td>-68.0</td>\n",
       " <td>862.0</td>\n",
       " </tr>,\n",
       " <tr class=\"data-row\">\n",
       " <td>730</td>\n",
       " <td>2014-10-25</td>\n",
       " <td>789</td>\n",
       " <td>220</td>\n",
       " <td>8</td>\n",
       " <td>-68.0</td>\n",
       " <td>862.0</td>\n",
       " </tr>,\n",
       " <tr class=\"data-row\">\n",
       " <td>733</td>\n",
       " <td>2014-10-26</td>\n",
       " <td>790</td>\n",
       " <td>221</td>\n",
       " <td>8</td>\n",
       " <td>-68.0</td>\n",
       " <td>864.0</td>\n",
       " </tr>,\n",
       " <tr class=\"data-row\">\n",
       " <td>734</td>\n",
       " <td>2014-10-27</td>\n",
       " <td>791</td>\n",
       " <td>222</td>\n",
       " <td>8</td>\n",
       " <td>-70.0</td>\n",
       " <td>867.0</td>\n",
       " </tr>,\n",
       " <tr class=\"data-row\">\n",
       " <td>735</td>\n",
       " <td>2014-10-28</td>\n",
       " <td>792</td>\n",
       " <td>222</td>\n",
       " <td>8</td>\n",
       " <td>-71.0</td>\n",
       " <td>873.0</td>\n",
       " </tr>,\n",
       " <tr class=\"data-row\">\n",
       " <td>736</td>\n",
       " <td>2014-10-29</td>\n",
       " <td>793</td>\n",
       " <td>223</td>\n",
       " <td>8</td>\n",
       " <td>-71.0</td>\n",
       " <td>877.0</td>\n",
       " </tr>,\n",
       " <tr class=\"data-row\">\n",
       " <td>739</td>\n",
       " <td>2014-10-30</td>\n",
       " <td>794</td>\n",
       " <td>223</td>\n",
       " <td>8</td>\n",
       " <td>-68.0</td>\n",
       " <td>874.0</td>\n",
       " </tr>,\n",
       " <tr class=\"data-row\">\n",
       " <td>738</td>\n",
       " <td>2014-10-31</td>\n",
       " <td>795</td>\n",
       " <td>224</td>\n",
       " <td>8</td>\n",
       " <td>-68.0</td>\n",
       " <td>875.0</td>\n",
       " </tr>,\n",
       " <tr class=\"data-row\">\n",
       " <td>737</td>\n",
       " <td>2014-11-01</td>\n",
       " <td>796</td>\n",
       " <td>225</td>\n",
       " <td>8</td>\n",
       " <td>-65.0</td>\n",
       " <td>877.0</td>\n",
       " </tr>,\n",
       " <tr class=\"data-row\">\n",
       " <td>740</td>\n",
       " <td>2014-11-03</td>\n",
       " <td>797</td>\n",
       " <td>225</td>\n",
       " <td>8</td>\n",
       " <td>-65.0</td>\n",
       " <td>879.0</td>\n",
       " </tr>,\n",
       " <tr class=\"data-row\">\n",
       " <td>741</td>\n",
       " <td>2014-11-04</td>\n",
       " <td>798</td>\n",
       " <td>226</td>\n",
       " <td>8</td>\n",
       " <td>-67.0</td>\n",
       " <td>883.0</td>\n",
       " </tr>,\n",
       " <tr class=\"data-row\">\n",
       " <td>743</td>\n",
       " <td>2014-11-05</td>\n",
       " <td>799</td>\n",
       " <td>227</td>\n",
       " <td>8</td>\n",
       " <td>-70.0</td>\n",
       " <td>884.0</td>\n",
       " </tr>,\n",
       " <tr class=\"data-row\">\n",
       " <td>742</td>\n",
       " <td>2014-11-06</td>\n",
       " <td>800</td>\n",
       " <td>227</td>\n",
       " <td>8</td>\n",
       " <td>-67.0</td>\n",
       " <td>884.0</td>\n",
       " </tr>,\n",
       " <tr class=\"data-row\">\n",
       " <td>746</td>\n",
       " <td>2014-11-07</td>\n",
       " <td>801</td>\n",
       " <td>228</td>\n",
       " <td>8</td>\n",
       " <td>-70.0</td>\n",
       " <td>884.0</td>\n",
       " </tr>,\n",
       " <tr class=\"data-row\">\n",
       " <td>745</td>\n",
       " <td>2014-11-08</td>\n",
       " <td>802</td>\n",
       " <td>229</td>\n",
       " <td>8</td>\n",
       " <td>-69.0</td>\n",
       " <td>887.0</td>\n",
       " </tr>,\n",
       " <tr class=\"data-row\">\n",
       " <td>744</td>\n",
       " <td>2014-11-09</td>\n",
       " <td>803</td>\n",
       " <td>229</td>\n",
       " <td>8</td>\n",
       " <td>-69.0</td>\n",
       " <td>888.0</td>\n",
       " </tr>,\n",
       " <tr class=\"data-row\">\n",
       " <td>747</td>\n",
       " <td>2014-11-10</td>\n",
       " <td>804</td>\n",
       " <td>230</td>\n",
       " <td>8</td>\n",
       " <td>-73.0</td>\n",
       " <td>891.0</td>\n",
       " </tr>,\n",
       " <tr class=\"data-row\">\n",
       " <td>748</td>\n",
       " <td>2014-11-11</td>\n",
       " <td>805</td>\n",
       " <td>231</td>\n",
       " <td>8</td>\n",
       " <td>-70.0</td>\n",
       " <td>893.0</td>\n",
       " </tr>,\n",
       " <tr class=\"data-row\">\n",
       " <td>750</td>\n",
       " <td>2014-11-12</td>\n",
       " <td>806</td>\n",
       " <td>231</td>\n",
       " <td>8</td>\n",
       " <td>-69.0</td>\n",
       " <td>893.0</td>\n",
       " </tr>,\n",
       " <tr class=\"data-row\">\n",
       " <td>749</td>\n",
       " <td>2014-11-13</td>\n",
       " <td>807</td>\n",
       " <td>232</td>\n",
       " <td>8</td>\n",
       " <td>-71.0</td>\n",
       " <td>892.0</td>\n",
       " </tr>,\n",
       " <tr class=\"data-row\">\n",
       " <td>752</td>\n",
       " <td>2014-11-14</td>\n",
       " <td>808</td>\n",
       " <td>232</td>\n",
       " <td>8</td>\n",
       " <td>-67.0</td>\n",
       " <td>893.0</td>\n",
       " </tr>,\n",
       " <tr class=\"data-row\">\n",
       " <td>753</td>\n",
       " <td>2014-11-15</td>\n",
       " <td>809</td>\n",
       " <td>233</td>\n",
       " <td>8</td>\n",
       " <td>-70.0</td>\n",
       " <td>895.0</td>\n",
       " </tr>,\n",
       " <tr class=\"data-row\">\n",
       " <td>751</td>\n",
       " <td>2014-11-16</td>\n",
       " <td>810</td>\n",
       " <td>234</td>\n",
       " <td>8</td>\n",
       " <td>-69.0</td>\n",
       " <td>897.0</td>\n",
       " </tr>,\n",
       " <tr class=\"data-row\">\n",
       " <td>754</td>\n",
       " <td>2014-11-17</td>\n",
       " <td>811</td>\n",
       " <td>234</td>\n",
       " <td>8</td>\n",
       " <td>-71.0</td>\n",
       " <td>900.0</td>\n",
       " </tr>,\n",
       " <tr class=\"data-row\">\n",
       " <td>755</td>\n",
       " <td>2014-11-18</td>\n",
       " <td>812</td>\n",
       " <td>235</td>\n",
       " <td>8</td>\n",
       " <td>-75.0</td>\n",
       " <td>902.0</td>\n",
       " </tr>,\n",
       " <tr class=\"data-row\">\n",
       " <td>756</td>\n",
       " <td>2014-11-19</td>\n",
       " <td>813</td>\n",
       " <td>236</td>\n",
       " <td>8</td>\n",
       " <td>-67.0</td>\n",
       " <td>904.0</td>\n",
       " </tr>,\n",
       " <tr class=\"data-row\">\n",
       " <td>757</td>\n",
       " <td>2014-11-20</td>\n",
       " <td>814</td>\n",
       " <td>236</td>\n",
       " <td>8</td>\n",
       " <td>-68.0</td>\n",
       " <td>902.0</td>\n",
       " </tr>,\n",
       " <tr class=\"data-row\">\n",
       " <td>759</td>\n",
       " <td>2014-11-21</td>\n",
       " <td>815</td>\n",
       " <td>237</td>\n",
       " <td>8</td>\n",
       " <td>-69.0</td>\n",
       " <td>905.0</td>\n",
       " </tr>,\n",
       " <tr class=\"data-row\">\n",
       " <td>758</td>\n",
       " <td>2014-11-22</td>\n",
       " <td>816</td>\n",
       " <td>238</td>\n",
       " <td>8</td>\n",
       " <td>-74.0</td>\n",
       " <td>909.0</td>\n",
       " </tr>,\n",
       " <tr class=\"data-row\">\n",
       " <td>761</td>\n",
       " <td>2014-11-23</td>\n",
       " <td>817</td>\n",
       " <td>238</td>\n",
       " <td>8</td>\n",
       " <td>-69.0</td>\n",
       " <td>913.0</td>\n",
       " </tr>,\n",
       " <tr class=\"data-row\">\n",
       " <td>760</td>\n",
       " <td>2014-11-24</td>\n",
       " <td>818</td>\n",
       " <td>239</td>\n",
       " <td>8</td>\n",
       " <td>-68.0</td>\n",
       " <td>914.0</td>\n",
       " </tr>,\n",
       " <tr class=\"data-row\">\n",
       " <td>763</td>\n",
       " <td>2014-11-25</td>\n",
       " <td>819</td>\n",
       " <td>240</td>\n",
       " <td>9</td>\n",
       " <td>-71.0</td>\n",
       " <td>913.0</td>\n",
       " </tr>,\n",
       " <tr class=\"data-row\">\n",
       " <td>765</td>\n",
       " <td>2014-11-26</td>\n",
       " <td>820</td>\n",
       " <td>240</td>\n",
       " <td>9</td>\n",
       " <td>-68.0</td>\n",
       " <td>910.0</td>\n",
       " </tr>,\n",
       " <tr class=\"data-row\">\n",
       " <td>762</td>\n",
       " <td>2014-11-27</td>\n",
       " <td>821</td>\n",
       " <td>241</td>\n",
       " <td>9</td>\n",
       " <td>-68.0</td>\n",
       " <td>910.0</td>\n",
       " </tr>,\n",
       " <tr class=\"data-row\">\n",
       " <td>764</td>\n",
       " <td>2014-11-28</td>\n",
       " <td>822</td>\n",
       " <td>242</td>\n",
       " <td>9</td>\n",
       " <td>-71.0</td>\n",
       " <td>911.0</td>\n",
       " </tr>,\n",
       " <tr class=\"data-row\">\n",
       " <td>766</td>\n",
       " <td>2014-11-29</td>\n",
       " <td>823</td>\n",
       " <td>242</td>\n",
       " <td>9</td>\n",
       " <td>-69.0</td>\n",
       " <td>912.0</td>\n",
       " </tr>,\n",
       " <tr class=\"data-row\">\n",
       " <td>768</td>\n",
       " <td>2014-11-30</td>\n",
       " <td>824</td>\n",
       " <td>243</td>\n",
       " <td>9</td>\n",
       " <td>-67.0</td>\n",
       " <td>914.0</td>\n",
       " </tr>,\n",
       " <tr class=\"data-row\">\n",
       " <td>767</td>\n",
       " <td>2014-12-01</td>\n",
       " <td>825</td>\n",
       " <td>243</td>\n",
       " <td>9</td>\n",
       " <td>-67.0</td>\n",
       " <td>914.0</td>\n",
       " </tr>,\n",
       " <tr class=\"data-row\">\n",
       " <td>770</td>\n",
       " <td>2014-12-02</td>\n",
       " <td>826</td>\n",
       " <td>244</td>\n",
       " <td>9</td>\n",
       " <td>-68.0</td>\n",
       " <td>914.0</td>\n",
       " </tr>,\n",
       " <tr class=\"data-row\">\n",
       " <td>769</td>\n",
       " <td>2014-12-03</td>\n",
       " <td>827</td>\n",
       " <td>245</td>\n",
       " <td>9</td>\n",
       " <td>-68.0</td>\n",
       " <td>911.0</td>\n",
       " </tr>,\n",
       " <tr class=\"data-row\">\n",
       " <td>771</td>\n",
       " <td>2014-12-04</td>\n",
       " <td>828</td>\n",
       " <td>245</td>\n",
       " <td>9</td>\n",
       " <td>-71.0</td>\n",
       " <td>914.0</td>\n",
       " </tr>,\n",
       " <tr class=\"data-row\">\n",
       " <td>773</td>\n",
       " <td>2014-12-05</td>\n",
       " <td>829</td>\n",
       " <td>246</td>\n",
       " <td>9</td>\n",
       " <td>-71.0</td>\n",
       " <td>914.0</td>\n",
       " </tr>,\n",
       " <tr class=\"data-row\">\n",
       " <td>772</td>\n",
       " <td>2014-12-06</td>\n",
       " <td>830</td>\n",
       " <td>247</td>\n",
       " <td>9</td>\n",
       " <td>-68.0</td>\n",
       " <td>918.0</td>\n",
       " </tr>,\n",
       " <tr class=\"data-row\">\n",
       " <td>774</td>\n",
       " <td>2014-12-07</td>\n",
       " <td>831</td>\n",
       " <td>247</td>\n",
       " <td>9</td>\n",
       " <td>-68.0</td>\n",
       " <td>920.0</td>\n",
       " </tr>,\n",
       " <tr class=\"data-row\">\n",
       " <td>775</td>\n",
       " <td>2014-12-08</td>\n",
       " <td>832</td>\n",
       " <td>248</td>\n",
       " <td>9</td>\n",
       " <td>-68.0</td>\n",
       " <td>924.0</td>\n",
       " </tr>,\n",
       " <tr class=\"data-row\">\n",
       " <td>776</td>\n",
       " <td>2014-12-09</td>\n",
       " <td>833</td>\n",
       " <td>249</td>\n",
       " <td>9</td>\n",
       " <td>-69.0</td>\n",
       " <td>923.0</td>\n",
       " </tr>,\n",
       " <tr class=\"data-row\">\n",
       " <td>777</td>\n",
       " <td>2014-12-11</td>\n",
       " <td>834</td>\n",
       " <td>249</td>\n",
       " <td>9</td>\n",
       " <td>-68.0</td>\n",
       " <td>918.0</td>\n",
       " </tr>,\n",
       " <tr class=\"data-row\">\n",
       " <td>780</td>\n",
       " <td>2014-12-12</td>\n",
       " <td>835</td>\n",
       " <td>250</td>\n",
       " <td>9</td>\n",
       " <td>-69.0</td>\n",
       " <td>917.0</td>\n",
       " </tr>,\n",
       " <tr class=\"data-row\">\n",
       " <td>778</td>\n",
       " <td>2014-12-13</td>\n",
       " <td>836</td>\n",
       " <td>251</td>\n",
       " <td>9</td>\n",
       " <td>-69.0</td>\n",
       " <td>916.0</td>\n",
       " </tr>,\n",
       " <tr class=\"data-row\">\n",
       " <td>779</td>\n",
       " <td>2014-12-14</td>\n",
       " <td>837</td>\n",
       " <td>251</td>\n",
       " <td>9</td>\n",
       " <td>-69.0</td>\n",
       " <td>916.0</td>\n",
       " </tr>,\n",
       " <tr class=\"data-row\">\n",
       " <td>782</td>\n",
       " <td>2014-12-15</td>\n",
       " <td>838</td>\n",
       " <td>252</td>\n",
       " <td>9</td>\n",
       " <td>-69.0</td>\n",
       " <td>917.0</td>\n",
       " </tr>,\n",
       " <tr class=\"data-row\">\n",
       " <td>781</td>\n",
       " <td>2014-12-16</td>\n",
       " <td>839</td>\n",
       " <td>253</td>\n",
       " <td>9</td>\n",
       " <td>-70.0</td>\n",
       " <td>917.0</td>\n",
       " </tr>,\n",
       " <tr class=\"data-row\">\n",
       " <td>783</td>\n",
       " <td>2014-12-17</td>\n",
       " <td>840</td>\n",
       " <td>253</td>\n",
       " <td>9</td>\n",
       " <td>-74.0</td>\n",
       " <td>913.0</td>\n",
       " </tr>,\n",
       " <tr class=\"data-row\">\n",
       " <td>784</td>\n",
       " <td>2014-12-18</td>\n",
       " <td>841</td>\n",
       " <td>254</td>\n",
       " <td>9</td>\n",
       " <td>-75.0</td>\n",
       " <td>914.0</td>\n",
       " </tr>,\n",
       " <tr class=\"data-row\">\n",
       " <td>790</td>\n",
       " <td>2014-12-19</td>\n",
       " <td>842</td>\n",
       " <td>255</td>\n",
       " <td>9</td>\n",
       " <td>-69.0</td>\n",
       " <td>914.0</td>\n",
       " </tr>,\n",
       " <tr class=\"data-row\">\n",
       " <td>793</td>\n",
       " <td>2014-12-20</td>\n",
       " <td>843</td>\n",
       " <td>255</td>\n",
       " <td>9</td>\n",
       " <td>-69.0</td>\n",
       " <td>916.0</td>\n",
       " </tr>,\n",
       " <tr class=\"data-row\">\n",
       " <td>788</td>\n",
       " <td>2014-12-21</td>\n",
       " <td>844</td>\n",
       " <td>256</td>\n",
       " <td>9</td>\n",
       " <td>-68.0</td>\n",
       " <td>917.0</td>\n",
       " </tr>,\n",
       " <tr class=\"data-row\">\n",
       " <td>786</td>\n",
       " <td>2014-12-22</td>\n",
       " <td>845</td>\n",
       " <td>257</td>\n",
       " <td>9</td>\n",
       " <td>-73.0</td>\n",
       " <td>920.0</td>\n",
       " </tr>,\n",
       " <tr class=\"data-row\">\n",
       " <td>785</td>\n",
       " <td>2014-12-23</td>\n",
       " <td>846</td>\n",
       " <td>257</td>\n",
       " <td>9</td>\n",
       " <td>-74.0</td>\n",
       " <td>925.0</td>\n",
       " </tr>,\n",
       " <tr class=\"data-row\">\n",
       " <td>791</td>\n",
       " <td>2014-12-24</td>\n",
       " <td>847</td>\n",
       " <td>258</td>\n",
       " <td>9</td>\n",
       " <td>-69.0</td>\n",
       " <td>918.0</td>\n",
       " </tr>,\n",
       " <tr class=\"data-row\">\n",
       " <td>792</td>\n",
       " <td>2014-12-25</td>\n",
       " <td>848</td>\n",
       " <td>258</td>\n",
       " <td>9</td>\n",
       " <td>-69.0</td>\n",
       " <td>918.0</td>\n",
       " </tr>,\n",
       " <tr class=\"data-row\">\n",
       " <td>787</td>\n",
       " <td>2014-12-26</td>\n",
       " <td>849</td>\n",
       " <td>259</td>\n",
       " <td>9</td>\n",
       " <td>-69.0</td>\n",
       " <td>918.0</td>\n",
       " </tr>,\n",
       " <tr class=\"data-row\">\n",
       " <td>789</td>\n",
       " <td>2014-12-27</td>\n",
       " <td>850</td>\n",
       " <td>260</td>\n",
       " <td>9</td>\n",
       " <td>-68.0</td>\n",
       " <td>918.0</td>\n",
       " </tr>,\n",
       " <tr class=\"data-row\">\n",
       " <td>794</td>\n",
       " <td>2014-12-28</td>\n",
       " <td>851</td>\n",
       " <td>260</td>\n",
       " <td>9</td>\n",
       " <td>-68.0</td>\n",
       " <td>919.0</td>\n",
       " </tr>,\n",
       " <tr class=\"data-row\">\n",
       " <td>797</td>\n",
       " <td>2014-12-29</td>\n",
       " <td>852</td>\n",
       " <td>261</td>\n",
       " <td>9</td>\n",
       " <td>-73.0</td>\n",
       " <td>916.0</td>\n",
       " </tr>,\n",
       " <tr class=\"data-row\">\n",
       " <td>796</td>\n",
       " <td>2014-12-30</td>\n",
       " <td>853</td>\n",
       " <td>262</td>\n",
       " <td>9</td>\n",
       " <td>-67.0</td>\n",
       " <td>913.0</td>\n",
       " </tr>,\n",
       " <tr class=\"data-row\">\n",
       " <td>798</td>\n",
       " <td>2014-12-31</td>\n",
       " <td>854</td>\n",
       " <td>262</td>\n",
       " <td>9</td>\n",
       " <td>-66.0</td>\n",
       " <td>910.0</td>\n",
       " </tr>,\n",
       " <tr class=\"data-row\">\n",
       " <td>799</td>\n",
       " <td>2015-01-01</td>\n",
       " <td>855</td>\n",
       " <td>263</td>\n",
       " <td>9</td>\n",
       " <td>-69.0</td>\n",
       " <td>912.0</td>\n",
       " </tr>,\n",
       " <tr class=\"data-row\">\n",
       " <td>795</td>\n",
       " <td>2015-01-02</td>\n",
       " <td>856</td>\n",
       " <td>264</td>\n",
       " <td>9</td>\n",
       " <td>-68.0</td>\n",
       " <td>912.0</td>\n",
       " </tr>,\n",
       " <tr class=\"data-row\">\n",
       " <td>801</td>\n",
       " <td>2015-01-03</td>\n",
       " <td>857</td>\n",
       " <td>264</td>\n",
       " <td>9</td>\n",
       " <td>-76.0</td>\n",
       " <td>911.0</td>\n",
       " </tr>,\n",
       " <tr class=\"data-row\">\n",
       " <td>800</td>\n",
       " <td>2015-01-04</td>\n",
       " <td>858</td>\n",
       " <td>265</td>\n",
       " <td>9</td>\n",
       " <td>-73.0</td>\n",
       " <td>913.0</td>\n",
       " </tr>,\n",
       " <tr class=\"data-row\">\n",
       " <td>802</td>\n",
       " <td>2015-01-05</td>\n",
       " <td>859</td>\n",
       " <td>266</td>\n",
       " <td>9</td>\n",
       " <td>-72.0</td>\n",
       " <td>915.0</td>\n",
       " </tr>,\n",
       " <tr class=\"data-row\">\n",
       " <td>803</td>\n",
       " <td>2015-01-06</td>\n",
       " <td>860</td>\n",
       " <td>266</td>\n",
       " <td>9</td>\n",
       " <td>-69.0</td>\n",
       " <td>916.0</td>\n",
       " </tr>,\n",
       " <tr class=\"data-row\">\n",
       " <td>804</td>\n",
       " <td>2015-01-07</td>\n",
       " <td>861</td>\n",
       " <td>267</td>\n",
       " <td>9</td>\n",
       " <td>-70.0</td>\n",
       " <td>917.0</td>\n",
       " </tr>,\n",
       " <tr class=\"data-row\">\n",
       " <td>807</td>\n",
       " <td>2015-01-08</td>\n",
       " <td>862</td>\n",
       " <td>268</td>\n",
       " <td>9</td>\n",
       " <td>-70.0</td>\n",
       " <td>917.0</td>\n",
       " </tr>,\n",
       " <tr class=\"data-row\">\n",
       " <td>805</td>\n",
       " <td>2015-01-09</td>\n",
       " <td>863</td>\n",
       " <td>268</td>\n",
       " <td>9</td>\n",
       " <td>-72.0</td>\n",
       " <td>916.0</td>\n",
       " </tr>,\n",
       " <tr class=\"data-row\">\n",
       " <td>806</td>\n",
       " <td>2015-01-10</td>\n",
       " <td>864</td>\n",
       " <td>269</td>\n",
       " <td>9</td>\n",
       " <td>-70.0</td>\n",
       " <td>914.0</td>\n",
       " </tr>,\n",
       " <tr class=\"data-row\">\n",
       " <td>808</td>\n",
       " <td>2015-01-11</td>\n",
       " <td>865</td>\n",
       " <td>270</td>\n",
       " <td>10</td>\n",
       " <td>-70.0</td>\n",
       " <td>913.0</td>\n",
       " </tr>,\n",
       " <tr class=\"data-row\">\n",
       " <td>809</td>\n",
       " <td>2015-01-12</td>\n",
       " <td>866</td>\n",
       " <td>270</td>\n",
       " <td>10</td>\n",
       " <td>-71.0</td>\n",
       " <td>911.0</td>\n",
       " </tr>,\n",
       " <tr class=\"data-row\">\n",
       " <td>810</td>\n",
       " <td>2015-01-13</td>\n",
       " <td>867</td>\n",
       " <td>271</td>\n",
       " <td>10</td>\n",
       " <td>-71.0</td>\n",
       " <td>910.0</td>\n",
       " </tr>,\n",
       " <tr class=\"data-row\">\n",
       " <td>811</td>\n",
       " <td>2015-01-14</td>\n",
       " <td>868</td>\n",
       " <td>271</td>\n",
       " <td>10</td>\n",
       " <td>-71.0</td>\n",
       " <td>908.0</td>\n",
       " </tr>,\n",
       " <tr class=\"data-row\">\n",
       " <td>812</td>\n",
       " <td>2015-01-15</td>\n",
       " <td>869</td>\n",
       " <td>272</td>\n",
       " <td>10</td>\n",
       " <td>-72.0</td>\n",
       " <td>906.0</td>\n",
       " </tr>,\n",
       " <tr class=\"data-row\">\n",
       " <td>813</td>\n",
       " <td>2015-01-17</td>\n",
       " <td>870</td>\n",
       " <td>273</td>\n",
       " <td>10</td>\n",
       " <td>-74.0</td>\n",
       " <td>909.0</td>\n",
       " </tr>,\n",
       " <tr class=\"data-row\">\n",
       " <td>814</td>\n",
       " <td>2015-01-18</td>\n",
       " <td>871</td>\n",
       " <td>273</td>\n",
       " <td>10</td>\n",
       " <td>-70.0</td>\n",
       " <td>903.0</td>\n",
       " </tr>,\n",
       " <tr class=\"data-row\">\n",
       " <td>815</td>\n",
       " <td>2015-01-19</td>\n",
       " <td>872</td>\n",
       " <td>274</td>\n",
       " <td>10</td>\n",
       " <td>-72.0</td>\n",
       " <td>902.0</td>\n",
       " </tr>,\n",
       " <tr class=\"data-row\">\n",
       " <td>817</td>\n",
       " <td>2015-01-28</td>\n",
       " <td>881</td>\n",
       " <td>280</td>\n",
       " <td>10</td>\n",
       " <td>-73.0</td>\n",
       " <td>899.0</td>\n",
       " </tr>,\n",
       " <tr class=\"data-row\">\n",
       " <td>818</td>\n",
       " <td>2015-01-29</td>\n",
       " <td>882</td>\n",
       " <td>280</td>\n",
       " <td>10</td>\n",
       " <td>-76.0</td>\n",
       " <td>901.0</td>\n",
       " </tr>,\n",
       " <tr class=\"data-row\">\n",
       " <td>820</td>\n",
       " <td>2015-01-30</td>\n",
       " <td>883</td>\n",
       " <td>281</td>\n",
       " <td>10</td>\n",
       " <td>-74.0</td>\n",
       " <td>897.0</td>\n",
       " </tr>,\n",
       " <tr class=\"data-row\">\n",
       " <td>821</td>\n",
       " <td>2015-01-31</td>\n",
       " <td>884</td>\n",
       " <td>282</td>\n",
       " <td>10</td>\n",
       " <td>-71.0</td>\n",
       " <td>897.0</td>\n",
       " </tr>,\n",
       " <tr class=\"data-row\">\n",
       " <td>819</td>\n",
       " <td>2015-02-01</td>\n",
       " <td>885</td>\n",
       " <td>282</td>\n",
       " <td>10</td>\n",
       " <td>-71.0</td>\n",
       " <td>895.0</td>\n",
       " </tr>,\n",
       " <tr class=\"data-row\">\n",
       " <td>823</td>\n",
       " <td>2015-02-02</td>\n",
       " <td>886</td>\n",
       " <td>283</td>\n",
       " <td>10</td>\n",
       " <td>-73.0</td>\n",
       " <td>894.0</td>\n",
       " </tr>,\n",
       " <tr class=\"data-row\">\n",
       " <td>822</td>\n",
       " <td>2015-02-03</td>\n",
       " <td>887</td>\n",
       " <td>284</td>\n",
       " <td>10</td>\n",
       " <td>-73.0</td>\n",
       " <td>897.0</td>\n",
       " </tr>,\n",
       " <tr class=\"data-row\">\n",
       " <td>824</td>\n",
       " <td>2015-02-04</td>\n",
       " <td>888</td>\n",
       " <td>284</td>\n",
       " <td>10</td>\n",
       " <td>-70.0</td>\n",
       " <td>896.0</td>\n",
       " </tr>,\n",
       " <tr class=\"data-row\">\n",
       " <td>825</td>\n",
       " <td>2015-02-05</td>\n",
       " <td>889</td>\n",
       " <td>285</td>\n",
       " <td>10</td>\n",
       " <td>-70.0</td>\n",
       " <td>895.0</td>\n",
       " </tr>,\n",
       " <tr class=\"data-row\">\n",
       " <td>826</td>\n",
       " <td>2015-02-06</td>\n",
       " <td>890</td>\n",
       " <td>286</td>\n",
       " <td>10</td>\n",
       " <td>-72.0</td>\n",
       " <td>892.0</td>\n",
       " </tr>,\n",
       " <tr class=\"data-row\">\n",
       " <td>827</td>\n",
       " <td>2015-02-07</td>\n",
       " <td>891</td>\n",
       " <td>286</td>\n",
       " <td>10</td>\n",
       " <td>-72.0</td>\n",
       " <td>892.0</td>\n",
       " </tr>,\n",
       " <tr class=\"data-row\">\n",
       " <td>828</td>\n",
       " <td>2015-02-08</td>\n",
       " <td>892</td>\n",
       " <td>287</td>\n",
       " <td>10</td>\n",
       " <td>-71.0</td>\n",
       " <td>892.0</td>\n",
       " </tr>,\n",
       " <tr class=\"data-row\">\n",
       " <td>829</td>\n",
       " <td>2015-02-09</td>\n",
       " <td>893</td>\n",
       " <td>287</td>\n",
       " <td>10</td>\n",
       " <td>-72.0</td>\n",
       " <td>890.0</td>\n",
       " </tr>,\n",
       " <tr class=\"data-row\">\n",
       " <td>830</td>\n",
       " <td>2015-02-10</td>\n",
       " <td>894</td>\n",
       " <td>288</td>\n",
       " <td>10</td>\n",
       " <td>-75.0</td>\n",
       " <td>891.0</td>\n",
       " </tr>,\n",
       " <tr class=\"data-row\">\n",
       " <td>831</td>\n",
       " <td>2015-02-11</td>\n",
       " <td>895</td>\n",
       " <td>289</td>\n",
       " <td>10</td>\n",
       " <td>-72.0</td>\n",
       " <td>889.0</td>\n",
       " </tr>,\n",
       " <tr class=\"data-row\">\n",
       " <td>833</td>\n",
       " <td>2015-02-12</td>\n",
       " <td>896</td>\n",
       " <td>289</td>\n",
       " <td>10</td>\n",
       " <td>-70.0</td>\n",
       " <td>888.0</td>\n",
       " </tr>,\n",
       " <tr class=\"data-row\">\n",
       " <td>832</td>\n",
       " <td>2015-02-13</td>\n",
       " <td>897</td>\n",
       " <td>290</td>\n",
       " <td>10</td>\n",
       " <td>-72.0</td>\n",
       " <td>884.0</td>\n",
       " </tr>,\n",
       " <tr class=\"data-row\">\n",
       " <td>834</td>\n",
       " <td>2015-02-14</td>\n",
       " <td>898</td>\n",
       " <td>291</td>\n",
       " <td>10</td>\n",
       " <td>-72.0</td>\n",
       " <td>883.0</td>\n",
       " </tr>,\n",
       " <tr class=\"data-row\">\n",
       " <td>835</td>\n",
       " <td>2015-02-15</td>\n",
       " <td>899</td>\n",
       " <td>291</td>\n",
       " <td>10</td>\n",
       " <td>-75.0</td>\n",
       " <td>881.0</td>\n",
       " </tr>,\n",
       " <tr class=\"data-row\">\n",
       " <td>836</td>\n",
       " <td>2015-02-16</td>\n",
       " <td>900</td>\n",
       " <td>292</td>\n",
       " <td>10</td>\n",
       " <td>-70.0</td>\n",
       " <td>883.0</td>\n",
       " </tr>,\n",
       " <tr class=\"data-row\">\n",
       " <td>837</td>\n",
       " <td>2015-02-17</td>\n",
       " <td>901</td>\n",
       " <td>292</td>\n",
       " <td>10</td>\n",
       " <td>-71.0</td>\n",
       " <td>885.0</td>\n",
       " </tr>,\n",
       " <tr class=\"data-row\">\n",
       " <td>838</td>\n",
       " <td>2015-02-18</td>\n",
       " <td>902</td>\n",
       " <td>293</td>\n",
       " <td>10</td>\n",
       " <td>-68.0</td>\n",
       " <td>883.0</td>\n",
       " </tr>,\n",
       " <tr class=\"data-row\">\n",
       " <td>839</td>\n",
       " <td>2015-02-19</td>\n",
       " <td>903</td>\n",
       " <td>294</td>\n",
       " <td>10</td>\n",
       " <td>-71.0</td>\n",
       " <td>882.0</td>\n",
       " </tr>,\n",
       " <tr class=\"data-row\">\n",
       " <td>841</td>\n",
       " <td>2015-02-20</td>\n",
       " <td>904</td>\n",
       " <td>294</td>\n",
       " <td>10</td>\n",
       " <td>-71.0</td>\n",
       " <td>878.0</td>\n",
       " </tr>,\n",
       " <tr class=\"data-row\">\n",
       " <td>840</td>\n",
       " <td>2015-02-21</td>\n",
       " <td>905</td>\n",
       " <td>295</td>\n",
       " <td>10</td>\n",
       " <td>-71.0</td>\n",
       " <td>880.0</td>\n",
       " </tr>,\n",
       " <tr class=\"data-row\">\n",
       " <td>843</td>\n",
       " <td>2015-02-22</td>\n",
       " <td>906</td>\n",
       " <td>296</td>\n",
       " <td>10</td>\n",
       " <td>-76.0</td>\n",
       " <td>878.0</td>\n",
       " </tr>,\n",
       " <tr class=\"data-row\">\n",
       " <td>842</td>\n",
       " <td>2015-02-24</td>\n",
       " <td>907</td>\n",
       " <td>296</td>\n",
       " <td>10</td>\n",
       " <td>-75.0</td>\n",
       " <td>879.0</td>\n",
       " </tr>,\n",
       " <tr class=\"data-row\">\n",
       " <td>844</td>\n",
       " <td>2015-02-25</td>\n",
       " <td>908</td>\n",
       " <td>297</td>\n",
       " <td>10</td>\n",
       " <td>-71.0</td>\n",
       " <td>883.0</td>\n",
       " </tr>,\n",
       " <tr class=\"data-row\">\n",
       " <td>845</td>\n",
       " <td>2015-02-26</td>\n",
       " <td>909</td>\n",
       " <td>297</td>\n",
       " <td>10</td>\n",
       " <td>-70.0</td>\n",
       " <td>878.0</td>\n",
       " </tr>,\n",
       " <tr class=\"data-row\">\n",
       " <td>847</td>\n",
       " <td>2015-02-27</td>\n",
       " <td>910</td>\n",
       " <td>298</td>\n",
       " <td>10</td>\n",
       " <td>-73.0</td>\n",
       " <td>878.0</td>\n",
       " </tr>,\n",
       " <tr class=\"data-row\">\n",
       " <td>846</td>\n",
       " <td>2015-02-28</td>\n",
       " <td>911</td>\n",
       " <td>299</td>\n",
       " <td>10</td>\n",
       " <td>-70.0</td>\n",
       " <td>874.0</td>\n",
       " </tr>,\n",
       " <tr class=\"data-row\">\n",
       " <td>849</td>\n",
       " <td>2015-03-01</td>\n",
       " <td>912</td>\n",
       " <td>299</td>\n",
       " <td>10</td>\n",
       " <td>-75.0</td>\n",
       " <td>875.0</td>\n",
       " </tr>,\n",
       " <tr class=\"data-row\">\n",
       " <td>848</td>\n",
       " <td>2015-03-02</td>\n",
       " <td>913</td>\n",
       " <td>300</td>\n",
       " <td>11</td>\n",
       " <td>-71.0</td>\n",
       " <td>871.0</td>\n",
       " </tr>,\n",
       " <tr class=\"data-row\">\n",
       " <td>850</td>\n",
       " <td>2015-03-03</td>\n",
       " <td>914</td>\n",
       " <td>300</td>\n",
       " <td>11</td>\n",
       " <td>-71.0</td>\n",
       " <td>874.0</td>\n",
       " </tr>,\n",
       " <tr class=\"data-row\">\n",
       " <td>851</td>\n",
       " <td>2015-03-04</td>\n",
       " <td>915</td>\n",
       " <td>301</td>\n",
       " <td>11</td>\n",
       " <td>-71.0</td>\n",
       " <td>878.0</td>\n",
       " </tr>,\n",
       " <tr class=\"data-row\">\n",
       " <td>852</td>\n",
       " <td>2015-03-05</td>\n",
       " <td>916</td>\n",
       " <td>302</td>\n",
       " <td>11</td>\n",
       " <td>-71.0</td>\n",
       " <td>872.0</td>\n",
       " </tr>,\n",
       " <tr class=\"data-row\">\n",
       " <td>854</td>\n",
       " <td>2015-03-06</td>\n",
       " <td>917</td>\n",
       " <td>302</td>\n",
       " <td>11</td>\n",
       " <td>-76.0</td>\n",
       " <td>871.0</td>\n",
       " </tr>,\n",
       " <tr class=\"data-row\">\n",
       " <td>853</td>\n",
       " <td>2015-03-07</td>\n",
       " <td>918</td>\n",
       " <td>303</td>\n",
       " <td>11</td>\n",
       " <td>-71.0</td>\n",
       " <td>867.0</td>\n",
       " </tr>,\n",
       " <tr class=\"data-row\">\n",
       " <td>855</td>\n",
       " <td>2015-03-08</td>\n",
       " <td>919</td>\n",
       " <td>304</td>\n",
       " <td>11</td>\n",
       " <td>-74.0</td>\n",
       " <td>870.0</td>\n",
       " </tr>,\n",
       " <tr class=\"data-row\">\n",
       " <td>856</td>\n",
       " <td>2015-03-09</td>\n",
       " <td>920</td>\n",
       " <td>304</td>\n",
       " <td>11</td>\n",
       " <td>-72.0</td>\n",
       " <td>868.0</td>\n",
       " </tr>,\n",
       " <tr class=\"data-row\">\n",
       " <td>857</td>\n",
       " <td>2015-03-10</td>\n",
       " <td>921</td>\n",
       " <td>305</td>\n",
       " <td>11</td>\n",
       " <td>-70.0</td>\n",
       " <td>867.0</td>\n",
       " </tr>,\n",
       " <tr class=\"data-row\">\n",
       " <td>858</td>\n",
       " <td>2015-03-11</td>\n",
       " <td>922</td>\n",
       " <td>305</td>\n",
       " <td>11</td>\n",
       " <td>-73.0</td>\n",
       " <td>870.0</td>\n",
       " </tr>,\n",
       " <tr class=\"data-row\">\n",
       " <td>859</td>\n",
       " <td>2015-03-12</td>\n",
       " <td>923</td>\n",
       " <td>306</td>\n",
       " <td>11</td>\n",
       " <td>-72.0</td>\n",
       " <td>867.0</td>\n",
       " </tr>,\n",
       " <tr class=\"data-row\">\n",
       " <td>861</td>\n",
       " <td>2015-03-13</td>\n",
       " <td>924</td>\n",
       " <td>307</td>\n",
       " <td>11</td>\n",
       " <td>-74.0</td>\n",
       " <td>867.0</td>\n",
       " </tr>,\n",
       " <tr class=\"data-row\">\n",
       " <td>860</td>\n",
       " <td>2015-03-14</td>\n",
       " <td>925</td>\n",
       " <td>307</td>\n",
       " <td>11</td>\n",
       " <td>-71.0</td>\n",
       " <td>862.0</td>\n",
       " </tr>,\n",
       " <tr class=\"data-row\">\n",
       " <td>862</td>\n",
       " <td>2015-03-15</td>\n",
       " <td>926</td>\n",
       " <td>308</td>\n",
       " <td>11</td>\n",
       " <td>-76.0</td>\n",
       " <td>864.0</td>\n",
       " </tr>,\n",
       " <tr class=\"data-row\">\n",
       " <td>863</td>\n",
       " <td>2015-03-16</td>\n",
       " <td>927</td>\n",
       " <td>308</td>\n",
       " <td>11</td>\n",
       " <td>-76.0</td>\n",
       " <td>862.0</td>\n",
       " </tr>,\n",
       " <tr class=\"data-row\">\n",
       " <td>864</td>\n",
       " <td>2015-03-17</td>\n",
       " <td>928</td>\n",
       " <td>309</td>\n",
       " <td>11</td>\n",
       " <td>-72.0</td>\n",
       " <td>862.0</td>\n",
       " </tr>,\n",
       " <tr class=\"data-row\">\n",
       " <td>865</td>\n",
       " <td>2015-03-18</td>\n",
       " <td>929</td>\n",
       " <td>310</td>\n",
       " <td>11</td>\n",
       " <td>-75.0</td>\n",
       " <td>866.0</td>\n",
       " </tr>,\n",
       " <tr class=\"data-row\">\n",
       " <td>868</td>\n",
       " <td>2015-03-19</td>\n",
       " <td>930</td>\n",
       " <td>310</td>\n",
       " <td>11</td>\n",
       " <td>-75.0</td>\n",
       " <td>865.0</td>\n",
       " </tr>,\n",
       " <tr class=\"data-row\">\n",
       " <td>867</td>\n",
       " <td>2015-03-20</td>\n",
       " <td>931</td>\n",
       " <td>311</td>\n",
       " <td>11</td>\n",
       " <td>-69.0</td>\n",
       " <td>864.0</td>\n",
       " </tr>,\n",
       " <tr class=\"data-row\">\n",
       " <td>866</td>\n",
       " <td>2015-03-21</td>\n",
       " <td>932</td>\n",
       " <td>311</td>\n",
       " <td>11</td>\n",
       " <td>-71.0</td>\n",
       " <td>859.0</td>\n",
       " </tr>,\n",
       " <tr class=\"data-row\">\n",
       " <td>869</td>\n",
       " <td>2015-03-22</td>\n",
       " <td>933</td>\n",
       " <td>312</td>\n",
       " <td>11</td>\n",
       " <td>-71.0</td>\n",
       " <td>863.0</td>\n",
       " </tr>,\n",
       " <tr class=\"data-row\">\n",
       " <td>870</td>\n",
       " <td>2015-03-23</td>\n",
       " <td>934</td>\n",
       " <td>313</td>\n",
       " <td>11</td>\n",
       " <td>-73.0</td>\n",
       " <td>858.0</td>\n",
       " </tr>,\n",
       " <tr class=\"data-row\">\n",
       " <td>872</td>\n",
       " <td>2015-03-24</td>\n",
       " <td>935</td>\n",
       " <td>313</td>\n",
       " <td>11</td>\n",
       " <td>-75.0</td>\n",
       " <td>862.0</td>\n",
       " </tr>,\n",
       " <tr class=\"data-row\">\n",
       " <td>871</td>\n",
       " <td>2015-03-25</td>\n",
       " <td>936</td>\n",
       " <td>314</td>\n",
       " <td>11</td>\n",
       " <td>-72.0</td>\n",
       " <td>865.0</td>\n",
       " </tr>,\n",
       " <tr class=\"data-row\">\n",
       " <td>874</td>\n",
       " <td>2015-03-26</td>\n",
       " <td>937</td>\n",
       " <td>314</td>\n",
       " <td>11</td>\n",
       " <td>-73.0</td>\n",
       " <td>863.0</td>\n",
       " </tr>,\n",
       " <tr class=\"data-row\">\n",
       " <td>876</td>\n",
       " <td>2015-03-29</td>\n",
       " <td>940</td>\n",
       " <td>316</td>\n",
       " <td>11</td>\n",
       " <td>-73.0</td>\n",
       " <td>861.0</td>\n",
       " </tr>,\n",
       " <tr class=\"data-row\">\n",
       " <td>875</td>\n",
       " <td>2015-03-30</td>\n",
       " <td>941</td>\n",
       " <td>317</td>\n",
       " <td>11</td>\n",
       " <td>-74.0</td>\n",
       " <td>857.0</td>\n",
       " </tr>,\n",
       " <tr class=\"data-row\">\n",
       " <td>880</td>\n",
       " <td>2015-03-31</td>\n",
       " <td>942</td>\n",
       " <td>317</td>\n",
       " <td>11</td>\n",
       " <td>-74.0</td>\n",
       " <td>857.0</td>\n",
       " </tr>,\n",
       " <tr class=\"data-row\">\n",
       " <td>877</td>\n",
       " <td>2015-04-02</td>\n",
       " <td>943</td>\n",
       " <td>318</td>\n",
       " <td>11</td>\n",
       " <td>-73.0</td>\n",
       " <td>854.0</td>\n",
       " </tr>,\n",
       " <tr class=\"data-row\">\n",
       " <td>878</td>\n",
       " <td>2015-04-03</td>\n",
       " <td>944</td>\n",
       " <td>318</td>\n",
       " <td>11</td>\n",
       " <td>-70.0</td>\n",
       " <td>852.0</td>\n",
       " </tr>,\n",
       " <tr class=\"data-row\">\n",
       " <td>881</td>\n",
       " <td>2015-04-04</td>\n",
       " <td>945</td>\n",
       " <td>319</td>\n",
       " <td>11</td>\n",
       " <td>-72.0</td>\n",
       " <td>851.0</td>\n",
       " </tr>,\n",
       " <tr class=\"data-row\">\n",
       " <td>879</td>\n",
       " <td>2015-04-05</td>\n",
       " <td>946</td>\n",
       " <td>320</td>\n",
       " <td>11</td>\n",
       " <td>-77.0</td>\n",
       " <td>850.0</td>\n",
       " </tr>,\n",
       " <tr class=\"data-row\">\n",
       " <td>882</td>\n",
       " <td>2015-04-06</td>\n",
       " <td>947</td>\n",
       " <td>320</td>\n",
       " <td>11</td>\n",
       " <td>-70.0</td>\n",
       " <td>853.0</td>\n",
       " </tr>,\n",
       " <tr class=\"data-row\">\n",
       " <td>883</td>\n",
       " <td>2015-04-07</td>\n",
       " <td>948</td>\n",
       " <td>321</td>\n",
       " <td>11</td>\n",
       " <td>-73.0</td>\n",
       " <td>854.0</td>\n",
       " </tr>,\n",
       " <tr class=\"data-row\">\n",
       " <td>884</td>\n",
       " <td>2015-04-08</td>\n",
       " <td>949</td>\n",
       " <td>321</td>\n",
       " <td>11</td>\n",
       " <td>-72.0</td>\n",
       " <td>851.0</td>\n",
       " </tr>,\n",
       " <tr class=\"data-row\">\n",
       " <td>885</td>\n",
       " <td>2015-04-09</td>\n",
       " <td>950</td>\n",
       " <td>322</td>\n",
       " <td>11</td>\n",
       " <td>-73.0</td>\n",
       " <td>850.0</td>\n",
       " </tr>,\n",
       " <tr class=\"data-row\">\n",
       " <td>888</td>\n",
       " <td>2015-04-10</td>\n",
       " <td>951</td>\n",
       " <td>323</td>\n",
       " <td>11</td>\n",
       " <td>-75.0</td>\n",
       " <td>849.0</td>\n",
       " </tr>,\n",
       " <tr class=\"data-row\">\n",
       " <td>886</td>\n",
       " <td>2015-04-11</td>\n",
       " <td>952</td>\n",
       " <td>323</td>\n",
       " <td>11</td>\n",
       " <td>-69.0</td>\n",
       " <td>847.0</td>\n",
       " </tr>,\n",
       " <tr class=\"data-row\">\n",
       " <td>887</td>\n",
       " <td>2015-04-12</td>\n",
       " <td>953</td>\n",
       " <td>324</td>\n",
       " <td>11</td>\n",
       " <td>-71.0</td>\n",
       " <td>847.0</td>\n",
       " </tr>,\n",
       " <tr class=\"data-row\">\n",
       " <td>889</td>\n",
       " <td>2015-04-13</td>\n",
       " <td>954</td>\n",
       " <td>324</td>\n",
       " <td>11</td>\n",
       " <td>-73.0</td>\n",
       " <td>847.0</td>\n",
       " </tr>,\n",
       " <tr class=\"data-row\">\n",
       " <td>892</td>\n",
       " <td>2015-04-17</td>\n",
       " <td>958</td>\n",
       " <td>327</td>\n",
       " <td>11</td>\n",
       " <td>-74.0</td>\n",
       " <td>848.0</td>\n",
       " </tr>,\n",
       " <tr class=\"data-row\">\n",
       " <td>891</td>\n",
       " <td>2015-04-18</td>\n",
       " <td>959</td>\n",
       " <td>327</td>\n",
       " <td>11</td>\n",
       " <td>-78.0</td>\n",
       " <td>846.0</td>\n",
       " </tr>,\n",
       " <tr class=\"data-row\">\n",
       " <td>893</td>\n",
       " <td>2015-04-19</td>\n",
       " <td>960</td>\n",
       " <td>328</td>\n",
       " <td>11</td>\n",
       " <td>-76.0</td>\n",
       " <td>846.0</td>\n",
       " </tr>,\n",
       " <tr class=\"data-row\">\n",
       " <td>895</td>\n",
       " <td>2015-04-20</td>\n",
       " <td>961</td>\n",
       " <td>328</td>\n",
       " <td>11</td>\n",
       " <td>-71.0</td>\n",
       " <td>849.0</td>\n",
       " </tr>,\n",
       " <tr class=\"data-row\">\n",
       " <td>894</td>\n",
       " <td>2015-04-21</td>\n",
       " <td>962</td>\n",
       " <td>329</td>\n",
       " <td>11</td>\n",
       " <td>-73.0</td>\n",
       " <td>845.0</td>\n",
       " </tr>,\n",
       " <tr class=\"data-row\">\n",
       " <td>896</td>\n",
       " <td>2015-04-22</td>\n",
       " <td>963</td>\n",
       " <td>329</td>\n",
       " <td>11</td>\n",
       " <td>-71.0</td>\n",
       " <td>850.0</td>\n",
       " </tr>,\n",
       " <tr class=\"data-row\">\n",
       " <td>897</td>\n",
       " <td>2015-04-23</td>\n",
       " <td>964</td>\n",
       " <td>330</td>\n",
       " <td>12</td>\n",
       " <td>-72.0</td>\n",
       " <td>847.0</td>\n",
       " </tr>,\n",
       " <tr class=\"data-row\">\n",
       " <td>898</td>\n",
       " <td>2015-04-24</td>\n",
       " <td>965</td>\n",
       " <td>331</td>\n",
       " <td>12</td>\n",
       " <td>-75.0</td>\n",
       " <td>847.0</td>\n",
       " </tr>,\n",
       " <tr class=\"data-row\">\n",
       " <td>900</td>\n",
       " <td>2015-04-25</td>\n",
       " <td>966</td>\n",
       " <td>331</td>\n",
       " <td>12</td>\n",
       " <td>-73.0</td>\n",
       " <td>850.0</td>\n",
       " </tr>,\n",
       " <tr class=\"data-row\">\n",
       " <td>899</td>\n",
       " <td>2015-04-26</td>\n",
       " <td>967</td>\n",
       " <td>332</td>\n",
       " <td>12</td>\n",
       " <td>-74.0</td>\n",
       " <td>844.0</td>\n",
       " </tr>,\n",
       " <tr class=\"data-row\">\n",
       " <td>901</td>\n",
       " <td>2015-04-27</td>\n",
       " <td>968</td>\n",
       " <td>332</td>\n",
       " <td>12</td>\n",
       " <td>-71.0</td>\n",
       " <td>848.0</td>\n",
       " </tr>,\n",
       " <tr class=\"data-row\">\n",
       " <td>902</td>\n",
       " <td>2015-04-28</td>\n",
       " <td>969</td>\n",
       " <td>333</td>\n",
       " <td>12</td>\n",
       " <td>-72.0</td>\n",
       " <td>844.0</td>\n",
       " </tr>,\n",
       " <tr class=\"data-row\">\n",
       " <td>903</td>\n",
       " <td>2015-04-29</td>\n",
       " <td>970</td>\n",
       " <td>333</td>\n",
       " <td>12</td>\n",
       " <td>-71.0</td>\n",
       " <td>849.0</td>\n",
       " </tr>,\n",
       " <tr class=\"data-row\">\n",
       " <td>906</td>\n",
       " <td>2015-04-30</td>\n",
       " <td>971</td>\n",
       " <td>334</td>\n",
       " <td>12</td>\n",
       " <td>-71.0</td>\n",
       " <td>848.0</td>\n",
       " </tr>,\n",
       " <tr class=\"data-row\">\n",
       " <td>904</td>\n",
       " <td>2015-05-01</td>\n",
       " <td>972</td>\n",
       " <td>334</td>\n",
       " <td>12</td>\n",
       " <td>-73.0</td>\n",
       " <td>847.0</td>\n",
       " </tr>,\n",
       " <tr class=\"data-row\">\n",
       " <td>905</td>\n",
       " <td>2015-05-02</td>\n",
       " <td>973</td>\n",
       " <td>335</td>\n",
       " <td>12</td>\n",
       " <td>-72.0</td>\n",
       " <td>844.0</td>\n",
       " </tr>,\n",
       " <tr class=\"data-row\">\n",
       " <td>907</td>\n",
       " <td>2015-05-03</td>\n",
       " <td>974</td>\n",
       " <td>336</td>\n",
       " <td>12</td>\n",
       " <td>-73.0</td>\n",
       " <td>842.0</td>\n",
       " </tr>,\n",
       " <tr class=\"data-row\">\n",
       " <td>908</td>\n",
       " <td>2015-05-04</td>\n",
       " <td>975</td>\n",
       " <td>336</td>\n",
       " <td>12</td>\n",
       " <td>-73.0</td>\n",
       " <td>843.0</td>\n",
       " </tr>,\n",
       " <tr class=\"data-row\">\n",
       " <td>909</td>\n",
       " <td>2015-05-05</td>\n",
       " <td>976</td>\n",
       " <td>337</td>\n",
       " <td>12</td>\n",
       " <td>-75.0</td>\n",
       " <td>842.0</td>\n",
       " </tr>,\n",
       " <tr class=\"data-row\">\n",
       " <td>910</td>\n",
       " <td>2015-05-06</td>\n",
       " <td>977</td>\n",
       " <td>337</td>\n",
       " <td>12</td>\n",
       " <td>-75.0</td>\n",
       " <td>841.0</td>\n",
       " </tr>,\n",
       " <tr class=\"data-row\">\n",
       " <td>913</td>\n",
       " <td>2015-05-07</td>\n",
       " <td>978</td>\n",
       " <td>338</td>\n",
       " <td>12</td>\n",
       " <td>-73.0</td>\n",
       " <td>842.0</td>\n",
       " </tr>,\n",
       " <tr class=\"data-row\">\n",
       " <td>912</td>\n",
       " <td>2015-05-09</td>\n",
       " <td>979</td>\n",
       " <td>338</td>\n",
       " <td>12</td>\n",
       " <td>-79.0</td>\n",
       " <td>841.0</td>\n",
       " </tr>,\n",
       " <tr class=\"data-row\">\n",
       " <td>911</td>\n",
       " <td>2015-05-10</td>\n",
       " <td>980</td>\n",
       " <td>339</td>\n",
       " <td>12</td>\n",
       " <td>-73.0</td>\n",
       " <td>840.0</td>\n",
       " </tr>,\n",
       " <tr class=\"data-row\">\n",
       " <td>914</td>\n",
       " <td>2015-05-11</td>\n",
       " <td>981</td>\n",
       " <td>339</td>\n",
       " <td>12</td>\n",
       " <td>-73.0</td>\n",
       " <td>841.0</td>\n",
       " </tr>,\n",
       " <tr class=\"data-row\">\n",
       " <td>917</td>\n",
       " <td>2015-05-12</td>\n",
       " <td>982</td>\n",
       " <td>340</td>\n",
       " <td>12</td>\n",
       " <td>-74.0</td>\n",
       " <td>840.0</td>\n",
       " </tr>,\n",
       " <tr class=\"data-row\">\n",
       " <td>916</td>\n",
       " <td>2015-05-13</td>\n",
       " <td>983</td>\n",
       " <td>340</td>\n",
       " <td>12</td>\n",
       " <td>-76.0</td>\n",
       " <td>840.0</td>\n",
       " </tr>,\n",
       " <tr class=\"data-row\">\n",
       " <td>915</td>\n",
       " <td>2015-05-14</td>\n",
       " <td>984</td>\n",
       " <td>341</td>\n",
       " <td>12</td>\n",
       " <td>-74.0</td>\n",
       " <td>840.0</td>\n",
       " </tr>,\n",
       " <tr class=\"data-row\">\n",
       " <td>918</td>\n",
       " <td>2015-05-15</td>\n",
       " <td>985</td>\n",
       " <td>342</td>\n",
       " <td>12</td>\n",
       " <td>-78.0</td>\n",
       " <td>840.0</td>\n",
       " </tr>,\n",
       " <tr class=\"data-row\">\n",
       " <td>919</td>\n",
       " <td>2015-05-16</td>\n",
       " <td>986</td>\n",
       " <td>342</td>\n",
       " <td>12</td>\n",
       " <td>-74.0</td>\n",
       " <td>840.0</td>\n",
       " </tr>,\n",
       " <tr class=\"data-row\">\n",
       " <td>920</td>\n",
       " <td>2015-05-17</td>\n",
       " <td>987</td>\n",
       " <td>343</td>\n",
       " <td>12</td>\n",
       " <td>-74.0</td>\n",
       " <td>839.0</td>\n",
       " </tr>,\n",
       " <tr class=\"data-row\">\n",
       " <td>922</td>\n",
       " <td>2015-05-18</td>\n",
       " <td>988</td>\n",
       " <td>343</td>\n",
       " <td>12</td>\n",
       " <td>-75.0</td>\n",
       " <td>840.0</td>\n",
       " </tr>,\n",
       " <tr class=\"data-row\">\n",
       " <td>921</td>\n",
       " <td>2015-05-19</td>\n",
       " <td>989</td>\n",
       " <td>344</td>\n",
       " <td>12</td>\n",
       " <td>-74.0</td>\n",
       " <td>841.0</td>\n",
       " </tr>,\n",
       " <tr class=\"data-row\">\n",
       " <td>923</td>\n",
       " <td>2015-05-20</td>\n",
       " <td>990</td>\n",
       " <td>344</td>\n",
       " <td>12</td>\n",
       " <td>-76.0</td>\n",
       " <td>839.0</td>\n",
       " </tr>,\n",
       " <tr class=\"data-row\">\n",
       " <td>926</td>\n",
       " <td>2015-05-21</td>\n",
       " <td>991</td>\n",
       " <td>345</td>\n",
       " <td>12</td>\n",
       " <td>-73.0</td>\n",
       " <td>840.0</td>\n",
       " </tr>,\n",
       " <tr class=\"data-row\">\n",
       " <td>924</td>\n",
       " <td>2015-05-22</td>\n",
       " <td>992</td>\n",
       " <td>345</td>\n",
       " <td>12</td>\n",
       " <td>-73.0</td>\n",
       " <td>842.0</td>\n",
       " </tr>,\n",
       " <tr class=\"data-row\">\n",
       " <td>927</td>\n",
       " <td>2015-05-23</td>\n",
       " <td>993</td>\n",
       " <td>346</td>\n",
       " <td>12</td>\n",
       " <td>-73.0</td>\n",
       " <td>840.0</td>\n",
       " </tr>,\n",
       " <tr class=\"data-row\">\n",
       " <td>925</td>\n",
       " <td>2015-05-24</td>\n",
       " <td>994</td>\n",
       " <td>346</td>\n",
       " <td>12</td>\n",
       " <td>-79.0</td>\n",
       " <td>842.0</td>\n",
       " </tr>,\n",
       " <tr class=\"data-row\">\n",
       " <td>929</td>\n",
       " <td>2015-05-25</td>\n",
       " <td>995</td>\n",
       " <td>347</td>\n",
       " <td>12</td>\n",
       " <td>-74.0</td>\n",
       " <td>842.0</td>\n",
       " </tr>,\n",
       " <tr class=\"data-row\">\n",
       " <td>928</td>\n",
       " <td>2015-05-26</td>\n",
       " <td>996</td>\n",
       " <td>348</td>\n",
       " <td>12</td>\n",
       " <td>-72.0</td>\n",
       " <td>842.0</td>\n",
       " </tr>,\n",
       " <tr class=\"data-row\">\n",
       " <td>930</td>\n",
       " <td>2015-05-27</td>\n",
       " <td>997</td>\n",
       " <td>348</td>\n",
       " <td>12</td>\n",
       " <td>-74.0</td>\n",
       " <td>843.0</td>\n",
       " </tr>,\n",
       " <tr class=\"data-row\">\n",
       " <td>931</td>\n",
       " <td>2015-05-28</td>\n",
       " <td>998</td>\n",
       " <td>349</td>\n",
       " <td>12</td>\n",
       " <td>-73.0</td>\n",
       " <td>842.0</td>\n",
       " </tr>,\n",
       " <tr class=\"data-row\">\n",
       " <td>932</td>\n",
       " <td>2015-05-30</td>\n",
       " <td>1000</td>\n",
       " <td>350</td>\n",
       " <td>12</td>\n",
       " <td>-74.0</td>\n",
       " <td>841.0</td>\n",
       " </tr>,\n",
       " <tr class=\"data-row\">\n",
       " <td>933</td>\n",
       " <td>2015-05-31</td>\n",
       " <td>1001</td>\n",
       " <td>350</td>\n",
       " <td>12</td>\n",
       " <td>-79.0</td>\n",
       " <td>843.0</td>\n",
       " </tr>,\n",
       " <tr class=\"data-row\">\n",
       " <td>936</td>\n",
       " <td>2015-06-01</td>\n",
       " <td>1002</td>\n",
       " <td>351</td>\n",
       " <td>12</td>\n",
       " <td>-77.0</td>\n",
       " <td>844.0</td>\n",
       " </tr>,\n",
       " <tr class=\"data-row\">\n",
       " <td>934</td>\n",
       " <td>2015-06-02</td>\n",
       " <td>1003</td>\n",
       " <td>351</td>\n",
       " <td>12</td>\n",
       " <td>-74.0</td>\n",
       " <td>843.0</td>\n",
       " </tr>,\n",
       " <tr class=\"data-row\">\n",
       " <td>935</td>\n",
       " <td>2015-06-03</td>\n",
       " <td>1004</td>\n",
       " <td>352</td>\n",
       " <td>12</td>\n",
       " <td>-74.0</td>\n",
       " <td>842.0</td>\n",
       " </tr>,\n",
       " <tr class=\"data-row\">\n",
       " <td>939</td>\n",
       " <td>2015-06-04</td>\n",
       " <td>1005</td>\n",
       " <td>352</td>\n",
       " <td>12</td>\n",
       " <td>-75.0</td>\n",
       " <td>843.0</td>\n",
       " </tr>,\n",
       " <tr class=\"data-row\">\n",
       " <td>941</td>\n",
       " <td>2015-06-05</td>\n",
       " <td>1006</td>\n",
       " <td>353</td>\n",
       " <td>12</td>\n",
       " <td>-78.0</td>\n",
       " <td>844.0</td>\n",
       " </tr>,\n",
       " <tr class=\"data-row\">\n",
       " <td>937</td>\n",
       " <td>2015-06-06</td>\n",
       " <td>1007</td>\n",
       " <td>353</td>\n",
       " <td>12</td>\n",
       " <td>-79.0</td>\n",
       " <td>845.0</td>\n",
       " </tr>,\n",
       " <tr class=\"data-row\">\n",
       " <td>940</td>\n",
       " <td>2015-06-07</td>\n",
       " <td>1008</td>\n",
       " <td>354</td>\n",
       " <td>12</td>\n",
       " <td>-79.0</td>\n",
       " <td>844.0</td>\n",
       " </tr>,\n",
       " <tr class=\"data-row\">\n",
       " <td>946</td>\n",
       " <td>2015-06-08</td>\n",
       " <td>1009</td>\n",
       " <td>354</td>\n",
       " <td>12</td>\n",
       " <td>-75.0</td>\n",
       " <td>845.0</td>\n",
       " </tr>,\n",
       " <tr class=\"data-row\">\n",
       " <td>947</td>\n",
       " <td>2015-06-09</td>\n",
       " <td>1010</td>\n",
       " <td>355</td>\n",
       " <td>12</td>\n",
       " <td>-74.0</td>\n",
       " <td>846.0</td>\n",
       " </tr>,\n",
       " <tr class=\"data-row\">\n",
       " <td>948</td>\n",
       " <td>2015-06-10</td>\n",
       " <td>1011</td>\n",
       " <td>355</td>\n",
       " <td>12</td>\n",
       " <td>-78.0</td>\n",
       " <td>845.0</td>\n",
       " </tr>,\n",
       " <tr class=\"data-row\">\n",
       " <td>949</td>\n",
       " <td>2015-06-11</td>\n",
       " <td>1012</td>\n",
       " <td>356</td>\n",
       " <td>12</td>\n",
       " <td>-81.0</td>\n",
       " <td>846.0</td>\n",
       " </tr>,\n",
       " <tr class=\"data-row\">\n",
       " <td>953</td>\n",
       " <td>2015-06-12</td>\n",
       " <td>1013</td>\n",
       " <td>356</td>\n",
       " <td>12</td>\n",
       " <td>-80.0</td>\n",
       " <td>846.0</td>\n",
       " </tr>,\n",
       " <tr class=\"data-row\">\n",
       " <td>950</td>\n",
       " <td>2015-06-13</td>\n",
       " <td>1014</td>\n",
       " <td>357</td>\n",
       " <td>12</td>\n",
       " <td>-77.0</td>\n",
       " <td>846.0</td>\n",
       " </tr>,\n",
       " <tr class=\"data-row\">\n",
       " <td>951</td>\n",
       " <td>2015-06-14</td>\n",
       " <td>1015</td>\n",
       " <td>357</td>\n",
       " <td>12</td>\n",
       " <td>-75.0</td>\n",
       " <td>847.0</td>\n",
       " </tr>,\n",
       " <tr class=\"data-row\">\n",
       " <td>952</td>\n",
       " <td>2015-06-16</td>\n",
       " <td>1016</td>\n",
       " <td>358</td>\n",
       " <td>12</td>\n",
       " <td>-76.0</td>\n",
       " <td>847.0</td>\n",
       " </tr>,\n",
       " <tr class=\"data-row\">\n",
       " <td>955</td>\n",
       " <td>2015-06-17</td>\n",
       " <td>1017</td>\n",
       " <td>359</td>\n",
       " <td>12</td>\n",
       " <td>-78.0</td>\n",
       " <td>850.0</td>\n",
       " </tr>,\n",
       " <tr class=\"data-row\">\n",
       " <td>956</td>\n",
       " <td>2015-06-18</td>\n",
       " <td>1018</td>\n",
       " <td>359</td>\n",
       " <td>12</td>\n",
       " <td>-79.0</td>\n",
       " <td>850.0</td>\n",
       " </tr>,\n",
       " <tr class=\"data-row\">\n",
       " <td>954</td>\n",
       " <td>2015-06-19</td>\n",
       " <td>1019</td>\n",
       " <td>0</td>\n",
       " <td>1</td>\n",
       " <td>-81.0</td>\n",
       " <td>849.0</td>\n",
       " </tr>,\n",
       " <tr class=\"data-row\">\n",
       " <td>938</td>\n",
       " <td>2015-06-20</td>\n",
       " <td>1020</td>\n",
       " <td>0</td>\n",
       " <td>1</td>\n",
       " <td>-63.0</td>\n",
       " <td>832.0</td>\n",
       " </tr>,\n",
       " <tr class=\"data-row\">\n",
       " <td>942</td>\n",
       " <td>2015-06-21</td>\n",
       " <td>1021</td>\n",
       " <td>1</td>\n",
       " <td>1</td>\n",
       " <td>-76.0</td>\n",
       " <td>850.0</td>\n",
       " </tr>,\n",
       " <tr class=\"data-row\">\n",
       " <td>944</td>\n",
       " <td>2015-06-22</td>\n",
       " <td>1022</td>\n",
       " <td>1</td>\n",
       " <td>1</td>\n",
       " <td>-75.0</td>\n",
       " <td>852.0</td>\n",
       " </tr>,\n",
       " <tr class=\"data-row\">\n",
       " <td>943</td>\n",
       " <td>2015-06-23</td>\n",
       " <td>1023</td>\n",
       " <td>2</td>\n",
       " <td>1</td>\n",
       " <td>-76.0</td>\n",
       " <td>851.0</td>\n",
       " </tr>,\n",
       " <tr class=\"data-row\">\n",
       " <td>945</td>\n",
       " <td>2015-06-24</td>\n",
       " <td>1024</td>\n",
       " <td>2</td>\n",
       " <td>1</td>\n",
       " <td>-76.0</td>\n",
       " <td>851.0</td>\n",
       " </tr>,\n",
       " <tr class=\"data-row\">\n",
       " <td>958</td>\n",
       " <td>2015-06-25</td>\n",
       " <td>1025</td>\n",
       " <td>3</td>\n",
       " <td>1</td>\n",
       " <td>-74.0</td>\n",
       " <td>851.0</td>\n",
       " </tr>,\n",
       " <tr class=\"data-row\">\n",
       " <td>957</td>\n",
       " <td>2015-06-26</td>\n",
       " <td>1026</td>\n",
       " <td>3</td>\n",
       " <td>1</td>\n",
       " <td>-78.0</td>\n",
       " <td>851.0</td>\n",
       " </tr>,\n",
       " <tr class=\"data-row\">\n",
       " <td>960</td>\n",
       " <td>2015-06-28</td>\n",
       " <td>1028</td>\n",
       " <td>4</td>\n",
       " <td>1</td>\n",
       " <td>-75.0</td>\n",
       " <td>853.0</td>\n",
       " </tr>,\n",
       " <tr class=\"data-row\">\n",
       " <td>959</td>\n",
       " <td>2015-06-29</td>\n",
       " <td>1029</td>\n",
       " <td>5</td>\n",
       " <td>1</td>\n",
       " <td>-75.0</td>\n",
       " <td>856.0</td>\n",
       " </tr>,\n",
       " <tr class=\"data-row\">\n",
       " <td>961</td>\n",
       " <td>2015-06-30</td>\n",
       " <td>1030</td>\n",
       " <td>5</td>\n",
       " <td>1</td>\n",
       " <td>-77.0</td>\n",
       " <td>855.0</td>\n",
       " </tr>,\n",
       " <tr class=\"data-row\">\n",
       " <td>963</td>\n",
       " <td>2015-07-01</td>\n",
       " <td>1031</td>\n",
       " <td>6</td>\n",
       " <td>1</td>\n",
       " <td>-76.0</td>\n",
       " <td>854.0</td>\n",
       " </tr>,\n",
       " <tr class=\"data-row\">\n",
       " <td>962</td>\n",
       " <td>2015-07-02</td>\n",
       " <td>1032</td>\n",
       " <td>6</td>\n",
       " <td>1</td>\n",
       " <td>-74.0</td>\n",
       " <td>854.0</td>\n",
       " </tr>,\n",
       " <tr class=\"data-row\">\n",
       " <td>965</td>\n",
       " <td>2015-07-03</td>\n",
       " <td>1033</td>\n",
       " <td>7</td>\n",
       " <td>1</td>\n",
       " <td>-77.0</td>\n",
       " <td>856.0</td>\n",
       " </tr>,\n",
       " <tr class=\"data-row\">\n",
       " <td>964</td>\n",
       " <td>2015-07-04</td>\n",
       " <td>1034</td>\n",
       " <td>7</td>\n",
       " <td>1</td>\n",
       " <td>-76.0</td>\n",
       " <td>859.0</td>\n",
       " </tr>,\n",
       " <tr class=\"data-row\">\n",
       " <td>966</td>\n",
       " <td>2015-07-05</td>\n",
       " <td>1035</td>\n",
       " <td>8</td>\n",
       " <td>1</td>\n",
       " <td>-77.0</td>\n",
       " <td>857.0</td>\n",
       " </tr>,\n",
       " <tr class=\"data-row\">\n",
       " <td>967</td>\n",
       " <td>2015-07-06</td>\n",
       " <td>1036</td>\n",
       " <td>8</td>\n",
       " <td>1</td>\n",
       " <td>-76.0</td>\n",
       " <td>856.0</td>\n",
       " </tr>,\n",
       " <tr class=\"data-row\">\n",
       " <td>968</td>\n",
       " <td>2015-07-07</td>\n",
       " <td>1037</td>\n",
       " <td>9</td>\n",
       " <td>1</td>\n",
       " <td>-80.0</td>\n",
       " <td>856.0</td>\n",
       " </tr>,\n",
       " <tr class=\"data-row\">\n",
       " <td>969</td>\n",
       " <td>2015-07-08</td>\n",
       " <td>1038</td>\n",
       " <td>9</td>\n",
       " <td>1</td>\n",
       " <td>-76.0</td>\n",
       " <td>858.0</td>\n",
       " </tr>,\n",
       " <tr class=\"data-row\">\n",
       " <td>970</td>\n",
       " <td>2015-07-09</td>\n",
       " <td>1039</td>\n",
       " <td>10</td>\n",
       " <td>1</td>\n",
       " <td>-77.0</td>\n",
       " <td>857.0</td>\n",
       " </tr>,\n",
       " <tr class=\"data-row\">\n",
       " <td>972</td>\n",
       " <td>2015-07-10</td>\n",
       " <td>1040</td>\n",
       " <td>10</td>\n",
       " <td>1</td>\n",
       " <td>-77.0</td>\n",
       " <td>858.0</td>\n",
       " </tr>,\n",
       " <tr class=\"data-row\">\n",
       " <td>971</td>\n",
       " <td>2015-07-11</td>\n",
       " <td>1041</td>\n",
       " <td>11</td>\n",
       " <td>1</td>\n",
       " <td>-77.0</td>\n",
       " <td>859.0</td>\n",
       " </tr>,\n",
       " <tr class=\"data-row\">\n",
       " <td>973</td>\n",
       " <td>2015-07-12</td>\n",
       " <td>1042</td>\n",
       " <td>11</td>\n",
       " <td>1</td>\n",
       " <td>-76.0</td>\n",
       " <td>859.0</td>\n",
       " </tr>,\n",
       " <tr class=\"data-row\">\n",
       " <td>974</td>\n",
       " <td>2015-07-13</td>\n",
       " <td>1043</td>\n",
       " <td>12</td>\n",
       " <td>1</td>\n",
       " <td>-77.0</td>\n",
       " <td>860.0</td>\n",
       " </tr>,\n",
       " <tr class=\"data-row\">\n",
       " <td>975</td>\n",
       " <td>2015-07-14</td>\n",
       " <td>1044</td>\n",
       " <td>12</td>\n",
       " <td>1</td>\n",
       " <td>-79.0</td>\n",
       " <td>860.0</td>\n",
       " </tr>,\n",
       " <tr class=\"data-row\">\n",
       " <td>978</td>\n",
       " <td>2015-07-15</td>\n",
       " <td>1045</td>\n",
       " <td>13</td>\n",
       " <td>1</td>\n",
       " <td>-80.0</td>\n",
       " <td>861.0</td>\n",
       " </tr>,\n",
       " <tr class=\"data-row\">\n",
       " <td>979</td>\n",
       " <td>2015-07-16</td>\n",
       " <td>1046</td>\n",
       " <td>13</td>\n",
       " <td>1</td>\n",
       " <td>-77.0</td>\n",
       " <td>862.0</td>\n",
       " </tr>,\n",
       " <tr class=\"data-row\">\n",
       " <td>977</td>\n",
       " <td>2015-07-17</td>\n",
       " <td>1047</td>\n",
       " <td>14</td>\n",
       " <td>1</td>\n",
       " <td>-77.0</td>\n",
       " <td>863.0</td>\n",
       " </tr>,\n",
       " <tr class=\"data-row\">\n",
       " <td>976</td>\n",
       " <td>2015-07-18</td>\n",
       " <td>1048</td>\n",
       " <td>14</td>\n",
       " <td>1</td>\n",
       " <td>-78.0</td>\n",
       " <td>864.0</td>\n",
       " </tr>,\n",
       " <tr class=\"data-row\">\n",
       " <td>980</td>\n",
       " <td>2015-07-19</td>\n",
       " <td>1049</td>\n",
       " <td>15</td>\n",
       " <td>1</td>\n",
       " <td>-75.0</td>\n",
       " <td>864.0</td>\n",
       " </tr>,\n",
       " <tr class=\"data-row\">\n",
       " <td>981</td>\n",
       " <td>2015-07-20</td>\n",
       " <td>1050</td>\n",
       " <td>15</td>\n",
       " <td>1</td>\n",
       " <td>-76.0</td>\n",
       " <td>863.0</td>\n",
       " </tr>,\n",
       " <tr class=\"data-row\">\n",
       " <td>983</td>\n",
       " <td>2015-07-21</td>\n",
       " <td>1051</td>\n",
       " <td>16</td>\n",
       " <td>1</td>\n",
       " <td>-76.0</td>\n",
       " <td>864.0</td>\n",
       " </tr>,\n",
       " <tr class=\"data-row\">\n",
       " <td>982</td>\n",
       " <td>2015-07-23</td>\n",
       " <td>1052</td>\n",
       " <td>16</td>\n",
       " <td>1</td>\n",
       " <td>-78.0</td>\n",
       " <td>865.0</td>\n",
       " </tr>,\n",
       " <tr class=\"data-row\">\n",
       " <td>984</td>\n",
       " <td>2015-07-24</td>\n",
       " <td>1053</td>\n",
       " <td>17</td>\n",
       " <td>1</td>\n",
       " <td>-79.0</td>\n",
       " <td>865.0</td>\n",
       " </tr>,\n",
       " <tr class=\"data-row\">\n",
       " <td>985</td>\n",
       " <td>2015-07-25</td>\n",
       " <td>1054</td>\n",
       " <td>17</td>\n",
       " <td>1</td>\n",
       " <td>-77.0</td>\n",
       " <td>867.0</td>\n",
       " </tr>,\n",
       " <tr class=\"data-row\">\n",
       " <td>987</td>\n",
       " <td>2015-07-26</td>\n",
       " <td>1055</td>\n",
       " <td>17</td>\n",
       " <td>1</td>\n",
       " <td>-77.0</td>\n",
       " <td>868.0</td>\n",
       " </tr>,\n",
       " <tr class=\"data-row\">\n",
       " <td>986</td>\n",
       " <td>2015-07-27</td>\n",
       " <td>1056</td>\n",
       " <td>18</td>\n",
       " <td>1</td>\n",
       " <td>-76.0</td>\n",
       " <td>868.0</td>\n",
       " </tr>,\n",
       " <tr class=\"data-row\">\n",
       " <td>988</td>\n",
       " <td>2015-07-28</td>\n",
       " <td>1057</td>\n",
       " <td>18</td>\n",
       " <td>1</td>\n",
       " <td>-78.0</td>\n",
       " <td>867.0</td>\n",
       " </tr>,\n",
       " <tr class=\"data-row\">\n",
       " <td>989</td>\n",
       " <td>2015-07-29</td>\n",
       " <td>1058</td>\n",
       " <td>19</td>\n",
       " <td>1</td>\n",
       " <td>-78.0</td>\n",
       " <td>868.0</td>\n",
       " </tr>,\n",
       " <tr class=\"data-row\">\n",
       " <td>990</td>\n",
       " <td>2015-07-30</td>\n",
       " <td>1059</td>\n",
       " <td>19</td>\n",
       " <td>1</td>\n",
       " <td>-78.0</td>\n",
       " <td>870.0</td>\n",
       " </tr>,\n",
       " <tr class=\"data-row\">\n",
       " <td>992</td>\n",
       " <td>2015-07-31</td>\n",
       " <td>1060</td>\n",
       " <td>20</td>\n",
       " <td>1</td>\n",
       " <td>-78.0</td>\n",
       " <td>870.0</td>\n",
       " </tr>,\n",
       " <tr class=\"data-row\">\n",
       " <td>993</td>\n",
       " <td>2015-08-01</td>\n",
       " <td>1061</td>\n",
       " <td>20</td>\n",
       " <td>1</td>\n",
       " <td>-77.0</td>\n",
       " <td>871.0</td>\n",
       " </tr>,\n",
       " <tr class=\"data-row\">\n",
       " <td>991</td>\n",
       " <td>2015-08-02</td>\n",
       " <td>1062</td>\n",
       " <td>21</td>\n",
       " <td>1</td>\n",
       " <td>-77.0</td>\n",
       " <td>871.0</td>\n",
       " </tr>,\n",
       " <tr class=\"data-row\">\n",
       " <td>994</td>\n",
       " <td>2015-08-03</td>\n",
       " <td>1063</td>\n",
       " <td>21</td>\n",
       " <td>1</td>\n",
       " <td>-79.0</td>\n",
       " <td>871.0</td>\n",
       " </tr>,\n",
       " <tr class=\"data-row\">\n",
       " <td>996</td>\n",
       " <td>2015-08-04</td>\n",
       " <td>1064</td>\n",
       " <td>22</td>\n",
       " <td>1</td>\n",
       " <td>-77.0</td>\n",
       " <td>871.0</td>\n",
       " </tr>,\n",
       " <tr class=\"data-row\">\n",
       " <td>995</td>\n",
       " <td>2015-08-05</td>\n",
       " <td>1065</td>\n",
       " <td>22</td>\n",
       " <td>1</td>\n",
       " <td>-78.0</td>\n",
       " <td>873.0</td>\n",
       " </tr>,\n",
       " <tr class=\"data-row\">\n",
       " <td>997</td>\n",
       " <td>2015-08-06</td>\n",
       " <td>1066</td>\n",
       " <td>23</td>\n",
       " <td>1</td>\n",
       " <td>-78.0</td>\n",
       " <td>875.0</td>\n",
       " </tr>,\n",
       " <tr class=\"data-row\">\n",
       " <td>998</td>\n",
       " <td>2015-08-07</td>\n",
       " <td>1067</td>\n",
       " <td>23</td>\n",
       " <td>1</td>\n",
       " <td>-79.0</td>\n",
       " <td>875.0</td>\n",
       " </tr>,\n",
       " <tr class=\"data-row\">\n",
       " <td>1000</td>\n",
       " <td>2015-08-08</td>\n",
       " <td>1068</td>\n",
       " <td>24</td>\n",
       " <td>1</td>\n",
       " <td>-76.0</td>\n",
       " <td>874.0</td>\n",
       " </tr>,\n",
       " <tr class=\"data-row\">\n",
       " <td>999</td>\n",
       " <td>2015-08-09</td>\n",
       " <td>1069</td>\n",
       " <td>24</td>\n",
       " <td>1</td>\n",
       " <td>-77.0</td>\n",
       " <td>876.0</td>\n",
       " </tr>,\n",
       " <tr class=\"data-row\">\n",
       " <td>1001</td>\n",
       " <td>2015-08-10</td>\n",
       " <td>1070</td>\n",
       " <td>25</td>\n",
       " <td>1</td>\n",
       " <td>-80.0</td>\n",
       " <td>877.0</td>\n",
       " </tr>,\n",
       " <tr class=\"data-row\">\n",
       " <td>1002</td>\n",
       " <td>2015-08-11</td>\n",
       " <td>1071</td>\n",
       " <td>25</td>\n",
       " <td>1</td>\n",
       " <td>-78.0</td>\n",
       " <td>878.0</td>\n",
       " </tr>,\n",
       " <tr class=\"data-row\">\n",
       " <td>1003</td>\n",
       " <td>2015-08-12</td>\n",
       " <td>1072</td>\n",
       " <td>26</td>\n",
       " <td>1</td>\n",
       " <td>-78.0</td>\n",
       " <td>879.0</td>\n",
       " </tr>,\n",
       " <tr class=\"data-row\">\n",
       " <td>1004</td>\n",
       " <td>2015-08-13</td>\n",
       " <td>1073</td>\n",
       " <td>26</td>\n",
       " <td>1</td>\n",
       " <td>-82.0</td>\n",
       " <td>879.0</td>\n",
       " </tr>,\n",
       " <tr class=\"data-row\">\n",
       " <td>1005</td>\n",
       " <td>2015-08-14</td>\n",
       " <td>1074</td>\n",
       " <td>27</td>\n",
       " <td>1</td>\n",
       " <td>-77.0</td>\n",
       " <td>878.0</td>\n",
       " </tr>,\n",
       " <tr class=\"data-row\">\n",
       " <td>1006</td>\n",
       " <td>2015-08-15</td>\n",
       " <td>1075</td>\n",
       " <td>27</td>\n",
       " <td>1</td>\n",
       " <td>-77.0</td>\n",
       " <td>879.0</td>\n",
       " </tr>,\n",
       " <tr class=\"data-row\">\n",
       " <td>1007</td>\n",
       " <td>2015-08-16</td>\n",
       " <td>1076</td>\n",
       " <td>28</td>\n",
       " <td>1</td>\n",
       " <td>-81.0</td>\n",
       " <td>880.0</td>\n",
       " </tr>,\n",
       " <tr class=\"data-row\">\n",
       " <td>1008</td>\n",
       " <td>2015-08-17</td>\n",
       " <td>1077</td>\n",
       " <td>28</td>\n",
       " <td>1</td>\n",
       " <td>-79.0</td>\n",
       " <td>880.0</td>\n",
       " </tr>,\n",
       " <tr class=\"data-row\">\n",
       " <td>1009</td>\n",
       " <td>2015-08-18</td>\n",
       " <td>1078</td>\n",
       " <td>29</td>\n",
       " <td>1</td>\n",
       " <td>-80.0</td>\n",
       " <td>881.0</td>\n",
       " </tr>,\n",
       " <tr class=\"data-row\">\n",
       " <td>1010</td>\n",
       " <td>2015-08-19</td>\n",
       " <td>1079</td>\n",
       " <td>29</td>\n",
       " <td>1</td>\n",
       " <td>-80.0</td>\n",
       " <td>882.0</td>\n",
       " </tr>,\n",
       " <tr class=\"data-row\">\n",
       " <td>1013</td>\n",
       " <td>2015-08-20</td>\n",
       " <td>1080</td>\n",
       " <td>29</td>\n",
       " <td>1</td>\n",
       " <td>-77.0</td>\n",
       " <td>882.0</td>\n",
       " </tr>,\n",
       " <tr class=\"data-row\">\n",
       " <td>1011</td>\n",
       " <td>2015-08-21</td>\n",
       " <td>1081</td>\n",
       " <td>30</td>\n",
       " <td>2</td>\n",
       " <td>-77.0</td>\n",
       " <td>882.0</td>\n",
       " </tr>,\n",
       " <tr class=\"data-row\">\n",
       " <td>1012</td>\n",
       " <td>2015-08-22</td>\n",
       " <td>1082</td>\n",
       " <td>30</td>\n",
       " <td>2</td>\n",
       " <td>-79.0</td>\n",
       " <td>882.0</td>\n",
       " </tr>,\n",
       " <tr class=\"data-row\">\n",
       " <td>1014</td>\n",
       " <td>2015-08-23</td>\n",
       " <td>1083</td>\n",
       " <td>31</td>\n",
       " <td>2</td>\n",
       " <td>-80.0</td>\n",
       " <td>883.0</td>\n",
       " </tr>,\n",
       " <tr class=\"data-row\">\n",
       " <td>1015</td>\n",
       " <td>2015-08-24</td>\n",
       " <td>1084</td>\n",
       " <td>31</td>\n",
       " <td>2</td>\n",
       " <td>-78.0</td>\n",
       " <td>885.0</td>\n",
       " </tr>,\n",
       " <tr class=\"data-row\">\n",
       " <td>1017</td>\n",
       " <td>2015-08-25</td>\n",
       " <td>1085</td>\n",
       " <td>32</td>\n",
       " <td>2</td>\n",
       " <td>-79.0</td>\n",
       " <td>886.0</td>\n",
       " </tr>,\n",
       " <tr class=\"data-row\">\n",
       " <td>1016</td>\n",
       " <td>2015-08-26</td>\n",
       " <td>1086</td>\n",
       " <td>32</td>\n",
       " <td>2</td>\n",
       " <td>-77.0</td>\n",
       " <td>885.0</td>\n",
       " </tr>,\n",
       " <tr class=\"data-row\">\n",
       " <td>1019</td>\n",
       " <td>2015-08-27</td>\n",
       " <td>1087</td>\n",
       " <td>33</td>\n",
       " <td>2</td>\n",
       " <td>-78.0</td>\n",
       " <td>885.0</td>\n",
       " </tr>,\n",
       " <tr class=\"data-row\">\n",
       " <td>1020</td>\n",
       " <td>2015-08-29</td>\n",
       " <td>1088</td>\n",
       " <td>33</td>\n",
       " <td>2</td>\n",
       " <td>-77.0</td>\n",
       " <td>885.0</td>\n",
       " </tr>,\n",
       " <tr class=\"data-row\">\n",
       " <td>1018</td>\n",
       " <td>2015-08-30</td>\n",
       " <td>1089</td>\n",
       " <td>34</td>\n",
       " <td>2</td>\n",
       " <td>-76.0</td>\n",
       " <td>885.0</td>\n",
       " </tr>,\n",
       " <tr class=\"data-row\">\n",
       " <td>1021</td>\n",
       " <td>2015-08-31</td>\n",
       " <td>1090</td>\n",
       " <td>34</td>\n",
       " <td>2</td>\n",
       " <td>-78.0</td>\n",
       " <td>886.0</td>\n",
       " </tr>,\n",
       " <tr class=\"data-row\">\n",
       " <td>1022</td>\n",
       " <td>2015-09-01</td>\n",
       " <td>1091</td>\n",
       " <td>35</td>\n",
       " <td>2</td>\n",
       " <td>-77.0</td>\n",
       " <td>886.0</td>\n",
       " </tr>,\n",
       " <tr class=\"data-row\">\n",
       " <td>1023</td>\n",
       " <td>2015-09-02</td>\n",
       " <td>1092</td>\n",
       " <td>35</td>\n",
       " <td>2</td>\n",
       " <td>-79.0</td>\n",
       " <td>886.0</td>\n",
       " </tr>,\n",
       " <tr class=\"data-row\">\n",
       " <td>1024</td>\n",
       " <td>2015-09-03</td>\n",
       " <td>1093</td>\n",
       " <td>36</td>\n",
       " <td>2</td>\n",
       " <td>-77.0</td>\n",
       " <td>887.0</td>\n",
       " </tr>,\n",
       " <tr class=\"data-row\">\n",
       " <td>1026</td>\n",
       " <td>2015-09-04</td>\n",
       " <td>1094</td>\n",
       " <td>36</td>\n",
       " <td>2</td>\n",
       " <td>-80.0</td>\n",
       " <td>888.0</td>\n",
       " </tr>,\n",
       " ...]"
      ]
     },
     "execution_count": 71,
     "metadata": {},
     "output_type": "execute_result"
    }
   ],
   "source": [
    "# Extract all rows of data\n",
    "rows = soup.find_all('tr', class_='data-row')\n",
    "rows"
   ]
  },
  {
   "attachments": {},
   "cell_type": "markdown",
   "metadata": {},
   "source": [
    "### Step 3: Store the Data\n",
    "\n",
    "Assemble the scraped data into a Pandas DataFrame. The columns should have the same headings as the table on the website. Here’s an explanation of the column headings:\n",
    "\n",
    "* `id`: the identification number of a single transmission from the Curiosity rover\n",
    "* `terrestrial_date`: the date on Earth\n",
    "* `sol`: the number of elapsed sols (Martian days) since Curiosity landed on Mars\n",
    "* `ls`: the solar longitude\n",
    "* `month`: the Martian month\n",
    "* `min_temp`: the minimum temperature, in Celsius, of a single Martian day (sol)\n",
    "* `pressure`: The atmospheric pressure at Curiosity's location"
   ]
  },
  {
   "cell_type": "code",
   "execution_count": 72,
   "metadata": {},
   "outputs": [
    {
     "data": {
      "text/plain": [
       "['id', 'terrestrial_date', 'sol', 'ls', 'month', 'min_temp', 'pressure']"
      ]
     },
     "execution_count": 72,
     "metadata": {},
     "output_type": "execute_result"
    }
   ],
   "source": [
    "# Create empty lists\n",
    "data_headers = []\n",
    "data_list = []\n",
    "\n",
    "# Loop through the headers of the table of data\n",
    "for header in soup.find_all('th'):\n",
    "    data_headers.append(header.text)\n",
    "\n",
    "# Loop through the scraped data to create a list of rows\n",
    "for row in rows:\n",
    "    cells = row.find_all('td')\n",
    "    row_data = [cell.get_text() for cell in cells]\n",
    "    data_list.append(row_data)\n",
    "    \n",
    "data_headers"
   ]
  },
  {
   "cell_type": "code",
   "execution_count": 73,
   "metadata": {},
   "outputs": [],
   "source": [
    "# Create a Pandas DataFrame by using the list of rows and a list of the column names\n",
    "df = pd.DataFrame(data_list, columns=data_headers)"
   ]
  },
  {
   "cell_type": "code",
   "execution_count": 74,
   "metadata": {},
   "outputs": [
    {
     "data": {
      "text/html": [
       "<div>\n",
       "<style scoped>\n",
       "    .dataframe tbody tr th:only-of-type {\n",
       "        vertical-align: middle;\n",
       "    }\n",
       "\n",
       "    .dataframe tbody tr th {\n",
       "        vertical-align: top;\n",
       "    }\n",
       "\n",
       "    .dataframe thead th {\n",
       "        text-align: right;\n",
       "    }\n",
       "</style>\n",
       "<table border=\"1\" class=\"dataframe\">\n",
       "  <thead>\n",
       "    <tr style=\"text-align: right;\">\n",
       "      <th></th>\n",
       "      <th>id</th>\n",
       "      <th>terrestrial_date</th>\n",
       "      <th>sol</th>\n",
       "      <th>ls</th>\n",
       "      <th>month</th>\n",
       "      <th>min_temp</th>\n",
       "      <th>pressure</th>\n",
       "    </tr>\n",
       "  </thead>\n",
       "  <tbody>\n",
       "    <tr>\n",
       "      <th>0</th>\n",
       "      <td>2</td>\n",
       "      <td>2012-08-16</td>\n",
       "      <td>10</td>\n",
       "      <td>155</td>\n",
       "      <td>6</td>\n",
       "      <td>-75.0</td>\n",
       "      <td>739.0</td>\n",
       "    </tr>\n",
       "    <tr>\n",
       "      <th>1</th>\n",
       "      <td>13</td>\n",
       "      <td>2012-08-17</td>\n",
       "      <td>11</td>\n",
       "      <td>156</td>\n",
       "      <td>6</td>\n",
       "      <td>-76.0</td>\n",
       "      <td>740.0</td>\n",
       "    </tr>\n",
       "    <tr>\n",
       "      <th>2</th>\n",
       "      <td>24</td>\n",
       "      <td>2012-08-18</td>\n",
       "      <td>12</td>\n",
       "      <td>156</td>\n",
       "      <td>6</td>\n",
       "      <td>-76.0</td>\n",
       "      <td>741.0</td>\n",
       "    </tr>\n",
       "    <tr>\n",
       "      <th>3</th>\n",
       "      <td>35</td>\n",
       "      <td>2012-08-19</td>\n",
       "      <td>13</td>\n",
       "      <td>157</td>\n",
       "      <td>6</td>\n",
       "      <td>-74.0</td>\n",
       "      <td>732.0</td>\n",
       "    </tr>\n",
       "    <tr>\n",
       "      <th>4</th>\n",
       "      <td>46</td>\n",
       "      <td>2012-08-20</td>\n",
       "      <td>14</td>\n",
       "      <td>157</td>\n",
       "      <td>6</td>\n",
       "      <td>-74.0</td>\n",
       "      <td>740.0</td>\n",
       "    </tr>\n",
       "  </tbody>\n",
       "</table>\n",
       "</div>"
      ],
      "text/plain": [
       "   id terrestrial_date sol   ls month min_temp pressure\n",
       "0   2       2012-08-16  10  155     6    -75.0    739.0\n",
       "1  13       2012-08-17  11  156     6    -76.0    740.0\n",
       "2  24       2012-08-18  12  156     6    -76.0    741.0\n",
       "3  35       2012-08-19  13  157     6    -74.0    732.0\n",
       "4  46       2012-08-20  14  157     6    -74.0    740.0"
      ]
     },
     "execution_count": 74,
     "metadata": {},
     "output_type": "execute_result"
    }
   ],
   "source": [
    "# Confirm DataFrame was created successfully\n",
    "df.head()"
   ]
  },
  {
   "attachments": {},
   "cell_type": "markdown",
   "metadata": {},
   "source": [
    "### Step 4: Prepare Data for Analysis\n",
    "\n",
    "Examine the data types that are currently associated with each column. If necessary, cast (or convert) the data to the appropriate `datetime`, `int`, or `float` data types.\n",
    "\n",
    "  > **Hint** You can use the Pandas `astype` and `to_datetime` methods to accomplish this task.\n"
   ]
  },
  {
   "cell_type": "code",
   "execution_count": 75,
   "metadata": {},
   "outputs": [
    {
     "data": {
      "text/plain": [
       "id                  object\n",
       "terrestrial_date    object\n",
       "sol                 object\n",
       "ls                  object\n",
       "month               object\n",
       "min_temp            object\n",
       "pressure            object\n",
       "dtype: object"
      ]
     },
     "execution_count": 75,
     "metadata": {},
     "output_type": "execute_result"
    }
   ],
   "source": [
    "# Examine data type of each column\n",
    "df.dtypes"
   ]
  },
  {
   "cell_type": "code",
   "execution_count": 93,
   "metadata": {},
   "outputs": [],
   "source": [
    "# Change data types for data analysis\n",
    "int_type = ['id', 'sol', 'ls', 'month']\n",
    "float_type = ['min_temp', 'pressure']\n",
    "df[int_type] = df[int_type].astype(int)\n",
    "df['terrestrial_date'] = df['terrestrial_date'].astype('datetime64[ns]')\n",
    "df[float_type] = df[float_type].astype('float64')\n"
   ]
  },
  {
   "cell_type": "code",
   "execution_count": 94,
   "metadata": {},
   "outputs": [
    {
     "data": {
      "text/plain": [
       "id                           int64\n",
       "terrestrial_date    datetime64[ns]\n",
       "sol                          int64\n",
       "ls                           int64\n",
       "month                        int64\n",
       "min_temp                   float64\n",
       "pressure                   float64\n",
       "dtype: object"
      ]
     },
     "execution_count": 94,
     "metadata": {},
     "output_type": "execute_result"
    }
   ],
   "source": [
    "# Confirm type changes were successful by examining data types again\n",
    "df.dtypes"
   ]
  },
  {
   "attachments": {},
   "cell_type": "markdown",
   "metadata": {},
   "source": [
    "### Step 5: Analyze the Data\n",
    "\n",
    "Analyze your dataset by using Pandas functions to answer the following questions:\n",
    "\n",
    "1. How many months exist on Mars?\n",
    "2. How many Martian (and not Earth) days worth of data exist in the scraped dataset?\n",
    "3. What are the coldest and the warmest months on Mars (at the location of Curiosity)? To answer this question:\n",
    "    * Find the average the minimum daily temperature for all of the months.\n",
    "    * Plot the results as a bar chart.\n",
    "4. Which months have the lowest and the highest atmospheric pressure on Mars? To answer this question:\n",
    "    * Find the average the daily atmospheric pressure of all the months.\n",
    "    * Plot the results as a bar chart.\n",
    "5. About how many terrestrial (Earth) days exist in a Martian year? To answer this question:\n",
    "    * Consider how many days elapse on Earth in the time that Mars circles the Sun once.\n",
    "    * Visually estimate the result by plotting the daily minimum temperature.\n"
   ]
  },
  {
   "cell_type": "code",
   "execution_count": 78,
   "metadata": {},
   "outputs": [
    {
     "data": {
      "text/plain": [
       "12"
      ]
     },
     "execution_count": 78,
     "metadata": {},
     "output_type": "execute_result"
    }
   ],
   "source": [
    "# 1. How many months are there on Mars?\n",
    "df['month'].max()"
   ]
  },
  {
   "cell_type": "code",
   "execution_count": 79,
   "metadata": {},
   "outputs": [
    {
     "data": {
      "text/plain": [
       "1867"
      ]
     },
     "execution_count": 79,
     "metadata": {},
     "output_type": "execute_result"
    }
   ],
   "source": [
    "# 2. How many sols (Martian days) worth of data are there?\n",
    "df['sol'].count()"
   ]
  },
  {
   "cell_type": "code",
   "execution_count": 80,
   "metadata": {},
   "outputs": [
    {
     "name": "stdout",
     "output_type": "stream",
     "text": [
      "month\n",
      "1    -77.160920\n",
      "2    -79.932584\n",
      "3    -83.307292\n",
      "4    -82.747423\n",
      "5    -79.308725\n",
      "6    -75.299320\n",
      "7    -72.281690\n",
      "8    -68.382979\n",
      "9    -69.171642\n",
      "10   -71.982143\n",
      "11   -71.985507\n",
      "12   -74.451807\n",
      "Name: min_temp, dtype: float64\n"
     ]
    }
   ],
   "source": [
    "# 3. What is the average minimum temperature by month?\n",
    "avg_min_temp_by_month = df.groupby('month')['min_temp'].mean()\n",
    "print(avg_min_temp_by_month)"
   ]
  },
  {
   "cell_type": "code",
   "execution_count": 81,
   "metadata": {},
   "outputs": [
    {
     "data": {
      "text/plain": [
       "<Axes: title={'center': 'Average Minimum Temperature by Month'}, xlabel='Month', ylabel='Temperature in Celsius'>"
      ]
     },
     "execution_count": 81,
     "metadata": {},
     "output_type": "execute_result"
    },
    {
     "data": {
      "image/png": "[encoded data removed]",
      "text/plain": [
       "<Figure size 640x480 with 1 Axes>"
      ]
     },
     "metadata": {},
     "output_type": "display_data"
    }
   ],
   "source": [
    "# Plot the average minimum temperature by month\n",
    "avg_min_temp_by_month.plot(\n",
    "    kind='bar',\n",
    "    title='Average Minimum Temperature by Month',\n",
    "    xlabel='Month',\n",
    "    ylabel='Temperature in Celsius',\n",
    "    )"
   ]
  },
  {
   "cell_type": "code",
   "execution_count": 82,
   "metadata": {},
   "outputs": [
    {
     "data": {
      "text/plain": [
       "<Axes: title={'center': 'Average Minimum Temperature by Month'}, xlabel='Month', ylabel='Temperature in Celsius'>"
      ]
     },
     "execution_count": 82,
     "metadata": {},
     "output_type": "execute_result"
    },
    {
     "data": {
      "image/png": "[encoded data removed]",
      "text/plain": [
       "<Figure size 640x480 with 1 Axes>"
      ]
     },
     "metadata": {},
     "output_type": "display_data"
    }
   ],
   "source": [
    "# Identify the coldest and hottest months in Curiosity's location by sorting the previous graph\n",
    "avg_monthly_min_temp_by_temp = avg_min_temp_by_month.sort_values()\n",
    "avg_monthly_min_temp_by_temp.plot(\n",
    "    kind='bar',\n",
    "    title='Average Minimum Temperature by Month',\n",
    "    xlabel='Month',\n",
    "    ylabel='Temperature in Celsius',\n",
    "    )"
   ]
  },
  {
   "cell_type": "code",
   "execution_count": 83,
   "metadata": {},
   "outputs": [
    {
     "name": "stdout",
     "output_type": "stream",
     "text": [
      "month\n",
      "1     862.488506\n",
      "2     889.455056\n",
      "3     877.322917\n",
      "4     806.329897\n",
      "5     748.557047\n",
      "6     745.054422\n",
      "7     795.105634\n",
      "8     873.829787\n",
      "9     913.305970\n",
      "10    887.312500\n",
      "11    857.014493\n",
      "12    842.156627\n",
      "Name: pressure, dtype: float64\n"
     ]
    }
   ],
   "source": [
    "# 4. What is the average pressure by month?\n",
    "avg_pressure_by_month = df.groupby('month')['pressure'].mean()\n",
    "print(avg_pressure_by_month)"
   ]
  },
  {
   "cell_type": "code",
   "execution_count": 84,
   "metadata": {},
   "outputs": [
    {
     "data": {
      "text/plain": [
       "<Axes: title={'center': 'Average Pressure by Month'}, xlabel='Month', ylabel='Atmospheric Pressure'>"
      ]
     },
     "execution_count": 84,
     "metadata": {},
     "output_type": "execute_result"
    },
    {
     "data": {
      "image/png": "[encoded data removed]",
      "text/plain": [
       "<Figure size 640x480 with 1 Axes>"
      ]
     },
     "metadata": {},
     "output_type": "display_data"
    }
   ],
   "source": [
    "# Plot the average pressure by month\n",
    "avg_pressure_by_month.plot(\n",
    "    kind='bar',\n",
    "    title='Average Pressure by Month',\n",
    "    xlabel='Month',\n",
    "    ylabel='Atmospheric Pressure'\n",
    "    )"
   ]
  },
  {
   "cell_type": "code",
   "execution_count": 85,
   "metadata": {},
   "outputs": [
    {
     "data": {
      "text/plain": [
       "<Axes: title={'center': 'Average Pressure by Month'}, xlabel='Month', ylabel='Atmospheric Pressure'>"
      ]
     },
     "execution_count": 85,
     "metadata": {},
     "output_type": "execute_result"
    },
    {
     "data": {
      "image/png": "[encoded data removed]",
      "text/plain": [
       "<Figure size 640x480 with 1 Axes>"
      ]
     },
     "metadata": {},
     "output_type": "display_data"
    }
   ],
   "source": [
    "# Identify the lowest and highest pressure months in Curiosity's location by sorting the previous graph\n",
    "avg_monthly_pressure_by_pressure = avg_pressure_by_month.sort_values()\n",
    "avg_monthly_pressure_by_pressure.plot(\n",
    "    kind='bar',\n",
    "    title='Average Pressure by Month',\n",
    "    xlabel='Month',\n",
    "    ylabel='Atmospheric Pressure',\n",
    "    )"
   ]
  },
  {
   "cell_type": "code",
   "execution_count": 86,
   "metadata": {},
   "outputs": [
    {
     "data": {
      "text/plain": [
       "<Axes: title={'center': 'Minimum Temperature by Number of Sols'}, xlabel='Number of Sols', ylabel='Minimum Temperature in Celsius'>"
      ]
     },
     "execution_count": 86,
     "metadata": {},
     "output_type": "execute_result"
    },
    {
     "data": {
      "image/png": "[encoded data removed]",
      "text/plain": [
       "<Figure size 2000x500 with 1 Axes>"
      ]
     },
     "metadata": {},
     "output_type": "display_data"
    }
   ],
   "source": [
    "# 5. How many terrestrial (Earth) days are there in a Martian year?\n",
    "# Visually estimate the result by plotting the daily minimum temperature of each observation in the data set.\n",
    "# df['sol_days'] = range(1, len(df)+1)\n",
    "df.plot(\n",
    "    kind='line',\n",
    "    x='sol', \n",
    "    y='min_temp',\n",
    "    xlabel='Number of Sols',\n",
    "    ylabel='Minimum Temperature in Celsius',\n",
    "    title='Minimum Temperature by Number of Sols',\n",
    "    figsize=(20,5)\n",
    "    )\n"
   ]
  },
  {
   "cell_type": "code",
   "execution_count": 87,
   "metadata": {},
   "outputs": [
    {
     "data": {
      "application/vnd.plotly.v1+json": {
       "config": {
        "plotlyServerURL": "https://plot.ly"
       },
       "data": [
        {
         "customdata": [
          [
           "2012-08-16T00:00:00"
          ],
          [
           "2012-08-17T00:00:00"
          ],
          [
           "2012-08-18T00:00:00"
          ],
          [
           "2012-08-19T00:00:00"
          ],
          [
           "2012-08-20T00:00:00"
          ],
          [
           "2012-08-21T00:00:00"
          ],
          [
           "2012-08-22T00:00:00"
          ],
          [
           "2012-08-23T00:00:00"
          ],
          [
           "2012-08-27T00:00:00"
          ],
          [
           "2012-08-28T00:00:00"
          ],
          [
           "2012-08-29T00:00:00"
          ],
          [
           "2012-08-30T00:00:00"
          ],
          [
           "2012-08-31T00:00:00"
          ],
          [
           "2012-09-01T00:00:00"
          ],
          [
           "2012-09-02T00:00:00"
          ],
          [
           "2012-09-03T00:00:00"
          ],
          [
           "2012-09-04T00:00:00"
          ],
          [
           "2012-09-05T00:00:00"
          ],
          [
           "2012-09-06T00:00:00"
          ],
          [
           "2012-09-08T00:00:00"
          ],
          [
           "2012-09-10T00:00:00"
          ],
          [
           "2012-09-11T00:00:00"
          ],
          [
           "2012-09-12T00:00:00"
          ],
          [
           "2012-09-13T00:00:00"
          ],
          [
           "2012-09-14T00:00:00"
          ],
          [
           "2012-09-15T00:00:00"
          ],
          [
           "2012-09-16T00:00:00"
          ],
          [
           "2012-09-17T00:00:00"
          ],
          [
           "2012-09-18T00:00:00"
          ],
          [
           "2012-09-19T00:00:00"
          ],
          [
           "2012-09-20T00:00:00"
          ],
          [
           "2012-09-21T00:00:00"
          ],
          [
           "2012-09-22T00:00:00"
          ],
          [
           "2012-09-23T00:00:00"
          ],
          [
           "2012-09-24T00:00:00"
          ],
          [
           "2012-09-25T00:00:00"
          ],
          [
           "2012-09-26T00:00:00"
          ],
          [
           "2012-09-27T00:00:00"
          ],
          [
           "2012-09-28T00:00:00"
          ],
          [
           "2012-09-29T00:00:00"
          ],
          [
           "2012-09-30T00:00:00"
          ],
          [
           "2012-10-01T00:00:00"
          ],
          [
           "2012-10-02T00:00:00"
          ],
          [
           "2012-10-03T00:00:00"
          ],
          [
           "2012-10-04T00:00:00"
          ],
          [
           "2012-10-05T00:00:00"
          ],
          [
           "2012-10-06T00:00:00"
          ],
          [
           "2012-10-07T00:00:00"
          ],
          [
           "2012-10-08T00:00:00"
          ],
          [
           "2012-10-09T00:00:00"
          ],
          [
           "2012-10-10T00:00:00"
          ],
          [
           "2012-10-11T00:00:00"
          ],
          [
           "2012-10-12T00:00:00"
          ],
          [
           "2012-10-13T00:00:00"
          ],
          [
           "2012-10-14T00:00:00"
          ],
          [
           "2012-10-15T00:00:00"
          ],
          [
           "2012-10-17T00:00:00"
          ],
          [
           "2012-10-18T00:00:00"
          ],
          [
           "2012-10-19T00:00:00"
          ],
          [
           "2012-10-20T00:00:00"
          ],
          [
           "2012-10-21T00:00:00"
          ],
          [
           "2012-10-22T00:00:00"
          ],
          [
           "2012-10-23T00:00:00"
          ],
          [
           "2012-10-24T00:00:00"
          ],
          [
           "2012-10-25T00:00:00"
          ],
          [
           "2012-10-26T00:00:00"
          ],
          [
           "2012-10-27T00:00:00"
          ],
          [
           "2012-10-28T00:00:00"
          ],
          [
           "2012-10-29T00:00:00"
          ],
          [
           "2012-10-30T00:00:00"
          ],
          [
           "2012-10-31T00:00:00"
          ],
          [
           "2012-11-01T00:00:00"
          ],
          [
           "2012-11-02T00:00:00"
          ],
          [
           "2012-11-03T00:00:00"
          ],
          [
           "2012-11-04T00:00:00"
          ],
          [
           "2012-11-05T00:00:00"
          ],
          [
           "2012-11-06T00:00:00"
          ],
          [
           "2012-11-07T00:00:00"
          ],
          [
           "2012-11-08T00:00:00"
          ],
          [
           "2012-11-09T00:00:00"
          ],
          [
           "2012-11-10T00:00:00"
          ],
          [
           "2012-11-11T00:00:00"
          ],
          [
           "2012-11-12T00:00:00"
          ],
          [
           "2012-11-13T00:00:00"
          ],
          [
           "2012-11-14T00:00:00"
          ],
          [
           "2012-11-15T00:00:00"
          ],
          [
           "2012-11-16T00:00:00"
          ],
          [
           "2012-11-17T00:00:00"
          ],
          [
           "2012-11-18T00:00:00"
          ],
          [
           "2012-11-19T00:00:00"
          ],
          [
           "2012-11-20T00:00:00"
          ],
          [
           "2012-11-21T00:00:00"
          ],
          [
           "2012-11-23T00:00:00"
          ],
          [
           "2012-11-24T00:00:00"
          ],
          [
           "2012-11-25T00:00:00"
          ],
          [
           "2012-11-26T00:00:00"
          ],
          [
           "2012-11-27T00:00:00"
          ],
          [
           "2012-11-28T00:00:00"
          ],
          [
           "2012-11-29T00:00:00"
          ],
          [
           "2012-11-30T00:00:00"
          ],
          [
           "2012-12-01T00:00:00"
          ],
          [
           "2012-12-02T00:00:00"
          ],
          [
           "2012-12-03T00:00:00"
          ],
          [
           "2012-12-04T00:00:00"
          ],
          [
           "2012-12-05T00:00:00"
          ],
          [
           "2012-12-06T00:00:00"
          ],
          [
           "2012-12-07T00:00:00"
          ],
          [
           "2012-12-08T00:00:00"
          ],
          [
           "2012-12-09T00:00:00"
          ],
          [
           "2012-12-10T00:00:00"
          ],
          [
           "2012-12-11T00:00:00"
          ],
          [
           "2012-12-12T00:00:00"
          ],
          [
           "2012-12-13T00:00:00"
          ],
          [
           "2012-12-14T00:00:00"
          ],
          [
           "2012-12-15T00:00:00"
          ],
          [
           "2012-12-16T00:00:00"
          ],
          [
           "2012-12-17T00:00:00"
          ],
          [
           "2012-12-18T00:00:00"
          ],
          [
           "2012-12-19T00:00:00"
          ],
          [
           "2012-12-20T00:00:00"
          ],
          [
           "2012-12-21T00:00:00"
          ],
          [
           "2012-12-22T00:00:00"
          ],
          [
           "2012-12-23T00:00:00"
          ],
          [
           "2012-12-24T00:00:00"
          ],
          [
           "2012-12-25T00:00:00"
          ],
          [
           "2012-12-26T00:00:00"
          ],
          [
           "2012-12-27T00:00:00"
          ],
          [
           "2012-12-28T00:00:00"
          ],
          [
           "2012-12-29T00:00:00"
          ],
          [
           "2012-12-31T00:00:00"
          ],
          [
           "2013-01-01T00:00:00"
          ],
          [
           "2013-01-02T00:00:00"
          ],
          [
           "2013-01-03T00:00:00"
          ],
          [
           "2013-01-04T00:00:00"
          ],
          [
           "2013-01-05T00:00:00"
          ],
          [
           "2013-01-06T00:00:00"
          ],
          [
           "2013-01-07T00:00:00"
          ],
          [
           "2013-01-08T00:00:00"
          ],
          [
           "2013-01-09T00:00:00"
          ],
          [
           "2013-01-10T00:00:00"
          ],
          [
           "2013-01-11T00:00:00"
          ],
          [
           "2013-01-12T00:00:00"
          ],
          [
           "2013-01-13T00:00:00"
          ],
          [
           "2013-01-14T00:00:00"
          ],
          [
           "2013-01-15T00:00:00"
          ],
          [
           "2013-01-16T00:00:00"
          ],
          [
           "2013-01-17T00:00:00"
          ],
          [
           "2013-01-18T00:00:00"
          ],
          [
           "2013-01-19T00:00:00"
          ],
          [
           "2013-01-20T00:00:00"
          ],
          [
           "2013-01-21T00:00:00"
          ],
          [
           "2013-01-22T00:00:00"
          ],
          [
           "2013-01-23T00:00:00"
          ],
          [
           "2013-01-24T00:00:00"
          ],
          [
           "2013-01-25T00:00:00"
          ],
          [
           "2013-01-26T00:00:00"
          ],
          [
           "2013-01-27T00:00:00"
          ],
          [
           "2013-01-28T00:00:00"
          ],
          [
           "2013-01-29T00:00:00"
          ],
          [
           "2013-01-30T00:00:00"
          ],
          [
           "2013-01-31T00:00:00"
          ],
          [
           "2013-02-01T00:00:00"
          ],
          [
           "2013-02-02T00:00:00"
          ],
          [
           "2013-02-03T00:00:00"
          ],
          [
           "2013-02-04T00:00:00"
          ],
          [
           "2013-02-06T00:00:00"
          ],
          [
           "2013-02-07T00:00:00"
          ],
          [
           "2013-02-08T00:00:00"
          ],
          [
           "2013-02-09T00:00:00"
          ],
          [
           "2013-02-10T00:00:00"
          ],
          [
           "2013-02-11T00:00:00"
          ],
          [
           "2013-02-12T00:00:00"
          ],
          [
           "2013-02-13T00:00:00"
          ],
          [
           "2013-02-14T00:00:00"
          ],
          [
           "2013-02-15T00:00:00"
          ],
          [
           "2013-02-16T00:00:00"
          ],
          [
           "2013-02-17T00:00:00"
          ],
          [
           "2013-02-18T00:00:00"
          ],
          [
           "2013-02-23T00:00:00"
          ],
          [
           "2013-02-24T00:00:00"
          ],
          [
           "2013-02-25T00:00:00"
          ],
          [
           "2013-02-26T00:00:00"
          ],
          [
           "2013-03-23T00:00:00"
          ],
          [
           "2013-03-24T00:00:00"
          ],
          [
           "2013-03-25T00:00:00"
          ],
          [
           "2013-03-26T00:00:00"
          ],
          [
           "2013-03-27T00:00:00"
          ],
          [
           "2013-03-28T00:00:00"
          ],
          [
           "2013-03-29T00:00:00"
          ],
          [
           "2013-03-30T00:00:00"
          ],
          [
           "2013-03-31T00:00:00"
          ],
          [
           "2013-04-01T00:00:00"
          ],
          [
           "2013-04-02T00:00:00"
          ],
          [
           "2013-04-03T00:00:00"
          ],
          [
           "2013-04-04T00:00:00"
          ],
          [
           "2013-04-05T00:00:00"
          ],
          [
           "2013-04-06T00:00:00"
          ],
          [
           "2013-04-07T00:00:00"
          ],
          [
           "2013-04-08T00:00:00"
          ],
          [
           "2013-04-09T00:00:00"
          ],
          [
           "2013-04-10T00:00:00"
          ],
          [
           "2013-04-11T00:00:00"
          ],
          [
           "2013-04-12T00:00:00"
          ],
          [
           "2013-04-13T00:00:00"
          ],
          [
           "2013-04-14T00:00:00"
          ],
          [
           "2013-04-15T00:00:00"
          ],
          [
           "2013-04-16T00:00:00"
          ],
          [
           "2013-04-17T00:00:00"
          ],
          [
           "2013-04-18T00:00:00"
          ],
          [
           "2013-04-19T00:00:00"
          ],
          [
           "2013-04-20T00:00:00"
          ],
          [
           "2013-04-22T00:00:00"
          ],
          [
           "2013-04-23T00:00:00"
          ],
          [
           "2013-04-24T00:00:00"
          ],
          [
           "2013-04-25T00:00:00"
          ],
          [
           "2013-04-26T00:00:00"
          ],
          [
           "2013-04-27T00:00:00"
          ],
          [
           "2013-04-28T00:00:00"
          ],
          [
           "2013-04-29T00:00:00"
          ],
          [
           "2013-04-30T00:00:00"
          ],
          [
           "2013-05-01T00:00:00"
          ],
          [
           "2013-05-08T00:00:00"
          ],
          [
           "2013-05-09T00:00:00"
          ],
          [
           "2013-05-10T00:00:00"
          ],
          [
           "2013-05-11T00:00:00"
          ],
          [
           "2013-05-12T00:00:00"
          ],
          [
           "2013-05-13T00:00:00"
          ],
          [
           "2013-05-14T00:00:00"
          ],
          [
           "2013-05-15T00:00:00"
          ],
          [
           "2013-05-16T00:00:00"
          ],
          [
           "2013-05-17T00:00:00"
          ],
          [
           "2013-05-18T00:00:00"
          ],
          [
           "2013-05-19T00:00:00"
          ],
          [
           "2013-05-20T00:00:00"
          ],
          [
           "2013-05-21T00:00:00"
          ],
          [
           "2013-05-22T00:00:00"
          ],
          [
           "2013-05-23T00:00:00"
          ],
          [
           "2013-05-24T00:00:00"
          ],
          [
           "2013-05-25T00:00:00"
          ],
          [
           "2013-05-26T00:00:00"
          ],
          [
           "2013-05-27T00:00:00"
          ],
          [
           "2013-05-29T00:00:00"
          ],
          [
           "2013-05-30T00:00:00"
          ],
          [
           "2013-05-31T00:00:00"
          ],
          [
           "2013-06-01T00:00:00"
          ],
          [
           "2013-06-02T00:00:00"
          ],
          [
           "2013-06-03T00:00:00"
          ],
          [
           "2013-06-04T00:00:00"
          ],
          [
           "2013-06-05T00:00:00"
          ],
          [
           "2013-06-06T00:00:00"
          ],
          [
           "2013-06-07T00:00:00"
          ],
          [
           "2013-06-08T00:00:00"
          ],
          [
           "2013-06-09T00:00:00"
          ],
          [
           "2013-06-10T00:00:00"
          ],
          [
           "2013-06-11T00:00:00"
          ],
          [
           "2013-06-12T00:00:00"
          ],
          [
           "2013-06-13T00:00:00"
          ],
          [
           "2013-06-14T00:00:00"
          ],
          [
           "2013-06-15T00:00:00"
          ],
          [
           "2013-06-16T00:00:00"
          ],
          [
           "2013-06-17T00:00:00"
          ],
          [
           "2013-06-18T00:00:00"
          ],
          [
           "2013-06-19T00:00:00"
          ],
          [
           "2013-06-20T00:00:00"
          ],
          [
           "2013-06-21T00:00:00"
          ],
          [
           "2013-06-22T00:00:00"
          ],
          [
           "2013-06-23T00:00:00"
          ],
          [
           "2013-06-24T00:00:00"
          ],
          [
           "2013-06-25T00:00:00"
          ],
          [
           "2013-06-26T00:00:00"
          ],
          [
           "2013-06-27T00:00:00"
          ],
          [
           "2013-06-28T00:00:00"
          ],
          [
           "2013-06-29T00:00:00"
          ],
          [
           "2013-06-30T00:00:00"
          ],
          [
           "2013-07-01T00:00:00"
          ],
          [
           "2013-07-02T00:00:00"
          ],
          [
           "2013-07-03T00:00:00"
          ],
          [
           "2013-07-04T00:00:00"
          ],
          [
           "2013-07-06T00:00:00"
          ],
          [
           "2013-07-07T00:00:00"
          ],
          [
           "2013-07-08T00:00:00"
          ],
          [
           "2013-07-09T00:00:00"
          ],
          [
           "2013-07-10T00:00:00"
          ],
          [
           "2013-07-11T00:00:00"
          ],
          [
           "2013-07-12T00:00:00"
          ],
          [
           "2013-07-13T00:00:00"
          ],
          [
           "2013-07-14T00:00:00"
          ],
          [
           "2013-07-15T00:00:00"
          ],
          [
           "2013-07-16T00:00:00"
          ],
          [
           "2013-07-17T00:00:00"
          ],
          [
           "2013-07-18T00:00:00"
          ],
          [
           "2013-07-19T00:00:00"
          ],
          [
           "2013-07-20T00:00:00"
          ],
          [
           "2013-07-21T00:00:00"
          ],
          [
           "2013-07-22T00:00:00"
          ],
          [
           "2013-07-23T00:00:00"
          ],
          [
           "2013-07-24T00:00:00"
          ],
          [
           "2013-07-25T00:00:00"
          ],
          [
           "2013-07-26T00:00:00"
          ],
          [
           "2013-07-27T00:00:00"
          ],
          [
           "2013-07-28T00:00:00"
          ],
          [
           "2013-07-29T00:00:00"
          ],
          [
           "2013-07-30T00:00:00"
          ],
          [
           "2013-07-31T00:00:00"
          ],
          [
           "2013-08-01T00:00:00"
          ],
          [
           "2013-08-02T00:00:00"
          ],
          [
           "2013-08-03T00:00:00"
          ],
          [
           "2013-08-04T00:00:00"
          ],
          [
           "2013-08-05T00:00:00"
          ],
          [
           "2013-08-06T00:00:00"
          ],
          [
           "2013-08-07T00:00:00"
          ],
          [
           "2013-08-17T00:00:00"
          ],
          [
           "2013-08-18T00:00:00"
          ],
          [
           "2013-08-19T00:00:00"
          ],
          [
           "2013-08-20T00:00:00"
          ],
          [
           "2013-08-21T00:00:00"
          ],
          [
           "2013-08-22T00:00:00"
          ],
          [
           "2013-08-23T00:00:00"
          ],
          [
           "2013-08-24T00:00:00"
          ],
          [
           "2013-08-25T00:00:00"
          ],
          [
           "2013-08-26T00:00:00"
          ],
          [
           "2013-08-27T00:00:00"
          ],
          [
           "2013-08-28T00:00:00"
          ],
          [
           "2013-08-29T00:00:00"
          ],
          [
           "2013-08-30T00:00:00"
          ],
          [
           "2013-08-31T00:00:00"
          ],
          [
           "2013-09-01T00:00:00"
          ],
          [
           "2013-09-02T00:00:00"
          ],
          [
           "2013-09-03T00:00:00"
          ],
          [
           "2013-09-04T00:00:00"
          ],
          [
           "2013-09-05T00:00:00"
          ],
          [
           "2013-09-06T00:00:00"
          ],
          [
           "2013-09-07T00:00:00"
          ],
          [
           "2013-09-08T00:00:00"
          ],
          [
           "2013-09-09T00:00:00"
          ],
          [
           "2013-09-10T00:00:00"
          ],
          [
           "2013-09-11T00:00:00"
          ],
          [
           "2013-09-12T00:00:00"
          ],
          [
           "2013-09-13T00:00:00"
          ],
          [
           "2013-09-14T00:00:00"
          ],
          [
           "2013-09-15T00:00:00"
          ],
          [
           "2013-09-16T00:00:00"
          ],
          [
           "2013-09-18T00:00:00"
          ],
          [
           "2013-09-19T00:00:00"
          ],
          [
           "2013-09-20T00:00:00"
          ],
          [
           "2013-09-21T00:00:00"
          ],
          [
           "2013-09-22T00:00:00"
          ],
          [
           "2013-09-23T00:00:00"
          ],
          [
           "2013-09-24T00:00:00"
          ],
          [
           "2013-09-25T00:00:00"
          ],
          [
           "2013-09-26T00:00:00"
          ],
          [
           "2013-09-27T00:00:00"
          ],
          [
           "2013-09-28T00:00:00"
          ],
          [
           "2013-09-29T00:00:00"
          ],
          [
           "2013-09-30T00:00:00"
          ],
          [
           "2013-10-01T00:00:00"
          ],
          [
           "2013-10-02T00:00:00"
          ],
          [
           "2013-10-03T00:00:00"
          ],
          [
           "2013-10-04T00:00:00"
          ],
          [
           "2013-10-05T00:00:00"
          ],
          [
           "2013-10-06T00:00:00"
          ],
          [
           "2013-10-07T00:00:00"
          ],
          [
           "2013-10-08T00:00:00"
          ],
          [
           "2013-10-09T00:00:00"
          ],
          [
           "2013-10-10T00:00:00"
          ],
          [
           "2013-10-11T00:00:00"
          ],
          [
           "2013-10-12T00:00:00"
          ],
          [
           "2013-10-13T00:00:00"
          ],
          [
           "2013-10-14T00:00:00"
          ],
          [
           "2013-10-15T00:00:00"
          ],
          [
           "2013-10-16T00:00:00"
          ],
          [
           "2013-10-17T00:00:00"
          ],
          [
           "2013-10-18T00:00:00"
          ],
          [
           "2013-10-19T00:00:00"
          ],
          [
           "2013-10-20T00:00:00"
          ],
          [
           "2013-10-21T00:00:00"
          ],
          [
           "2013-10-22T00:00:00"
          ],
          [
           "2013-10-23T00:00:00"
          ],
          [
           "2013-10-24T00:00:00"
          ],
          [
           "2013-10-26T00:00:00"
          ],
          [
           "2013-10-27T00:00:00"
          ],
          [
           "2013-10-28T00:00:00"
          ],
          [
           "2013-10-29T00:00:00"
          ],
          [
           "2013-10-30T00:00:00"
          ],
          [
           "2013-10-31T00:00:00"
          ],
          [
           "2013-11-01T00:00:00"
          ],
          [
           "2013-11-02T00:00:00"
          ],
          [
           "2013-11-03T00:00:00"
          ],
          [
           "2013-11-04T00:00:00"
          ],
          [
           "2013-11-16T00:00:00"
          ],
          [
           "2013-11-17T00:00:00"
          ],
          [
           "2013-11-24T00:00:00"
          ],
          [
           "2013-11-25T00:00:00"
          ],
          [
           "2013-11-26T00:00:00"
          ],
          [
           "2013-11-27T00:00:00"
          ],
          [
           "2013-11-28T00:00:00"
          ],
          [
           "2013-11-29T00:00:00"
          ],
          [
           "2013-11-30T00:00:00"
          ],
          [
           "2013-12-02T00:00:00"
          ],
          [
           "2013-12-03T00:00:00"
          ],
          [
           "2013-12-04T00:00:00"
          ],
          [
           "2013-12-05T00:00:00"
          ],
          [
           "2013-12-06T00:00:00"
          ],
          [
           "2013-12-07T00:00:00"
          ],
          [
           "2013-12-08T00:00:00"
          ],
          [
           "2013-12-09T00:00:00"
          ],
          [
           "2013-12-18T00:00:00"
          ],
          [
           "2013-12-19T00:00:00"
          ],
          [
           "2013-12-20T00:00:00"
          ],
          [
           "2013-12-21T00:00:00"
          ],
          [
           "2013-12-22T00:00:00"
          ],
          [
           "2013-12-23T00:00:00"
          ],
          [
           "2013-12-24T00:00:00"
          ],
          [
           "2013-12-25T00:00:00"
          ],
          [
           "2013-12-26T00:00:00"
          ],
          [
           "2013-12-27T00:00:00"
          ],
          [
           "2013-12-28T00:00:00"
          ],
          [
           "2013-12-29T00:00:00"
          ],
          [
           "2013-12-30T00:00:00"
          ],
          [
           "2013-12-31T00:00:00"
          ],
          [
           "2014-01-01T00:00:00"
          ],
          [
           "2014-01-02T00:00:00"
          ],
          [
           "2014-01-03T00:00:00"
          ],
          [
           "2014-01-04T00:00:00"
          ],
          [
           "2014-01-05T00:00:00"
          ],
          [
           "2014-01-06T00:00:00"
          ],
          [
           "2014-01-08T00:00:00"
          ],
          [
           "2014-01-09T00:00:00"
          ],
          [
           "2014-01-10T00:00:00"
          ],
          [
           "2014-01-11T00:00:00"
          ],
          [
           "2014-01-12T00:00:00"
          ],
          [
           "2014-01-13T00:00:00"
          ],
          [
           "2014-01-14T00:00:00"
          ],
          [
           "2014-01-15T00:00:00"
          ],
          [
           "2014-01-16T00:00:00"
          ],
          [
           "2014-01-17T00:00:00"
          ],
          [
           "2014-01-18T00:00:00"
          ],
          [
           "2014-01-19T00:00:00"
          ],
          [
           "2014-01-20T00:00:00"
          ],
          [
           "2014-01-21T00:00:00"
          ],
          [
           "2014-01-22T00:00:00"
          ],
          [
           "2014-01-23T00:00:00"
          ],
          [
           "2014-01-24T00:00:00"
          ],
          [
           "2014-01-25T00:00:00"
          ],
          [
           "2014-01-26T00:00:00"
          ],
          [
           "2014-01-27T00:00:00"
          ],
          [
           "2014-01-28T00:00:00"
          ],
          [
           "2014-01-29T00:00:00"
          ],
          [
           "2014-01-30T00:00:00"
          ],
          [
           "2014-01-31T00:00:00"
          ],
          [
           "2014-02-01T00:00:00"
          ],
          [
           "2014-02-02T00:00:00"
          ],
          [
           "2014-02-03T00:00:00"
          ],
          [
           "2014-02-04T00:00:00"
          ],
          [
           "2014-02-05T00:00:00"
          ],
          [
           "2014-02-06T00:00:00"
          ],
          [
           "2014-02-07T00:00:00"
          ],
          [
           "2014-02-08T00:00:00"
          ],
          [
           "2014-02-09T00:00:00"
          ],
          [
           "2014-02-10T00:00:00"
          ],
          [
           "2014-02-11T00:00:00"
          ],
          [
           "2014-02-12T00:00:00"
          ],
          [
           "2014-02-13T00:00:00"
          ],
          [
           "2014-02-15T00:00:00"
          ],
          [
           "2014-02-16T00:00:00"
          ],
          [
           "2014-02-17T00:00:00"
          ],
          [
           "2014-02-18T00:00:00"
          ],
          [
           "2014-02-19T00:00:00"
          ],
          [
           "2014-02-20T00:00:00"
          ],
          [
           "2014-02-21T00:00:00"
          ],
          [
           "2014-02-22T00:00:00"
          ],
          [
           "2014-02-23T00:00:00"
          ],
          [
           "2014-02-24T00:00:00"
          ],
          [
           "2014-02-25T00:00:00"
          ],
          [
           "2014-02-26T00:00:00"
          ],
          [
           "2014-02-27T00:00:00"
          ],
          [
           "2014-02-28T00:00:00"
          ],
          [
           "2014-03-01T00:00:00"
          ],
          [
           "2014-03-02T00:00:00"
          ],
          [
           "2014-03-03T00:00:00"
          ],
          [
           "2014-03-04T00:00:00"
          ],
          [
           "2014-03-05T00:00:00"
          ],
          [
           "2014-03-06T00:00:00"
          ],
          [
           "2014-03-07T00:00:00"
          ],
          [
           "2014-03-08T00:00:00"
          ],
          [
           "2014-03-09T00:00:00"
          ],
          [
           "2014-03-10T00:00:00"
          ],
          [
           "2014-03-11T00:00:00"
          ],
          [
           "2014-03-12T00:00:00"
          ],
          [
           "2014-03-13T00:00:00"
          ],
          [
           "2014-03-14T00:00:00"
          ],
          [
           "2014-03-15T00:00:00"
          ],
          [
           "2014-03-16T00:00:00"
          ],
          [
           "2014-03-17T00:00:00"
          ],
          [
           "2014-03-18T00:00:00"
          ],
          [
           "2014-03-19T00:00:00"
          ],
          [
           "2014-03-20T00:00:00"
          ],
          [
           "2014-03-21T00:00:00"
          ],
          [
           "2014-03-22T00:00:00"
          ],
          [
           "2014-03-24T00:00:00"
          ],
          [
           "2014-03-25T00:00:00"
          ],
          [
           "2014-03-26T00:00:00"
          ],
          [
           "2014-03-27T00:00:00"
          ],
          [
           "2014-03-28T00:00:00"
          ],
          [
           "2014-03-29T00:00:00"
          ],
          [
           "2014-03-30T00:00:00"
          ],
          [
           "2014-03-31T00:00:00"
          ],
          [
           "2014-04-01T00:00:00"
          ],
          [
           "2014-04-02T00:00:00"
          ],
          [
           "2014-04-03T00:00:00"
          ],
          [
           "2014-04-04T00:00:00"
          ],
          [
           "2014-04-05T00:00:00"
          ],
          [
           "2014-04-06T00:00:00"
          ],
          [
           "2014-04-07T00:00:00"
          ],
          [
           "2014-04-08T00:00:00"
          ],
          [
           "2014-04-09T00:00:00"
          ],
          [
           "2014-04-10T00:00:00"
          ],
          [
           "2014-04-11T00:00:00"
          ],
          [
           "2014-04-12T00:00:00"
          ],
          [
           "2014-04-13T00:00:00"
          ],
          [
           "2014-04-14T00:00:00"
          ],
          [
           "2014-04-15T00:00:00"
          ],
          [
           "2014-04-16T00:00:00"
          ],
          [
           "2014-04-17T00:00:00"
          ],
          [
           "2014-04-18T00:00:00"
          ],
          [
           "2014-04-19T00:00:00"
          ],
          [
           "2014-04-20T00:00:00"
          ],
          [
           "2014-04-21T00:00:00"
          ],
          [
           "2014-04-22T00:00:00"
          ],
          [
           "2014-04-23T00:00:00"
          ],
          [
           "2014-04-24T00:00:00"
          ],
          [
           "2014-04-25T00:00:00"
          ],
          [
           "2014-04-26T00:00:00"
          ],
          [
           "2014-04-27T00:00:00"
          ],
          [
           "2014-04-28T00:00:00"
          ],
          [
           "2014-04-29T00:00:00"
          ],
          [
           "2014-05-01T00:00:00"
          ],
          [
           "2014-05-02T00:00:00"
          ],
          [
           "2014-05-03T00:00:00"
          ],
          [
           "2014-05-04T00:00:00"
          ],
          [
           "2014-05-05T00:00:00"
          ],
          [
           "2014-05-06T00:00:00"
          ],
          [
           "2014-05-07T00:00:00"
          ],
          [
           "2014-05-08T00:00:00"
          ],
          [
           "2014-05-09T00:00:00"
          ],
          [
           "2014-05-10T00:00:00"
          ],
          [
           "2014-05-11T00:00:00"
          ],
          [
           "2014-05-12T00:00:00"
          ],
          [
           "2014-05-13T00:00:00"
          ],
          [
           "2014-05-14T00:00:00"
          ],
          [
           "2014-05-15T00:00:00"
          ],
          [
           "2014-05-16T00:00:00"
          ],
          [
           "2014-05-17T00:00:00"
          ],
          [
           "2014-05-18T00:00:00"
          ],
          [
           "2014-05-19T00:00:00"
          ],
          [
           "2014-05-20T00:00:00"
          ],
          [
           "2014-05-21T00:00:00"
          ],
          [
           "2014-05-22T00:00:00"
          ],
          [
           "2014-05-23T00:00:00"
          ],
          [
           "2014-05-24T00:00:00"
          ],
          [
           "2014-05-25T00:00:00"
          ],
          [
           "2014-05-26T00:00:00"
          ],
          [
           "2014-05-27T00:00:00"
          ],
          [
           "2014-05-28T00:00:00"
          ],
          [
           "2014-05-29T00:00:00"
          ],
          [
           "2014-05-30T00:00:00"
          ],
          [
           "2014-05-31T00:00:00"
          ],
          [
           "2014-06-01T00:00:00"
          ],
          [
           "2014-06-02T00:00:00"
          ],
          [
           "2014-06-03T00:00:00"
          ],
          [
           "2014-06-04T00:00:00"
          ],
          [
           "2014-06-05T00:00:00"
          ],
          [
           "2014-06-07T00:00:00"
          ],
          [
           "2014-06-08T00:00:00"
          ],
          [
           "2014-06-09T00:00:00"
          ],
          [
           "2014-06-10T00:00:00"
          ],
          [
           "2014-06-11T00:00:00"
          ],
          [
           "2014-06-12T00:00:00"
          ],
          [
           "2014-06-13T00:00:00"
          ],
          [
           "2014-06-14T00:00:00"
          ],
          [
           "2014-06-15T00:00:00"
          ],
          [
           "2014-06-16T00:00:00"
          ],
          [
           "2014-06-17T00:00:00"
          ],
          [
           "2014-06-18T00:00:00"
          ],
          [
           "2014-06-19T00:00:00"
          ],
          [
           "2014-06-20T00:00:00"
          ],
          [
           "2014-06-21T00:00:00"
          ],
          [
           "2014-06-22T00:00:00"
          ],
          [
           "2014-06-23T00:00:00"
          ],
          [
           "2014-06-24T00:00:00"
          ],
          [
           "2014-06-25T00:00:00"
          ],
          [
           "2014-06-26T00:00:00"
          ],
          [
           "2014-06-27T00:00:00"
          ],
          [
           "2014-06-28T00:00:00"
          ],
          [
           "2014-06-29T00:00:00"
          ],
          [
           "2014-06-30T00:00:00"
          ],
          [
           "2014-07-01T00:00:00"
          ],
          [
           "2014-07-02T00:00:00"
          ],
          [
           "2014-07-03T00:00:00"
          ],
          [
           "2014-07-04T00:00:00"
          ],
          [
           "2014-07-05T00:00:00"
          ],
          [
           "2014-07-06T00:00:00"
          ],
          [
           "2014-07-07T00:00:00"
          ],
          [
           "2014-07-08T00:00:00"
          ],
          [
           "2014-07-09T00:00:00"
          ],
          [
           "2014-07-10T00:00:00"
          ],
          [
           "2014-07-11T00:00:00"
          ],
          [
           "2014-07-12T00:00:00"
          ],
          [
           "2014-07-14T00:00:00"
          ],
          [
           "2014-07-15T00:00:00"
          ],
          [
           "2014-07-16T00:00:00"
          ],
          [
           "2014-07-17T00:00:00"
          ],
          [
           "2014-07-18T00:00:00"
          ],
          [
           "2014-07-19T00:00:00"
          ],
          [
           "2014-07-20T00:00:00"
          ],
          [
           "2014-07-21T00:00:00"
          ],
          [
           "2014-07-22T00:00:00"
          ],
          [
           "2014-07-23T00:00:00"
          ],
          [
           "2014-07-24T00:00:00"
          ],
          [
           "2014-07-25T00:00:00"
          ],
          [
           "2014-07-26T00:00:00"
          ],
          [
           "2014-07-27T00:00:00"
          ],
          [
           "2014-07-28T00:00:00"
          ],
          [
           "2014-07-29T00:00:00"
          ],
          [
           "2014-07-30T00:00:00"
          ],
          [
           "2014-07-31T00:00:00"
          ],
          [
           "2014-08-01T00:00:00"
          ],
          [
           "2014-08-02T00:00:00"
          ],
          [
           "2014-08-03T00:00:00"
          ],
          [
           "2014-08-04T00:00:00"
          ],
          [
           "2014-08-05T00:00:00"
          ],
          [
           "2014-08-06T00:00:00"
          ],
          [
           "2014-08-07T00:00:00"
          ],
          [
           "2014-08-08T00:00:00"
          ],
          [
           "2014-08-09T00:00:00"
          ],
          [
           "2014-08-10T00:00:00"
          ],
          [
           "2014-08-11T00:00:00"
          ],
          [
           "2014-08-12T00:00:00"
          ],
          [
           "2014-08-13T00:00:00"
          ],
          [
           "2014-08-14T00:00:00"
          ],
          [
           "2014-08-15T00:00:00"
          ],
          [
           "2014-08-16T00:00:00"
          ],
          [
           "2014-08-17T00:00:00"
          ],
          [
           "2014-08-18T00:00:00"
          ],
          [
           "2014-08-19T00:00:00"
          ],
          [
           "2014-08-21T00:00:00"
          ],
          [
           "2014-08-22T00:00:00"
          ],
          [
           "2014-08-23T00:00:00"
          ],
          [
           "2014-08-24T00:00:00"
          ],
          [
           "2014-08-25T00:00:00"
          ],
          [
           "2014-08-26T00:00:00"
          ],
          [
           "2014-08-27T00:00:00"
          ],
          [
           "2014-08-28T00:00:00"
          ],
          [
           "2014-08-29T00:00:00"
          ],
          [
           "2014-08-30T00:00:00"
          ],
          [
           "2014-08-31T00:00:00"
          ],
          [
           "2014-09-01T00:00:00"
          ],
          [
           "2014-09-02T00:00:00"
          ],
          [
           "2014-09-03T00:00:00"
          ],
          [
           "2014-09-04T00:00:00"
          ],
          [
           "2014-09-05T00:00:00"
          ],
          [
           "2014-09-06T00:00:00"
          ],
          [
           "2014-09-07T00:00:00"
          ],
          [
           "2014-09-08T00:00:00"
          ],
          [
           "2014-09-09T00:00:00"
          ],
          [
           "2014-09-10T00:00:00"
          ],
          [
           "2014-09-11T00:00:00"
          ],
          [
           "2014-09-12T00:00:00"
          ],
          [
           "2014-09-13T00:00:00"
          ],
          [
           "2014-09-14T00:00:00"
          ],
          [
           "2014-09-15T00:00:00"
          ],
          [
           "2014-09-16T00:00:00"
          ],
          [
           "2014-09-17T00:00:00"
          ],
          [
           "2014-09-18T00:00:00"
          ],
          [
           "2014-09-19T00:00:00"
          ],
          [
           "2014-09-20T00:00:00"
          ],
          [
           "2014-09-21T00:00:00"
          ],
          [
           "2014-09-22T00:00:00"
          ],
          [
           "2014-09-23T00:00:00"
          ],
          [
           "2014-09-24T00:00:00"
          ],
          [
           "2014-09-25T00:00:00"
          ],
          [
           "2014-09-27T00:00:00"
          ],
          [
           "2014-09-28T00:00:00"
          ],
          [
           "2014-09-29T00:00:00"
          ],
          [
           "2014-09-30T00:00:00"
          ],
          [
           "2014-10-01T00:00:00"
          ],
          [
           "2014-10-02T00:00:00"
          ],
          [
           "2014-10-03T00:00:00"
          ],
          [
           "2014-10-04T00:00:00"
          ],
          [
           "2014-10-05T00:00:00"
          ],
          [
           "2014-10-06T00:00:00"
          ],
          [
           "2014-10-07T00:00:00"
          ],
          [
           "2014-10-08T00:00:00"
          ],
          [
           "2014-10-09T00:00:00"
          ],
          [
           "2014-10-10T00:00:00"
          ],
          [
           "2014-10-11T00:00:00"
          ],
          [
           "2014-10-12T00:00:00"
          ],
          [
           "2014-10-13T00:00:00"
          ],
          [
           "2014-10-14T00:00:00"
          ],
          [
           "2014-10-15T00:00:00"
          ],
          [
           "2014-10-16T00:00:00"
          ],
          [
           "2014-10-17T00:00:00"
          ],
          [
           "2014-10-18T00:00:00"
          ],
          [
           "2014-10-19T00:00:00"
          ],
          [
           "2014-10-20T00:00:00"
          ],
          [
           "2014-10-21T00:00:00"
          ],
          [
           "2014-10-22T00:00:00"
          ],
          [
           "2014-10-23T00:00:00"
          ],
          [
           "2014-10-24T00:00:00"
          ],
          [
           "2014-10-25T00:00:00"
          ],
          [
           "2014-10-26T00:00:00"
          ],
          [
           "2014-10-27T00:00:00"
          ],
          [
           "2014-10-28T00:00:00"
          ],
          [
           "2014-10-29T00:00:00"
          ],
          [
           "2014-10-30T00:00:00"
          ],
          [
           "2014-10-31T00:00:00"
          ],
          [
           "2014-11-01T00:00:00"
          ],
          [
           "2014-11-03T00:00:00"
          ],
          [
           "2014-11-04T00:00:00"
          ],
          [
           "2014-11-05T00:00:00"
          ],
          [
           "2014-11-06T00:00:00"
          ],
          [
           "2014-11-07T00:00:00"
          ],
          [
           "2014-11-08T00:00:00"
          ],
          [
           "2014-11-09T00:00:00"
          ],
          [
           "2014-11-10T00:00:00"
          ],
          [
           "2014-11-11T00:00:00"
          ],
          [
           "2014-11-12T00:00:00"
          ],
          [
           "2014-11-13T00:00:00"
          ],
          [
           "2014-11-14T00:00:00"
          ],
          [
           "2014-11-15T00:00:00"
          ],
          [
           "2014-11-16T00:00:00"
          ],
          [
           "2014-11-17T00:00:00"
          ],
          [
           "2014-11-18T00:00:00"
          ],
          [
           "2014-11-19T00:00:00"
          ],
          [
           "2014-11-20T00:00:00"
          ],
          [
           "2014-11-21T00:00:00"
          ],
          [
           "2014-11-22T00:00:00"
          ],
          [
           "2014-11-23T00:00:00"
          ],
          [
           "2014-11-24T00:00:00"
          ],
          [
           "2014-11-25T00:00:00"
          ],
          [
           "2014-11-26T00:00:00"
          ],
          [
           "2014-11-27T00:00:00"
          ],
          [
           "2014-11-28T00:00:00"
          ],
          [
           "2014-11-29T00:00:00"
          ],
          [
           "2014-11-30T00:00:00"
          ],
          [
           "2014-12-01T00:00:00"
          ],
          [
           "2014-12-02T00:00:00"
          ],
          [
           "2014-12-03T00:00:00"
          ],
          [
           "2014-12-04T00:00:00"
          ],
          [
           "2014-12-05T00:00:00"
          ],
          [
           "2014-12-06T00:00:00"
          ],
          [
           "2014-12-07T00:00:00"
          ],
          [
           "2014-12-08T00:00:00"
          ],
          [
           "2014-12-09T00:00:00"
          ],
          [
           "2014-12-11T00:00:00"
          ],
          [
           "2014-12-12T00:00:00"
          ],
          [
           "2014-12-13T00:00:00"
          ],
          [
           "2014-12-14T00:00:00"
          ],
          [
           "2014-12-15T00:00:00"
          ],
          [
           "2014-12-16T00:00:00"
          ],
          [
           "2014-12-17T00:00:00"
          ],
          [
           "2014-12-18T00:00:00"
          ],
          [
           "2014-12-19T00:00:00"
          ],
          [
           "2014-12-20T00:00:00"
          ],
          [
           "2014-12-21T00:00:00"
          ],
          [
           "2014-12-22T00:00:00"
          ],
          [
           "2014-12-23T00:00:00"
          ],
          [
           "2014-12-24T00:00:00"
          ],
          [
           "2014-12-25T00:00:00"
          ],
          [
           "2014-12-26T00:00:00"
          ],
          [
           "2014-12-27T00:00:00"
          ],
          [
           "2014-12-28T00:00:00"
          ],
          [
           "2014-12-29T00:00:00"
          ],
          [
           "2014-12-30T00:00:00"
          ],
          [
           "2014-12-31T00:00:00"
          ],
          [
           "2015-01-01T00:00:00"
          ],
          [
           "2015-01-02T00:00:00"
          ],
          [
           "2015-01-03T00:00:00"
          ],
          [
           "2015-01-04T00:00:00"
          ],
          [
           "2015-01-05T00:00:00"
          ],
          [
           "2015-01-06T00:00:00"
          ],
          [
           "2015-01-07T00:00:00"
          ],
          [
           "2015-01-08T00:00:00"
          ],
          [
           "2015-01-09T00:00:00"
          ],
          [
           "2015-01-10T00:00:00"
          ],
          [
           "2015-01-11T00:00:00"
          ],
          [
           "2015-01-12T00:00:00"
          ],
          [
           "2015-01-13T00:00:00"
          ],
          [
           "2015-01-14T00:00:00"
          ],
          [
           "2015-01-15T00:00:00"
          ],
          [
           "2015-01-17T00:00:00"
          ],
          [
           "2015-01-18T00:00:00"
          ],
          [
           "2015-01-19T00:00:00"
          ],
          [
           "2015-01-28T00:00:00"
          ],
          [
           "2015-01-29T00:00:00"
          ],
          [
           "2015-01-30T00:00:00"
          ],
          [
           "2015-01-31T00:00:00"
          ],
          [
           "2015-02-01T00:00:00"
          ],
          [
           "2015-02-02T00:00:00"
          ],
          [
           "2015-02-03T00:00:00"
          ],
          [
           "2015-02-04T00:00:00"
          ],
          [
           "2015-02-05T00:00:00"
          ],
          [
           "2015-02-06T00:00:00"
          ],
          [
           "2015-02-07T00:00:00"
          ],
          [
           "2015-02-08T00:00:00"
          ],
          [
           "2015-02-09T00:00:00"
          ],
          [
           "2015-02-10T00:00:00"
          ],
          [
           "2015-02-11T00:00:00"
          ],
          [
           "2015-02-12T00:00:00"
          ],
          [
           "2015-02-13T00:00:00"
          ],
          [
           "2015-02-14T00:00:00"
          ],
          [
           "2015-02-15T00:00:00"
          ],
          [
           "2015-02-16T00:00:00"
          ],
          [
           "2015-02-17T00:00:00"
          ],
          [
           "2015-02-18T00:00:00"
          ],
          [
           "2015-02-19T00:00:00"
          ],
          [
           "2015-02-20T00:00:00"
          ],
          [
           "2015-02-21T00:00:00"
          ],
          [
           "2015-02-22T00:00:00"
          ],
          [
           "2015-02-24T00:00:00"
          ],
          [
           "2015-02-25T00:00:00"
          ],
          [
           "2015-02-26T00:00:00"
          ],
          [
           "2015-02-27T00:00:00"
          ],
          [
           "2015-02-28T00:00:00"
          ],
          [
           "2015-03-01T00:00:00"
          ],
          [
           "2015-03-02T00:00:00"
          ],
          [
           "2015-03-03T00:00:00"
          ],
          [
           "2015-03-04T00:00:00"
          ],
          [
           "2015-03-05T00:00:00"
          ],
          [
           "2015-03-06T00:00:00"
          ],
          [
           "2015-03-07T00:00:00"
          ],
          [
           "2015-03-08T00:00:00"
          ],
          [
           "2015-03-09T00:00:00"
          ],
          [
           "2015-03-10T00:00:00"
          ],
          [
           "2015-03-11T00:00:00"
          ],
          [
           "2015-03-12T00:00:00"
          ],
          [
           "2015-03-13T00:00:00"
          ],
          [
           "2015-03-14T00:00:00"
          ],
          [
           "2015-03-15T00:00:00"
          ],
          [
           "2015-03-16T00:00:00"
          ],
          [
           "2015-03-17T00:00:00"
          ],
          [
           "2015-03-18T00:00:00"
          ],
          [
           "2015-03-19T00:00:00"
          ],
          [
           "2015-03-20T00:00:00"
          ],
          [
           "2015-03-21T00:00:00"
          ],
          [
           "2015-03-22T00:00:00"
          ],
          [
           "2015-03-23T00:00:00"
          ],
          [
           "2015-03-24T00:00:00"
          ],
          [
           "2015-03-25T00:00:00"
          ],
          [
           "2015-03-26T00:00:00"
          ],
          [
           "2015-03-29T00:00:00"
          ],
          [
           "2015-03-30T00:00:00"
          ],
          [
           "2015-03-31T00:00:00"
          ],
          [
           "2015-04-02T00:00:00"
          ],
          [
           "2015-04-03T00:00:00"
          ],
          [
           "2015-04-04T00:00:00"
          ],
          [
           "2015-04-05T00:00:00"
          ],
          [
           "2015-04-06T00:00:00"
          ],
          [
           "2015-04-07T00:00:00"
          ],
          [
           "2015-04-08T00:00:00"
          ],
          [
           "2015-04-09T00:00:00"
          ],
          [
           "2015-04-10T00:00:00"
          ],
          [
           "2015-04-11T00:00:00"
          ],
          [
           "2015-04-12T00:00:00"
          ],
          [
           "2015-04-13T00:00:00"
          ],
          [
           "2015-04-17T00:00:00"
          ],
          [
           "2015-04-18T00:00:00"
          ],
          [
           "2015-04-19T00:00:00"
          ],
          [
           "2015-04-20T00:00:00"
          ],
          [
           "2015-04-21T00:00:00"
          ],
          [
           "2015-04-22T00:00:00"
          ],
          [
           "2015-04-23T00:00:00"
          ],
          [
           "2015-04-24T00:00:00"
          ],
          [
           "2015-04-25T00:00:00"
          ],
          [
           "2015-04-26T00:00:00"
          ],
          [
           "2015-04-27T00:00:00"
          ],
          [
           "2015-04-28T00:00:00"
          ],
          [
           "2015-04-29T00:00:00"
          ],
          [
           "2015-04-30T00:00:00"
          ],
          [
           "2015-05-01T00:00:00"
          ],
          [
           "2015-05-02T00:00:00"
          ],
          [
           "2015-05-03T00:00:00"
          ],
          [
           "2015-05-04T00:00:00"
          ],
          [
           "2015-05-05T00:00:00"
          ],
          [
           "2015-05-06T00:00:00"
          ],
          [
           "2015-05-07T00:00:00"
          ],
          [
           "2015-05-09T00:00:00"
          ],
          [
           "2015-05-10T00:00:00"
          ],
          [
           "2015-05-11T00:00:00"
          ],
          [
           "2015-05-12T00:00:00"
          ],
          [
           "2015-05-13T00:00:00"
          ],
          [
           "2015-05-14T00:00:00"
          ],
          [
           "2015-05-15T00:00:00"
          ],
          [
           "2015-05-16T00:00:00"
          ],
          [
           "2015-05-17T00:00:00"
          ],
          [
           "2015-05-18T00:00:00"
          ],
          [
           "2015-05-19T00:00:00"
          ],
          [
           "2015-05-20T00:00:00"
          ],
          [
           "2015-05-21T00:00:00"
          ],
          [
           "2015-05-22T00:00:00"
          ],
          [
           "2015-05-23T00:00:00"
          ],
          [
           "2015-05-24T00:00:00"
          ],
          [
           "2015-05-25T00:00:00"
          ],
          [
           "2015-05-26T00:00:00"
          ],
          [
           "2015-05-27T00:00:00"
          ],
          [
           "2015-05-28T00:00:00"
          ],
          [
           "2015-05-30T00:00:00"
          ],
          [
           "2015-05-31T00:00:00"
          ],
          [
           "2015-06-01T00:00:00"
          ],
          [
           "2015-06-02T00:00:00"
          ],
          [
           "2015-06-03T00:00:00"
          ],
          [
           "2015-06-04T00:00:00"
          ],
          [
           "2015-06-05T00:00:00"
          ],
          [
           "2015-06-06T00:00:00"
          ],
          [
           "2015-06-07T00:00:00"
          ],
          [
           "2015-06-08T00:00:00"
          ],
          [
           "2015-06-09T00:00:00"
          ],
          [
           "2015-06-10T00:00:00"
          ],
          [
           "2015-06-11T00:00:00"
          ],
          [
           "2015-06-12T00:00:00"
          ],
          [
           "2015-06-13T00:00:00"
          ],
          [
           "2015-06-14T00:00:00"
          ],
          [
           "2015-06-16T00:00:00"
          ],
          [
           "2015-06-17T00:00:00"
          ],
          [
           "2015-06-18T00:00:00"
          ],
          [
           "2015-06-19T00:00:00"
          ],
          [
           "2015-06-20T00:00:00"
          ],
          [
           "2015-06-21T00:00:00"
          ],
          [
           "2015-06-22T00:00:00"
          ],
          [
           "2015-06-23T00:00:00"
          ],
          [
           "2015-06-24T00:00:00"
          ],
          [
           "2015-06-25T00:00:00"
          ],
          [
           "2015-06-26T00:00:00"
          ],
          [
           "2015-06-28T00:00:00"
          ],
          [
           "2015-06-29T00:00:00"
          ],
          [
           "2015-06-30T00:00:00"
          ],
          [
           "2015-07-01T00:00:00"
          ],
          [
           "2015-07-02T00:00:00"
          ],
          [
           "2015-07-03T00:00:00"
          ],
          [
           "2015-07-04T00:00:00"
          ],
          [
           "2015-07-05T00:00:00"
          ],
          [
           "2015-07-06T00:00:00"
          ],
          [
           "2015-07-07T00:00:00"
          ],
          [
           "2015-07-08T00:00:00"
          ],
          [
           "2015-07-09T00:00:00"
          ],
          [
           "2015-07-10T00:00:00"
          ],
          [
           "2015-07-11T00:00:00"
          ],
          [
           "2015-07-12T00:00:00"
          ],
          [
           "2015-07-13T00:00:00"
          ],
          [
           "2015-07-14T00:00:00"
          ],
          [
           "2015-07-15T00:00:00"
          ],
          [
           "2015-07-16T00:00:00"
          ],
          [
           "2015-07-17T00:00:00"
          ],
          [
           "2015-07-18T00:00:00"
          ],
          [
           "2015-07-19T00:00:00"
          ],
          [
           "2015-07-20T00:00:00"
          ],
          [
           "2015-07-21T00:00:00"
          ],
          [
           "2015-07-23T00:00:00"
          ],
          [
           "2015-07-24T00:00:00"
          ],
          [
           "2015-07-25T00:00:00"
          ],
          [
           "2015-07-26T00:00:00"
          ],
          [
           "2015-07-27T00:00:00"
          ],
          [
           "2015-07-28T00:00:00"
          ],
          [
           "2015-07-29T00:00:00"
          ],
          [
           "2015-07-30T00:00:00"
          ],
          [
           "2015-07-31T00:00:00"
          ],
          [
           "2015-08-01T00:00:00"
          ],
          [
           "2015-08-02T00:00:00"
          ],
          [
           "2015-08-03T00:00:00"
          ],
          [
           "2015-08-04T00:00:00"
          ],
          [
           "2015-08-05T00:00:00"
          ],
          [
           "2015-08-06T00:00:00"
          ],
          [
           "2015-08-07T00:00:00"
          ],
          [
           "2015-08-08T00:00:00"
          ],
          [
           "2015-08-09T00:00:00"
          ],
          [
           "2015-08-10T00:00:00"
          ],
          [
           "2015-08-11T00:00:00"
          ],
          [
           "2015-08-12T00:00:00"
          ],
          [
           "2015-08-13T00:00:00"
          ],
          [
           "2015-08-14T00:00:00"
          ],
          [
           "2015-08-15T00:00:00"
          ],
          [
           "2015-08-16T00:00:00"
          ],
          [
           "2015-08-17T00:00:00"
          ],
          [
           "2015-08-18T00:00:00"
          ],
          [
           "2015-08-19T00:00:00"
          ],
          [
           "2015-08-20T00:00:00"
          ],
          [
           "2015-08-21T00:00:00"
          ],
          [
           "2015-08-22T00:00:00"
          ],
          [
           "2015-08-23T00:00:00"
          ],
          [
           "2015-08-24T00:00:00"
          ],
          [
           "2015-08-25T00:00:00"
          ],
          [
           "2015-08-26T00:00:00"
          ],
          [
           "2015-08-27T00:00:00"
          ],
          [
           "2015-08-29T00:00:00"
          ],
          [
           "2015-08-30T00:00:00"
          ],
          [
           "2015-08-31T00:00:00"
          ],
          [
           "2015-09-01T00:00:00"
          ],
          [
           "2015-09-02T00:00:00"
          ],
          [
           "2015-09-03T00:00:00"
          ],
          [
           "2015-09-04T00:00:00"
          ],
          [
           "2015-09-05T00:00:00"
          ],
          [
           "2015-09-06T00:00:00"
          ],
          [
           "2015-09-07T00:00:00"
          ],
          [
           "2015-09-08T00:00:00"
          ],
          [
           "2015-09-09T00:00:00"
          ],
          [
           "2015-09-10T00:00:00"
          ],
          [
           "2015-09-11T00:00:00"
          ],
          [
           "2015-09-12T00:00:00"
          ],
          [
           "2015-09-13T00:00:00"
          ],
          [
           "2015-09-14T00:00:00"
          ],
          [
           "2015-09-15T00:00:00"
          ],
          [
           "2015-09-16T00:00:00"
          ],
          [
           "2015-09-17T00:00:00"
          ],
          [
           "2015-09-18T00:00:00"
          ],
          [
           "2015-09-19T00:00:00"
          ],
          [
           "2015-09-20T00:00:00"
          ],
          [
           "2015-09-21T00:00:00"
          ],
          [
           "2015-09-22T00:00:00"
          ],
          [
           "2015-09-23T00:00:00"
          ],
          [
           "2015-09-24T00:00:00"
          ],
          [
           "2015-09-25T00:00:00"
          ],
          [
           "2015-09-26T00:00:00"
          ],
          [
           "2015-09-27T00:00:00"
          ],
          [
           "2015-09-28T00:00:00"
          ],
          [
           "2015-09-29T00:00:00"
          ],
          [
           "2015-09-30T00:00:00"
          ],
          [
           "2015-10-01T00:00:00"
          ],
          [
           "2015-10-02T00:00:00"
          ],
          [
           "2015-10-03T00:00:00"
          ],
          [
           "2015-10-04T00:00:00"
          ],
          [
           "2015-10-06T00:00:00"
          ],
          [
           "2015-10-07T00:00:00"
          ],
          [
           "2015-10-08T00:00:00"
          ],
          [
           "2015-10-09T00:00:00"
          ],
          [
           "2015-10-10T00:00:00"
          ],
          [
           "2015-10-11T00:00:00"
          ],
          [
           "2015-10-12T00:00:00"
          ],
          [
           "2015-10-13T00:00:00"
          ],
          [
           "2015-10-14T00:00:00"
          ],
          [
           "2015-10-15T00:00:00"
          ],
          [
           "2015-10-16T00:00:00"
          ],
          [
           "2015-10-17T00:00:00"
          ],
          [
           "2015-10-18T00:00:00"
          ],
          [
           "2015-10-19T00:00:00"
          ],
          [
           "2015-10-20T00:00:00"
          ],
          [
           "2015-10-21T00:00:00"
          ],
          [
           "2015-10-22T00:00:00"
          ],
          [
           "2015-10-23T00:00:00"
          ],
          [
           "2015-10-24T00:00:00"
          ],
          [
           "2015-10-25T00:00:00"
          ],
          [
           "2015-10-26T00:00:00"
          ],
          [
           "2015-10-27T00:00:00"
          ],
          [
           "2015-10-28T00:00:00"
          ],
          [
           "2015-10-29T00:00:00"
          ],
          [
           "2015-10-30T00:00:00"
          ],
          [
           "2015-10-31T00:00:00"
          ],
          [
           "2015-11-01T00:00:00"
          ],
          [
           "2015-11-02T00:00:00"
          ],
          [
           "2015-11-03T00:00:00"
          ],
          [
           "2015-11-04T00:00:00"
          ],
          [
           "2015-11-05T00:00:00"
          ],
          [
           "2015-11-06T00:00:00"
          ],
          [
           "2015-11-07T00:00:00"
          ],
          [
           "2015-11-08T00:00:00"
          ],
          [
           "2015-11-09T00:00:00"
          ],
          [
           "2015-11-10T00:00:00"
          ],
          [
           "2015-11-12T00:00:00"
          ],
          [
           "2015-11-13T00:00:00"
          ],
          [
           "2015-11-14T00:00:00"
          ],
          [
           "2015-11-15T00:00:00"
          ],
          [
           "2015-11-16T00:00:00"
          ],
          [
           "2015-11-17T00:00:00"
          ],
          [
           "2015-11-18T00:00:00"
          ],
          [
           "2015-11-19T00:00:00"
          ],
          [
           "2015-11-20T00:00:00"
          ],
          [
           "2015-11-21T00:00:00"
          ],
          [
           "2015-11-22T00:00:00"
          ],
          [
           "2015-11-23T00:00:00"
          ],
          [
           "2015-11-24T00:00:00"
          ],
          [
           "2015-11-25T00:00:00"
          ],
          [
           "2015-11-26T00:00:00"
          ],
          [
           "2015-11-27T00:00:00"
          ],
          [
           "2015-11-28T00:00:00"
          ],
          [
           "2015-11-29T00:00:00"
          ],
          [
           "2015-11-30T00:00:00"
          ],
          [
           "2015-12-01T00:00:00"
          ],
          [
           "2015-12-02T00:00:00"
          ],
          [
           "2015-12-03T00:00:00"
          ],
          [
           "2015-12-04T00:00:00"
          ],
          [
           "2015-12-05T00:00:00"
          ],
          [
           "2015-12-06T00:00:00"
          ],
          [
           "2015-12-07T00:00:00"
          ],
          [
           "2015-12-08T00:00:00"
          ],
          [
           "2015-12-09T00:00:00"
          ],
          [
           "2015-12-10T00:00:00"
          ],
          [
           "2015-12-11T00:00:00"
          ],
          [
           "2015-12-12T00:00:00"
          ],
          [
           "2015-12-13T00:00:00"
          ],
          [
           "2015-12-14T00:00:00"
          ],
          [
           "2015-12-15T00:00:00"
          ],
          [
           "2015-12-16T00:00:00"
          ],
          [
           "2015-12-17T00:00:00"
          ],
          [
           "2015-12-18T00:00:00"
          ],
          [
           "2015-12-20T00:00:00"
          ],
          [
           "2015-12-21T00:00:00"
          ],
          [
           "2015-12-22T00:00:00"
          ],
          [
           "2015-12-23T00:00:00"
          ],
          [
           "2015-12-24T00:00:00"
          ],
          [
           "2015-12-25T00:00:00"
          ],
          [
           "2015-12-26T00:00:00"
          ],
          [
           "2015-12-27T00:00:00"
          ],
          [
           "2015-12-28T00:00:00"
          ],
          [
           "2015-12-29T00:00:00"
          ],
          [
           "2015-12-30T00:00:00"
          ],
          [
           "2015-12-31T00:00:00"
          ],
          [
           "2016-01-01T00:00:00"
          ],
          [
           "2016-01-02T00:00:00"
          ],
          [
           "2016-01-03T00:00:00"
          ],
          [
           "2016-01-04T00:00:00"
          ],
          [
           "2016-01-05T00:00:00"
          ],
          [
           "2016-01-06T00:00:00"
          ],
          [
           "2016-01-07T00:00:00"
          ],
          [
           "2016-01-08T00:00:00"
          ],
          [
           "2016-01-09T00:00:00"
          ],
          [
           "2016-01-10T00:00:00"
          ],
          [
           "2016-01-11T00:00:00"
          ],
          [
           "2016-01-12T00:00:00"
          ],
          [
           "2016-01-13T00:00:00"
          ],
          [
           "2016-01-14T00:00:00"
          ],
          [
           "2016-01-15T00:00:00"
          ],
          [
           "2016-01-16T00:00:00"
          ],
          [
           "2016-01-17T00:00:00"
          ],
          [
           "2016-01-18T00:00:00"
          ],
          [
           "2016-01-19T00:00:00"
          ],
          [
           "2016-01-20T00:00:00"
          ],
          [
           "2016-01-21T00:00:00"
          ],
          [
           "2016-01-22T00:00:00"
          ],
          [
           "2016-01-23T00:00:00"
          ],
          [
           "2016-01-24T00:00:00"
          ],
          [
           "2016-01-26T00:00:00"
          ],
          [
           "2016-01-27T00:00:00"
          ],
          [
           "2016-01-28T00:00:00"
          ],
          [
           "2016-01-29T00:00:00"
          ],
          [
           "2016-01-30T00:00:00"
          ],
          [
           "2016-01-31T00:00:00"
          ],
          [
           "2016-02-01T00:00:00"
          ],
          [
           "2016-02-02T00:00:00"
          ],
          [
           "2016-02-03T00:00:00"
          ],
          [
           "2016-02-04T00:00:00"
          ],
          [
           "2016-02-05T00:00:00"
          ],
          [
           "2016-02-06T00:00:00"
          ],
          [
           "2016-02-07T00:00:00"
          ],
          [
           "2016-02-08T00:00:00"
          ],
          [
           "2016-02-09T00:00:00"
          ],
          [
           "2016-02-10T00:00:00"
          ],
          [
           "2016-02-11T00:00:00"
          ],
          [
           "2016-02-12T00:00:00"
          ],
          [
           "2016-02-13T00:00:00"
          ],
          [
           "2016-02-14T00:00:00"
          ],
          [
           "2016-02-15T00:00:00"
          ],
          [
           "2016-02-16T00:00:00"
          ],
          [
           "2016-02-17T00:00:00"
          ],
          [
           "2016-02-18T00:00:00"
          ],
          [
           "2016-02-19T00:00:00"
          ],
          [
           "2016-02-20T00:00:00"
          ],
          [
           "2016-02-21T00:00:00"
          ],
          [
           "2016-02-22T00:00:00"
          ],
          [
           "2016-02-23T00:00:00"
          ],
          [
           "2016-02-24T00:00:00"
          ],
          [
           "2016-02-25T00:00:00"
          ],
          [
           "2016-02-26T00:00:00"
          ],
          [
           "2016-02-27T00:00:00"
          ],
          [
           "2016-02-28T00:00:00"
          ],
          [
           "2016-02-29T00:00:00"
          ],
          [
           "2016-03-01T00:00:00"
          ],
          [
           "2016-03-03T00:00:00"
          ],
          [
           "2016-03-04T00:00:00"
          ],
          [
           "2016-03-05T00:00:00"
          ],
          [
           "2016-03-06T00:00:00"
          ],
          [
           "2016-03-07T00:00:00"
          ],
          [
           "2016-03-08T00:00:00"
          ],
          [
           "2016-03-09T00:00:00"
          ],
          [
           "2016-03-10T00:00:00"
          ],
          [
           "2016-03-11T00:00:00"
          ],
          [
           "2016-03-12T00:00:00"
          ],
          [
           "2016-03-13T00:00:00"
          ],
          [
           "2016-03-14T00:00:00"
          ],
          [
           "2016-03-15T00:00:00"
          ],
          [
           "2016-03-16T00:00:00"
          ],
          [
           "2016-03-17T00:00:00"
          ],
          [
           "2016-03-18T00:00:00"
          ],
          [
           "2016-03-19T00:00:00"
          ],
          [
           "2016-03-20T00:00:00"
          ],
          [
           "2016-03-21T00:00:00"
          ],
          [
           "2016-03-24T00:00:00"
          ],
          [
           "2016-03-25T00:00:00"
          ],
          [
           "2016-03-26T00:00:00"
          ],
          [
           "2016-03-27T00:00:00"
          ],
          [
           "2016-03-28T00:00:00"
          ],
          [
           "2016-03-29T00:00:00"
          ],
          [
           "2016-03-30T00:00:00"
          ],
          [
           "2016-03-31T00:00:00"
          ],
          [
           "2016-04-01T00:00:00"
          ],
          [
           "2016-04-02T00:00:00"
          ],
          [
           "2016-04-03T00:00:00"
          ],
          [
           "2016-04-04T00:00:00"
          ],
          [
           "2016-04-05T00:00:00"
          ],
          [
           "2016-04-06T00:00:00"
          ],
          [
           "2016-04-07T00:00:00"
          ],
          [
           "2016-04-08T00:00:00"
          ],
          [
           "2016-04-10T00:00:00"
          ],
          [
           "2016-04-11T00:00:00"
          ],
          [
           "2016-04-12T00:00:00"
          ],
          [
           "2016-04-13T00:00:00"
          ],
          [
           "2016-04-14T00:00:00"
          ],
          [
           "2016-04-15T00:00:00"
          ],
          [
           "2016-04-16T00:00:00"
          ],
          [
           "2016-04-17T00:00:00"
          ],
          [
           "2016-04-18T00:00:00"
          ],
          [
           "2016-04-19T00:00:00"
          ],
          [
           "2016-04-20T00:00:00"
          ],
          [
           "2016-04-21T00:00:00"
          ],
          [
           "2016-04-22T00:00:00"
          ],
          [
           "2016-04-23T00:00:00"
          ],
          [
           "2016-04-24T00:00:00"
          ],
          [
           "2016-04-25T00:00:00"
          ],
          [
           "2016-04-26T00:00:00"
          ],
          [
           "2016-04-27T00:00:00"
          ],
          [
           "2016-04-28T00:00:00"
          ],
          [
           "2016-04-29T00:00:00"
          ],
          [
           "2016-04-30T00:00:00"
          ],
          [
           "2016-05-01T00:00:00"
          ],
          [
           "2016-05-02T00:00:00"
          ],
          [
           "2016-05-03T00:00:00"
          ],
          [
           "2016-05-04T00:00:00"
          ],
          [
           "2016-05-05T00:00:00"
          ],
          [
           "2016-05-06T00:00:00"
          ],
          [
           "2016-05-07T00:00:00"
          ],
          [
           "2016-05-08T00:00:00"
          ],
          [
           "2016-05-09T00:00:00"
          ],
          [
           "2016-05-10T00:00:00"
          ],
          [
           "2016-05-11T00:00:00"
          ],
          [
           "2016-05-12T00:00:00"
          ],
          [
           "2016-05-13T00:00:00"
          ],
          [
           "2016-05-14T00:00:00"
          ],
          [
           "2016-05-15T00:00:00"
          ],
          [
           "2016-05-17T00:00:00"
          ],
          [
           "2016-05-18T00:00:00"
          ],
          [
           "2016-05-19T00:00:00"
          ],
          [
           "2016-05-20T00:00:00"
          ],
          [
           "2016-05-21T00:00:00"
          ],
          [
           "2016-05-22T00:00:00"
          ],
          [
           "2016-05-23T00:00:00"
          ],
          [
           "2016-05-24T00:00:00"
          ],
          [
           "2016-05-25T00:00:00"
          ],
          [
           "2016-05-26T00:00:00"
          ],
          [
           "2016-05-27T00:00:00"
          ],
          [
           "2016-05-28T00:00:00"
          ],
          [
           "2016-05-29T00:00:00"
          ],
          [
           "2016-05-30T00:00:00"
          ],
          [
           "2016-05-31T00:00:00"
          ],
          [
           "2016-06-01T00:00:00"
          ],
          [
           "2016-06-02T00:00:00"
          ],
          [
           "2016-06-03T00:00:00"
          ],
          [
           "2016-06-04T00:00:00"
          ],
          [
           "2016-06-05T00:00:00"
          ],
          [
           "2016-06-06T00:00:00"
          ],
          [
           "2016-06-07T00:00:00"
          ],
          [
           "2016-06-08T00:00:00"
          ],
          [
           "2016-06-09T00:00:00"
          ],
          [
           "2016-06-10T00:00:00"
          ],
          [
           "2016-06-11T00:00:00"
          ],
          [
           "2016-06-12T00:00:00"
          ],
          [
           "2016-06-13T00:00:00"
          ],
          [
           "2016-06-14T00:00:00"
          ],
          [
           "2016-06-15T00:00:00"
          ],
          [
           "2016-06-16T00:00:00"
          ],
          [
           "2016-06-17T00:00:00"
          ],
          [
           "2016-06-18T00:00:00"
          ],
          [
           "2016-06-19T00:00:00"
          ],
          [
           "2016-06-20T00:00:00"
          ],
          [
           "2016-06-21T00:00:00"
          ],
          [
           "2016-06-23T00:00:00"
          ],
          [
           "2016-06-24T00:00:00"
          ],
          [
           "2016-06-25T00:00:00"
          ],
          [
           "2016-06-26T00:00:00"
          ],
          [
           "2016-06-27T00:00:00"
          ],
          [
           "2016-06-28T00:00:00"
          ],
          [
           "2016-06-29T00:00:00"
          ],
          [
           "2016-06-30T00:00:00"
          ],
          [
           "2016-07-01T00:00:00"
          ],
          [
           "2016-07-02T00:00:00"
          ],
          [
           "2016-07-12T00:00:00"
          ],
          [
           "2016-07-13T00:00:00"
          ],
          [
           "2016-07-14T00:00:00"
          ],
          [
           "2016-07-15T00:00:00"
          ],
          [
           "2016-07-16T00:00:00"
          ],
          [
           "2016-07-17T00:00:00"
          ],
          [
           "2016-07-18T00:00:00"
          ],
          [
           "2016-07-19T00:00:00"
          ],
          [
           "2016-07-20T00:00:00"
          ],
          [
           "2016-07-21T00:00:00"
          ],
          [
           "2016-07-22T00:00:00"
          ],
          [
           "2016-07-23T00:00:00"
          ],
          [
           "2016-07-24T00:00:00"
          ],
          [
           "2016-07-25T00:00:00"
          ],
          [
           "2016-07-26T00:00:00"
          ],
          [
           "2016-07-27T00:00:00"
          ],
          [
           "2016-07-28T00:00:00"
          ],
          [
           "2016-07-29T00:00:00"
          ],
          [
           "2016-07-31T00:00:00"
          ],
          [
           "2016-08-01T00:00:00"
          ],
          [
           "2016-08-02T00:00:00"
          ],
          [
           "2016-08-03T00:00:00"
          ],
          [
           "2016-08-04T00:00:00"
          ],
          [
           "2016-08-05T00:00:00"
          ],
          [
           "2016-08-06T00:00:00"
          ],
          [
           "2016-08-07T00:00:00"
          ],
          [
           "2016-08-08T00:00:00"
          ],
          [
           "2016-08-09T00:00:00"
          ],
          [
           "2016-08-10T00:00:00"
          ],
          [
           "2016-08-11T00:00:00"
          ],
          [
           "2016-08-12T00:00:00"
          ],
          [
           "2016-08-13T00:00:00"
          ],
          [
           "2016-08-14T00:00:00"
          ],
          [
           "2016-08-15T00:00:00"
          ],
          [
           "2016-08-16T00:00:00"
          ],
          [
           "2016-08-17T00:00:00"
          ],
          [
           "2016-08-18T00:00:00"
          ],
          [
           "2016-08-19T00:00:00"
          ],
          [
           "2016-08-20T00:00:00"
          ],
          [
           "2016-08-21T00:00:00"
          ],
          [
           "2016-08-22T00:00:00"
          ],
          [
           "2016-08-23T00:00:00"
          ],
          [
           "2016-08-24T00:00:00"
          ],
          [
           "2016-08-25T00:00:00"
          ],
          [
           "2016-08-26T00:00:00"
          ],
          [
           "2016-08-27T00:00:00"
          ],
          [
           "2016-08-28T00:00:00"
          ],
          [
           "2016-08-29T00:00:00"
          ],
          [
           "2016-08-30T00:00:00"
          ],
          [
           "2016-08-31T00:00:00"
          ],
          [
           "2016-09-01T00:00:00"
          ],
          [
           "2016-09-02T00:00:00"
          ],
          [
           "2016-09-03T00:00:00"
          ],
          [
           "2016-09-04T00:00:00"
          ],
          [
           "2016-09-06T00:00:00"
          ],
          [
           "2016-09-07T00:00:00"
          ],
          [
           "2016-09-08T00:00:00"
          ],
          [
           "2016-09-09T00:00:00"
          ],
          [
           "2016-09-10T00:00:00"
          ],
          [
           "2016-09-11T00:00:00"
          ],
          [
           "2016-09-12T00:00:00"
          ],
          [
           "2016-09-13T00:00:00"
          ],
          [
           "2016-09-14T00:00:00"
          ],
          [
           "2016-09-15T00:00:00"
          ],
          [
           "2016-09-16T00:00:00"
          ],
          [
           "2016-09-17T00:00:00"
          ],
          [
           "2016-09-18T00:00:00"
          ],
          [
           "2016-09-19T00:00:00"
          ],
          [
           "2016-09-20T00:00:00"
          ],
          [
           "2016-09-21T00:00:00"
          ],
          [
           "2016-09-22T00:00:00"
          ],
          [
           "2016-09-23T00:00:00"
          ],
          [
           "2016-09-24T00:00:00"
          ],
          [
           "2016-09-25T00:00:00"
          ],
          [
           "2016-09-26T00:00:00"
          ],
          [
           "2016-09-27T00:00:00"
          ],
          [
           "2016-09-28T00:00:00"
          ],
          [
           "2016-09-29T00:00:00"
          ],
          [
           "2016-09-30T00:00:00"
          ],
          [
           "2016-10-01T00:00:00"
          ],
          [
           "2016-10-02T00:00:00"
          ],
          [
           "2016-10-03T00:00:00"
          ],
          [
           "2016-10-04T00:00:00"
          ],
          [
           "2016-10-05T00:00:00"
          ],
          [
           "2016-10-06T00:00:00"
          ],
          [
           "2016-10-07T00:00:00"
          ],
          [
           "2016-10-08T00:00:00"
          ],
          [
           "2016-10-09T00:00:00"
          ],
          [
           "2016-10-10T00:00:00"
          ],
          [
           "2016-10-11T00:00:00"
          ],
          [
           "2016-10-12T00:00:00"
          ],
          [
           "2016-10-14T00:00:00"
          ],
          [
           "2016-10-15T00:00:00"
          ],
          [
           "2016-10-16T00:00:00"
          ],
          [
           "2016-10-17T00:00:00"
          ],
          [
           "2016-10-18T00:00:00"
          ],
          [
           "2016-10-19T00:00:00"
          ],
          [
           "2016-10-20T00:00:00"
          ],
          [
           "2016-10-21T00:00:00"
          ],
          [
           "2016-10-22T00:00:00"
          ],
          [
           "2016-10-23T00:00:00"
          ],
          [
           "2016-10-24T00:00:00"
          ],
          [
           "2016-10-25T00:00:00"
          ],
          [
           "2016-10-26T00:00:00"
          ],
          [
           "2016-10-27T00:00:00"
          ],
          [
           "2016-10-28T00:00:00"
          ],
          [
           "2016-10-29T00:00:00"
          ],
          [
           "2016-10-30T00:00:00"
          ],
          [
           "2016-10-31T00:00:00"
          ],
          [
           "2016-11-01T00:00:00"
          ],
          [
           "2016-11-02T00:00:00"
          ],
          [
           "2016-11-03T00:00:00"
          ],
          [
           "2016-11-04T00:00:00"
          ],
          [
           "2016-11-05T00:00:00"
          ],
          [
           "2016-11-06T00:00:00"
          ],
          [
           "2016-11-07T00:00:00"
          ],
          [
           "2016-11-08T00:00:00"
          ],
          [
           "2016-11-09T00:00:00"
          ],
          [
           "2016-11-10T00:00:00"
          ],
          [
           "2016-11-11T00:00:00"
          ],
          [
           "2016-11-12T00:00:00"
          ],
          [
           "2016-11-13T00:00:00"
          ],
          [
           "2016-11-14T00:00:00"
          ],
          [
           "2016-11-15T00:00:00"
          ],
          [
           "2016-11-16T00:00:00"
          ],
          [
           "2016-11-17T00:00:00"
          ],
          [
           "2016-11-18T00:00:00"
          ],
          [
           "2016-11-20T00:00:00"
          ],
          [
           "2016-11-21T00:00:00"
          ],
          [
           "2016-11-22T00:00:00"
          ],
          [
           "2016-11-23T00:00:00"
          ],
          [
           "2016-11-24T00:00:00"
          ],
          [
           "2016-11-25T00:00:00"
          ],
          [
           "2016-11-26T00:00:00"
          ],
          [
           "2016-11-27T00:00:00"
          ],
          [
           "2016-11-28T00:00:00"
          ],
          [
           "2016-11-29T00:00:00"
          ],
          [
           "2016-11-30T00:00:00"
          ],
          [
           "2016-12-01T00:00:00"
          ],
          [
           "2016-12-02T00:00:00"
          ],
          [
           "2016-12-03T00:00:00"
          ],
          [
           "2016-12-04T00:00:00"
          ],
          [
           "2016-12-05T00:00:00"
          ],
          [
           "2016-12-06T00:00:00"
          ],
          [
           "2016-12-07T00:00:00"
          ],
          [
           "2016-12-08T00:00:00"
          ],
          [
           "2016-12-09T00:00:00"
          ],
          [
           "2016-12-10T00:00:00"
          ],
          [
           "2016-12-11T00:00:00"
          ],
          [
           "2016-12-12T00:00:00"
          ],
          [
           "2016-12-13T00:00:00"
          ],
          [
           "2016-12-14T00:00:00"
          ],
          [
           "2016-12-15T00:00:00"
          ],
          [
           "2016-12-16T00:00:00"
          ],
          [
           "2016-12-17T00:00:00"
          ],
          [
           "2016-12-18T00:00:00"
          ],
          [
           "2016-12-19T00:00:00"
          ],
          [
           "2016-12-20T00:00:00"
          ],
          [
           "2016-12-21T00:00:00"
          ],
          [
           "2016-12-22T00:00:00"
          ],
          [
           "2016-12-23T00:00:00"
          ],
          [
           "2016-12-24T00:00:00"
          ],
          [
           "2016-12-25T00:00:00"
          ],
          [
           "2016-12-27T00:00:00"
          ],
          [
           "2016-12-28T00:00:00"
          ],
          [
           "2016-12-29T00:00:00"
          ],
          [
           "2016-12-30T00:00:00"
          ],
          [
           "2016-12-31T00:00:00"
          ],
          [
           "2017-01-01T00:00:00"
          ],
          [
           "2017-01-02T00:00:00"
          ],
          [
           "2017-01-03T00:00:00"
          ],
          [
           "2017-01-04T00:00:00"
          ],
          [
           "2017-01-05T00:00:00"
          ],
          [
           "2017-01-06T00:00:00"
          ],
          [
           "2017-01-07T00:00:00"
          ],
          [
           "2017-01-08T00:00:00"
          ],
          [
           "2017-01-09T00:00:00"
          ],
          [
           "2017-01-10T00:00:00"
          ],
          [
           "2017-01-11T00:00:00"
          ],
          [
           "2017-01-12T00:00:00"
          ],
          [
           "2017-01-13T00:00:00"
          ],
          [
           "2017-01-14T00:00:00"
          ],
          [
           "2017-01-15T00:00:00"
          ],
          [
           "2017-01-16T00:00:00"
          ],
          [
           "2017-01-17T00:00:00"
          ],
          [
           "2017-01-18T00:00:00"
          ],
          [
           "2017-01-19T00:00:00"
          ],
          [
           "2017-01-20T00:00:00"
          ],
          [
           "2017-01-21T00:00:00"
          ],
          [
           "2017-01-22T00:00:00"
          ],
          [
           "2017-01-23T00:00:00"
          ],
          [
           "2017-01-24T00:00:00"
          ],
          [
           "2017-01-25T00:00:00"
          ],
          [
           "2017-01-26T00:00:00"
          ],
          [
           "2017-01-27T00:00:00"
          ],
          [
           "2017-01-28T00:00:00"
          ],
          [
           "2017-01-29T00:00:00"
          ],
          [
           "2017-01-30T00:00:00"
          ],
          [
           "2017-01-31T00:00:00"
          ],
          [
           "2017-02-01T00:00:00"
          ],
          [
           "2017-02-03T00:00:00"
          ],
          [
           "2017-02-04T00:00:00"
          ],
          [
           "2017-02-05T00:00:00"
          ],
          [
           "2017-02-06T00:00:00"
          ],
          [
           "2017-02-07T00:00:00"
          ],
          [
           "2017-02-08T00:00:00"
          ],
          [
           "2017-02-09T00:00:00"
          ],
          [
           "2017-02-10T00:00:00"
          ],
          [
           "2017-02-11T00:00:00"
          ],
          [
           "2017-02-12T00:00:00"
          ],
          [
           "2017-02-13T00:00:00"
          ],
          [
           "2017-02-14T00:00:00"
          ],
          [
           "2017-02-18T00:00:00"
          ],
          [
           "2017-02-19T00:00:00"
          ],
          [
           "2017-02-20T00:00:00"
          ],
          [
           "2017-02-21T00:00:00"
          ],
          [
           "2017-02-22T00:00:00"
          ],
          [
           "2017-02-23T00:00:00"
          ],
          [
           "2017-02-24T00:00:00"
          ],
          [
           "2017-02-25T00:00:00"
          ],
          [
           "2017-02-26T00:00:00"
          ],
          [
           "2017-02-27T00:00:00"
          ],
          [
           "2017-02-28T00:00:00"
          ],
          [
           "2017-03-01T00:00:00"
          ],
          [
           "2017-03-02T00:00:00"
          ],
          [
           "2017-03-03T00:00:00"
          ],
          [
           "2017-03-04T00:00:00"
          ],
          [
           "2017-03-05T00:00:00"
          ],
          [
           "2017-03-06T00:00:00"
          ],
          [
           "2017-03-07T00:00:00"
          ],
          [
           "2017-03-08T00:00:00"
          ],
          [
           "2017-03-09T00:00:00"
          ],
          [
           "2017-03-10T00:00:00"
          ],
          [
           "2017-03-12T00:00:00"
          ],
          [
           "2017-03-13T00:00:00"
          ],
          [
           "2017-03-14T00:00:00"
          ],
          [
           "2017-03-15T00:00:00"
          ],
          [
           "2017-03-16T00:00:00"
          ],
          [
           "2017-03-17T00:00:00"
          ],
          [
           "2017-03-18T00:00:00"
          ],
          [
           "2017-03-19T00:00:00"
          ],
          [
           "2017-03-20T00:00:00"
          ],
          [
           "2017-03-21T00:00:00"
          ],
          [
           "2017-03-22T00:00:00"
          ],
          [
           "2017-03-23T00:00:00"
          ],
          [
           "2017-03-24T00:00:00"
          ],
          [
           "2017-03-25T00:00:00"
          ],
          [
           "2017-03-26T00:00:00"
          ],
          [
           "2017-03-27T00:00:00"
          ],
          [
           "2017-03-28T00:00:00"
          ],
          [
           "2017-03-29T00:00:00"
          ],
          [
           "2017-03-30T00:00:00"
          ],
          [
           "2017-03-31T00:00:00"
          ],
          [
           "2017-04-01T00:00:00"
          ],
          [
           "2017-04-02T00:00:00"
          ],
          [
           "2017-04-03T00:00:00"
          ],
          [
           "2017-04-04T00:00:00"
          ],
          [
           "2017-04-05T00:00:00"
          ],
          [
           "2017-04-06T00:00:00"
          ],
          [
           "2017-04-07T00:00:00"
          ],
          [
           "2017-04-08T00:00:00"
          ],
          [
           "2017-04-09T00:00:00"
          ],
          [
           "2017-04-10T00:00:00"
          ],
          [
           "2017-04-11T00:00:00"
          ],
          [
           "2017-04-12T00:00:00"
          ],
          [
           "2017-04-13T00:00:00"
          ],
          [
           "2017-04-14T00:00:00"
          ],
          [
           "2017-04-15T00:00:00"
          ],
          [
           "2017-04-16T00:00:00"
          ],
          [
           "2017-04-18T00:00:00"
          ],
          [
           "2017-04-19T00:00:00"
          ],
          [
           "2017-04-20T00:00:00"
          ],
          [
           "2017-04-21T00:00:00"
          ],
          [
           "2017-04-22T00:00:00"
          ],
          [
           "2017-04-23T00:00:00"
          ],
          [
           "2017-04-24T00:00:00"
          ],
          [
           "2017-04-25T00:00:00"
          ],
          [
           "2017-04-26T00:00:00"
          ],
          [
           "2017-04-27T00:00:00"
          ],
          [
           "2017-04-28T00:00:00"
          ],
          [
           "2017-04-29T00:00:00"
          ],
          [
           "2017-04-30T00:00:00"
          ],
          [
           "2017-05-01T00:00:00"
          ],
          [
           "2017-05-02T00:00:00"
          ],
          [
           "2017-05-03T00:00:00"
          ],
          [
           "2017-05-04T00:00:00"
          ],
          [
           "2017-05-05T00:00:00"
          ],
          [
           "2017-05-06T00:00:00"
          ],
          [
           "2017-05-07T00:00:00"
          ],
          [
           "2017-05-08T00:00:00"
          ],
          [
           "2017-05-10T00:00:00"
          ],
          [
           "2017-05-11T00:00:00"
          ],
          [
           "2017-05-12T00:00:00"
          ],
          [
           "2017-05-13T00:00:00"
          ],
          [
           "2017-05-14T00:00:00"
          ],
          [
           "2017-05-15T00:00:00"
          ],
          [
           "2017-05-16T00:00:00"
          ],
          [
           "2017-05-17T00:00:00"
          ],
          [
           "2017-05-18T00:00:00"
          ],
          [
           "2017-05-19T00:00:00"
          ],
          [
           "2017-05-20T00:00:00"
          ],
          [
           "2017-05-21T00:00:00"
          ],
          [
           "2017-05-22T00:00:00"
          ],
          [
           "2017-05-23T00:00:00"
          ],
          [
           "2017-05-24T00:00:00"
          ],
          [
           "2017-05-26T00:00:00"
          ],
          [
           "2017-05-27T00:00:00"
          ],
          [
           "2017-05-28T00:00:00"
          ],
          [
           "2017-05-29T00:00:00"
          ],
          [
           "2017-05-30T00:00:00"
          ],
          [
           "2017-05-31T00:00:00"
          ],
          [
           "2017-06-01T00:00:00"
          ],
          [
           "2017-06-02T00:00:00"
          ],
          [
           "2017-06-03T00:00:00"
          ],
          [
           "2017-06-04T00:00:00"
          ],
          [
           "2017-06-05T00:00:00"
          ],
          [
           "2017-06-06T00:00:00"
          ],
          [
           "2017-06-07T00:00:00"
          ],
          [
           "2017-06-08T00:00:00"
          ],
          [
           "2017-06-09T00:00:00"
          ],
          [
           "2017-06-10T00:00:00"
          ],
          [
           "2017-06-11T00:00:00"
          ],
          [
           "2017-06-12T00:00:00"
          ],
          [
           "2017-06-13T00:00:00"
          ],
          [
           "2017-06-14T00:00:00"
          ],
          [
           "2017-06-15T00:00:00"
          ],
          [
           "2017-06-16T00:00:00"
          ],
          [
           "2017-06-17T00:00:00"
          ],
          [
           "2017-06-18T00:00:00"
          ],
          [
           "2017-06-19T00:00:00"
          ],
          [
           "2017-06-20T00:00:00"
          ],
          [
           "2017-06-21T00:00:00"
          ],
          [
           "2017-06-22T00:00:00"
          ],
          [
           "2017-06-23T00:00:00"
          ],
          [
           "2017-06-24T00:00:00"
          ],
          [
           "2017-06-25T00:00:00"
          ],
          [
           "2017-06-26T00:00:00"
          ],
          [
           "2017-06-27T00:00:00"
          ],
          [
           "2017-06-28T00:00:00"
          ],
          [
           "2017-06-29T00:00:00"
          ],
          [
           "2017-06-30T00:00:00"
          ],
          [
           "2017-07-02T00:00:00"
          ],
          [
           "2017-07-03T00:00:00"
          ],
          [
           "2017-07-04T00:00:00"
          ],
          [
           "2017-07-05T00:00:00"
          ],
          [
           "2017-07-06T00:00:00"
          ],
          [
           "2017-07-07T00:00:00"
          ],
          [
           "2017-07-08T00:00:00"
          ],
          [
           "2017-07-09T00:00:00"
          ],
          [
           "2017-07-10T00:00:00"
          ],
          [
           "2017-07-11T00:00:00"
          ],
          [
           "2017-07-12T00:00:00"
          ],
          [
           "2017-07-13T00:00:00"
          ],
          [
           "2017-07-14T00:00:00"
          ],
          [
           "2017-07-15T00:00:00"
          ],
          [
           "2017-07-16T00:00:00"
          ],
          [
           "2017-07-17T00:00:00"
          ],
          [
           "2017-07-18T00:00:00"
          ],
          [
           "2017-07-19T00:00:00"
          ],
          [
           "2017-07-20T00:00:00"
          ],
          [
           "2017-07-21T00:00:00"
          ],
          [
           "2017-07-22T00:00:00"
          ],
          [
           "2017-07-23T00:00:00"
          ],
          [
           "2017-07-24T00:00:00"
          ],
          [
           "2017-07-25T00:00:00"
          ],
          [
           "2017-07-26T00:00:00"
          ],
          [
           "2017-07-27T00:00:00"
          ],
          [
           "2017-07-28T00:00:00"
          ],
          [
           "2017-07-29T00:00:00"
          ],
          [
           "2017-07-30T00:00:00"
          ],
          [
           "2017-07-31T00:00:00"
          ],
          [
           "2017-08-01T00:00:00"
          ],
          [
           "2017-08-02T00:00:00"
          ],
          [
           "2017-08-03T00:00:00"
          ],
          [
           "2017-08-04T00:00:00"
          ],
          [
           "2017-08-05T00:00:00"
          ],
          [
           "2017-08-06T00:00:00"
          ],
          [
           "2017-08-07T00:00:00"
          ],
          [
           "2017-08-09T00:00:00"
          ],
          [
           "2017-08-10T00:00:00"
          ],
          [
           "2017-08-11T00:00:00"
          ],
          [
           "2017-08-12T00:00:00"
          ],
          [
           "2017-08-13T00:00:00"
          ],
          [
           "2017-08-14T00:00:00"
          ],
          [
           "2017-08-16T00:00:00"
          ],
          [
           "2017-08-17T00:00:00"
          ],
          [
           "2017-08-18T00:00:00"
          ],
          [
           "2017-08-19T00:00:00"
          ],
          [
           "2017-08-20T00:00:00"
          ],
          [
           "2017-08-21T00:00:00"
          ],
          [
           "2017-08-22T00:00:00"
          ],
          [
           "2017-08-23T00:00:00"
          ],
          [
           "2017-08-24T00:00:00"
          ],
          [
           "2017-08-25T00:00:00"
          ],
          [
           "2017-08-26T00:00:00"
          ],
          [
           "2017-08-27T00:00:00"
          ],
          [
           "2017-08-28T00:00:00"
          ],
          [
           "2017-08-29T00:00:00"
          ],
          [
           "2017-08-30T00:00:00"
          ],
          [
           "2017-08-31T00:00:00"
          ],
          [
           "2017-09-01T00:00:00"
          ],
          [
           "2017-09-02T00:00:00"
          ],
          [
           "2017-09-03T00:00:00"
          ],
          [
           "2017-09-04T00:00:00"
          ],
          [
           "2017-09-05T00:00:00"
          ],
          [
           "2017-09-06T00:00:00"
          ],
          [
           "2017-09-07T00:00:00"
          ],
          [
           "2017-09-08T00:00:00"
          ],
          [
           "2017-09-09T00:00:00"
          ],
          [
           "2017-09-10T00:00:00"
          ],
          [
           "2017-09-11T00:00:00"
          ],
          [
           "2017-09-12T00:00:00"
          ],
          [
           "2017-09-13T00:00:00"
          ],
          [
           "2017-09-15T00:00:00"
          ],
          [
           "2017-09-16T00:00:00"
          ],
          [
           "2017-09-17T00:00:00"
          ],
          [
           "2017-09-18T00:00:00"
          ],
          [
           "2017-09-19T00:00:00"
          ],
          [
           "2017-09-20T00:00:00"
          ],
          [
           "2017-09-21T00:00:00"
          ],
          [
           "2017-09-22T00:00:00"
          ],
          [
           "2017-09-23T00:00:00"
          ],
          [
           "2017-09-24T00:00:00"
          ],
          [
           "2017-09-25T00:00:00"
          ],
          [
           "2017-09-26T00:00:00"
          ],
          [
           "2017-09-27T00:00:00"
          ],
          [
           "2017-09-28T00:00:00"
          ],
          [
           "2017-09-29T00:00:00"
          ],
          [
           "2017-09-30T00:00:00"
          ],
          [
           "2017-10-01T00:00:00"
          ],
          [
           "2017-10-02T00:00:00"
          ],
          [
           "2017-10-03T00:00:00"
          ],
          [
           "2017-10-04T00:00:00"
          ],
          [
           "2017-10-05T00:00:00"
          ],
          [
           "2017-10-06T00:00:00"
          ],
          [
           "2017-10-07T00:00:00"
          ],
          [
           "2017-10-08T00:00:00"
          ],
          [
           "2017-10-09T00:00:00"
          ],
          [
           "2017-10-10T00:00:00"
          ],
          [
           "2017-10-11T00:00:00"
          ],
          [
           "2017-10-12T00:00:00"
          ],
          [
           "2017-10-13T00:00:00"
          ],
          [
           "2017-10-14T00:00:00"
          ],
          [
           "2017-10-15T00:00:00"
          ],
          [
           "2017-10-16T00:00:00"
          ],
          [
           "2017-10-17T00:00:00"
          ],
          [
           "2017-10-18T00:00:00"
          ],
          [
           "2017-10-19T00:00:00"
          ],
          [
           "2017-10-20T00:00:00"
          ],
          [
           "2017-10-22T00:00:00"
          ],
          [
           "2017-10-23T00:00:00"
          ],
          [
           "2017-10-24T00:00:00"
          ],
          [
           "2017-10-25T00:00:00"
          ],
          [
           "2017-10-26T00:00:00"
          ],
          [
           "2017-10-27T00:00:00"
          ],
          [
           "2017-10-28T00:00:00"
          ],
          [
           "2017-10-29T00:00:00"
          ],
          [
           "2017-10-30T00:00:00"
          ],
          [
           "2017-10-31T00:00:00"
          ],
          [
           "2017-11-01T00:00:00"
          ],
          [
           "2017-11-02T00:00:00"
          ],
          [
           "2017-11-03T00:00:00"
          ],
          [
           "2017-11-04T00:00:00"
          ],
          [
           "2017-11-05T00:00:00"
          ],
          [
           "2017-11-06T00:00:00"
          ],
          [
           "2017-11-07T00:00:00"
          ],
          [
           "2017-11-08T00:00:00"
          ],
          [
           "2017-11-09T00:00:00"
          ],
          [
           "2017-11-10T00:00:00"
          ],
          [
           "2017-11-11T00:00:00"
          ],
          [
           "2017-11-12T00:00:00"
          ],
          [
           "2017-11-13T00:00:00"
          ],
          [
           "2017-11-14T00:00:00"
          ],
          [
           "2017-11-15T00:00:00"
          ],
          [
           "2017-11-16T00:00:00"
          ],
          [
           "2017-11-17T00:00:00"
          ],
          [
           "2017-11-18T00:00:00"
          ],
          [
           "2017-11-19T00:00:00"
          ],
          [
           "2017-11-20T00:00:00"
          ],
          [
           "2017-11-21T00:00:00"
          ],
          [
           "2017-11-22T00:00:00"
          ],
          [
           "2017-11-23T00:00:00"
          ],
          [
           "2017-11-24T00:00:00"
          ],
          [
           "2017-11-25T00:00:00"
          ],
          [
           "2017-11-26T00:00:00"
          ],
          [
           "2017-11-27T00:00:00"
          ],
          [
           "2017-11-29T00:00:00"
          ],
          [
           "2017-11-30T00:00:00"
          ],
          [
           "2017-12-01T00:00:00"
          ],
          [
           "2017-12-02T00:00:00"
          ],
          [
           "2017-12-03T00:00:00"
          ],
          [
           "2017-12-04T00:00:00"
          ],
          [
           "2017-12-05T00:00:00"
          ],
          [
           "2017-12-06T00:00:00"
          ],
          [
           "2017-12-07T00:00:00"
          ],
          [
           "2017-12-08T00:00:00"
          ],
          [
           "2017-12-09T00:00:00"
          ],
          [
           "2017-12-10T00:00:00"
          ],
          [
           "2017-12-11T00:00:00"
          ],
          [
           "2017-12-12T00:00:00"
          ],
          [
           "2017-12-13T00:00:00"
          ],
          [
           "2017-12-14T00:00:00"
          ],
          [
           "2017-12-15T00:00:00"
          ],
          [
           "2017-12-16T00:00:00"
          ],
          [
           "2017-12-17T00:00:00"
          ],
          [
           "2017-12-18T00:00:00"
          ],
          [
           "2017-12-19T00:00:00"
          ],
          [
           "2017-12-20T00:00:00"
          ],
          [
           "2017-12-21T00:00:00"
          ],
          [
           "2017-12-22T00:00:00"
          ],
          [
           "2017-12-23T00:00:00"
          ],
          [
           "2017-12-24T00:00:00"
          ],
          [
           "2017-12-25T00:00:00"
          ],
          [
           "2017-12-26T00:00:00"
          ],
          [
           "2017-12-27T00:00:00"
          ],
          [
           "2017-12-28T00:00:00"
          ],
          [
           "2017-12-29T00:00:00"
          ],
          [
           "2017-12-30T00:00:00"
          ],
          [
           "2017-12-31T00:00:00"
          ],
          [
           "2018-01-01T00:00:00"
          ],
          [
           "2018-01-02T00:00:00"
          ],
          [
           "2018-01-03T00:00:00"
          ],
          [
           "2018-01-05T00:00:00"
          ],
          [
           "2018-01-06T00:00:00"
          ],
          [
           "2018-01-07T00:00:00"
          ],
          [
           "2018-01-08T00:00:00"
          ],
          [
           "2018-01-09T00:00:00"
          ],
          [
           "2018-01-10T00:00:00"
          ],
          [
           "2018-01-11T00:00:00"
          ],
          [
           "2018-01-12T00:00:00"
          ],
          [
           "2018-01-13T00:00:00"
          ],
          [
           "2018-01-14T00:00:00"
          ],
          [
           "2018-01-15T00:00:00"
          ],
          [
           "2018-01-16T00:00:00"
          ],
          [
           "2018-01-17T00:00:00"
          ],
          [
           "2018-01-18T00:00:00"
          ],
          [
           "2018-01-19T00:00:00"
          ],
          [
           "2018-01-20T00:00:00"
          ],
          [
           "2018-01-21T00:00:00"
          ],
          [
           "2018-01-22T00:00:00"
          ],
          [
           "2018-01-23T00:00:00"
          ],
          [
           "2018-01-24T00:00:00"
          ],
          [
           "2018-01-25T00:00:00"
          ],
          [
           "2018-01-26T00:00:00"
          ],
          [
           "2018-01-27T00:00:00"
          ],
          [
           "2018-01-28T00:00:00"
          ],
          [
           "2018-01-29T00:00:00"
          ],
          [
           "2018-01-30T00:00:00"
          ],
          [
           "2018-01-31T00:00:00"
          ],
          [
           "2018-02-01T00:00:00"
          ],
          [
           "2018-02-02T00:00:00"
          ],
          [
           "2018-02-03T00:00:00"
          ],
          [
           "2018-02-04T00:00:00"
          ],
          [
           "2018-02-05T00:00:00"
          ],
          [
           "2018-02-06T00:00:00"
          ],
          [
           "2018-02-07T00:00:00"
          ],
          [
           "2018-02-08T00:00:00"
          ],
          [
           "2018-02-09T00:00:00"
          ],
          [
           "2018-02-11T00:00:00"
          ],
          [
           "2018-02-12T00:00:00"
          ],
          [
           "2018-02-13T00:00:00"
          ],
          [
           "2018-02-14T00:00:00"
          ],
          [
           "2018-02-15T00:00:00"
          ],
          [
           "2018-02-16T00:00:00"
          ],
          [
           "2018-02-17T00:00:00"
          ],
          [
           "2018-02-18T00:00:00"
          ],
          [
           "2018-02-19T00:00:00"
          ],
          [
           "2018-02-20T00:00:00"
          ],
          [
           "2018-02-21T00:00:00"
          ],
          [
           "2018-02-22T00:00:00"
          ],
          [
           "2018-02-23T00:00:00"
          ],
          [
           "2018-02-24T00:00:00"
          ],
          [
           "2018-02-25T00:00:00"
          ],
          [
           "2018-02-26T00:00:00"
          ],
          [
           "2018-02-27T00:00:00"
          ]
         ],
         "hovertemplate": "sol=%{x}<br>min_temp=%{y}<br>terrestrial_date=%{customdata[0]}<extra></extra>",
         "legendgroup": "",
         "marker": {
          "color": "#636efa",
          "symbol": "circle"
         },
         "mode": "markers",
         "name": "",
         "showlegend": false,
         "type": "scattergl",
         "x": [
          10,
          11,
          12,
          13,
          14,
          15,
          16,
          17,
          21,
          22,
          23,
          24,
          25,
          26,
          27,
          28,
          29,
          30,
          31,
          33,
          34,
          35,
          36,
          37,
          38,
          39,
          40,
          41,
          42,
          43,
          44,
          45,
          46,
          47,
          48,
          49,
          50,
          51,
          52,
          53,
          54,
          55,
          56,
          57,
          58,
          59,
          60,
          61,
          62,
          63,
          64,
          65,
          66,
          67,
          68,
          69,
          70,
          71,
          72,
          73,
          74,
          75,
          76,
          77,
          78,
          79,
          80,
          81,
          82,
          83,
          84,
          85,
          86,
          87,
          88,
          89,
          90,
          91,
          92,
          93,
          94,
          95,
          96,
          97,
          98,
          99,
          100,
          101,
          102,
          103,
          104,
          105,
          106,
          107,
          108,
          109,
          110,
          111,
          112,
          113,
          114,
          115,
          116,
          117,
          118,
          119,
          120,
          121,
          122,
          123,
          124,
          125,
          126,
          127,
          128,
          129,
          130,
          131,
          132,
          133,
          134,
          135,
          136,
          137,
          138,
          139,
          140,
          141,
          142,
          143,
          144,
          145,
          146,
          147,
          148,
          149,
          150,
          151,
          152,
          153,
          154,
          155,
          156,
          157,
          158,
          159,
          160,
          161,
          162,
          163,
          164,
          165,
          166,
          167,
          168,
          169,
          170,
          171,
          172,
          173,
          174,
          175,
          176,
          177,
          178,
          179,
          180,
          181,
          182,
          183,
          184,
          185,
          186,
          187,
          188,
          189,
          190,
          191,
          196,
          197,
          198,
          199,
          223,
          224,
          225,
          226,
          227,
          228,
          229,
          230,
          231,
          232,
          233,
          234,
          235,
          236,
          237,
          238,
          239,
          240,
          241,
          242,
          243,
          244,
          245,
          246,
          247,
          248,
          249,
          250,
          251,
          252,
          253,
          254,
          255,
          256,
          257,
          258,
          259,
          260,
          261,
          268,
          269,
          270,
          271,
          272,
          273,
          274,
          275,
          276,
          277,
          278,
          279,
          280,
          281,
          282,
          283,
          284,
          285,
          286,
          287,
          288,
          289,
          290,
          291,
          292,
          293,
          294,
          295,
          296,
          297,
          298,
          299,
          300,
          301,
          302,
          303,
          304,
          305,
          306,
          307,
          308,
          309,
          310,
          311,
          312,
          313,
          314,
          315,
          316,
          317,
          318,
          319,
          320,
          321,
          322,
          323,
          324,
          325,
          326,
          327,
          328,
          329,
          330,
          331,
          332,
          333,
          334,
          335,
          336,
          337,
          338,
          339,
          340,
          341,
          342,
          343,
          344,
          345,
          346,
          347,
          348,
          349,
          350,
          351,
          352,
          353,
          354,
          355,
          356,
          357,
          366,
          367,
          368,
          369,
          370,
          371,
          372,
          373,
          374,
          375,
          376,
          377,
          378,
          379,
          380,
          381,
          382,
          383,
          384,
          385,
          386,
          387,
          388,
          389,
          390,
          391,
          392,
          393,
          394,
          395,
          396,
          397,
          398,
          399,
          400,
          401,
          402,
          403,
          404,
          405,
          406,
          407,
          408,
          409,
          410,
          411,
          412,
          413,
          414,
          415,
          416,
          417,
          418,
          419,
          420,
          421,
          422,
          423,
          424,
          425,
          426,
          427,
          428,
          429,
          430,
          431,
          432,
          433,
          434,
          435,
          436,
          437,
          438,
          439,
          440,
          441,
          442,
          443,
          455,
          456,
          463,
          464,
          465,
          466,
          467,
          468,
          469,
          470,
          471,
          472,
          473,
          474,
          475,
          476,
          477,
          486,
          487,
          488,
          489,
          490,
          491,
          492,
          493,
          494,
          495,
          496,
          497,
          498,
          499,
          500,
          501,
          502,
          503,
          504,
          505,
          506,
          507,
          508,
          509,
          510,
          511,
          512,
          513,
          514,
          515,
          516,
          517,
          518,
          519,
          520,
          521,
          522,
          523,
          524,
          525,
          526,
          527,
          528,
          529,
          530,
          531,
          532,
          533,
          534,
          535,
          536,
          537,
          538,
          539,
          540,
          541,
          542,
          543,
          544,
          545,
          546,
          547,
          548,
          549,
          550,
          551,
          552,
          553,
          554,
          555,
          556,
          557,
          558,
          559,
          560,
          561,
          562,
          563,
          564,
          565,
          566,
          567,
          568,
          569,
          570,
          571,
          572,
          573,
          574,
          575,
          576,
          577,
          578,
          579,
          580,
          581,
          582,
          583,
          584,
          585,
          586,
          587,
          588,
          589,
          590,
          591,
          592,
          593,
          594,
          595,
          596,
          597,
          598,
          599,
          600,
          601,
          602,
          603,
          604,
          605,
          606,
          607,
          608,
          609,
          610,
          611,
          612,
          613,
          614,
          615,
          616,
          617,
          618,
          619,
          620,
          621,
          622,
          623,
          624,
          625,
          626,
          627,
          628,
          629,
          630,
          631,
          632,
          633,
          634,
          635,
          636,
          637,
          638,
          639,
          640,
          641,
          642,
          643,
          644,
          645,
          646,
          647,
          648,
          649,
          650,
          651,
          652,
          653,
          654,
          655,
          656,
          657,
          658,
          659,
          660,
          661,
          662,
          663,
          664,
          665,
          666,
          667,
          668,
          669,
          670,
          671,
          672,
          673,
          674,
          675,
          676,
          677,
          678,
          679,
          680,
          681,
          682,
          683,
          684,
          685,
          686,
          687,
          688,
          689,
          690,
          691,
          692,
          693,
          694,
          695,
          696,
          697,
          698,
          699,
          700,
          701,
          702,
          703,
          704,
          705,
          706,
          707,
          708,
          709,
          710,
          711,
          712,
          713,
          714,
          715,
          716,
          717,
          718,
          719,
          720,
          721,
          722,
          723,
          724,
          725,
          726,
          727,
          728,
          729,
          730,
          731,
          732,
          733,
          734,
          735,
          736,
          737,
          738,
          739,
          740,
          741,
          742,
          743,
          744,
          745,
          746,
          747,
          748,
          749,
          750,
          751,
          752,
          753,
          754,
          755,
          756,
          757,
          758,
          759,
          760,
          761,
          762,
          763,
          764,
          765,
          766,
          767,
          768,
          769,
          770,
          771,
          772,
          773,
          774,
          775,
          776,
          777,
          778,
          779,
          780,
          781,
          782,
          783,
          784,
          785,
          786,
          787,
          788,
          789,
          790,
          791,
          792,
          793,
          794,
          795,
          796,
          797,
          798,
          799,
          800,
          801,
          802,
          803,
          804,
          805,
          806,
          807,
          808,
          809,
          810,
          811,
          812,
          813,
          814,
          815,
          816,
          817,
          818,
          819,
          820,
          821,
          822,
          823,
          824,
          825,
          826,
          827,
          828,
          829,
          830,
          831,
          832,
          833,
          834,
          835,
          836,
          837,
          838,
          839,
          840,
          841,
          842,
          843,
          844,
          845,
          846,
          847,
          848,
          849,
          850,
          851,
          852,
          853,
          854,
          855,
          856,
          857,
          858,
          859,
          860,
          861,
          862,
          863,
          864,
          865,
          866,
          867,
          868,
          869,
          870,
          871,
          872,
          881,
          882,
          883,
          884,
          885,
          886,
          887,
          888,
          889,
          890,
          891,
          892,
          893,
          894,
          895,
          896,
          897,
          898,
          899,
          900,
          901,
          902,
          903,
          904,
          905,
          906,
          907,
          908,
          909,
          910,
          911,
          912,
          913,
          914,
          915,
          916,
          917,
          918,
          919,
          920,
          921,
          922,
          923,
          924,
          925,
          926,
          927,
          928,
          929,
          930,
          931,
          932,
          933,
          934,
          935,
          936,
          937,
          940,
          941,
          942,
          943,
          944,
          945,
          946,
          947,
          948,
          949,
          950,
          951,
          952,
          953,
          954,
          958,
          959,
          960,
          961,
          962,
          963,
          964,
          965,
          966,
          967,
          968,
          969,
          970,
          971,
          972,
          973,
          974,
          975,
          976,
          977,
          978,
          979,
          980,
          981,
          982,
          983,
          984,
          985,
          986,
          987,
          988,
          989,
          990,
          991,
          992,
          993,
          994,
          995,
          996,
          997,
          998,
          1000,
          1001,
          1002,
          1003,
          1004,
          1005,
          1006,
          1007,
          1008,
          1009,
          1010,
          1011,
          1012,
          1013,
          1014,
          1015,
          1016,
          1017,
          1018,
          1019,
          1020,
          1021,
          1022,
          1023,
          1024,
          1025,
          1026,
          1028,
          1029,
          1030,
          1031,
          1032,
          1033,
          1034,
          1035,
          1036,
          1037,
          1038,
          1039,
          1040,
          1041,
          1042,
          1043,
          1044,
          1045,
          1046,
          1047,
          1048,
          1049,
          1050,
          1051,
          1052,
          1053,
          1054,
          1055,
          1056,
          1057,
          1058,
          1059,
          1060,
          1061,
          1062,
          1063,
          1064,
          1065,
          1066,
          1067,
          1068,
          1069,
          1070,
          1071,
          1072,
          1073,
          1074,
          1075,
          1076,
          1077,
          1078,
          1079,
          1080,
          1081,
          1082,
          1083,
          1084,
          1085,
          1086,
          1087,
          1088,
          1089,
          1090,
          1091,
          1092,
          1093,
          1094,
          1095,
          1096,
          1097,
          1098,
          1099,
          1100,
          1101,
          1102,
          1103,
          1104,
          1105,
          1106,
          1107,
          1108,
          1109,
          1110,
          1111,
          1112,
          1113,
          1114,
          1115,
          1116,
          1117,
          1118,
          1119,
          1120,
          1121,
          1122,
          1123,
          1124,
          1125,
          1126,
          1127,
          1128,
          1129,
          1130,
          1131,
          1132,
          1133,
          1134,
          1135,
          1136,
          1137,
          1138,
          1139,
          1140,
          1141,
          1142,
          1143,
          1144,
          1145,
          1146,
          1147,
          1148,
          1149,
          1150,
          1151,
          1152,
          1153,
          1154,
          1155,
          1156,
          1157,
          1158,
          1159,
          1160,
          1161,
          1162,
          1163,
          1164,
          1165,
          1166,
          1167,
          1168,
          1169,
          1170,
          1171,
          1172,
          1173,
          1174,
          1175,
          1176,
          1177,
          1178,
          1179,
          1180,
          1181,
          1182,
          1183,
          1184,
          1185,
          1186,
          1187,
          1188,
          1189,
          1190,
          1191,
          1192,
          1193,
          1194,
          1195,
          1196,
          1197,
          1198,
          1199,
          1200,
          1201,
          1202,
          1203,
          1204,
          1205,
          1206,
          1207,
          1208,
          1209,
          1210,
          1211,
          1212,
          1213,
          1214,
          1215,
          1216,
          1217,
          1218,
          1219,
          1220,
          1221,
          1222,
          1223,
          1224,
          1225,
          1226,
          1227,
          1228,
          1229,
          1230,
          1231,
          1232,
          1233,
          1234,
          1235,
          1236,
          1237,
          1238,
          1239,
          1240,
          1241,
          1242,
          1243,
          1244,
          1245,
          1246,
          1247,
          1248,
          1249,
          1250,
          1251,
          1252,
          1253,
          1254,
          1255,
          1256,
          1257,
          1258,
          1259,
          1260,
          1261,
          1262,
          1263,
          1264,
          1265,
          1266,
          1267,
          1268,
          1269,
          1270,
          1271,
          1272,
          1273,
          1274,
          1275,
          1276,
          1277,
          1278,
          1279,
          1280,
          1281,
          1282,
          1283,
          1284,
          1285,
          1286,
          1287,
          1288,
          1291,
          1292,
          1293,
          1294,
          1295,
          1296,
          1297,
          1298,
          1299,
          1300,
          1301,
          1302,
          1303,
          1304,
          1305,
          1306,
          1307,
          1308,
          1309,
          1310,
          1311,
          1312,
          1313,
          1314,
          1315,
          1316,
          1317,
          1318,
          1319,
          1320,
          1321,
          1322,
          1323,
          1324,
          1325,
          1326,
          1327,
          1328,
          1329,
          1330,
          1331,
          1332,
          1333,
          1334,
          1335,
          1336,
          1337,
          1338,
          1339,
          1340,
          1341,
          1342,
          1343,
          1344,
          1345,
          1346,
          1347,
          1348,
          1349,
          1350,
          1351,
          1352,
          1353,
          1354,
          1355,
          1356,
          1357,
          1358,
          1359,
          1360,
          1361,
          1362,
          1363,
          1364,
          1365,
          1366,
          1367,
          1368,
          1369,
          1370,
          1371,
          1372,
          1373,
          1374,
          1375,
          1376,
          1377,
          1378,
          1379,
          1380,
          1381,
          1382,
          1383,
          1384,
          1385,
          1386,
          1387,
          1388,
          1398,
          1399,
          1400,
          1401,
          1402,
          1403,
          1404,
          1405,
          1406,
          1407,
          1408,
          1409,
          1410,
          1411,
          1412,
          1413,
          1414,
          1415,
          1416,
          1417,
          1418,
          1419,
          1420,
          1421,
          1422,
          1423,
          1424,
          1425,
          1426,
          1427,
          1428,
          1429,
          1430,
          1431,
          1432,
          1433,
          1434,
          1435,
          1436,
          1437,
          1438,
          1439,
          1440,
          1441,
          1442,
          1443,
          1444,
          1445,
          1446,
          1447,
          1448,
          1449,
          1450,
          1451,
          1452,
          1453,
          1454,
          1455,
          1456,
          1457,
          1458,
          1459,
          1460,
          1461,
          1462,
          1463,
          1464,
          1465,
          1466,
          1467,
          1468,
          1469,
          1470,
          1471,
          1472,
          1473,
          1474,
          1475,
          1476,
          1477,
          1478,
          1479,
          1480,
          1481,
          1482,
          1483,
          1484,
          1485,
          1486,
          1487,
          1488,
          1489,
          1490,
          1491,
          1492,
          1493,
          1494,
          1495,
          1496,
          1497,
          1498,
          1499,
          1500,
          1501,
          1502,
          1503,
          1504,
          1505,
          1506,
          1507,
          1508,
          1509,
          1510,
          1511,
          1512,
          1513,
          1514,
          1515,
          1516,
          1517,
          1518,
          1519,
          1520,
          1521,
          1522,
          1523,
          1524,
          1525,
          1526,
          1527,
          1528,
          1529,
          1530,
          1531,
          1532,
          1533,
          1534,
          1535,
          1536,
          1537,
          1538,
          1539,
          1540,
          1541,
          1542,
          1543,
          1544,
          1545,
          1546,
          1547,
          1548,
          1549,
          1550,
          1551,
          1552,
          1553,
          1554,
          1555,
          1556,
          1557,
          1558,
          1559,
          1560,
          1561,
          1562,
          1563,
          1564,
          1565,
          1566,
          1567,
          1568,
          1569,
          1570,
          1571,
          1572,
          1573,
          1574,
          1575,
          1576,
          1577,
          1578,
          1579,
          1580,
          1581,
          1582,
          1583,
          1584,
          1585,
          1586,
          1587,
          1588,
          1589,
          1590,
          1591,
          1592,
          1593,
          1594,
          1595,
          1596,
          1597,
          1598,
          1599,
          1600,
          1601,
          1602,
          1603,
          1604,
          1605,
          1606,
          1607,
          1608,
          1609,
          1613,
          1614,
          1615,
          1616,
          1617,
          1618,
          1619,
          1620,
          1621,
          1622,
          1623,
          1624,
          1625,
          1626,
          1627,
          1628,
          1629,
          1630,
          1631,
          1632,
          1633,
          1634,
          1635,
          1636,
          1637,
          1638,
          1639,
          1640,
          1641,
          1642,
          1643,
          1644,
          1645,
          1646,
          1647,
          1648,
          1649,
          1650,
          1651,
          1652,
          1653,
          1654,
          1655,
          1656,
          1657,
          1658,
          1659,
          1660,
          1661,
          1662,
          1663,
          1664,
          1665,
          1666,
          1667,
          1668,
          1669,
          1670,
          1671,
          1672,
          1673,
          1674,
          1675,
          1676,
          1677,
          1678,
          1679,
          1680,
          1681,
          1682,
          1683,
          1684,
          1685,
          1686,
          1687,
          1688,
          1689,
          1690,
          1692,
          1693,
          1694,
          1695,
          1696,
          1697,
          1698,
          1699,
          1700,
          1701,
          1702,
          1703,
          1704,
          1705,
          1706,
          1707,
          1708,
          1709,
          1710,
          1711,
          1712,
          1713,
          1714,
          1715,
          1716,
          1717,
          1718,
          1719,
          1720,
          1721,
          1722,
          1723,
          1724,
          1725,
          1726,
          1727,
          1728,
          1729,
          1730,
          1731,
          1732,
          1733,
          1734,
          1735,
          1736,
          1737,
          1738,
          1739,
          1740,
          1741,
          1742,
          1743,
          1744,
          1745,
          1746,
          1747,
          1748,
          1749,
          1750,
          1751,
          1752,
          1753,
          1754,
          1755,
          1756,
          1757,
          1758,
          1759,
          1760,
          1761,
          1762,
          1763,
          1764,
          1765,
          1766,
          1767,
          1768,
          1769,
          1770,
          1771,
          1772,
          1773,
          1774,
          1775,
          1776,
          1777,
          1778,
          1779,
          1780,
          1781,
          1782,
          1783,
          1784,
          1785,
          1787,
          1788,
          1789,
          1790,
          1791,
          1792,
          1793,
          1794,
          1795,
          1796,
          1797,
          1798,
          1799,
          1800,
          1801,
          1802,
          1803,
          1804,
          1805,
          1806,
          1807,
          1808,
          1809,
          1810,
          1811,
          1812,
          1813,
          1814,
          1815,
          1816,
          1817,
          1818,
          1819,
          1820,
          1821,
          1822,
          1823,
          1824,
          1825,
          1826,
          1827,
          1828,
          1829,
          1830,
          1831,
          1832,
          1833,
          1834,
          1835,
          1836,
          1837,
          1838,
          1839,
          1840,
          1841,
          1842,
          1843,
          1844,
          1845,
          1846,
          1847,
          1848,
          1849,
          1850,
          1851,
          1852,
          1853,
          1854,
          1855,
          1856,
          1857,
          1858,
          1859,
          1860,
          1861,
          1862,
          1863,
          1864,
          1865,
          1866,
          1867,
          1868,
          1869,
          1870,
          1871,
          1872,
          1873,
          1874,
          1875,
          1876,
          1877,
          1878,
          1879,
          1880,
          1881,
          1882,
          1883,
          1884,
          1885,
          1886,
          1887,
          1888,
          1889,
          1890,
          1891,
          1892,
          1893,
          1894,
          1895,
          1896,
          1897,
          1898,
          1899,
          1900,
          1901,
          1902,
          1903,
          1904,
          1905,
          1906,
          1907,
          1908,
          1909,
          1910,
          1911,
          1912,
          1913,
          1914,
          1915,
          1916,
          1917,
          1918,
          1919,
          1920,
          1921,
          1922,
          1923,
          1924,
          1925,
          1926,
          1927,
          1928,
          1929,
          1930,
          1931,
          1932,
          1933,
          1934,
          1935,
          1936,
          1937,
          1938,
          1939,
          1940,
          1941,
          1942,
          1943,
          1944,
          1945,
          1946,
          1947,
          1948,
          1949,
          1950,
          1951,
          1952,
          1953,
          1954,
          1955,
          1956,
          1957,
          1958,
          1959,
          1960,
          1961,
          1962,
          1963,
          1964,
          1965,
          1966,
          1967,
          1968,
          1969,
          1970,
          1971,
          1972,
          1973,
          1974,
          1975,
          1976,
          1977
         ],
         "xaxis": "x",
         "y": [
          -75,
          -76,
          -76,
          -74,
          -74,
          -78,
          -77,
          -76,
          -74,
          -74,
          -75,
          -75,
          -75,
          -76,
          -75,
          -75,
          -75,
          -74,
          -74,
          -73,
          -73,
          -73,
          -73,
          -73,
          -73,
          -75,
          -75,
          -75,
          -75,
          -74,
          -75,
          -74,
          -74,
          -75,
          -75,
          -74,
          -72,
          -76,
          -74,
          -71,
          -72,
          -74,
          -73,
          -73,
          -74,
          -76,
          -75,
          -72,
          -72,
          -73,
          -74,
          -72,
          -73,
          -73,
          -71,
          -73,
          -72,
          -71,
          -73,
          -70,
          -72,
          -73,
          -73,
          -71,
          -71,
          -73,
          -70,
          -72,
          -72,
          -72,
          -70,
          -71,
          -71,
          -70,
          -70,
          -73,
          -71,
          -74,
          -74,
          -72,
          -70,
          -68,
          -71,
          -68,
          -68,
          -68,
          -66,
          -65,
          -67,
          -66,
          -67,
          -66,
          -66,
          -66,
          -65,
          -64,
          -65,
          -66,
          -65,
          -66,
          -69,
          -66,
          -67,
          -66,
          -65,
          -66,
          -67,
          -66,
          -65,
          -66,
          -66,
          -68,
          -66,
          -67,
          -67,
          -65,
          -65,
          -65,
          -65,
          -65,
          -67,
          -65,
          -65,
          -64,
          -65,
          -66,
          -66,
          -64,
          -65,
          -63,
          -64,
          -64,
          -65,
          -65,
          -65,
          -65,
          -64,
          -65,
          -63,
          -65,
          -65,
          -64,
          -65,
          -64,
          -66,
          -65,
          -67,
          -65,
          -65,
          -65,
          -64,
          -65,
          -65,
          -65,
          -66,
          -66,
          -66,
          -67,
          -67,
          -67,
          -67,
          -68,
          -67,
          -66,
          -66,
          -66,
          -67,
          -67,
          -67,
          -67,
          -67,
          -67,
          -66,
          -67,
          -68,
          -68,
          -66,
          -67,
          -66,
          -68,
          -67,
          -66,
          -71,
          -69,
          -71,
          -70,
          -70,
          -71,
          -69,
          -69,
          -71,
          -69,
          -69,
          -69,
          -70,
          -72,
          -71,
          -70,
          -73,
          -70,
          -72,
          -70,
          -71,
          -69,
          -70,
          -73,
          -71,
          -70,
          -69,
          -70,
          -71,
          -71,
          -71,
          -70,
          -69,
          -70,
          -70,
          -71,
          -72,
          -70,
          -70,
          -70,
          -72,
          -67,
          -69,
          -71,
          -70,
          -70,
          -67,
          -69,
          -69,
          -67,
          -68,
          -69,
          -68,
          -72,
          -68,
          -71,
          -70,
          -71,
          -72,
          -69,
          -71,
          -71,
          -70,
          -71,
          -72,
          -72,
          -71,
          -71,
          -72,
          -72,
          -71,
          -72,
          -73,
          -71,
          -71,
          -70,
          -71,
          -71,
          -72,
          -73,
          -72,
          -71,
          -74,
          -71,
          -77,
          -73,
          -74,
          -74,
          -72,
          -74,
          -73,
          -74,
          -75,
          -74,
          -74,
          -75,
          -74,
          -72,
          -74,
          -75,
          -74,
          -75,
          -74,
          -76,
          -75,
          -74,
          -76,
          -76,
          -75,
          -78,
          -76,
          -76,
          -77,
          -76,
          -77,
          -77,
          -77,
          -76,
          -77,
          -74,
          -75,
          -76,
          -75,
          -77,
          -75,
          -75,
          -75,
          -77,
          -76,
          -76,
          -76,
          -77,
          -75,
          -79,
          -77,
          -76,
          -79,
          -79,
          -77,
          -78,
          -78,
          -78,
          -79,
          -79,
          -79,
          -76,
          -77,
          -77,
          -78,
          -77,
          -78,
          -79,
          -79,
          -78,
          -78,
          -77,
          -76,
          -79,
          -77,
          -78,
          -75,
          -79,
          -79,
          -79,
          -79,
          -78,
          -80,
          -78,
          -82,
          -81,
          -81,
          -80,
          -81,
          -81,
          -82,
          -80,
          -82,
          -79,
          -82,
          -79,
          -82,
          -79,
          -82,
          -80,
          -81,
          -82,
          -81,
          -81,
          -81,
          -79,
          -81,
          -81,
          -82,
          -82,
          -83,
          -80,
          -81,
          -80,
          -81,
          -81,
          -82,
          -79,
          -80,
          -80,
          -81,
          -80,
          -81,
          -84,
          -83,
          -86,
          -84,
          -85,
          -85,
          -84,
          -85,
          -85,
          -85,
          -84,
          -84,
          -86,
          -84,
          -85,
          -85,
          -85,
          -84,
          -85,
          -87,
          -85,
          -87,
          -86,
          -86,
          -84,
          -85,
          -86,
          -85,
          -86,
          -86,
          -84,
          -85,
          -86,
          -87,
          -86,
          -85,
          -85,
          -86,
          -85,
          -83,
          -86,
          -85,
          -85,
          -86,
          -86,
          -86,
          -86,
          -86,
          -86,
          -85,
          -86,
          -86,
          -87,
          -85,
          -85,
          -85,
          -87,
          -87,
          -86,
          -86,
          -87,
          -87,
          -87,
          -88,
          -87,
          -86,
          -88,
          -83,
          -83,
          -85,
          -85,
          -84,
          -84,
          -85,
          -84,
          -86,
          -85,
          -85,
          -85,
          -86,
          -87,
          -85,
          -85,
          -86,
          -84,
          -84,
          -85,
          -85,
          -85,
          -85,
          -85,
          -86,
          -85,
          -85,
          -87,
          -86,
          -85,
          -86,
          -86,
          -86,
          -85,
          -84,
          -84,
          -85,
          -84,
          -85,
          -82,
          -84,
          -84,
          -83,
          -82,
          -83,
          -84,
          -84,
          -82,
          -82,
          -83,
          -82,
          -85,
          -84,
          -85,
          -82,
          -82,
          -83,
          -83,
          -83,
          -83,
          -82,
          -84,
          -84,
          -84,
          -81,
          -82,
          -82,
          -83,
          -84,
          -83,
          -84,
          -83,
          -85,
          -84,
          -85,
          -84,
          -85,
          -84,
          -82,
          -83,
          -82,
          -84,
          -83,
          -82,
          -83,
          -82,
          -84,
          -83,
          -82,
          -81,
          -82,
          -82,
          -81,
          -84,
          -82,
          -81,
          -79,
          -81,
          -82,
          -82,
          -81,
          -80,
          -80,
          -80,
          -81,
          -81,
          -80,
          -80,
          -80,
          -81,
          -81,
          -79,
          -80,
          -79,
          -80,
          -80,
          -79,
          -80,
          -79,
          -77,
          -80,
          -79,
          -79,
          -77,
          -78,
          -76,
          -77,
          -77,
          -78,
          -78,
          -77,
          -76,
          -75,
          -84,
          -79,
          -79,
          -78,
          -78,
          -80,
          -80,
          -80,
          -78,
          -77,
          -77,
          -76,
          -79,
          -77,
          -79,
          -75,
          -77,
          -76,
          -77,
          -77,
          -76,
          -77,
          -76,
          -76,
          -76,
          -75,
          -76,
          -75,
          -74,
          -77,
          -76,
          -75,
          -77,
          -76,
          -75,
          -75,
          -76,
          -76,
          -76,
          -76,
          -73,
          -77,
          -75,
          -77,
          -76,
          -76,
          -73,
          -75,
          -76,
          -77,
          -77,
          -74,
          -73,
          -74,
          -73,
          -74,
          -73,
          -75,
          -76,
          -74,
          -75,
          -76,
          -75,
          -75,
          -74,
          -73,
          -73,
          -76,
          -74,
          -75,
          -77,
          -76,
          -70,
          -72,
          -72,
          -75,
          -74,
          -76,
          -73,
          -71,
          -73,
          -72,
          -72,
          -71,
          -73,
          -73,
          -74,
          -73,
          -73,
          -71,
          -77,
          -70,
          -72,
          -75,
          -78,
          -73,
          -73,
          -70,
          -71,
          -73,
          -73,
          -70,
          -71,
          -71,
          -70,
          -73,
          -71,
          -72,
          -72,
          -70,
          -71,
          -72,
          -74,
          -71,
          -69,
          -69,
          -74,
          -74,
          -73,
          -68,
          -68,
          -68,
          -70,
          -71,
          -71,
          -68,
          -68,
          -65,
          -65,
          -67,
          -70,
          -67,
          -70,
          -69,
          -69,
          -73,
          -70,
          -69,
          -71,
          -67,
          -70,
          -69,
          -71,
          -75,
          -67,
          -68,
          -69,
          -74,
          -69,
          -68,
          -71,
          -68,
          -68,
          -71,
          -69,
          -67,
          -67,
          -68,
          -68,
          -71,
          -71,
          -68,
          -68,
          -68,
          -69,
          -68,
          -69,
          -69,
          -69,
          -69,
          -70,
          -74,
          -75,
          -69,
          -69,
          -68,
          -73,
          -74,
          -69,
          -69,
          -69,
          -68,
          -68,
          -73,
          -67,
          -66,
          -69,
          -68,
          -76,
          -73,
          -72,
          -69,
          -70,
          -70,
          -72,
          -70,
          -70,
          -71,
          -71,
          -71,
          -72,
          -74,
          -70,
          -72,
          -73,
          -76,
          -74,
          -71,
          -71,
          -73,
          -73,
          -70,
          -70,
          -72,
          -72,
          -71,
          -72,
          -75,
          -72,
          -70,
          -72,
          -72,
          -75,
          -70,
          -71,
          -68,
          -71,
          -71,
          -71,
          -76,
          -75,
          -71,
          -70,
          -73,
          -70,
          -75,
          -71,
          -71,
          -71,
          -71,
          -76,
          -71,
          -74,
          -72,
          -70,
          -73,
          -72,
          -74,
          -71,
          -76,
          -76,
          -72,
          -75,
          -75,
          -69,
          -71,
          -71,
          -73,
          -75,
          -72,
          -73,
          -73,
          -74,
          -74,
          -73,
          -70,
          -72,
          -77,
          -70,
          -73,
          -72,
          -73,
          -75,
          -69,
          -71,
          -73,
          -74,
          -78,
          -76,
          -71,
          -73,
          -71,
          -72,
          -75,
          -73,
          -74,
          -71,
          -72,
          -71,
          -71,
          -73,
          -72,
          -73,
          -73,
          -75,
          -75,
          -73,
          -79,
          -73,
          -73,
          -74,
          -76,
          -74,
          -78,
          -74,
          -74,
          -75,
          -74,
          -76,
          -73,
          -73,
          -73,
          -79,
          -74,
          -72,
          -74,
          -73,
          -74,
          -79,
          -77,
          -74,
          -74,
          -75,
          -78,
          -79,
          -79,
          -75,
          -74,
          -78,
          -81,
          -80,
          -77,
          -75,
          -76,
          -78,
          -79,
          -81,
          -63,
          -76,
          -75,
          -76,
          -76,
          -74,
          -78,
          -75,
          -75,
          -77,
          -76,
          -74,
          -77,
          -76,
          -77,
          -76,
          -80,
          -76,
          -77,
          -77,
          -77,
          -76,
          -77,
          -79,
          -80,
          -77,
          -77,
          -78,
          -75,
          -76,
          -76,
          -78,
          -79,
          -77,
          -77,
          -76,
          -78,
          -78,
          -78,
          -78,
          -77,
          -77,
          -79,
          -77,
          -78,
          -78,
          -79,
          -76,
          -77,
          -80,
          -78,
          -78,
          -82,
          -77,
          -77,
          -81,
          -79,
          -80,
          -80,
          -77,
          -77,
          -79,
          -80,
          -78,
          -79,
          -77,
          -78,
          -77,
          -76,
          -78,
          -77,
          -79,
          -77,
          -80,
          -79,
          -79,
          -78,
          -77,
          -78,
          -79,
          -80,
          -84,
          -81,
          -79,
          -78,
          -82,
          -79,
          -78,
          -82,
          -81,
          -79,
          -80,
          -79,
          -79,
          -80,
          -79,
          -79,
          -80,
          -81,
          -80,
          -81,
          -79,
          -79,
          -80,
          -79,
          -79,
          -80,
          -79,
          -80,
          -81,
          -81,
          -82,
          -82,
          -80,
          -81,
          -82,
          -81,
          -82,
          -80,
          -81,
          -82,
          -82,
          -82,
          -82,
          -82,
          -82,
          -80,
          -80,
          -81,
          -82,
          -82,
          -80,
          -82,
          -84,
          -84,
          -84,
          -82,
          -82,
          -82,
          -80,
          -83,
          -84,
          -86,
          -86,
          -84,
          -84,
          -84,
          -84,
          -89,
          -85,
          -87,
          -87,
          -87,
          -85,
          -85,
          -84,
          -84,
          -86,
          -85,
          -86,
          -86,
          -85,
          -86,
          -85,
          -84,
          -86,
          -84,
          -90,
          -87,
          -87,
          -87,
          -86,
          -84,
          -84,
          -86,
          -86,
          -85,
          -86,
          -86,
          -84,
          -85,
          -85,
          -85,
          -84,
          -86,
          -85,
          -85,
          -85,
          -85,
          -85,
          -83,
          -86,
          -84,
          -85,
          -85,
          -86,
          -88,
          -86,
          -87,
          -87,
          -87,
          -87,
          -88,
          -88,
          -87,
          -87,
          -88,
          -88,
          -88,
          -88,
          -88,
          -88,
          -88,
          -88,
          -88,
          -87,
          -88,
          -87,
          -89,
          -87,
          -87,
          -87,
          -86,
          -85,
          -86,
          -85,
          -85,
          -86,
          -85,
          -85,
          -85,
          -85,
          -85,
          -84,
          -84,
          -84,
          -84,
          -83,
          -84,
          -83,
          -81,
          -81,
          -84,
          -84,
          -81,
          -82,
          -83,
          -83,
          -83,
          -82,
          -84,
          -81,
          -79,
          -82,
          -82,
          -83,
          -84,
          -83,
          -83,
          -84,
          -83,
          -81,
          -82,
          -80,
          -80,
          -80,
          -80,
          -80,
          -80,
          -81,
          -81,
          -79,
          -79,
          -79,
          -80,
          -79,
          -80,
          -79,
          -78,
          -80,
          -78,
          -80,
          -80,
          -79,
          -80,
          -81,
          -81,
          -76,
          -78,
          -77,
          -77,
          -78,
          -77,
          -80,
          -80,
          -80,
          -78,
          -77,
          -77,
          -78,
          -77,
          -78,
          -78,
          -77,
          -76,
          -77,
          -74,
          -78,
          -76,
          -78,
          -76,
          -77,
          -77,
          -75,
          -76,
          -75,
          -77,
          -76,
          -76,
          -80,
          -74,
          -75,
          -75,
          -75,
          -75,
          -76,
          -73,
          -73,
          -72,
          -73,
          -76,
          -75,
          -75,
          -74,
          -72,
          -74,
          -76,
          -76,
          -75,
          -74,
          -75,
          -74,
          -74,
          -75,
          -74,
          -74,
          -73,
          -74,
          -75,
          -74,
          -74,
          -75,
          -73,
          -75,
          -76,
          -76,
          -77,
          -74,
          -73,
          -76,
          -73,
          -74,
          -75,
          -74,
          -74,
          -73,
          -66,
          -73,
          -73,
          -73,
          -75,
          -75,
          -75,
          -75,
          -76,
          -74,
          -75,
          -74,
          -72,
          -72,
          -78,
          -72,
          -73,
          -72,
          -72,
          -70,
          -73,
          -73,
          -71,
          -72,
          -72,
          -71,
          -72,
          -72,
          -71,
          -72,
          -72,
          -70,
          -69,
          -69,
          -71,
          -70,
          -70,
          -71,
          -72,
          -71,
          -68,
          -71,
          -70,
          -74,
          -68,
          -69,
          -69,
          -69,
          -70,
          -74,
          -69,
          -71,
          -69,
          -71,
          -74,
          -73,
          -69,
          -70,
          -69,
          -69,
          -69,
          -71,
          -70,
          -69,
          -68,
          -68,
          -71,
          -68,
          -67,
          -69,
          -70,
          -72,
          -70,
          -71,
          -68,
          -67,
          -68,
          -72,
          -69,
          -72,
          -68,
          -66,
          -68,
          -70,
          -68,
          -68,
          -68,
          -71,
          -71,
          -68,
          -69,
          -68,
          -66,
          -69,
          -68,
          -70,
          -70,
          -71,
          -72,
          -68,
          -68,
          -69,
          -70,
          -69,
          -69,
          -70,
          -69,
          -69,
          -71,
          -70,
          -70,
          -70,
          -70,
          -77,
          -78,
          -74,
          -73,
          -76,
          -71,
          -76,
          -78,
          -72,
          -73,
          -71,
          -71,
          -77,
          -76,
          -74,
          -72,
          -71,
          -72,
          -73,
          -71,
          -76,
          -72,
          -72,
          -73,
          -73,
          -71,
          -74,
          -73,
          -74,
          -72,
          -76,
          -73,
          -74,
          -71,
          -73,
          -73,
          -75,
          -76,
          -76,
          -71,
          -71,
          -74,
          -77,
          -70,
          -71,
          -72,
          -70,
          -72,
          -76,
          -76,
          -77,
          -73,
          -75,
          -70,
          -72,
          -76,
          -70,
          -71,
          -70,
          -71,
          -70,
          -81,
          -74,
          -72,
          -73,
          -72,
          -72,
          -74,
          -73,
          -72,
          -72,
          -74,
          -75,
          -77,
          -76,
          -72,
          -73,
          -72,
          -72,
          -76,
          -73,
          -71,
          -72,
          -74,
          -71,
          -74,
          -73,
          -70,
          -72,
          -71,
          -71,
          -77,
          -76,
          -77,
          -73,
          -75,
          -77,
          -72,
          -71,
          -72,
          -73,
          -73,
          -73,
          -72,
          -71,
          -73,
          -70,
          -73,
          -71,
          -71,
          -72,
          -71,
          -71,
          -72,
          -71,
          -74,
          -77,
          -77,
          -72,
          -75,
          -72,
          -73,
          -72,
          -73,
          -73,
          -71,
          -72,
          -72,
          -72,
          -74,
          -74,
          -74,
          -74,
          -73,
          -73,
          -74,
          -75,
          -77,
          -76,
          -75,
          -75,
          -76,
          -75,
          -75,
          -77,
          -77,
          -74,
          -75,
          -75,
          -74,
          -74,
          -76,
          -76,
          -76,
          -77,
          -74,
          -76,
          -76,
          -74,
          -75,
          -75,
          -75,
          -76,
          -74,
          -74,
          -75,
          -74,
          -74,
          -76,
          -75,
          -75,
          -77,
          -75,
          -75,
          -76,
          -75,
          -76,
          -62,
          -76,
          -76,
          -77,
          -75,
          -77,
          -77,
          -76,
          -76,
          -76,
          -75,
          -76,
          -77,
          -76,
          -77,
          -77,
          -76,
          -76,
          -76,
          -75,
          -77,
          -75,
          -77,
          -77,
          -76,
          -76,
          -77,
          -77,
          -76,
          -76,
          -77,
          -76,
          -77,
          -79,
          -76,
          -75,
          -76,
          -76,
          -77,
          -78,
          -78,
          -77,
          -78,
          -78,
          -77,
          -78,
          -78,
          -77,
          -78,
          -78,
          -77,
          -78,
          -78,
          -78,
          -76,
          -79,
          -79,
          -76,
          -77,
          -78,
          -80,
          -76,
          -78,
          -77,
          -78,
          -78,
          -78,
          -77,
          -78,
          -77,
          -77,
          -78,
          -79,
          -77,
          -79,
          -77,
          -78,
          -76,
          -79,
          -79,
          -78,
          -78,
          -79,
          -80,
          -79,
          -79,
          -81,
          -78,
          -77,
          -78,
          -78,
          -79,
          -80,
          -77,
          -79,
          -79,
          -79,
          -81,
          -79,
          -80,
          -80,
          -80,
          -81,
          -80,
          -79,
          -79,
          -78,
          -80,
          -80,
          -79,
          -78,
          -78,
          -78,
          -80,
          -78,
          -79,
          -80,
          -78,
          -79,
          -79,
          -80,
          -80,
          -81,
          -82,
          -80,
          -81,
          -82,
          -79,
          -81,
          -78,
          -80,
          -80,
          -80,
          -80,
          -80,
          -80,
          -78,
          -80,
          -80,
          -84,
          -81,
          -80,
          -80,
          -81,
          -81,
          -79,
          -80,
          -77,
          -77,
          -79,
          -80,
          -81,
          -80,
          -80,
          -80,
          -80,
          -80,
          -80,
          -87,
          -80,
          -80,
          -80,
          -78,
          -80,
          -80,
          -81,
          -79,
          -80,
          -79,
          -81,
          -80,
          -82,
          -80,
          -80,
          -78,
          -80,
          -81,
          -81,
          -80,
          -79,
          -79,
          -80,
          -79,
          -79,
          -79,
          -79,
          -79,
          -79,
          -79,
          -78,
          -78,
          -79,
          -79,
          -79,
          -79,
          -79,
          -80,
          -79,
          -80,
          -81,
          -79,
          -79,
          -78,
          -79,
          -80,
          -81,
          -81,
          -81,
          -81,
          -79,
          -78,
          -79,
          -80,
          -79,
          -79,
          -79,
          -80,
          -80,
          -79,
          -80,
          -79,
          -78,
          -78,
          -79,
          -80,
          -77,
          -77,
          -77,
          -78,
          -79,
          -77,
          -78,
          -79,
          -80,
          -79,
          -78,
          -79,
          -79,
          -79,
          -79,
          -78,
          -79,
          -80,
          -79,
          -80,
          -78,
          -78,
          -77,
          -77,
          -78,
          -78,
          -80,
          -78,
          -79,
          -78,
          -78,
          -78,
          -79,
          -77,
          -80,
          -78,
          -77,
          -77,
          -79,
          -77,
          -77,
          -78,
          -78,
          -77,
          -78,
          -77,
          -76,
          -76,
          -77,
          -76,
          -76,
          -76,
          -77,
          -78,
          -78,
          -78,
          -77,
          -76,
          -77,
          -77
         ],
         "yaxis": "y"
        }
       ],
       "layout": {
        "legend": {
         "tracegroupgap": 0
        },
        "template": {
         "data": {
          "bar": [
           {
            "error_x": {
             "color": "#2a3f5f"
            },
            "error_y": {
             "color": "#2a3f5f"
            },
            "marker": {
             "line": {
              "color": "#E5ECF6",
              "width": 0.5
             },
             "pattern": {
              "fillmode": "overlay",
              "size": 10,
              "solidity": 0.2
             }
            },
            "type": "bar"
           }
          ],
          "barpolar": [
           {
            "marker": {
             "line": {
              "color": "#E5ECF6",
              "width": 0.5
             },
             "pattern": {
              "fillmode": "overlay",
              "size": 10,
              "solidity": 0.2
             }
            },
            "type": "barpolar"
           }
          ],
          "carpet": [
           {
            "aaxis": {
             "endlinecolor": "#2a3f5f",
             "gridcolor": "white",
             "linecolor": "white",
             "minorgridcolor": "white",
             "startlinecolor": "#2a3f5f"
            },
            "baxis": {
             "endlinecolor": "#2a3f5f",
             "gridcolor": "white",
             "linecolor": "white",
             "minorgridcolor": "white",
             "startlinecolor": "#2a3f5f"
            },
            "type": "carpet"
           }
          ],
          "choropleth": [
           {
            "colorbar": {
             "outlinewidth": 0,
             "ticks": ""
            },
            "type": "choropleth"
           }
          ],
          "contour": [
           {
            "colorbar": {
             "outlinewidth": 0,
             "ticks": ""
            },
            "colorscale": [
             [
              0,
              "#0d0887"
             ],
             [
              0.1111111111111111,
              "#46039f"
             ],
             [
              0.2222222222222222,
              "#7201a8"
             ],
             [
              0.3333333333333333,
              "#9c179e"
             ],
             [
              0.4444444444444444,
              "#bd3786"
             ],
             [
              0.5555555555555556,
              "#d8576b"
             ],
             [
              0.6666666666666666,
              "#ed7953"
             ],
             [
              0.7777777777777778,
              "#fb9f3a"
             ],
             [
              0.8888888888888888,
              "#fdca26"
             ],
             [
              1,
              "#f0f921"
             ]
            ],
            "type": "contour"
           }
          ],
          "contourcarpet": [
           {
            "colorbar": {
             "outlinewidth": 0,
             "ticks": ""
            },
            "type": "contourcarpet"
           }
          ],
          "heatmap": [
           {
            "colorbar": {
             "outlinewidth": 0,
             "ticks": ""
            },
            "colorscale": [
             [
              0,
              "#0d0887"
             ],
             [
              0.1111111111111111,
              "#46039f"
             ],
             [
              0.2222222222222222,
              "#7201a8"
             ],
             [
              0.3333333333333333,
              "#9c179e"
             ],
             [
              0.4444444444444444,
              "#bd3786"
             ],
             [
              0.5555555555555556,
              "#d8576b"
             ],
             [
              0.6666666666666666,
              "#ed7953"
             ],
             [
              0.7777777777777778,
              "#fb9f3a"
             ],
             [
              0.8888888888888888,
              "#fdca26"
             ],
             [
              1,
              "#f0f921"
             ]
            ],
            "type": "heatmap"
           }
          ],
          "heatmapgl": [
           {
            "colorbar": {
             "outlinewidth": 0,
             "ticks": ""
            },
            "colorscale": [
             [
              0,
              "#0d0887"
             ],
             [
              0.1111111111111111,
              "#46039f"
             ],
             [
              0.2222222222222222,
              "#7201a8"
             ],
             [
              0.3333333333333333,
              "#9c179e"
             ],
             [
              0.4444444444444444,
              "#bd3786"
             ],
             [
              0.5555555555555556,
              "#d8576b"
             ],
             [
              0.6666666666666666,
              "#ed7953"
             ],
             [
              0.7777777777777778,
              "#fb9f3a"
             ],
             [
              0.8888888888888888,
              "#fdca26"
             ],
             [
              1,
              "#f0f921"
             ]
            ],
            "type": "heatmapgl"
           }
          ],
          "histogram": [
           {
            "marker": {
             "pattern": {
              "fillmode": "overlay",
              "size": 10,
              "solidity": 0.2
             }
            },
            "type": "histogram"
           }
          ],
          "histogram2d": [
           {
            "colorbar": {
             "outlinewidth": 0,
             "ticks": ""
            },
            "colorscale": [
             [
              0,
              "#0d0887"
             ],
             [
              0.1111111111111111,
              "#46039f"
             ],
             [
              0.2222222222222222,
              "#7201a8"
             ],
             [
              0.3333333333333333,
              "#9c179e"
             ],
             [
              0.4444444444444444,
              "#bd3786"
             ],
             [
              0.5555555555555556,
              "#d8576b"
             ],
             [
              0.6666666666666666,
              "#ed7953"
             ],
             [
              0.7777777777777778,
              "#fb9f3a"
             ],
             [
              0.8888888888888888,
              "#fdca26"
             ],
             [
              1,
              "#f0f921"
             ]
            ],
            "type": "histogram2d"
           }
          ],
          "histogram2dcontour": [
           {
            "colorbar": {
             "outlinewidth": 0,
             "ticks": ""
            },
            "colorscale": [
             [
              0,
              "#0d0887"
             ],
             [
              0.1111111111111111,
              "#46039f"
             ],
             [
              0.2222222222222222,
              "#7201a8"
             ],
             [
              0.3333333333333333,
              "#9c179e"
             ],
             [
              0.4444444444444444,
              "#bd3786"
             ],
             [
              0.5555555555555556,
              "#d8576b"
             ],
             [
              0.6666666666666666,
              "#ed7953"
             ],
             [
              0.7777777777777778,
              "#fb9f3a"
             ],
             [
              0.8888888888888888,
              "#fdca26"
             ],
             [
              1,
              "#f0f921"
             ]
            ],
            "type": "histogram2dcontour"
           }
          ],
          "mesh3d": [
           {
            "colorbar": {
             "outlinewidth": 0,
             "ticks": ""
            },
            "type": "mesh3d"
           }
          ],
          "parcoords": [
           {
            "line": {
             "colorbar": {
              "outlinewidth": 0,
              "ticks": ""
             }
            },
            "type": "parcoords"
           }
          ],
          "pie": [
           {
            "automargin": true,
            "type": "pie"
           }
          ],
          "scatter": [
           {
            "fillpattern": {
             "fillmode": "overlay",
             "size": 10,
             "solidity": 0.2
            },
            "type": "scatter"
           }
          ],
          "scatter3d": [
           {
            "line": {
             "colorbar": {
              "outlinewidth": 0,
              "ticks": ""
             }
            },
            "marker": {
             "colorbar": {
              "outlinewidth": 0,
              "ticks": ""
             }
            },
            "type": "scatter3d"
           }
          ],
          "scattercarpet": [
           {
            "marker": {
             "colorbar": {
              "outlinewidth": 0,
              "ticks": ""
             }
            },
            "type": "scattercarpet"
           }
          ],
          "scattergeo": [
           {
            "marker": {
             "colorbar": {
              "outlinewidth": 0,
              "ticks": ""
             }
            },
            "type": "scattergeo"
           }
          ],
          "scattergl": [
           {
            "marker": {
             "colorbar": {
              "outlinewidth": 0,
              "ticks": ""
             }
            },
            "type": "scattergl"
           }
          ],
          "scattermapbox": [
           {
            "marker": {
             "colorbar": {
              "outlinewidth": 0,
              "ticks": ""
             }
            },
            "type": "scattermapbox"
           }
          ],
          "scatterpolar": [
           {
            "marker": {
             "colorbar": {
              "outlinewidth": 0,
              "ticks": ""
             }
            },
            "type": "scatterpolar"
           }
          ],
          "scatterpolargl": [
           {
            "marker": {
             "colorbar": {
              "outlinewidth": 0,
              "ticks": ""
             }
            },
            "type": "scatterpolargl"
           }
          ],
          "scatterternary": [
           {
            "marker": {
             "colorbar": {
              "outlinewidth": 0,
              "ticks": ""
             }
            },
            "type": "scatterternary"
           }
          ],
          "surface": [
           {
            "colorbar": {
             "outlinewidth": 0,
             "ticks": ""
            },
            "colorscale": [
             [
              0,
              "#0d0887"
             ],
             [
              0.1111111111111111,
              "#46039f"
             ],
             [
              0.2222222222222222,
              "#7201a8"
             ],
             [
              0.3333333333333333,
              "#9c179e"
             ],
             [
              0.4444444444444444,
              "#bd3786"
             ],
             [
              0.5555555555555556,
              "#d8576b"
             ],
             [
              0.6666666666666666,
              "#ed7953"
             ],
             [
              0.7777777777777778,
              "#fb9f3a"
             ],
             [
              0.8888888888888888,
              "#fdca26"
             ],
             [
              1,
              "#f0f921"
             ]
            ],
            "type": "surface"
           }
          ],
          "table": [
           {
            "cells": {
             "fill": {
              "color": "#EBF0F8"
             },
             "line": {
              "color": "white"
             }
            },
            "header": {
             "fill": {
              "color": "#C8D4E3"
             },
             "line": {
              "color": "white"
             }
            },
            "type": "table"
           }
          ]
         },
         "layout": {
          "annotationdefaults": {
           "arrowcolor": "#2a3f5f",
           "arrowhead": 0,
           "arrowwidth": 1
          },
          "autotypenumbers": "strict",
          "coloraxis": {
           "colorbar": {
            "outlinewidth": 0,
            "ticks": ""
           }
          },
          "colorscale": {
           "diverging": [
            [
             0,
             "#8e0152"
            ],
            [
             0.1,
             "#c51b7d"
            ],
            [
             0.2,
             "#de77ae"
            ],
            [
             0.3,
             "#f1b6da"
            ],
            [
             0.4,
             "#fde0ef"
            ],
            [
             0.5,
             "#f7f7f7"
            ],
            [
             0.6,
             "#e6f5d0"
            ],
            [
             0.7,
             "#b8e186"
            ],
            [
             0.8,
             "#7fbc41"
            ],
            [
             0.9,
             "#4d9221"
            ],
            [
             1,
             "#276419"
            ]
           ],
           "sequential": [
            [
             0,
             "#0d0887"
            ],
            [
             0.1111111111111111,
             "#46039f"
            ],
            [
             0.2222222222222222,
             "#7201a8"
            ],
            [
             0.3333333333333333,
             "#9c179e"
            ],
            [
             0.4444444444444444,
             "#bd3786"
            ],
            [
             0.5555555555555556,
             "#d8576b"
            ],
            [
             0.6666666666666666,
             "#ed7953"
            ],
            [
             0.7777777777777778,
             "#fb9f3a"
            ],
            [
             0.8888888888888888,
             "#fdca26"
            ],
            [
             1,
             "#f0f921"
            ]
           ],
           "sequentialminus": [
            [
             0,
             "#0d0887"
            ],
            [
             0.1111111111111111,
             "#46039f"
            ],
            [
             0.2222222222222222,
             "#7201a8"
            ],
            [
             0.3333333333333333,
             "#9c179e"
            ],
            [
             0.4444444444444444,
             "#bd3786"
            ],
            [
             0.5555555555555556,
             "#d8576b"
            ],
            [
             0.6666666666666666,
             "#ed7953"
            ],
            [
             0.7777777777777778,
             "#fb9f3a"
            ],
            [
             0.8888888888888888,
             "#fdca26"
            ],
            [
             1,
             "#f0f921"
            ]
           ]
          },
          "colorway": [
           "#636efa",
           "#EF553B",
           "#00cc96",
           "#ab63fa",
           "#FFA15A",
           "#19d3f3",
           "#FF6692",
           "#B6E880",
           "#FF97FF",
           "#FECB52"
          ],
          "font": {
           "color": "#2a3f5f"
          },
          "geo": {
           "bgcolor": "white",
           "lakecolor": "white",
           "landcolor": "#E5ECF6",
           "showlakes": true,
           "showland": true,
           "subunitcolor": "white"
          },
          "hoverlabel": {
           "align": "left"
          },
          "hovermode": "closest",
          "mapbox": {
           "style": "light"
          },
          "paper_bgcolor": "white",
          "plot_bgcolor": "#E5ECF6",
          "polar": {
           "angularaxis": {
            "gridcolor": "white",
            "linecolor": "white",
            "ticks": ""
           },
           "bgcolor": "#E5ECF6",
           "radialaxis": {
            "gridcolor": "white",
            "linecolor": "white",
            "ticks": ""
           }
          },
          "scene": {
           "xaxis": {
            "backgroundcolor": "#E5ECF6",
            "gridcolor": "white",
            "gridwidth": 2,
            "linecolor": "white",
            "showbackground": true,
            "ticks": "",
            "zerolinecolor": "white"
           },
           "yaxis": {
            "backgroundcolor": "#E5ECF6",
            "gridcolor": "white",
            "gridwidth": 2,
            "linecolor": "white",
            "showbackground": true,
            "ticks": "",
            "zerolinecolor": "white"
           },
           "zaxis": {
            "backgroundcolor": "#E5ECF6",
            "gridcolor": "white",
            "gridwidth": 2,
            "linecolor": "white",
            "showbackground": true,
            "ticks": "",
            "zerolinecolor": "white"
           }
          },
          "shapedefaults": {
           "line": {
            "color": "#2a3f5f"
           }
          },
          "ternary": {
           "aaxis": {
            "gridcolor": "white",
            "linecolor": "white",
            "ticks": ""
           },
           "baxis": {
            "gridcolor": "white",
            "linecolor": "white",
            "ticks": ""
           },
           "bgcolor": "#E5ECF6",
           "caxis": {
            "gridcolor": "white",
            "linecolor": "white",
            "ticks": ""
           }
          },
          "title": {
           "x": 0.05
          },
          "xaxis": {
           "automargin": true,
           "gridcolor": "white",
           "linecolor": "white",
           "ticks": "",
           "title": {
            "standoff": 15
           },
           "zerolinecolor": "white",
           "zerolinewidth": 2
          },
          "yaxis": {
           "automargin": true,
           "gridcolor": "white",
           "linecolor": "white",
           "ticks": "",
           "title": {
            "standoff": 15
           },
           "zerolinecolor": "white",
           "zerolinewidth": 2
          }
         }
        },
        "title": {
         "text": "Minimum Temperature by Number of Sols"
        },
        "xaxis": {
         "anchor": "y",
         "domain": [
          0,
          1
         ],
         "title": {
          "text": "sol"
         }
        },
        "yaxis": {
         "anchor": "x",
         "domain": [
          0,
          1
         ],
         "title": {
          "text": "min_temp"
         }
        }
       }
      }
     },
     "metadata": {},
     "output_type": "display_data"
    }
   ],
   "source": [
    "\n",
    "chart = px.scatter(df,\n",
    "                x='sol', \n",
    "                y='min_temp', \n",
    "                title='Minimum Temperature by Number of Sols',\n",
    "                hover_data={'sol': True, 'terrestrial_date': True, 'min_temp': True}\n",
    "                )\n",
    "chart.show()\n"
   ]
  },
  {
   "attachments": {},
   "cell_type": "markdown",
   "metadata": {},
   "source": [
    "#### Minimum Temperature\n",
    "\n",
    "- Martian month #3 has the lowest average temperature at -83.307292 C\n",
    "- Martian month #8 has the highest average temperatur at -68.382979 C"
   ]
  },
  {
   "attachments": {},
   "cell_type": "markdown",
   "metadata": {},
   "source": [
    "#### Atmospheric Pressure\n",
    "\n",
    "- Martian month #6 has the lowest average pressure at 745.054422 Pa\n",
    "- Martian month #9 has the highest average pressure at 913.305970 Pa\n",
    "- I believe these units to be in pascals as this fits the pressure range listed according to NASA."
   ]
  },
  {
   "attachments": {},
   "cell_type": "markdown",
   "metadata": {},
   "source": [
    "#### Year Length\n",
    "\n",
    "There are multiple ways of determining the length of a year on Mars using the min_temp data plotted along sol days. I have chosen to consider the number of Earth days (terrestrial days) that occured between the temperature lows.\n",
    "- Looking at the low points of: sol: 530, terrestrial_date: 2014-03-01 and two cycles later of: sol: 1891, terrestrial_date: 2017-12-01\n",
    "- Those two cycles took 1361 Earth days (2017-11-01 - 2014-03-01)\n",
    "- Dividing 1361 Earth days by 2 Martian years = 1361/2 = 680.5 Earth Days per Martian Year\n",
    "- According to NASA, a Martian year last 687 Earth Days. My visually-based calculation was within 1% of the accepted Earth days per Martian year"
   ]
  },
  {
   "attachments": {},
   "cell_type": "markdown",
   "metadata": {},
   "source": [
    "### Step 6: Save the Data\n",
    "\n",
    "Export the DataFrame to a CSV file."
   ]
  },
  {
   "cell_type": "code",
   "execution_count": 88,
   "metadata": {},
   "outputs": [],
   "source": [
    "# Write the data to a CSV\n",
    "df.to_csv('Resources/mars_weather.csv', index=False)"
   ]
  },
  {
   "cell_type": "code",
   "execution_count": 89,
   "metadata": {},
   "outputs": [],
   "source": [
    "browser.quit()"
   ]
  },
  {
   "cell_type": "code",
   "execution_count": null,
   "metadata": {},
   "outputs": [],
   "source": []
  }
 ],
 "metadata": {
  "kernelspec": {
   "display_name": "dev",
   "language": "python",
   "name": "python3"
  },
  "language_info": {
   "codemirror_mode": {
    "name": "ipython",
    "version": 3
   },
   "file_extension": ".py",
   "mimetype": "text/x-python",
   "name": "python",
   "nbconvert_exporter": "python",
   "pygments_lexer": "ipython3",
   "version": "3.10.15"
  }
 },
 "nbformat": 4,
 "nbformat_minor": 4
}
